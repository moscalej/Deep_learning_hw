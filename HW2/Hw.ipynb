{
 "cells": [
  {
   "cell_type": "code",
   "execution_count": 4,
   "metadata": {
    "collapsed": true
   },
   "outputs": [
    {
     "name": "stderr",
     "output_type": "stream",
     "text": [
      "C:\\Users\\alejandro\\AppData\\Local\\Programs\\Python\\Python36\\lib\\site-packages\\sklearn\\preprocessing\\data.py:164: UserWarning: Numerical issues were encountered when centering the data and might not be solved. Dataset may contain too large values. You may need to prescale your features.\n  warnings.warn(\"Numerical issues were encountered \"\n"
     ]
    }
   ],
   "source": [
    "import pickle\n",
    "import gzip\n",
    "import urllib.request\n",
    "from sklearn.preprocessing import scale\n",
    "from mydnn import MyDNN\n",
    "from Macros import generate_layer\n",
    "import pickle\n",
    "\n",
    "data_url = \"http://deeplearning.net/data/mnist/mnist.pkl.gz\"\n",
    "urllib.request.urlretrieve(data_url, \"mnist.pkl.gz\")\n",
    "with gzip.open('mnist.pkl.gz', 'rb') as f:\n",
    "    train_set, valid_set, test_set = pickle.load(f, encoding='latin1')\n",
    "\n",
    "training_samples = scale(train_set[0], axis=0, with_std=False)\n",
    "validation_samples = scale(valid_set[0], axis=0, with_std=False)\n",
    "\n",
    "training_classifications = train_set[1]\n",
    "validation_classifications = valid_set[1]\n",
    "\n",
    "num_samples, num_pixels = training_samples.shape"
   ]
  },
  {
   "cell_type": "code",
   "execution_count": 6,
   "metadata": {},
   "outputs": [
    {
     "name": "stdout",
     "output_type": "stream",
     "text": [
      "Epoch 1 / 201 - 2 seconds - loss: 0.02331276827496603 - acc: 0.19388229622206027 - val_loss: 2.2578513339606823 - val_acc: 0.30674\n"
     ]
    },
    {
     "name": "stdout",
     "output_type": "stream",
     "text": [
      "Epoch 2 / 201 - 3 seconds - loss: 0.02277072411223206 - acc: 0.38485957999271136 - val_loss: 2.2042397159503686 - val_acc: 0.4603\n"
     ]
    },
    {
     "name": "stdout",
     "output_type": "stream",
     "text": [
      "Epoch 3 / 201 - 5 seconds - loss: 0.02220863542683505 - acc: 0.5211180454324587 - val_loss: 2.1472043446155045 - val_acc: 0.57116\n"
     ]
    },
    {
     "name": "stdout",
     "output_type": "stream",
     "text": [
      "Epoch 4 / 201 - 7 seconds - loss: 0.021598965356934282 - acc: 0.5994081784499514 - val_loss: 2.0843182140345227 - val_acc: 0.62214\n"
     ]
    },
    {
     "name": "stdout",
     "output_type": "stream",
     "text": [
      "Epoch 5 / 201 - 8 seconds - loss: 0.020920185404806352 - acc: 0.6361967778182701 - val_loss: 2.0138900017928885 - val_acc: 0.64516\n"
     ]
    },
    {
     "name": "stdout",
     "output_type": "stream",
     "text": [
      "Epoch 6 / 201 - 10 seconds - loss: 0.020160477304826018 - acc: 0.6508034575437318 - val_loss: 1.9353286690570084 - val_acc: 0.65606\n"
     ]
    },
    {
     "name": "stdout",
     "output_type": "stream",
     "text": [
      "Epoch 7 / 201 - 12 seconds - loss: 0.019320699594209168 - acc: 0.6578586233600583 - val_loss: 1.8495041374565282 - val_acc: 0.66188\n"
     ]
    },
    {
     "name": "stdout",
     "output_type": "stream",
     "text": [
      "Epoch 8 / 201 - 14 seconds - loss: 0.01841757521407566 - acc: 0.6643965621963072 - val_loss: 1.7587261430523387 - val_acc: 0.66782\n"
     ]
    },
    {
     "name": "stdout",
     "output_type": "stream",
     "text": [
      "Epoch 9 / 201 - 15 seconds - loss: 0.017478426570163578 - acc: 0.672006916605928 - val_loss: 1.6658794639365178 - val_acc: 0.67592\n"
     ]
    },
    {
     "name": "stdout",
     "output_type": "stream",
     "text": [
      "Epoch 10 / 201 - 17 seconds - loss: 0.016531450897410347 - acc: 0.6815836825801749 - val_loss: 1.573465287291814 - val_acc: 0.6868\n"
     ]
    },
    {
     "name": "stdout",
     "output_type": "stream",
     "text": [
      "Epoch 11 / 201 - 19 seconds - loss: 0.015598002291391706 - acc: 0.6936602207847424 - val_loss: 1.483145877113516 - val_acc: 0.69998\n"
     ]
    },
    {
     "name": "stdout",
     "output_type": "stream",
     "text": [
      "Epoch 12 / 201 - 20 seconds - loss: 0.014691376335066128 - acc: 0.7071916378158406 - val_loss: 1.3959399567963615 - val_acc: 0.71402\n"
     ]
    },
    {
     "name": "stdout",
     "output_type": "stream",
     "text": [
      "Epoch 13 / 201 - 22 seconds - loss: 0.013820789956901964 - acc: 0.7215857325072887 - val_loss: 1.3126982189547076 - val_acc: 0.7283\n"
     ]
    },
    {
     "name": "stdout",
     "output_type": "stream",
     "text": [
      "Epoch 14 / 201 - 24 seconds - loss: 0.012995364870319761 - acc: 0.7355461157677358 - val_loss: 1.2343429594734352 - val_acc: 0.74184\n"
     ]
    },
    {
     "name": "stdout",
     "output_type": "stream",
     "text": [
      "Epoch 15 / 201 - 26 seconds - loss: 0.012223617706344097 - acc: 0.7473398399538387 - val_loss: 1.161593324249673 - val_acc: 0.75408\n"
     ]
    },
    {
     "name": "stdout",
     "output_type": "stream",
     "text": [
      "Epoch 16 / 201 - 27 seconds - loss: 0.011511489804643197 - acc: 0.7607203595724004 - val_loss: 1.094863923182547 - val_acc: 0.76634\n"
     ]
    },
    {
     "name": "stdout",
     "output_type": "stream",
     "text": [
      "Epoch 17 / 201 - 29 seconds - loss: 0.010861504538603298 - acc: 0.7720632896015549 - val_loss: 1.0342431008164605 - val_acc: 0.77706\n"
     ]
    },
    {
     "name": "stdout",
     "output_type": "stream",
     "text": [
      "Epoch 18 / 201 - 31 seconds - loss: 0.010272802454919587 - acc: 0.7824609754616133 - val_loss: 0.9794705775965531 - val_acc: 0.78696\n"
     ]
    },
    {
     "name": "stdout",
     "output_type": "stream",
     "text": [
      "Epoch 19 / 201 - 32 seconds - loss: 0.009741637983917768 - acc: 0.7915774568756073 - val_loss: 0.9301118220830382 - val_acc: 0.79644\n"
     ]
    },
    {
     "name": "stdout",
     "output_type": "stream",
     "text": [
      "Epoch 20 / 201 - 34 seconds - loss: 0.009263247686274323 - acc: 0.7997904518950438 - val_loss: 0.8856677431971041 - val_acc: 0.80412\n"
     ]
    },
    {
     "name": "stdout",
     "output_type": "stream",
     "text": [
      "Epoch 21 / 201 - 36 seconds - loss: 0.008832317239310203 - acc: 0.8082065415451894 - val_loss: 0.8456123124663378 - val_acc: 0.8116\n"
     ]
    },
    {
     "name": "stdout",
     "output_type": "stream",
     "text": [
      "Epoch 22 / 201 - 38 seconds - loss: 0.008443750634744075 - acc: 0.8148811421890185 - val_loss: 0.809471802074444 - val_acc: 0.81902\n"
     ]
    },
    {
     "name": "stdout",
     "output_type": "stream",
     "text": [
      "Epoch 23 / 201 - 39 seconds - loss: 0.00809286893424219 - acc: 0.8222580326773566 - val_loss: 0.7768028438660703 - val_acc: 0.82552\n"
     ]
    },
    {
     "name": "stdout",
     "output_type": "stream",
     "text": [
      "Epoch 24 / 201 - 41 seconds - loss: 0.0077753277650464215 - acc: 0.8288367802478134 - val_loss: 0.7472069711517341 - val_acc: 0.8318\n"
     ]
    },
    {
     "name": "stdout",
     "output_type": "stream",
     "text": [
      "Epoch 25 / 201 - 43 seconds - loss: 0.00748742913639206 - acc: 0.8344313729956269 - val_loss: 0.7203440380413288 - val_acc: 0.83638\n"
     ]
    },
    {
     "name": "stdout",
     "output_type": "stream",
     "text": [
      "Epoch 26 / 201 - 44 seconds - loss: 0.007225716702742832 - acc: 0.8384182914237124 - val_loss: 0.6958869310883308 - val_acc: 0.84038\n"
     ]
    },
    {
     "name": "stdout",
     "output_type": "stream",
     "text": [
      "Epoch 27 / 201 - 46 seconds - loss: 0.006987248518610493 - acc: 0.8424222925777454 - val_loss: 0.6735847079241497 - val_acc: 0.8441\n"
     ]
    },
    {
     "name": "stdout",
     "output_type": "stream",
     "text": [
      "Epoch 28 / 201 - 48 seconds - loss: 0.0067694859407311965 - acc: 0.8460903334548106 - val_loss: 0.653188116403237 - val_acc: 0.84754\n"
     ]
    },
    {
     "name": "stdout",
     "output_type": "stream",
     "text": [
      "Epoch 29 / 201 - 50 seconds - loss: 0.006570105019431428 - acc: 0.8488881043488825 - val_loss: 0.6344860887263369 - val_acc: 0.85024\n"
     ]
    },
    {
     "name": "stdout",
     "output_type": "stream",
     "text": [
      "Epoch 30 / 201 - 51 seconds - loss: 0.006387054509660302 - acc: 0.8512094569970846 - val_loss: 0.6172944823405544 - val_acc: 0.85268\n"
     ]
    },
    {
     "name": "stdout",
     "output_type": "stream",
     "text": [
      "Epoch 31 / 201 - 53 seconds - loss: 0.006218547800401209 - acc: 0.8539616739552964 - val_loss: 0.601455766551822 - val_acc: 0.85492\n"
     ]
    },
    {
     "name": "stdout",
     "output_type": "stream",
     "text": [
      "Epoch 32 / 201 - 55 seconds - loss: 0.006063161594821787 - acc: 0.8562146956997084 - val_loss: 0.5868219055732453 - val_acc: 0.85732\n"
     ]
    },
    {
     "name": "stdout",
     "output_type": "stream",
     "text": [
      "Epoch 33 / 201 - 56 seconds - loss: 0.005919427819637357 - acc: 0.8582380496841594 - val_loss: 0.5732761991339932 - val_acc: 0.85938\n"
     ]
    },
    {
     "name": "stdout",
     "output_type": "stream",
     "text": [
      "Epoch 34 / 201 - 58 seconds - loss: 0.005786203711585743 - acc: 0.8603676961856171 - val_loss: 0.5607044663888515 - val_acc: 0.86148\n"
     ]
    },
    {
     "name": "stdout",
     "output_type": "stream",
     "text": [
      "Epoch 35 / 201 - 60 seconds - loss: 0.005662441193232378 - acc: 0.8626093294460642 - val_loss: 0.549011137394448 - val_acc: 0.86344\n"
     ]
    },
    {
     "name": "stdout",
     "output_type": "stream",
     "text": [
      "Epoch 36 / 201 - 61 seconds - loss: 0.005547166079768561 - acc: 0.8642113095238094 - val_loss: 0.5381080401952943 - val_acc: 0.86508\n"
     ]
    },
    {
     "name": "stdout",
     "output_type": "stream",
     "text": [
      "Epoch 37 / 201 - 63 seconds - loss: 0.005439631587254139 - acc: 0.8655447111880467 - val_loss: 0.5279256400485448 - val_acc: 0.8661\n"
     ]
    },
    {
     "name": "stdout",
     "output_type": "stream",
     "text": [
      "Epoch 38 / 201 - 65 seconds - loss: 0.005339053700794975 - acc: 0.8668961446185618 - val_loss: 0.5183933657119365 - val_acc: 0.86772\n"
     ]
    },
    {
     "name": "stdout",
     "output_type": "stream",
     "text": [
      "Epoch 39 / 201 - 67 seconds - loss: 0.005244817697647512 - acc: 0.8682399857264335 - val_loss: 0.5094529412192331 - val_acc: 0.869\n"
     ]
    },
    {
     "name": "stdout",
     "output_type": "stream",
     "text": [
      "Epoch 40 / 201 - 69 seconds - loss: 0.005156364766228263 - acc: 0.8697299790451894 - val_loss: 0.5010509169119379 - val_acc: 0.87054\n"
     ]
    },
    {
     "name": "stdout",
     "output_type": "stream",
     "text": [
      "Epoch 41 / 201 - 71 seconds - loss: 0.005073149486231791 - acc: 0.8710301642978621 - val_loss: 0.49313907526373174 - val_acc: 0.87192\n"
     ]
    },
    {
     "name": "stdout",
     "output_type": "stream",
     "text": [
      "Epoch 42 / 201 - 72 seconds - loss: 0.004994706681943667 - acc: 0.8726871887147717 - val_loss: 0.48567821654450893 - val_acc: 0.87332\n"
     ]
    },
    {
     "name": "stdout",
     "output_type": "stream",
     "text": [
      "Epoch 43 / 201 - 74 seconds - loss: 0.004920691135661878 - acc: 0.8740613991132168 - val_loss: 0.47862844739733784 - val_acc: 0.8747\n"
     ]
    },
    {
     "name": "stdout",
     "output_type": "stream",
     "text": [
      "Epoch 44 / 201 - 76 seconds - loss: 0.004850716397119545 - acc: 0.8750683309037901 - val_loss: 0.4719584080521883 - val_acc: 0.8757\n"
     ]
    },
    {
     "name": "stdout",
     "output_type": "stream",
     "text": [
      "Epoch 45 / 201 - 78 seconds - loss: 0.004784443729839082 - acc: 0.8764169172133138 - val_loss: 0.46563829044563726 - val_acc: 0.87682\n"
     ]
    },
    {
     "name": "stdout",
     "output_type": "stream",
     "text": [
      "Epoch 46 / 201 - 79 seconds - loss: 0.004721628206319177 - acc: 0.87727105351069 - val_loss: 0.4596404682513199 - val_acc: 0.87784\n"
     ]
    },
    {
     "name": "stdout",
     "output_type": "stream",
     "text": [
      "Epoch 47 / 201 - 81 seconds - loss: 0.004661923542409351 - acc: 0.8783377748420796 - val_loss: 0.45394023678400863 - val_acc: 0.87892\n"
     ]
    },
    {
     "name": "stdout",
     "output_type": "stream",
     "text": [
      "Epoch 48 / 201 - 83 seconds - loss: 0.004605170296364986 - acc: 0.8793428085519922 - val_loss: 0.4485159627076514 - val_acc: 0.87972\n"
     ]
    },
    {
     "name": "stdout",
     "output_type": "stream",
     "text": [
      "Epoch 49 / 201 - 85 seconds - loss: 0.0045511024614518164 - acc: 0.879923621234208 - val_loss: 0.44334466987888405 - val_acc: 0.88046\n"
     ]
    },
    {
     "name": "stdout",
     "output_type": "stream",
     "text": [
      "Epoch 50 / 201 - 86 seconds - loss: 0.004499569694410935 - acc: 0.880911572218173 - val_loss: 0.4384108073083032 - val_acc: 0.88154\n"
     ]
    },
    {
     "name": "stdout",
     "output_type": "stream",
     "text": [
      "Epoch 51 / 201 - 88 seconds - loss: 0.004450332620614932 - acc: 0.8819498223396501 - val_loss: 0.4336962178327897 - val_acc: 0.88226\n"
     ]
    },
    {
     "name": "stdout",
     "output_type": "stream",
     "text": [
      "Epoch 52 / 201 - 90 seconds - loss: 0.004403278857656313 - acc: 0.8826568573858115 - val_loss: 0.4291872673698694 - val_acc: 0.8831\n"
     ]
    },
    {
     "name": "stdout",
     "output_type": "stream",
     "text": [
      "Epoch 53 / 201 - 92 seconds - loss: 0.004358253676684476 - acc: 0.8836058977162294 - val_loss: 0.4248691742559787 - val_acc: 0.8839\n"
     ]
    },
    {
     "name": "stdout",
     "output_type": "stream",
     "text": [
      "Epoch 54 / 201 - 93 seconds - loss: 0.004315098368803197 - acc: 0.8843081875607386 - val_loss: 0.4207290480496163 - val_acc: 0.88476\n"
     ]
    },
    {
     "name": "stdout",
     "output_type": "stream",
     "text": [
      "Epoch 55 / 201 - 95 seconds - loss: 0.004273706863961328 - acc: 0.8850142735665695 - val_loss: 0.4167556706169541 - val_acc: 0.88574\n"
     ]
    },
    {
     "name": "stdout",
     "output_type": "stream",
     "text": [
      "Epoch 56 / 201 - 97 seconds - loss: 0.004233959667324856 - acc: 0.8859927341472303 - val_loss: 0.412938106362471 - val_acc: 0.88642\n"
     ]
    },
    {
     "name": "stdout",
     "output_type": "stream",
     "text": [
      "Epoch 57 / 201 - 98 seconds - loss: 0.004195757611069663 - acc: 0.8868117559523809 - val_loss: 0.4092660975619675 - val_acc: 0.88718\n"
     ]
    },
    {
     "name": "stdout",
     "output_type": "stream",
     "text": [
      "Epoch 58 / 201 - 100 seconds - loss: 0.004158982942309841 - acc: 0.887520689079203 - val_loss: 0.4057325310370372 - val_acc: 0.88782\n"
     ]
    },
    {
     "name": "stdout",
     "output_type": "stream",
     "text": [
      "Epoch 59 / 201 - 102 seconds - loss: 0.004123575617858034 - acc: 0.8882486030126336 - val_loss: 0.4023289468747733 - val_acc: 0.8886\n"
     ]
    },
    {
     "name": "stdout",
     "output_type": "stream",
     "text": [
      "Epoch 60 / 201 - 104 seconds - loss: 0.0040894794699879635 - acc: 0.8887250212585034 - val_loss: 0.39904677011090495 - val_acc: 0.88914\n"
     ]
    },
    {
     "name": "stdout",
     "output_type": "stream",
     "text": [
      "Epoch 61 / 201 - 105 seconds - loss: 0.004056590366086709 - acc: 0.8894111774173955 - val_loss: 0.3958790491829923 - val_acc: 0.88972\n"
     ]
    },
    {
     "name": "stdout",
     "output_type": "stream",
     "text": [
      "Epoch 62 / 201 - 107 seconds - loss: 0.004024814061696629 - acc: 0.8899872448979592 - val_loss: 0.3928186725995387 - val_acc: 0.89042\n"
     ]
    },
    {
     "name": "stdout",
     "output_type": "stream",
     "text": [
      "Epoch 63 / 201 - 109 seconds - loss: 0.003994061209780639 - acc: 0.890799623420797 - val_loss: 0.3898595158912095 - val_acc: 0.89116\n"
     ]
    },
    {
     "name": "stdout",
     "output_type": "stream",
     "text": [
      "Epoch 64 / 201 - 110 seconds - loss: 0.0039644007649557176 - acc: 0.8913728437803693 - val_loss: 0.38699651643468247 - val_acc: 0.89184\n"
     ]
    },
    {
     "name": "stdout",
     "output_type": "stream",
     "text": [
      "Epoch 65 / 201 - 112 seconds - loss: 0.003935623872453376 - acc: 0.892103604834791 - val_loss: 0.3842239110439875 - val_acc: 0.89248\n"
     ]
    },
    {
     "name": "stdout",
     "output_type": "stream",
     "text": [
      "Epoch 66 / 201 - 114 seconds - loss: 0.0039077705505340425 - acc: 0.8928694803814382 - val_loss: 0.3815365826454847 - val_acc: 0.8932\n"
     ]
    },
    {
     "name": "stdout",
     "output_type": "stream",
     "text": [
      "Epoch 67 / 201 - 116 seconds - loss: 0.003880763989339027 - acc: 0.8932984466107872 - val_loss: 0.3789301193470896 - val_acc: 0.89358\n"
     ]
    },
    {
     "name": "stdout",
     "output_type": "stream",
     "text": [
      "Epoch 68 / 201 - 117 seconds - loss: 0.0038545558541592433 - acc: 0.8940367999878522 - val_loss: 0.3764011302001536 - val_acc: 0.89418\n"
     ]
    },
    {
     "name": "stdout",
     "output_type": "stream",
     "text": [
      "Epoch 69 / 201 - 119 seconds - loss: 0.003829118933182992 - acc: 0.8943509323372206 - val_loss: 0.3739452328225085 - val_acc: 0.89488\n"
     ]
    },
    {
     "name": "stdout",
     "output_type": "stream",
     "text": [
      "Epoch 70 / 201 - 121 seconds - loss: 0.003804411859798189 - acc: 0.8949345921404275 - val_loss: 0.3715592427097717 - val_acc: 0.89514\n"
     ]
    },
    {
     "name": "stdout",
     "output_type": "stream",
     "text": [
      "Epoch 71 / 201 - 122 seconds - loss: 0.0037804313235509077 - acc: 0.8952819409013605 - val_loss: 0.36923881677339754 - val_acc: 0.89544\n"
     ]
    },
    {
     "name": "stdout",
     "output_type": "stream",
     "text": [
      "Epoch 72 / 201 - 124 seconds - loss: 0.0037570496859871474 - acc: 0.8957517158649173 - val_loss: 0.3669815227552276 - val_acc: 0.89606\n"
     ]
    },
    {
     "name": "stdout",
     "output_type": "stream",
     "text": [
      "Epoch 73 / 201 - 126 seconds - loss: 0.003734326207093957 - acc: 0.8962888726919339 - val_loss: 0.3647840556829607 - val_acc: 0.89648\n"
     ]
    },
    {
     "name": "stdout",
     "output_type": "stream",
     "text": [
      "Epoch 74 / 201 - 128 seconds - loss: 0.003712228233788416 - acc: 0.8967567495748299 - val_loss: 0.36264375003059696 - val_acc: 0.8969\n"
     ]
    },
    {
     "name": "stdout",
     "output_type": "stream",
     "text": [
      "Epoch 75 / 201 - 129 seconds - loss: 0.0036906463962206345 - acc: 0.8969921115767736 - val_loss: 0.36055784223164 - val_acc: 0.89742\n"
     ]
    },
    {
     "name": "stdout",
     "output_type": "stream",
     "text": [
      "Epoch 76 / 201 - 131 seconds - loss: 0.0036696245584716645 - acc: 0.8977247707118561 - val_loss: 0.35852364239341866 - val_acc: 0.89792\n"
     ]
    },
    {
     "name": "stdout",
     "output_type": "stream",
     "text": [
      "Epoch 77 / 201 - 133 seconds - loss: 0.003649108936091907 - acc: 0.8980474444241983 - val_loss: 0.35653878353548746 - val_acc: 0.89844\n"
     ]
    },
    {
     "name": "stdout",
     "output_type": "stream",
     "text": [
      "Epoch 78 / 201 - 134 seconds - loss: 0.0036291071001067396 - acc: 0.8985959897351798 - val_loss: 0.3546015741861204 - val_acc: 0.89902\n"
     ]
    },
    {
     "name": "stdout",
     "output_type": "stream",
     "text": [
      "Epoch 79 / 201 - 136 seconds - loss: 0.003609555070247492 - acc: 0.8994282981049562 - val_loss: 0.35270985768144125 - val_acc: 0.8997\n"
     ]
    },
    {
     "name": "stdout",
     "output_type": "stream",
     "text": [
      "Epoch 80 / 201 - 138 seconds - loss: 0.0035904936572079163 - acc: 0.8999350856413993 - val_loss: 0.3508613485461056 - val_acc: 0.90026\n"
     ]
    },
    {
     "name": "stdout",
     "output_type": "stream",
     "text": [
      "Epoch 81 / 201 - 140 seconds - loss: 0.0035718537604288057 - acc: 0.9003450710641399 - val_loss: 0.3490543543548129 - val_acc: 0.90062\n"
     ]
    },
    {
     "name": "stdout",
     "output_type": "stream",
     "text": [
      "Epoch 82 / 201 - 141 seconds - loss: 0.0035535899919138343 - acc: 0.9006819803814382 - val_loss: 0.347286786221758 - val_acc: 0.901\n"
     ]
    },
    {
     "name": "stdout",
     "output_type": "stream",
     "text": [
      "Epoch 83 / 201 - 143 seconds - loss: 0.003535741873361412 - acc: 0.9009201895043731 - val_loss: 0.34555703036786933 - val_acc: 0.90138\n"
     ]
    },
    {
     "name": "stdout",
     "output_type": "stream",
     "text": [
      "Epoch 84 / 201 - 145 seconds - loss: 0.0035182945653475825 - acc: 0.9014497540087463 - val_loss: 0.34386409160539855 - val_acc: 0.9017\n"
     ]
    },
    {
     "name": "stdout",
     "output_type": "stream",
     "text": [
      "Epoch 85 / 201 - 147 seconds - loss: 0.0035011913535423103 - acc: 0.9017876123663751 - val_loss: 0.3422057602317451 - val_acc: 0.90192\n"
     ]
    },
    {
     "name": "stdout",
     "output_type": "stream",
     "text": [
      "Epoch 86 / 201 - 149 seconds - loss: 0.003484440679284315 - acc: 0.9019641338678328 - val_loss: 0.3405807099836024 - val_acc: 0.90214\n"
     ]
    },
    {
     "name": "stdout",
     "output_type": "stream",
     "text": [
      "Epoch 87 / 201 - 150 seconds - loss: 0.003468020774094708 - acc: 0.9022459988459669 - val_loss: 0.3389883175831905 - val_acc: 0.90266\n"
     ]
    },
    {
     "name": "stdout",
     "output_type": "stream",
     "text": [
      "Epoch 88 / 201 - 152 seconds - loss: 0.0034519317577598836 - acc: 0.9027879008746357 - val_loss: 0.33742667906409 - val_acc: 0.903\n"
     ]
    },
    {
     "name": "stdout",
     "output_type": "stream",
     "text": [
      "Epoch 89 / 201 - 154 seconds - loss: 0.003436142606797196 - acc: 0.9031855487730805 - val_loss: 0.3358948121046703 - val_acc: 0.9035\n"
     ]
    },
    {
     "name": "stdout",
     "output_type": "stream",
     "text": [
      "Epoch 90 / 201 - 156 seconds - loss: 0.0034206428239192265 - acc: 0.9035433369776481 - val_loss: 0.33439122639173424 - val_acc: 0.9037\n"
     ]
    },
    {
     "name": "stdout",
     "output_type": "stream",
     "text": [
      "Epoch 91 / 201 - 157 seconds - loss: 0.003405466635546817 - acc: 0.9039865388119533 - val_loss: 0.3329151669886041 - val_acc: 0.90416\n"
     ]
    },
    {
     "name": "stdout",
     "output_type": "stream",
     "text": [
      "Epoch 92 / 201 - 159 seconds - loss: 0.0033905107669008573 - acc: 0.9044506195335277 - val_loss: 0.3314657817238791 - val_acc: 0.90452\n"
     ]
    },
    {
     "name": "stdout",
     "output_type": "stream",
     "text": [
      "Epoch 93 / 201 - 161 seconds - loss: 0.0033758559931541935 - acc: 0.9046385295189504 - val_loss: 0.3300425987886792 - val_acc: 0.90494\n"
     ]
    },
    {
     "name": "stdout",
     "output_type": "stream",
     "text": [
      "Epoch 94 / 201 - 163 seconds - loss: 0.0033614709212554258 - acc: 0.9051756863459669 - val_loss: 0.32864416562983473 - val_acc: 0.90534\n"
     ]
    },
    {
     "name": "stdout",
     "output_type": "stream",
     "text": [
      "Epoch 95 / 201 - 164 seconds - loss: 0.003347328694614388 - acc: 0.9056397670675413 - val_loss: 0.32726953060879177 - val_acc: 0.90568\n"
     ]
    },
    {
     "name": "stdout",
     "output_type": "stream",
     "text": [
      "Epoch 96 / 201 - 166 seconds - loss: 0.0033334191058425775 - acc: 0.9059083454810496 - val_loss: 0.32591759195317643 - val_acc: 0.90598\n"
     ]
    },
    {
     "name": "stdout",
     "output_type": "stream",
     "text": [
      "Epoch 97 / 201 - 168 seconds - loss: 0.0033197568057840854 - acc: 0.9061655354105929 - val_loss: 0.3245879025084673 - val_acc: 0.90644\n"
     ]
    },
    {
     "name": "stdout",
     "output_type": "stream",
     "text": [
      "Epoch 98 / 201 - 169 seconds - loss: 0.0033062627445381155 - acc: 0.9065963997206026 - val_loss: 0.32327954190678065 - val_acc: 0.90676\n"
     ]
    },
    {
     "name": "stdout",
     "output_type": "stream",
     "text": [
      "Epoch 99 / 201 - 171 seconds - loss: 0.003293014237586371 - acc: 0.9068943983843538 - val_loss: 0.3219925424790818 - val_acc: 0.90708\n"
     ]
    },
    {
     "name": "stdout",
     "output_type": "stream",
     "text": [
      "Epoch 100 / 201 - 173 seconds - loss: 0.003280005166786112 - acc: 0.9071610787172011 - val_loss: 0.3207261129371552 - val_acc: 0.90732\n"
     ]
    },
    {
     "name": "stdout",
     "output_type": "stream",
     "text": [
      "Epoch 101 / 201 - 175 seconds - loss: 0.003267166319320893 - acc: 0.9074315552113703 - val_loss: 0.31947947090739875 - val_acc: 0.9077\n"
     ]
    },
    {
     "name": "stdout",
     "output_type": "stream",
     "text": [
      "Epoch 102 / 201 - 176 seconds - loss: 0.0032545640452928074 - acc: 0.9077789039723031 - val_loss: 0.3182516592272096 - val_acc: 0.90802\n"
     ]
    },
    {
     "name": "stdout",
     "output_type": "stream",
     "text": [
      "Epoch 103 / 201 - 178 seconds - loss: 0.003242119692005123 - acc: 0.9081072719266278 - val_loss: 0.3170420431985511 - val_acc: 0.90836\n"
     ]
    },
    {
     "name": "stdout",
     "output_type": "stream",
     "text": [
      "Epoch 104 / 201 - 180 seconds - loss: 0.003229866175491386 - acc: 0.9085182063896988 - val_loss: 0.31585044570830134 - val_acc: 0.90868\n"
     ]
    },
    {
     "name": "stdout",
     "output_type": "stream",
     "text": [
      "Epoch 105 / 201 - 181 seconds - loss: 0.0032178109672191778 - acc: 0.9088247464164236 - val_loss: 0.31467614718738457 - val_acc: 0.90904\n"
     ]
    },
    {
     "name": "stdout",
     "output_type": "stream",
     "text": [
      "Epoch 106 / 201 - 183 seconds - loss: 0.003205917761764748 - acc: 0.9091645028547133 - val_loss: 0.31351838706002366 - val_acc: 0.90932\n"
     ]
    },
    {
     "name": "stdout",
     "output_type": "stream",
     "text": [
      "Epoch 107 / 201 - 185 seconds - loss: 0.00319416953936275 - acc: 0.9094008138969873 - val_loss: 0.3123763981061202 - val_acc: 0.90958\n"
     ]
    },
    {
     "name": "stdout",
     "output_type": "stream",
     "text": [
      "Epoch 108 / 201 - 186 seconds - loss: 0.0031826046973836945 - acc: 0.9097377232142857 - val_loss: 0.31125010259291874 - val_acc: 0.90992\n"
     ]
    },
    {
     "name": "stdout",
     "output_type": "stream",
     "text": [
      "Epoch 109 / 201 - 188 seconds - loss: 0.0031711728823892353 - acc: 0.9103052493318756 - val_loss: 0.3101396547990965 - val_acc: 0.9104\n"
     ]
    },
    {
     "name": "stdout",
     "output_type": "stream",
     "text": [
      "Epoch 110 / 201 - 190 seconds - loss: 0.0031599252301042348 - acc: 0.9104922102769679 - val_loss: 0.3090442399418295 - val_acc: 0.9107\n"
     ]
    },
    {
     "name": "stdout",
     "output_type": "stream",
     "text": [
      "Epoch 111 / 201 - 192 seconds - loss: 0.0031488055227868275 - acc: 0.9107769223760932 - val_loss: 0.30796336274873287 - val_acc: 0.911\n"
     ]
    },
    {
     "name": "stdout",
     "output_type": "stream",
     "text": [
      "Epoch 112 / 201 - 193 seconds - loss: 0.0031378738533300067 - acc: 0.9111309144193392 - val_loss: 0.3068965932918818 - val_acc: 0.91134\n"
     ]
    },
    {
     "name": "stdout",
     "output_type": "stream",
     "text": [
      "Epoch 113 / 201 - 195 seconds - loss: 0.003127048815299156 - acc: 0.9114469448493684 - val_loss: 0.3058435361440943 - val_acc: 0.91158\n"
     ]
    },
    {
     "name": "stdout",
     "output_type": "stream",
     "text": [
      "Epoch 114 / 201 - 197 seconds - loss: 0.0031163560379631307 - acc: 0.9115949951409135 - val_loss: 0.3048031310379777 - val_acc: 0.91182\n"
     ]
    },
    {
     "name": "stdout",
     "output_type": "stream",
     "text": [
      "Epoch 115 / 201 - 198 seconds - loss: 0.0031057982006758634 - acc: 0.9119565795068028 - val_loss: 0.30377541174416045 - val_acc: 0.9121\n"
     ]
    },
    {
     "name": "stdout",
     "output_type": "stream",
     "text": [
      "Epoch 116 / 201 - 200 seconds - loss: 0.0030953861725794654 - acc: 0.9121406933309038 - val_loss: 0.3027603995075386 - val_acc: 0.91242\n"
     ]
    },
    {
     "name": "stdout",
     "output_type": "stream",
     "text": [
      "Epoch 117 / 201 - 202 seconds - loss: 0.0030851025012688183 - acc: 0.9123931380587949 - val_loss: 0.30175736543179893 - val_acc: 0.91276\n"
     ]
    },
    {
     "name": "stdout",
     "output_type": "stream",
     "text": [
      "Epoch 118 / 201 - 203 seconds - loss: 0.003074922576472172 - acc: 0.9129957786686103 - val_loss: 0.3007663249950707 - val_acc: 0.91306\n"
     ]
    },
    {
     "name": "stdout",
     "output_type": "stream",
     "text": [
      "Epoch 119 / 201 - 205 seconds - loss: 0.003064856724290804 - acc: 0.9130802432580174 - val_loss: 0.2997867818079819 - val_acc: 0.91322\n"
     ]
    },
    {
     "name": "stdout",
     "output_type": "stream",
     "text": [
      "Epoch 120 / 201 - 207 seconds - loss: 0.003054943662453525 - acc: 0.9134427766642371 - val_loss: 0.2988186855614078 - val_acc: 0.91358\n"
     ]
    },
    {
     "name": "stdout",
     "output_type": "stream",
     "text": [
      "Epoch 121 / 201 - 209 seconds - loss: 0.0030451026328860518 - acc: 0.9137521638119533 - val_loss: 0.2978622712957312 - val_acc: 0.91378\n"
     ]
    },
    {
     "name": "stdout",
     "output_type": "stream",
     "text": [
      "Epoch 122 / 201 - 210 seconds - loss: 0.003035430898235417 - acc: 0.9139903729348883 - val_loss: 0.2969167041739545 - val_acc: 0.91414\n"
     ]
    },
    {
     "name": "stdout",
     "output_type": "stream",
     "text": [
      "Epoch 123 / 201 - 212 seconds - loss: 0.0030258201336784123 - acc: 0.9143253841715256 - val_loss: 0.2959815341189924 - val_acc: 0.91462\n"
     ]
    },
    {
     "name": "stdout",
     "output_type": "stream",
     "text": [
      "Epoch 124 / 201 - 214 seconds - loss: 0.003016317717702259 - acc: 0.9147448599975704 - val_loss: 0.2950563248144858 - val_acc: 0.9149\n"
     ]
    },
    {
     "name": "stdout",
     "output_type": "stream",
     "text": [
      "Epoch 125 / 201 - 215 seconds - loss: 0.0030069411400054764 - acc: 0.9148967064504374 - val_loss: 0.2941412254517114 - val_acc: 0.9152\n"
     ]
    },
    {
     "name": "stdout",
     "output_type": "stream",
     "text": [
      "Epoch 126 / 201 - 217 seconds - loss: 0.002997633721351592 - acc: 0.915213685920797 - val_loss: 0.29323620792915417 - val_acc: 0.91544\n"
     ]
    },
    {
     "name": "stdout",
     "output_type": "stream",
     "text": [
      "Epoch 127 / 201 - 219 seconds - loss: 0.0029884451651184655 - acc: 0.9154329142371235 - val_loss: 0.2923407486465498 - val_acc: 0.91566\n"
     ]
    },
    {
     "name": "stdout",
     "output_type": "stream",
     "text": [
      "Epoch 128 / 201 - 220 seconds - loss: 0.0029793840720860605 - acc: 0.9158049380466472 - val_loss: 0.2914548638576724 - val_acc: 0.9158\n"
     ]
    },
    {
     "name": "stdout",
     "output_type": "stream",
     "text": [
      "Epoch 129 / 201 - 222 seconds - loss: 0.0029703822857866063 - acc: 0.915872319910107 - val_loss: 0.29057882531747536 - val_acc: 0.91594\n"
     ]
    },
    {
     "name": "stdout",
     "output_type": "stream",
     "text": [
      "Epoch 130 / 201 - 224 seconds - loss: 0.002961498126871452 - acc: 0.9160327077259476 - val_loss: 0.2897117517267733 - val_acc: 0.9161\n"
     ]
    },
    {
     "name": "stdout",
     "output_type": "stream",
     "text": [
      "Epoch 131 / 201 - 226 seconds - loss: 0.002952669599356639 - acc: 0.9163829036078718 - val_loss: 0.28885323868868873 - val_acc: 0.91644\n"
     ]
    },
    {
     "name": "stdout",
     "output_type": "stream",
     "text": [
      "Epoch 132 / 201 - 227 seconds - loss: 0.00294395908292757 - acc: 0.9166438896987367 - val_loss: 0.2880031165421062 - val_acc: 0.9168\n"
     ]
    },
    {
     "name": "stdout",
     "output_type": "stream",
     "text": [
      "Epoch 133 / 201 - 229 seconds - loss: 0.00293533871962125 - acc: 0.9168991815476191 - val_loss: 0.2871612082928102 - val_acc: 0.91716\n"
     ]
    },
    {
     "name": "stdout",
     "output_type": "stream",
     "text": [
      "Epoch 134 / 201 - 231 seconds - loss: 0.0029267844672649698 - acc: 0.9172683582361516 - val_loss: 0.28632736405198117 - val_acc: 0.9174\n"
     ]
    },
    {
     "name": "stdout",
     "output_type": "stream",
     "text": [
      "Epoch 135 / 201 - 232 seconds - loss: 0.002918316030378077 - acc: 0.9175274462463557 - val_loss: 0.2855019867335239 - val_acc: 0.91762\n"
     ]
    },
    {
     "name": "stdout",
     "output_type": "stream",
     "text": [
      "Epoch 136 / 201 - 234 seconds - loss: 0.002909918209485536 - acc: 0.9175853377065113 - val_loss: 0.28468424272546433 - val_acc: 0.91772\n"
     ]
    },
    {
     "name": "stdout",
     "output_type": "stream",
     "text": [
      "Epoch 137 / 201 - 236 seconds - loss: 0.00290161545634347 - acc: 0.9177647063289602 - val_loss: 0.28387407848447627 - val_acc: 0.91788\n"
     ]
    },
    {
     "name": "stdout",
     "output_type": "stream",
     "text": [
      "Epoch 138 / 201 - 238 seconds - loss: 0.002893401225536815 - acc: 0.9179241451044704 - val_loss: 0.28307150316383534 - val_acc: 0.91808\n"
     ]
    },
    {
     "name": "stdout",
     "output_type": "stream",
     "text": [
      "Epoch 139 / 201 - 239 seconds - loss: 0.0028852317441496337 - acc: 0.9181348320578232 - val_loss: 0.2822759814924453 - val_acc: 0.91824\n"
     ]
    },
    {
     "name": "stdout",
     "output_type": "stream",
     "text": [
      "Epoch 140 / 201 - 241 seconds - loss: 0.0028771613867112473 - acc: 0.9182942708333334 - val_loss: 0.2814872284864847 - val_acc: 0.91836\n"
     ]
    },
    {
     "name": "stdout",
     "output_type": "stream",
     "text": [
      "Epoch 141 / 201 - 243 seconds - loss: 0.002869125337458702 - acc: 0.9184869260204082 - val_loss: 0.280704461977264 - val_acc: 0.91864\n"
     ]
    },
    {
     "name": "stdout",
     "output_type": "stream",
     "text": [
      "Epoch 142 / 201 - 244 seconds - loss: 0.002861173365803781 - acc: 0.9187412688289602 - val_loss: 0.2799283315888814 - val_acc: 0.91894\n"
     ]
    },
    {
     "name": "stdout",
     "output_type": "stream",
     "text": [
      "Epoch 143 / 201 - 246 seconds - loss: 0.002853294917141873 - acc: 0.9190013058794947 - val_loss: 0.27915880097833845 - val_acc: 0.9191\n"
     ]
    },
    {
     "name": "stdout",
     "output_type": "stream",
     "text": [
      "Epoch 144 / 201 - 248 seconds - loss: 0.002845470104622177 - acc: 0.9191123435981536 - val_loss: 0.27839569732673464 - val_acc: 0.91924\n"
     ]
    },
    {
     "name": "stdout",
     "output_type": "stream",
     "text": [
      "Epoch 145 / 201 - 250 seconds - loss: 0.002837727247978137 - acc: 0.9193344190354713 - val_loss: 0.2776389088378234 - val_acc: 0.91928\n"
     ]
    },
    {
     "name": "stdout",
     "output_type": "stream",
     "text": [
      "Epoch 146 / 201 - 251 seconds - loss: 0.00283002074562295 - acc: 0.919431221149174 - val_loss: 0.2768888722032818 - val_acc: 0.91956\n"
     ]
    },
    {
     "name": "stdout",
     "output_type": "stream",
     "text": [
      "Epoch 147 / 201 - 253 seconds - loss: 0.0028224167305205216 - acc: 0.9195593415937804 - val_loss: 0.2761452987581335 - val_acc: 0.91982\n"
     ]
    },
    {
     "name": "stdout",
     "output_type": "stream",
     "text": [
      "Epoch 148 / 201 - 255 seconds - loss: 0.002814843014505606 - acc: 0.9199418048469388 - val_loss: 0.2754082532368469 - val_acc: 0.9201\n"
     ]
    },
    {
     "name": "stdout",
     "output_type": "stream",
     "text": [
      "Epoch 149 / 201 - 256 seconds - loss: 0.0028073631038775 - acc: 0.9202094342201166 - val_loss: 0.27467741759054154 - val_acc: 0.92036\n"
     ]
    },
    {
     "name": "stdout",
     "output_type": "stream",
     "text": [
      "Epoch 150 / 201 - 258 seconds - loss: 0.0027999512462178536 - acc: 0.9204058855685132 - val_loss: 0.27395273091422306 - val_acc: 0.92056\n"
     ]
    },
    {
     "name": "stdout",
     "output_type": "stream",
     "text": [
      "Epoch 151 / 201 - 260 seconds - loss: 0.0027925651593880916 - acc: 0.9205757637876579 - val_loss: 0.2732342079292942 - val_acc: 0.92074\n"
     ]
    },
    {
     "name": "stdout",
     "output_type": "stream",
     "text": [
      "Epoch 152 / 201 - 262 seconds - loss: 0.002785275255383692 - acc: 0.9206763620626822 - val_loss: 0.2725217599779651 - val_acc: 0.92084\n"
     ]
    },
    {
     "name": "stdout",
     "output_type": "stream",
     "text": [
      "Epoch 153 / 201 - 263 seconds - loss: 0.002778029682245867 - acc: 0.9207228650388727 - val_loss: 0.2718149034425185 - val_acc: 0.92096\n"
     ]
    },
    {
     "name": "stdout",
     "output_type": "stream",
     "text": [
      "Epoch 154 / 201 - 265 seconds - loss: 0.002770843518923997 - acc: 0.9209326029518949 - val_loss: 0.27111365743528765 - val_acc: 0.92116\n"
     ]
    },
    {
     "name": "stdout",
     "output_type": "stream",
     "text": [
      "Epoch 155 / 201 - 267 seconds - loss: 0.0027637468704506227 - acc: 0.9211622707118561 - val_loss: 0.2704179553267548 - val_acc: 0.92128\n"
     ]
    },
    {
     "name": "stdout",
     "output_type": "stream",
     "text": [
      "Epoch 156 / 201 - 268 seconds - loss: 0.0027566638114792444 - acc: 0.9212524295432459 - val_loss: 0.2697270268332485 - val_acc: 0.92152\n"
     ]
    },
    {
     "name": "stdout",
     "output_type": "stream",
     "text": [
      "Epoch 157 / 201 - 270 seconds - loss: 0.002749615537458438 - acc: 0.9215656128522838 - val_loss: 0.26904167420046937 - val_acc: 0.92174\n"
     ]
    },
    {
     "name": "stdout",
     "output_type": "stream",
     "text": [
      "Epoch 158 / 201 - 272 seconds - loss: 0.0027426453248469524 - acc: 0.9216187591107872 - val_loss: 0.2683607757282985 - val_acc: 0.92188\n"
     ]
    },
    {
     "name": "stdout",
     "output_type": "stream",
     "text": [
      "Epoch 159 / 201 - 273 seconds - loss: 0.002735740169247936 - acc: 0.9219755982750243 - val_loss: 0.26768491774976433 - val_acc: 0.92204\n"
     ]
    },
    {
     "name": "stdout",
     "output_type": "stream",
     "text": [
      "Epoch 160 / 201 - 275 seconds - loss: 0.0027288567143327488 - acc: 0.9221122600826045 - val_loss: 0.26701435308166876 - val_acc: 0.92218\n"
     ]
    },
    {
     "name": "stdout",
     "output_type": "stream",
     "text": [
      "Epoch 161 / 201 - 277 seconds - loss: 0.0027220348937037216 - acc: 0.9222413295675413 - val_loss: 0.26634910546864 - val_acc: 0.9223\n"
     ]
    },
    {
     "name": "stdout",
     "output_type": "stream",
     "text": [
      "Epoch 162 / 201 - 279 seconds - loss: 0.0027152888764187316 - acc: 0.922401717383382 - val_loss: 0.26568906901095596 - val_acc: 0.92248\n"
     ]
    },
    {
     "name": "stdout",
     "output_type": "stream",
     "text": [
      "Epoch 163 / 201 - 281 seconds - loss: 0.0027085602476013475 - acc: 0.922499468537415 - val_loss: 0.2650339649515684 - val_acc: 0.92258\n"
     ]
    },
    {
     "name": "stdout",
     "output_type": "stream",
     "text": [
      "Epoch 164 / 201 - 283 seconds - loss: 0.002701915540394002 - acc: 0.9226399265063169 - val_loss: 0.26438351691932166 - val_acc: 0.92272\n"
     ]
    },
    {
     "name": "stdout",
     "output_type": "stream",
     "text": [
      "Epoch 165 / 201 - 285 seconds - loss: 0.0026953016949233487 - acc: 0.9227689959912537 - val_loss: 0.2637384321549418 - val_acc: 0.92286\n"
     ]
    },
    {
     "name": "stdout",
     "output_type": "stream",
     "text": [
      "Epoch 166 / 201 - 287 seconds - loss: 0.0026887547980237662 - acc: 0.9228240403304179 - val_loss: 0.2630982902915502 - val_acc: 0.9231\n"
     ]
    },
    {
     "name": "stdout",
     "output_type": "stream",
     "text": [
      "Epoch 167 / 201 - 289 seconds - loss: 0.0026822366842067656 - acc: 0.9232378219144801 - val_loss: 0.2624629622082247 - val_acc: 0.92326\n"
     ]
    },
    {
     "name": "stdout",
     "output_type": "stream",
     "text": [
      "Epoch 168 / 201 - 291 seconds - loss: 0.00267577853059252 - acc: 0.9234893176020408 - val_loss: 0.26183217842103423 - val_acc: 0.92346\n"
     ]
    },
    {
     "name": "stdout",
     "output_type": "stream",
     "text": [
      "Epoch 169 / 201 - 293 seconds - loss: 0.002669356052355763 - acc: 0.9234447127065113 - val_loss: 0.26120593108812235 - val_acc: 0.9237\n"
     ]
    },
    {
     "name": "stdout",
     "output_type": "stream",
     "text": [
      "Epoch 170 / 201 - 294 seconds - loss: 0.002663006755302716 - acc: 0.9237047497570458 - val_loss: 0.26058370587717555 - val_acc: 0.92388\n"
     ]
    },
    {
     "name": "stdout",
     "output_type": "stream",
     "text": [
      "Epoch 171 / 201 - 296 seconds - loss: 0.0026566645449413546 - acc: 0.9239866147351798 - val_loss: 0.2599657315149536 - val_acc: 0.92406\n"
     ]
    },
    {
     "name": "stdout",
     "output_type": "stream",
     "text": [
      "Epoch 172 / 201 - 298 seconds - loss: 0.0026503769718724604 - acc: 0.9239723791302235 - val_loss: 0.25935203016336766 - val_acc: 0.9244\n"
     ]
    },
    {
     "name": "stdout",
     "output_type": "stream",
     "text": [
      "Epoch 173 / 201 - 299 seconds - loss: 0.0026441233328321316 - acc: 0.9243557914237124 - val_loss: 0.2587425931172991 - val_acc: 0.9246\n"
     ]
    },
    {
     "name": "stdout",
     "output_type": "stream",
     "text": [
      "Epoch 174 / 201 - 301 seconds - loss: 0.0026379505963351345 - acc: 0.9244326636904763 - val_loss: 0.25813741574393456 - val_acc: 0.92474\n"
     ]
    },
    {
     "name": "stdout",
     "output_type": "stream",
     "text": [
      "Epoch 175 / 201 - 303 seconds - loss: 0.002631781078308352 - acc: 0.9248530885568513 - val_loss: 0.2575366344699307 - val_acc: 0.9249\n"
     ]
    },
    {
     "name": "stdout",
     "output_type": "stream",
     "text": [
      "Epoch 176 / 201 - 304 seconds - loss: 0.0026256686991853622 - acc: 0.9247363565962099 - val_loss: 0.25693954208441155 - val_acc: 0.9251\n"
     ]
    },
    {
     "name": "stdout",
     "output_type": "stream",
     "text": [
      "Epoch 177 / 201 - 306 seconds - loss: 0.002619608867321938 - acc: 0.925290596149174 - val_loss: 0.2563464363503851 - val_acc: 0.92538\n"
     ]
    },
    {
     "name": "stdout",
     "output_type": "stream",
     "text": [
      "Epoch 178 / 201 - 308 seconds - loss: 0.0026135675751957684 - acc: 0.9253807549805637 - val_loss: 0.25575722265021894 - val_acc: 0.92548\n"
     ]
    },
    {
     "name": "stdout",
     "output_type": "stream",
     "text": [
      "Epoch 179 / 201 - 309 seconds - loss: 0.0026075700424803973 - acc: 0.9255221619897959 - val_loss: 0.2551720761347955 - val_acc: 0.92552\n"
     ]
    },
    {
     "name": "stdout",
     "output_type": "stream",
     "text": [
      "Epoch 180 / 201 - 311 seconds - loss: 0.0026016043803571173 - acc: 0.9256825498056366 - val_loss: 0.25459079300682147 - val_acc: 0.92562\n"
     ]
    },
    {
     "name": "stdout",
     "output_type": "stream",
     "text": [
      "Epoch 181 / 201 - 313 seconds - loss: 0.0025957149461996068 - acc: 0.9258723578717201 - val_loss: 0.2540135560929192 - val_acc: 0.92582\n"
     ]
    },
    {
     "name": "stdout",
     "output_type": "stream",
     "text": [
      "Epoch 182 / 201 - 315 seconds - loss: 0.002589842532028989 - acc: 0.9258714088313897 - val_loss: 0.253439908435739 - val_acc: 0.92592\n"
     ]
    },
    {
     "name": "stdout",
     "output_type": "stream",
     "text": [
      "Epoch 183 / 201 - 316 seconds - loss: 0.002584011193556511 - acc: 0.9259463830174928 - val_loss: 0.25286973169394 - val_acc: 0.92618\n"
     ]
    },
    {
     "name": "stdout",
     "output_type": "stream",
     "text": [
      "Epoch 184 / 201 - 318 seconds - loss: 0.0025782147584834042 - acc: 0.9261390382045676 - val_loss: 0.2523033006916823 - val_acc: 0.92628\n"
     ]
    },
    {
     "name": "stdout",
     "output_type": "stream",
     "text": [
      "Epoch 185 / 201 - 320 seconds - loss: 0.0025724436669760397 - acc: 0.9262272989552964 - val_loss: 0.25174087974178216 - val_acc: 0.92636\n"
     ]
    },
    {
     "name": "stdout",
     "output_type": "stream",
     "text": [
      "Epoch 186 / 201 - 321 seconds - loss: 0.002566738899721414 - acc: 0.926428495505345 - val_loss: 0.25118144864213116 - val_acc: 0.92656\n"
     ]
    },
    {
     "name": "stdout",
     "output_type": "stream",
     "text": [
      "Epoch 187 / 201 - 323 seconds - loss: 0.002561027631052423 - acc: 0.9266382334183674 - val_loss: 0.250625565418175 - val_acc: 0.92682\n"
     ]
    },
    {
     "name": "stdout",
     "output_type": "stream",
     "text": [
      "Epoch 188 / 201 - 325 seconds - loss: 0.0025553630742241214 - acc: 0.9268261434037901 - val_loss: 0.250072909713109 - val_acc: 0.92704\n"
     ]
    },
    {
     "name": "stdout",
     "output_type": "stream",
     "text": [
      "Epoch 189 / 201 - 327 seconds - loss: 0.0025497458280577695 - acc: 0.9270036139455783 - val_loss: 0.24952339441494575 - val_acc: 0.9272\n"
     ]
    },
    {
     "name": "stdout",
     "output_type": "stream",
     "text": [
      "Epoch 190 / 201 - 328 seconds - loss: 0.002544158928253917 - acc: 0.9272978164480078 - val_loss: 0.24897708076134042 - val_acc: 0.92742\n"
     ]
    },
    {
     "name": "stdout",
     "output_type": "stream",
     "text": [
      "Epoch 191 / 201 - 330 seconds - loss: 0.002538592100447984 - acc: 0.9274145484086492 - val_loss: 0.24843372819334547 - val_acc: 0.92754\n"
     ]
    },
    {
     "name": "stdout",
     "output_type": "stream",
     "text": [
      "Epoch 192 / 201 - 332 seconds - loss: 0.0025330629001556752 - acc: 0.9275531082968902 - val_loss: 0.24789353828076127 - val_acc: 0.92776\n"
     ]
    },
    {
     "name": "stdout",
     "output_type": "stream",
     "text": [
      "Epoch 193 / 201 - 333 seconds - loss: 0.0025275865280106817 - acc: 0.92771159803207 - val_loss: 0.24735652336077593 - val_acc: 0.928\n"
     ]
    },
    {
     "name": "stdout",
     "output_type": "stream",
     "text": [
      "Epoch 194 / 201 - 335 seconds - loss: 0.0025221051213128436 - acc: 0.9280010553328475 - val_loss: 0.2468222141423161 - val_acc: 0.92816\n"
     ]
    },
    {
     "name": "stdout",
     "output_type": "stream",
     "text": [
      "Epoch 195 / 201 - 337 seconds - loss: 0.0025166769438425265 - acc: 0.9281623921890185 - val_loss: 0.24629092687718668 - val_acc: 0.92824\n"
     ]
    },
    {
     "name": "stdout",
     "output_type": "stream",
     "text": [
      "Epoch 196 / 201 - 338 seconds - loss: 0.0025112553410842563 - acc: 0.9282411625364432 - val_loss: 0.2457629326958818 - val_acc: 0.92848\n"
     ]
    },
    {
     "name": "stdout",
     "output_type": "stream",
     "text": [
      "Epoch 197 / 201 - 340 seconds - loss: 0.002505883019971272 - acc: 0.9285116390306123 - val_loss: 0.24523802451458426 - val_acc: 0.92864\n"
     ]
    },
    {
     "name": "stdout",
     "output_type": "stream",
     "text": [
      "Epoch 198 / 201 - 342 seconds - loss: 0.002500557482533679 - acc: 0.9286283709912537 - val_loss: 0.24471628198413828 - val_acc: 0.92884\n"
     ]
    },
    {
     "name": "stdout",
     "output_type": "stream",
     "text": [
      "Epoch 199 / 201 - 344 seconds - loss: 0.0024952464764357463 - acc: 0.9290013438411079 - val_loss: 0.2441974254982623 - val_acc: 0.929\n"
     ]
    },
    {
     "name": "stdout",
     "output_type": "stream",
     "text": [
      "Epoch 200 / 201 - 345 seconds - loss: 0.0024899811200499626 - acc: 0.9290886555515063 - val_loss: 0.24368139844315834 - val_acc: 0.92918\n"
     ]
    },
    {
     "name": "stdout",
     "output_type": "stream",
     "text": [
      "Epoch 1 / 201 - 2 seconds - loss: 0.023324291120405696 - acc: 0.15081769314868804 - val_loss: 2.259982285359037 - val_acc: 0.2453\n"
     ]
    },
    {
     "name": "stdout",
     "output_type": "stream",
     "text": [
      "Epoch 2 / 201 - 3 seconds - loss: 0.02280124860961728 - acc: 0.38742009080417883 - val_loss: 2.208032165195979 - val_acc: 0.50436\n"
     ]
    },
    {
     "name": "stdout",
     "output_type": "stream",
     "text": [
      "Epoch 3 / 201 - 5 seconds - loss: 0.022254196034989536 - acc: 0.5667773247691934 - val_loss: 2.152329392171848 - val_acc: 0.61178\n"
     ]
    },
    {
     "name": "stdout",
     "output_type": "stream",
     "text": [
      "Epoch 4 / 201 - 7 seconds - loss: 0.021657895097688774 - acc: 0.6339693801627794 - val_loss: 2.0907849300876955 - val_acc: 0.65002\n"
     ]
    },
    {
     "name": "stdout",
     "output_type": "stream",
     "text": [
      "Epoch 5 / 201 - 9 seconds - loss: 0.020993338080685965 - acc: 0.6570301111516035 - val_loss: 2.0217709451194334 - val_acc: 0.66122\n"
     ]
    },
    {
     "name": "stdout",
     "output_type": "stream",
     "text": [
      "Epoch 6 / 201 - 10 seconds - loss: 0.020247688007192472 - acc: 0.6623295523566569 - val_loss: 1.9445272262254214 - val_acc: 0.66194\n"
     ]
    },
    {
     "name": "stdout",
     "output_type": "stream",
     "text": [
      "Epoch 7 / 201 - 12 seconds - loss: 0.01942001980181105 - acc: 0.6629350400874636 - val_loss: 1.8596728317088302 - val_acc: 0.66286\n"
     ]
    },
    {
     "name": "stdout",
     "output_type": "stream",
     "text": [
      "Epoch 8 / 201 - 14 seconds - loss: 0.01852276555561197 - acc: 0.6625487806729835 - val_loss: 1.7689760096788205 - val_acc: 0.66318\n"
     ]
    },
    {
     "name": "stdout",
     "output_type": "stream",
     "text": [
      "Epoch 9 / 201 - 15 seconds - loss: 0.017578181436465414 - acc: 0.66460724914966 - val_loss: 1.674946804649444 - val_acc: 0.66656\n"
     ]
    },
    {
     "name": "stdout",
     "output_type": "stream",
     "text": [
      "Epoch 10 / 201 - 17 seconds - loss: 0.016613162661551814 - acc: 0.6700708743318756 - val_loss: 1.5802515729874955 - val_acc: 0.6742\n"
     ]
    },
    {
     "name": "stdout",
     "output_type": "stream",
     "text": [
      "Epoch 11 / 201 - 19 seconds - loss: 0.015653875317822263 - acc: 0.6786112882653061 - val_loss: 1.487299848342191 - val_acc: 0.68482\n"
     ]
    },
    {
     "name": "stdout",
     "output_type": "stream",
     "text": [
      "Epoch 12 / 201 - 21 seconds - loss: 0.0147219282605043 - acc: 0.691735566994655 - val_loss: 1.3978449904218673 - val_acc: 0.69942\n"
     ]
    },
    {
     "name": "stdout",
     "output_type": "stream",
     "text": [
      "Epoch 13 / 201 - 22 seconds - loss: 0.013831697827779228 - acc: 0.7066402453838678 - val_loss: 1.3130137642761859 - val_acc: 0.7148\n"
     ]
    },
    {
     "name": "stdout",
     "output_type": "stream",
     "text": [
      "Epoch 14 / 201 - 24 seconds - loss: 0.012992660804151275 - acc: 0.7225679892492711 - val_loss: 1.2335373568535817 - val_acc: 0.73102\n"
     ]
    },
    {
     "name": "stdout",
     "output_type": "stream",
     "text": [
      "Epoch 15 / 201 - 26 seconds - loss: 0.012210702624584043 - acc: 0.7387813942541301 - val_loss: 1.1598670711005 - val_acc: 0.74734\n"
     ]
    },
    {
     "name": "stdout",
     "output_type": "stream",
     "text": [
      "Epoch 16 / 201 - 28 seconds - loss: 0.011489475275720204 - acc: 0.7545990494412051 - val_loss: 1.0922674791201479 - val_acc: 0.7617\n"
     ]
    },
    {
     "name": "stdout",
     "output_type": "stream",
     "text": [
      "Epoch 17 / 201 - 29 seconds - loss: 0.010830525751188294 - acc: 0.7685803115889214 - val_loss: 1.0307498149816556 - val_acc: 0.7752\n"
     ]
    },
    {
     "name": "stdout",
     "output_type": "stream",
     "text": [
      "Epoch 18 / 201 - 31 seconds - loss: 0.01023271377742402 - acc: 0.7806995566083577 - val_loss: 0.9751078006536724 - val_acc: 0.78634\n"
     ]
    },
    {
     "name": "stdout",
     "output_type": "stream",
     "text": [
      "Epoch 19 / 201 - 33 seconds - loss: 0.00969306503469404 - acc: 0.7905638818027212 - val_loss: 0.9249641902845448 - val_acc: 0.79598\n"
     ]
    },
    {
     "name": "stdout",
     "output_type": "stream",
     "text": [
      "Epoch 20 / 201 - 35 seconds - loss: 0.009207237903011551 - acc: 0.8003911944241983 - val_loss: 0.8798535726129781 - val_acc: 0.805\n"
     ]
    },
    {
     "name": "stdout",
     "output_type": "stream",
     "text": [
      "Epoch 21 / 201 - 36 seconds - loss: 0.008770282796526562 - acc: 0.809050238398931 - val_loss: 0.8392877627624385 - val_acc: 0.81368\n"
     ]
    },
    {
     "name": "stdout",
     "output_type": "stream",
     "text": [
      "Epoch 22 / 201 - 38 seconds - loss: 0.008377277573064902 - acc: 0.8171094888848397 - val_loss: 0.8027861852421599 - val_acc: 0.81992\n"
     ]
    },
    {
     "name": "stdout",
     "output_type": "stream",
     "text": [
      "Epoch 23 / 201 - 40 seconds - loss: 0.008023390929741756 - acc: 0.8230125197400389 - val_loss: 0.7698908250875349 - val_acc: 0.82622\n"
     ]
    },
    {
     "name": "stdout",
     "output_type": "stream",
     "text": [
      "Epoch 24 / 201 - 41 seconds - loss: 0.007704233055735105 - acc: 0.8292126002186588 - val_loss: 0.7401949232107929 - val_acc: 0.83192\n"
     ]
    },
    {
     "name": "stdout",
     "output_type": "stream",
     "text": [
      "Epoch 25 / 201 - 43 seconds - loss: 0.007415763685811012 - acc: 0.8345813213678328 - val_loss: 0.7133231732130693 - val_acc: 0.83732\n"
     ]
    },
    {
     "name": "stdout",
     "output_type": "stream",
     "text": [
      "Epoch 26 / 201 - 45 seconds - loss: 0.007154411214053053 - acc: 0.839716578595724 - val_loss: 0.6889397574727298 - val_acc: 0.84164\n"
     ]
    },
    {
     "name": "stdout",
     "output_type": "stream",
     "text": [
      "Epoch 27 / 201 - 47 seconds - loss: 0.006916878046438143 - acc: 0.8432403653425656 - val_loss: 0.6667491299685784 - val_acc: 0.84504\n"
     ]
    },
    {
     "name": "stdout",
     "output_type": "stream",
     "text": [
      "Epoch 28 / 201 - 48 seconds - loss: 0.006700457098676933 - acc: 0.8462659059159378 - val_loss: 0.6464966552965672 - val_acc: 0.848\n"
     ]
    },
    {
     "name": "stdout",
     "output_type": "stream",
     "text": [
      "Epoch 29 / 201 - 50 seconds - loss: 0.006502667733418365 - acc: 0.8495400950558795 - val_loss: 0.6279648953787785 - val_acc: 0.85094\n"
     ]
    },
    {
     "name": "stdout",
     "output_type": "stream",
     "text": [
      "Epoch 30 / 201 - 52 seconds - loss: 0.006321386667579281 - acc: 0.8523321717079688 - val_loss: 0.610955105664614 - val_acc: 0.85314\n"
     ]
    },
    {
     "name": "stdout",
     "output_type": "stream",
     "text": [
      "Epoch 31 / 201 - 53 seconds - loss: 0.006154796457940858 - acc: 0.8544323979591837 - val_loss: 0.595297750522614 - val_acc: 0.85572\n"
     ]
    },
    {
     "name": "stdout",
     "output_type": "stream",
     "text": [
      "Epoch 32 / 201 - 55 seconds - loss: 0.006001250173292646 - acc: 0.8567243303571429 - val_loss: 0.5808469211150304 - val_acc: 0.85798\n"
     ]
    },
    {
     "name": "stdout",
     "output_type": "stream",
     "text": [
      "Epoch 33 / 201 - 57 seconds - loss: 0.005859314211768703 - acc: 0.8591073706268222 - val_loss: 0.567470261978925 - val_acc: 0.8599\n"
     ]
    },
    {
     "name": "stdout",
     "output_type": "stream",
     "text": [
      "Epoch 34 / 201 - 59 seconds - loss: 0.005727768625203035 - acc: 0.861178176627794 - val_loss: 0.555058281853128 - val_acc: 0.86206\n"
     ]
    },
    {
     "name": "stdout",
     "output_type": "stream",
     "text": [
      "Epoch 35 / 201 - 60 seconds - loss: 0.005605584401599596 - acc: 0.8632281037414966 - val_loss: 0.543512716283763 - val_acc: 0.86414\n"
     ]
    },
    {
     "name": "stdout",
     "output_type": "stream",
     "text": [
      "Epoch 36 / 201 - 62 seconds - loss: 0.005491773982047257 - acc: 0.8650255861273081 - val_loss: 0.5327468362076148 - val_acc: 0.86596\n"
     ]
    },
    {
     "name": "stdout",
     "output_type": "stream",
     "text": [
      "Epoch 37 / 201 - 64 seconds - loss: 0.0053855608597503605 - acc: 0.8666617316569485 - val_loss: 0.5226888075004924 - val_acc: 0.8676\n"
     ]
    },
    {
     "name": "stdout",
     "output_type": "stream",
     "text": [
      "Epoch 38 / 201 - 65 seconds - loss: 0.005286224763524587 - acc: 0.8682608646137027 - val_loss: 0.5132709638115349 - val_acc: 0.86908\n"
     ]
    },
    {
     "name": "stdout",
     "output_type": "stream",
     "text": [
      "Epoch 39 / 201 - 67 seconds - loss: 0.00519310425918525 - acc: 0.8698713860544217 - val_loss: 0.5044360084742637 - val_acc: 0.87046\n"
     ]
    },
    {
     "name": "stdout",
     "output_type": "stream",
     "text": [
      "Epoch 40 / 201 - 69 seconds - loss: 0.005105644820895428 - acc: 0.8711421510568513 - val_loss: 0.4961295831998849 - val_acc: 0.87188\n"
     ]
    },
    {
     "name": "stdout",
     "output_type": "stream",
     "text": [
      "Epoch 41 / 201 - 70 seconds - loss: 0.0050233902590661045 - acc: 0.8726217049319728 - val_loss: 0.4883074456735666 - val_acc: 0.87326\n"
     ]
    },
    {
     "name": "stdout",
     "output_type": "stream",
     "text": [
      "Epoch 42 / 201 - 72 seconds - loss: 0.004945825806293448 - acc: 0.8737947187803693 - val_loss: 0.48092860133429743 - val_acc: 0.8747\n"
     ]
    },
    {
     "name": "stdout",
     "output_type": "stream",
     "text": [
      "Epoch 43 / 201 - 74 seconds - loss: 0.0048726026088928885 - acc: 0.8754289662293488 - val_loss: 0.4739551521881666 - val_acc: 0.87598\n"
     ]
    },
    {
     "name": "stdout",
     "output_type": "stream",
     "text": [
      "Epoch 44 / 201 - 76 seconds - loss: 0.004803375803224954 - acc: 0.8764975856413993 - val_loss: 0.46735381582703955 - val_acc: 0.8772\n"
     ]
    },
    {
     "name": "stdout",
     "output_type": "stream",
     "text": [
      "Epoch 45 / 201 - 77 seconds - loss: 0.004737750113778737 - acc: 0.8776278926749271 - val_loss: 0.46109474107745646 - val_acc: 0.87828\n"
     ]
    },
    {
     "name": "stdout",
     "output_type": "stream",
     "text": [
      "Epoch 46 / 201 - 79 seconds - loss: 0.004675527635044129 - acc: 0.8787828747570458 - val_loss: 0.455153882276679 - val_acc: 0.8792\n"
     ]
    },
    {
     "name": "stdout",
     "output_type": "stream",
     "text": [
      "Epoch 47 / 201 - 81 seconds - loss: 0.004616407612773984 - acc: 0.8795971513605442 - val_loss: 0.4495065392093008 - val_acc: 0.88014\n"
     ]
    },
    {
     "name": "stdout",
     "output_type": "stream",
     "text": [
      "Epoch 48 / 201 - 83 seconds - loss: 0.004560160242654499 - acc: 0.8806183187560739 - val_loss: 0.44412886599132717 - val_acc: 0.88122\n"
     ]
    },
    {
     "name": "stdout",
     "output_type": "stream",
     "text": [
      "Epoch 49 / 201 - 84 seconds - loss: 0.004506583807979883 - acc: 0.8818444788629738 - val_loss: 0.4390015897695603 - val_acc: 0.8822\n"
     ]
    },
    {
     "name": "stdout",
     "output_type": "stream",
     "text": [
      "Epoch 50 / 201 - 86 seconds - loss: 0.004455433053047804 - acc: 0.8825543610301263 - val_loss: 0.43410807579991434 - val_acc: 0.88314\n"
     ]
    },
    {
     "name": "stdout",
     "output_type": "stream",
     "text": [
      "Epoch 51 / 201 - 88 seconds - loss: 0.004406621652247206 - acc: 0.8836476554907677 - val_loss: 0.42943084275483956 - val_acc: 0.88426\n"
     ]
    },
    {
     "name": "stdout",
     "output_type": "stream",
     "text": [
      "Epoch 52 / 201 - 89 seconds - loss: 0.0043599353231568265 - acc: 0.8848083318148687 - val_loss: 0.4249554974926743 - val_acc: 0.8852\n"
     ]
    },
    {
     "name": "stdout",
     "output_type": "stream",
     "text": [
      "Epoch 53 / 201 - 91 seconds - loss: 0.0043152327978231275 - acc: 0.8856472834669581 - val_loss: 0.420667951974095 - val_acc: 0.8861\n"
     ]
    },
    {
     "name": "stdout",
     "output_type": "stream",
     "text": [
      "Epoch 54 / 201 - 93 seconds - loss: 0.004272373166340737 - acc: 0.8864520696671525 - val_loss: 0.41655700152175845 - val_acc: 0.8869\n"
     ]
    },
    {
     "name": "stdout",
     "output_type": "stream",
     "text": [
      "Epoch 55 / 201 - 95 seconds - loss: 0.004231272043599514 - acc: 0.8870803343658892 - val_loss: 0.41261023681327774 - val_acc: 0.88754\n"
     ]
    },
    {
     "name": "stdout",
     "output_type": "stream",
     "text": [
      "Epoch 56 / 201 - 96 seconds - loss: 0.004191789636079383 - acc: 0.8877588982021379 - val_loss: 0.40881768932277035 - val_acc: 0.88814\n"
     ]
    },
    {
     "name": "stdout",
     "output_type": "stream",
     "text": [
      "Epoch 57 / 201 - 98 seconds - loss: 0.00415382364689711 - acc: 0.8886272701044704 - val_loss: 0.4051685265512768 - val_acc: 0.88882\n"
     ]
    },
    {
     "name": "stdout",
     "output_type": "stream",
     "text": [
      "Epoch 58 / 201 - 100 seconds - loss: 0.004117247297901208 - acc: 0.889203337585034 - val_loss: 0.4016555255143498 - val_acc: 0.88942\n"
     ]
    },
    {
     "name": "stdout",
     "output_type": "stream",
     "text": [
      "Epoch 59 / 201 - 101 seconds - loss: 0.004082087274988229 - acc: 0.889791742589893 - val_loss: 0.39827089866725207 - val_acc: 0.89026\n"
     ]
    },
    {
     "name": "stdout",
     "output_type": "stream",
     "text": [
      "Epoch 60 / 201 - 103 seconds - loss: 0.004048163352869273 - acc: 0.8906420827259476 - val_loss: 0.3950058121242209 - val_acc: 0.89088\n"
     ]
    },
    {
     "name": "stdout",
     "output_type": "stream",
     "text": [
      "Epoch 61 / 201 - 105 seconds - loss: 0.004015419642350738 - acc: 0.8912058126822157 - val_loss: 0.39185467931847623 - val_acc: 0.8916\n"
     ]
    },
    {
     "name": "stdout",
     "output_type": "stream",
     "text": [
      "Epoch 62 / 201 - 107 seconds - loss: 0.003983810185580033 - acc: 0.89203337585034 - val_loss: 0.38880989203762206 - val_acc: 0.89226\n"
     ]
    },
    {
     "name": "stdout",
     "output_type": "stream",
     "text": [
      "Epoch 63 / 201 - 108 seconds - loss: 0.003953244615413444 - acc: 0.8925838192419826 - val_loss: 0.3858646397465844 - val_acc: 0.89284\n"
     ]
    },
    {
     "name": "stdout",
     "output_type": "stream",
     "text": [
      "Epoch 64 / 201 - 110 seconds - loss: 0.003923676801230352 - acc: 0.8934161276117589 - val_loss: 0.38301430360231487 - val_acc: 0.89354\n"
     ]
    },
    {
     "name": "stdout",
     "output_type": "stream",
     "text": [
      "Epoch 65 / 201 - 112 seconds - loss: 0.003895072131870205 - acc: 0.8936828079446064 - val_loss: 0.3802535546654301 - val_acc: 0.89438\n"
     ]
    },
    {
     "name": "stdout",
     "output_type": "stream",
     "text": [
      "Epoch 66 / 201 - 113 seconds - loss: 0.0038673178783066977 - acc: 0.8947751533649173 - val_loss: 0.3775776317260109 - val_acc: 0.895\n"
     ]
    },
    {
     "name": "stdout",
     "output_type": "stream",
     "text": [
      "Epoch 67 / 201 - 115 seconds - loss: 0.0038404174410687337 - acc: 0.8955049653790088 - val_loss: 0.37498247564547504 - val_acc: 0.89554\n"
     ]
    },
    {
     "name": "stdout",
     "output_type": "stream",
     "text": [
      "Epoch 68 / 201 - 117 seconds - loss: 0.003814334360154142 - acc: 0.8957574101068999 - val_loss: 0.3724623914867821 - val_acc: 0.89614\n"
     ]
    },
    {
     "name": "stdout",
     "output_type": "stream",
     "text": [
      "Epoch 69 / 201 - 118 seconds - loss: 0.003788983227777517 - acc: 0.8964169931365403 - val_loss: 0.37001453478849927 - val_acc: 0.89686\n"
     ]
    },
    {
     "name": "stdout",
     "output_type": "stream",
     "text": [
      "Epoch 70 / 201 - 120 seconds - loss: 0.003764350626850294 - acc: 0.8970367164723031 - val_loss: 0.3676357085617156 - val_acc: 0.89742\n"
     ]
    },
    {
     "name": "stdout",
     "output_type": "stream",
     "text": [
      "Epoch 71 / 201 - 122 seconds - loss: 0.00374039178034359 - acc: 0.8977342611151603 - val_loss: 0.3653216270910422 - val_acc: 0.89794\n"
     ]
    },
    {
     "name": "stdout",
     "output_type": "stream",
     "text": [
      "Epoch 72 / 201 - 124 seconds - loss: 0.0037170991671825883 - acc: 0.898335003644315 - val_loss: 0.3630691760022286 - val_acc: 0.89844\n"
     ]
    },
    {
     "name": "stdout",
     "output_type": "stream",
     "text": [
      "Epoch 73 / 201 - 125 seconds - loss: 0.003694412965725993 - acc: 0.8984308567176871 - val_loss: 0.36087616653618537 - val_acc: 0.89878\n"
     ]
    },
    {
     "name": "stdout",
     "output_type": "stream",
     "text": [
      "Epoch 74 / 201 - 127 seconds - loss: 0.003672316621268305 - acc: 0.8990486819727891 - val_loss: 0.3587399414885561 - val_acc: 0.89936\n"
     ]
    },
    {
     "name": "stdout",
     "output_type": "stream",
     "text": [
      "Epoch 75 / 201 - 129 seconds - loss: 0.003650803660125556 - acc: 0.8994776482021379 - val_loss: 0.356657749616139 - val_acc: 0.89976\n"
     ]
    },
    {
     "name": "stdout",
     "output_type": "stream",
     "text": [
      "Epoch 76 / 201 - 130 seconds - loss: 0.0036298356103693845 - acc: 0.8998819393828961 - val_loss: 0.3546271187863681 - val_acc: 0.90022\n"
     ]
    },
    {
     "name": "stdout",
     "output_type": "stream",
     "text": [
      "Epoch 77 / 201 - 132 seconds - loss: 0.0036093470923830363 - acc: 0.9004561087827989 - val_loss: 0.3526454724351262 - val_acc: 0.9006\n"
     ]
    },
    {
     "name": "stdout",
     "output_type": "stream",
     "text": [
      "Epoch 78 / 201 - 134 seconds - loss: 0.0035893883106472083 - acc: 0.9008119989067055 - val_loss: 0.3507106365933361 - val_acc: 0.90106\n"
     ]
    },
    {
     "name": "stdout",
     "output_type": "stream",
     "text": [
      "Epoch 79 / 201 - 136 seconds - loss: 0.0035698470178979424 - acc: 0.9012675382653061 - val_loss: 0.34882053476634967 - val_acc: 0.9017\n"
     ]
    },
    {
     "name": "stdout",
     "output_type": "stream",
     "text": [
      "Epoch 80 / 201 - 137 seconds - loss: 0.0035507745544525165 - acc: 0.9017600901967929 - val_loss: 0.3469738037083539 - val_acc: 0.9021\n"
     ]
    },
    {
     "name": "stdout",
     "output_type": "stream",
     "text": [
      "Epoch 81 / 201 - 139 seconds - loss: 0.0035321502682575984 - acc: 0.9023598836856171 - val_loss: 0.34516819168257035 - val_acc: 0.90242\n"
     ]
    },
    {
     "name": "stdout",
     "output_type": "stream",
     "text": [
      "Epoch 82 / 201 - 141 seconds - loss: 0.003513937637046261 - acc: 0.902505086856171 - val_loss: 0.3434022505442286 - val_acc: 0.9029\n"
     ]
    },
    {
     "name": "stdout",
     "output_type": "stream",
     "text": [
      "Epoch 83 / 201 - 142 seconds - loss: 0.0034961105294004165 - acc: 0.9029834031827016 - val_loss: 0.3416742243286878 - val_acc: 0.90332\n"
     ]
    },
    {
     "name": "stdout",
     "output_type": "stream",
     "text": [
      "Epoch 84 / 201 - 144 seconds - loss: 0.0034786740402467245 - acc: 0.9035167638483965 - val_loss: 0.3399823101167014 - val_acc: 0.9038\n"
     ]
    },
    {
     "name": "stdout",
     "output_type": "stream",
     "text": [
      "Epoch 85 / 201 - 146 seconds - loss: 0.003461571574398191 - acc: 0.9039163098275025 - val_loss: 0.33832516373538757 - val_acc: 0.9043\n"
     ]
    },
    {
     "name": "stdout",
     "output_type": "stream",
     "text": [
      "Epoch 86 / 201 - 147 seconds - loss: 0.0034448355529295765 - acc: 0.9044686512998056 - val_loss: 0.3367012730799955 - val_acc: 0.90466\n"
     ]
    },
    {
     "name": "stdout",
     "output_type": "stream",
     "text": [
      "Epoch 87 / 201 - 149 seconds - loss: 0.0034284296120280036 - acc: 0.9050010629251701 - val_loss: 0.3351096019152628 - val_acc: 0.90506\n"
     ]
    },
    {
     "name": "stdout",
     "output_type": "stream",
     "text": [
      "Epoch 88 / 201 - 151 seconds - loss: 0.0034123431362969507 - acc: 0.9052335778061225 - val_loss: 0.3335487718827412 - val_acc: 0.9054\n"
     ]
    },
    {
     "name": "stdout",
     "output_type": "stream",
     "text": [
      "Epoch 89 / 201 - 153 seconds - loss: 0.00339656713237052 - acc: 0.9056559007531584 - val_loss: 0.3320176929293555 - val_acc: 0.9059\n"
     ]
    },
    {
     "name": "stdout",
     "output_type": "stream",
     "text": [
      "Epoch 90 / 201 - 154 seconds - loss: 0.0033810913175274125 - acc: 0.9060146379980563 - val_loss: 0.33051490929602706 - val_acc: 0.90626\n"
     ]
    },
    {
     "name": "stdout",
     "output_type": "stream",
     "text": [
      "Epoch 91 / 201 - 156 seconds - loss: 0.0033659014338977243 - acc: 0.9063439549927113 - val_loss: 0.32903981349955674 - val_acc: 0.90662\n"
     ]
    },
    {
     "name": "stdout",
     "output_type": "stream",
     "text": [
      "Epoch 92 / 201 - 158 seconds - loss: 0.0033509691738774347 - acc: 0.9068260674805637 - val_loss: 0.3275908268631289 - val_acc: 0.9069\n"
     ]
    },
    {
     "name": "stdout",
     "output_type": "stream",
     "text": [
      "Epoch 93 / 201 - 159 seconds - loss: 0.0033363220670163396 - acc: 0.9070433977162294 - val_loss: 0.326166788034034 - val_acc: 0.90714\n"
     ]
    },
    {
     "name": "stdout",
     "output_type": "stream",
     "text": [
      "Epoch 94 / 201 - 161 seconds - loss: 0.0033218936242966506 - acc: 0.9073632243075802 - val_loss: 0.32476716745650835 - val_acc: 0.90738\n"
     ]
    },
    {
     "name": "stdout",
     "output_type": "stream",
     "text": [
      "Epoch 95 / 201 - 163 seconds - loss: 0.003307776553274879 - acc: 0.9075397458090378 - val_loss: 0.3233909198795568 - val_acc: 0.9078\n"
     ]
    },
    {
     "name": "stdout",
     "output_type": "stream",
     "text": [
      "Epoch 96 / 201 - 165 seconds - loss: 0.0032938077012239788 - acc: 0.9078889926506316 - val_loss: 0.3220382605268637 - val_acc: 0.90816\n"
     ]
    },
    {
     "name": "stdout",
     "output_type": "stream",
     "text": [
      "Epoch 97 / 201 - 166 seconds - loss: 0.0032801418118188538 - acc: 0.9083198569606414 - val_loss: 0.3207081392413665 - val_acc: 0.90842\n"
     ]
    },
    {
     "name": "stdout",
     "output_type": "stream",
     "text": [
      "Epoch 98 / 201 - 168 seconds - loss: 0.0032666656396812457 - acc: 0.9087782434402333 - val_loss: 0.31939939699287256 - val_acc: 0.90882\n"
     ]
    },
    {
     "name": "stdout",
     "output_type": "stream",
     "text": [
      "Epoch 99 / 201 - 170 seconds - loss: 0.0032534247531968647 - acc: 0.9089262937317785 - val_loss: 0.3181113385905621 - val_acc: 0.90918\n"
     ]
    },
    {
     "name": "stdout",
     "output_type": "stream",
     "text": [
      "Epoch 100 / 201 - 172 seconds - loss: 0.0032403911797874705 - acc: 0.9092736424927113 - val_loss: 0.31684301432757417 - val_acc: 0.90946\n"
     ]
    },
    {
     "name": "stdout",
     "output_type": "stream",
     "text": [
      "Epoch 101 / 201 - 173 seconds - loss: 0.0032275295158789496 - acc: 0.9096437682215744 - val_loss: 0.31559381275121856 - val_acc: 0.90982\n"
     ]
    },
    {
     "name": "stdout",
     "output_type": "stream",
     "text": [
      "Epoch 102 / 201 - 175 seconds - loss: 0.0032148814469155906 - acc: 0.9098221878036928 - val_loss: 0.31436290379223253 - val_acc: 0.9101\n"
     ]
    },
    {
     "name": "stdout",
     "output_type": "stream",
     "text": [
      "Epoch 103 / 201 - 177 seconds - loss: 0.0032024100460137784 - acc: 0.9101904154518949 - val_loss: 0.3131502665520556 - val_acc: 0.9102\n"
     ]
    },
    {
     "name": "stdout",
     "output_type": "stream",
     "text": [
      "Epoch 104 / 201 - 179 seconds - loss: 0.0031901368001843655 - acc: 0.9102596953960155 - val_loss: 0.3119554340530555 - val_acc: 0.91062\n"
     ]
    },
    {
     "name": "stdout",
     "output_type": "stream",
     "text": [
      "Epoch 105 / 201 - 180 seconds - loss: 0.003178021452971019 - acc: 0.9106801202623908 - val_loss: 0.31077781719345665 - val_acc: 0.91084\n"
     ]
    },
    {
     "name": "stdout",
     "output_type": "stream",
     "text": [
      "Epoch 106 / 201 - 182 seconds - loss: 0.0031660924537264285 - acc: 0.9108471513605442 - val_loss: 0.3096170170861619 - val_acc: 0.91108\n"
     ]
    },
    {
     "name": "stdout",
     "output_type": "stream",
     "text": [
      "Epoch 107 / 201 - 184 seconds - loss: 0.003154339009786204 - acc: 0.9111897549198251 - val_loss: 0.3084719533483724 - val_acc: 0.9113\n"
     ]
    },
    {
     "name": "stdout",
     "output_type": "stream",
     "text": [
      "Epoch 108 / 201 - 186 seconds - loss: 0.0031427120550707637 - acc: 0.9114592823736638 - val_loss: 0.3073425275786627 - val_acc: 0.9116\n"
     ]
    },
    {
     "name": "stdout",
     "output_type": "stream",
     "text": [
      "Epoch 109 / 201 - 187 seconds - loss: 0.0031312799445181445 - acc: 0.9116842049319728 - val_loss: 0.30622839445525035 - val_acc: 0.91188\n"
     ]
    },
    {
     "name": "stdout",
     "output_type": "stream",
     "text": [
      "Epoch 110 / 201 - 189 seconds - loss: 0.003119996917996494 - acc: 0.9121587250971818 - val_loss: 0.3051295828918194 - val_acc: 0.9122\n"
     ]
    },
    {
     "name": "stdout",
     "output_type": "stream",
     "text": [
      "Epoch 111 / 201 - 191 seconds - loss: 0.0031088543677591394 - acc: 0.9124197111880467 - val_loss: 0.3040454859826083 - val_acc: 0.9124\n"
     ]
    },
    {
     "name": "stdout",
     "output_type": "stream",
     "text": [
      "Epoch 112 / 201 - 193 seconds - loss: 0.0030978690147861797 - acc: 0.9124149659863946 - val_loss: 0.30297577315575225 - val_acc: 0.91266\n"
     ]
    },
    {
     "name": "stdout",
     "output_type": "stream",
     "text": [
      "Epoch 113 / 201 - 194 seconds - loss: 0.003087008936872592 - acc: 0.9127651618683188 - val_loss: 0.30191962818857804 - val_acc: 0.9129\n"
     ]
    },
    {
     "name": "stdout",
     "output_type": "stream",
     "text": [
      "Epoch 114 / 201 - 196 seconds - loss: 0.0030762902056285265 - acc: 0.9130242498785228 - val_loss: 0.30087684725444913 - val_acc: 0.91314\n"
     ]
    },
    {
     "name": "stdout",
     "output_type": "stream",
     "text": [
      "Epoch 115 / 201 - 198 seconds - loss: 0.0030657242955849386 - acc: 0.913260560920797 - val_loss: 0.29984703078551567 - val_acc: 0.91346\n"
     ]
    },
    {
     "name": "stdout",
     "output_type": "stream",
     "text": [
      "Epoch 116 / 201 - 200 seconds - loss: 0.0030552890974884753 - acc: 0.9134000698493684 - val_loss: 0.29883030115713644 - val_acc: 0.91374\n"
     ]
    },
    {
     "name": "stdout",
     "output_type": "stream",
     "text": [
      "Epoch 117 / 201 - 201 seconds - loss: 0.0030449876425241054 - acc: 0.9136363808916423 - val_loss: 0.29782649534925554 - val_acc: 0.91382\n"
     ]
    },
    {
     "name": "stdout",
     "output_type": "stream",
     "text": [
      "Epoch 118 / 201 - 203 seconds - loss: 0.0030348006894278527 - acc: 0.9140321307094267 - val_loss: 0.29683460562574704 - val_acc: 0.91402\n"
     ]
    },
    {
     "name": "stdout",
     "output_type": "stream",
     "text": [
      "Epoch 119 / 201 - 205 seconds - loss: 0.0030247284839252635 - acc: 0.914237123420797 - val_loss: 0.2958541839825799 - val_acc: 0.91434\n"
     ]
    },
    {
     "name": "stdout",
     "output_type": "stream",
     "text": [
      "Epoch 120 / 201 - 207 seconds - loss: 0.003014786249845431 - acc: 0.9143937150753159 - val_loss: 0.29488534997389265 - val_acc: 0.91462\n"
     ]
    },
    {
     "name": "stdout",
     "output_type": "stream",
     "text": [
      "Epoch 121 / 201 - 208 seconds - loss: 0.0030049552923203 - acc: 0.9147258791909622 - val_loss: 0.29392804867429534 - val_acc: 0.915\n"
     ]
    },
    {
     "name": "stdout",
     "output_type": "stream",
     "text": [
      "Epoch 122 / 201 - 210 seconds - loss: 0.002995240809632025 - acc: 0.9151083424441205 - val_loss: 0.2929816393997861 - val_acc: 0.91526\n"
     ]
    },
    {
     "name": "stdout",
     "output_type": "stream",
     "text": [
      "Epoch 123 / 201 - 212 seconds - loss: 0.0029856331586280704 - acc: 0.9154044430272109 - val_loss: 0.29204586757930556 - val_acc: 0.91546\n"
     ]
    },
    {
     "name": "stdout",
     "output_type": "stream",
     "text": [
      "Epoch 124 / 201 - 214 seconds - loss: 0.0029761567226929096 - acc: 0.9156056395772595 - val_loss: 0.2911208929189419 - val_acc: 0.91582\n"
     ]
    },
    {
     "name": "stdout",
     "output_type": "stream",
     "text": [
      "Epoch 125 / 201 - 215 seconds - loss: 0.0029667550306743265 - acc: 0.916085853984451 - val_loss: 0.2902060650401649 - val_acc: 0.91612\n"
     ]
    },
    {
     "name": "stdout",
     "output_type": "stream",
     "text": [
      "Epoch 126 / 201 - 217 seconds - loss: 0.002957492088516613 - acc: 0.9161731656948494 - val_loss: 0.2893009431522883 - val_acc: 0.91638\n"
     ]
    },
    {
     "name": "stdout",
     "output_type": "stream",
     "text": [
      "Epoch 127 / 201 - 219 seconds - loss: 0.0029482807992547854 - acc: 0.9164891961248786 - val_loss: 0.28840575274218955 - val_acc: 0.91662\n"
     ]
    },
    {
     "name": "stdout",
     "output_type": "stream",
     "text": [
      "Epoch 128 / 201 - 220 seconds - loss: 0.0029391994784646784 - acc: 0.916817564079203 - val_loss: 0.287520074347196 - val_acc: 0.9168\n"
     ]
    },
    {
     "name": "stdout",
     "output_type": "stream",
     "text": [
      "Epoch 129 / 201 - 222 seconds - loss: 0.002930198409539339 - acc: 0.9168792517006803 - val_loss: 0.28664360662997385 - val_acc: 0.917\n"
     ]
    },
    {
     "name": "stdout",
     "output_type": "stream",
     "text": [
      "Epoch 130 / 201 - 224 seconds - loss: 0.0029213125671864798 - acc: 0.9170757030490767 - val_loss: 0.2857763150317123 - val_acc: 0.91722\n"
     ]
    },
    {
     "name": "stdout",
     "output_type": "stream",
     "text": [
      "Epoch 131 / 201 - 226 seconds - loss: 0.0029124980691659303 - acc: 0.9172636130344994 - val_loss: 0.28491824260058246 - val_acc: 0.91746\n"
     ]
    },
    {
     "name": "stdout",
     "output_type": "stream",
     "text": [
      "Epoch 132 / 201 - 227 seconds - loss: 0.0029037837303658096 - acc: 0.9175359876093295 - val_loss: 0.2840686374059285 - val_acc: 0.91774\n"
     ]
    },
    {
     "name": "stdout",
     "output_type": "stream",
     "text": [
      "Epoch 133 / 201 - 229 seconds - loss: 0.002895155702515449 - acc: 0.9178140564261418 - val_loss: 0.28322729982185285 - val_acc: 0.91804\n"
     ]
    },
    {
     "name": "stdout",
     "output_type": "stream",
     "text": [
      "Epoch 134 / 201 - 231 seconds - loss: 0.0028866226249241516 - acc: 0.9181016156462585 - val_loss: 0.2823945832966324 - val_acc: 0.91826\n"
     ]
    },
    {
     "name": "stdout",
     "output_type": "stream",
     "text": [
      "Epoch 135 / 201 - 233 seconds - loss: 0.002878160328976938 - acc: 0.918413849914966 - val_loss: 0.2815701617542987 - val_acc: 0.9185\n"
     ]
    },
    {
     "name": "stdout",
     "output_type": "stream",
     "text": [
      "Epoch 136 / 201 - 235 seconds - loss: 0.00286979619315075 - acc: 0.9185030597060253 - val_loss: 0.28075372127728193 - val_acc: 0.9187\n"
     ]
    },
    {
     "name": "stdout",
     "output_type": "stream",
     "text": [
      "Epoch 137 / 201 - 237 seconds - loss: 0.0028615006936889096 - acc: 0.9188048545310982 - val_loss: 0.27994463669838915 - val_acc: 0.91898\n"
     ]
    },
    {
     "name": "stdout",
     "output_type": "stream",
     "text": [
      "Epoch 138 / 201 - 239 seconds - loss: 0.0028532920506285694 - acc: 0.91892253553207 - val_loss: 0.2791432964662807 - val_acc: 0.9192\n"
     ]
    },
    {
     "name": "stdout",
     "output_type": "stream",
     "text": [
      "Epoch 139 / 201 - 240 seconds - loss: 0.0028451496235964843 - acc: 0.9192319226797863 - val_loss: 0.27834945506994446 - val_acc: 0.91926\n"
     ]
    },
    {
     "name": "stdout",
     "output_type": "stream",
     "text": [
      "Epoch 140 / 201 - 242 seconds - loss: 0.0028370845887212945 - acc: 0.9193923104956269 - val_loss: 0.27756285680002685 - val_acc: 0.91946\n"
     ]
    },
    {
     "name": "stdout",
     "output_type": "stream",
     "text": [
      "Epoch 141 / 201 - 244 seconds - loss: 0.0028291032477612216 - acc: 0.9195204309402333 - val_loss: 0.2767827959865083 - val_acc: 0.91974\n"
     ]
    },
    {
     "name": "stdout",
     "output_type": "stream",
     "text": [
      "Epoch 142 / 201 - 246 seconds - loss: 0.002821174145404397 - acc: 0.9198307671282799 - val_loss: 0.276009473622761 - val_acc: 0.92\n"
     ]
    },
    {
     "name": "stdout",
     "output_type": "stream",
     "text": [
      "Epoch 143 / 201 - 248 seconds - loss: 0.0028133061179475443 - acc: 0.9201088359450924 - val_loss: 0.2752430923940474 - val_acc: 0.9203\n"
     ]
    },
    {
     "name": "stdout",
     "output_type": "stream",
     "text": [
      "Epoch 144 / 201 - 250 seconds - loss: 0.002805532722982455 - acc: 0.9203479941083577 - val_loss: 0.2744833520580454 - val_acc: 0.92046\n"
     ]
    },
    {
     "name": "stdout",
     "output_type": "stream",
     "text": [
      "Epoch 145 / 201 - 252 seconds - loss: 0.0027978037781524073 - acc: 0.9203128796161322 - val_loss: 0.27373033925338336 - val_acc: 0.92064\n"
     ]
    },
    {
     "name": "stdout",
     "output_type": "stream",
     "text": [
      "Epoch 146 / 201 - 254 seconds - loss: 0.0027901702697813867 - acc: 0.9206754130223519 - val_loss: 0.2729841059836242 - val_acc: 0.92082\n"
     ]
    },
    {
     "name": "stdout",
     "output_type": "stream",
     "text": [
      "Epoch 147 / 201 - 255 seconds - loss: 0.0027825763412811766 - acc: 0.9208339027575316 - val_loss: 0.27224411749446303 - val_acc: 0.92096\n"
     ]
    },
    {
     "name": "stdout",
     "output_type": "stream",
     "text": [
      "Epoch 148 / 201 - 257 seconds - loss: 0.0027750522052323438 - acc: 0.9210332012269195 - val_loss: 0.2715101193930469 - val_acc: 0.92118\n"
     ]
    },
    {
     "name": "stdout",
     "output_type": "stream",
     "text": [
      "Epoch 149 / 201 - 259 seconds - loss: 0.0027675869906819937 - acc: 0.9213349960519922 - val_loss: 0.2707822322238262 - val_acc: 0.92134\n"
     ]
    },
    {
     "name": "stdout",
     "output_type": "stream",
     "text": [
      "Epoch 150 / 201 - 261 seconds - loss: 0.0027601981522107108 - acc: 0.9213701105442177 - val_loss: 0.2700606355771783 - val_acc: 0.92168\n"
     ]
    },
    {
     "name": "stdout",
     "output_type": "stream",
     "text": [
      "Epoch 151 / 201 - 262 seconds - loss: 0.0027528695370500045 - acc: 0.9217952806122449 - val_loss: 0.2693451156861937 - val_acc: 0.9219\n"
     ]
    },
    {
     "name": "stdout",
     "output_type": "stream",
     "text": [
      "Epoch 152 / 201 - 264 seconds - loss: 0.0027456088956682636 - acc: 0.9218731019193392 - val_loss: 0.26863563481295955 - val_acc: 0.92196\n"
     ]
    },
    {
     "name": "stdout",
     "output_type": "stream",
     "text": [
      "Epoch 153 / 201 - 266 seconds - loss: 0.002738372172534486 - acc: 0.922031591654519 - val_loss: 0.2679317366029619 - val_acc: 0.9221\n"
     ]
    },
    {
     "name": "stdout",
     "output_type": "stream",
     "text": [
      "Epoch 154 / 201 - 268 seconds - loss: 0.002731236506825914 - acc: 0.9221824890670555 - val_loss: 0.26723347205590553 - val_acc: 0.92228\n"
     ]
    },
    {
     "name": "stdout",
     "output_type": "stream",
     "text": [
      "Epoch 155 / 201 - 269 seconds - loss: 0.002724147215786697 - acc: 0.9226114552964043 - val_loss: 0.26654081465671636 - val_acc: 0.92264\n"
     ]
    },
    {
     "name": "stdout",
     "output_type": "stream",
     "text": [
      "Epoch 156 / 201 - 271 seconds - loss: 0.0027170874796347143 - acc: 0.9226399265063169 - val_loss: 0.2658537567385558 - val_acc: 0.92282\n"
     ]
    },
    {
     "name": "stdout",
     "output_type": "stream",
     "text": [
      "Epoch 157 / 201 - 273 seconds - loss: 0.0027101082802538814 - acc: 0.9230005618318756 - val_loss: 0.26517192083087676 - val_acc: 0.92314\n"
     ]
    },
    {
     "name": "stdout",
     "output_type": "stream",
     "text": [
      "Epoch 158 / 201 - 275 seconds - loss: 0.002703177923794157 - acc: 0.9231789814139942 - val_loss: 0.2644954580333459 - val_acc: 0.92342\n"
     ]
    },
    {
     "name": "stdout",
     "output_type": "stream",
     "text": [
      "Epoch 159 / 201 - 276 seconds - loss: 0.0026963279063598102 - acc: 0.9233858722060253 - val_loss: 0.2638239896609371 - val_acc: 0.9236\n"
     ]
    },
    {
     "name": "stdout",
     "output_type": "stream",
     "text": [
      "Epoch 160 / 201 - 278 seconds - loss: 0.002689475180146252 - acc: 0.9235348715379009 - val_loss: 0.26315737368593417 - val_acc: 0.9238\n"
     ]
    },
    {
     "name": "stdout",
     "output_type": "stream",
     "text": [
      "Epoch 161 / 201 - 280 seconds - loss: 0.002682697081063614 - acc: 0.9238860164601556 - val_loss: 0.2624957872896126 - val_acc: 0.92392\n"
     ]
    },
    {
     "name": "stdout",
     "output_type": "stream",
     "text": [
      "Epoch 162 / 201 - 281 seconds - loss: 0.002675957487394374 - acc: 0.9240226782677358 - val_loss: 0.26183946390840385 - val_acc: 0.92418\n"
     ]
    },
    {
     "name": "stdout",
     "output_type": "stream",
     "text": [
      "Epoch 163 / 201 - 283 seconds - loss: 0.002669292945174295 - acc: 0.9242969509232264 - val_loss: 0.2611883400604704 - val_acc: 0.92434\n"
     ]
    },
    {
     "name": "stdout",
     "output_type": "stream",
     "text": [
      "Epoch 164 / 201 - 285 seconds - loss: 0.0026626797892282377 - acc: 0.9244649310617105 - val_loss: 0.260541861317614 - val_acc: 0.92458\n"
     ]
    },
    {
     "name": "stdout",
     "output_type": "stream",
     "text": [
      "Epoch 165 / 201 - 287 seconds - loss: 0.00265609441149597 - acc: 0.9245114340379009 - val_loss: 0.25989995377600034 - val_acc: 0.92488\n"
     ]
    },
    {
     "name": "stdout",
     "output_type": "stream",
     "text": [
      "Epoch 166 / 201 - 288 seconds - loss: 0.002649575273652482 - acc: 0.9250742149538387 - val_loss: 0.25926269788640727 - val_acc: 0.9252\n"
     ]
    },
    {
     "name": "stdout",
     "output_type": "stream",
     "text": [
      "Epoch 167 / 201 - 290 seconds - loss: 0.0026430931068587293 - acc: 0.9252507364552964 - val_loss: 0.25862962750741314 - val_acc: 0.92538\n"
     ]
    },
    {
     "name": "stdout",
     "output_type": "stream",
     "text": [
      "Epoch 168 / 201 - 292 seconds - loss: 0.0026366571996231654 - acc: 0.9252981884718173 - val_loss: 0.2580013418880715 - val_acc: 0.92556\n"
     ]
    },
    {
     "name": "stdout",
     "output_type": "stream",
     "text": [
      "Epoch 169 / 201 - 294 seconds - loss: 0.002630257210716754 - acc: 0.9256521805150631 - val_loss: 0.25737779364154106 - val_acc: 0.9258\n"
     ]
    },
    {
     "name": "stdout",
     "output_type": "stream",
     "text": [
      "Epoch 170 / 201 - 295 seconds - loss: 0.002623921174398613 - acc: 0.9258505299441205 - val_loss: 0.25675828143899665 - val_acc: 0.9259\n"
     ]
    },
    {
     "name": "stdout",
     "output_type": "stream",
     "text": [
      "Epoch 171 / 201 - 297 seconds - loss: 0.002617632548916831 - acc: 0.9258571732264335 - val_loss: 0.25614341217135383 - val_acc: 0.926\n"
     ]
    },
    {
     "name": "stdout",
     "output_type": "stream",
     "text": [
      "Epoch 172 / 201 - 299 seconds - loss: 0.00261138771840734 - acc: 0.9260906371477162 - val_loss: 0.2555327465681066 - val_acc: 0.9262\n"
     ]
    },
    {
     "name": "stdout",
     "output_type": "stream",
     "text": [
      "Epoch 173 / 201 - 300 seconds - loss: 0.0026051676154807374 - acc: 0.9262880375364432 - val_loss: 0.25492595889494213 - val_acc: 0.92628\n"
     ]
    },
    {
     "name": "stdout",
     "output_type": "stream",
     "text": [
      "Epoch 174 / 201 - 302 seconds - loss: 0.0025990057043523717 - acc: 0.9263146106656949 - val_loss: 0.2543233213623377 - val_acc: 0.92646\n"
     ]
    },
    {
     "name": "stdout",
     "output_type": "stream",
     "text": [
      "Epoch 175 / 201 - 304 seconds - loss: 0.0025928718294053158 - acc: 0.9267492711370262 - val_loss: 0.2537245828804966 - val_acc: 0.92668\n"
     ]
    },
    {
     "name": "stdout",
     "output_type": "stream",
     "text": [
      "Epoch 176 / 201 - 305 seconds - loss: 0.0025867791583725963 - acc: 0.9267663538629738 - val_loss: 0.25312983794719496 - val_acc: 0.92682\n"
     ]
    },
    {
     "name": "stdout",
     "output_type": "stream",
     "text": [
      "Epoch 177 / 201 - 307 seconds - loss: 0.0025807125581763382 - acc: 0.9268944743075802 - val_loss: 0.2525390165115522 - val_acc: 0.92702\n"
     ]
    },
    {
     "name": "stdout",
     "output_type": "stream",
     "text": [
      "Epoch 178 / 201 - 309 seconds - loss: 0.002574702011246691 - acc: 0.927046320760447 - val_loss: 0.2519519904516056 - val_acc: 0.92716\n"
     ]
    },
    {
     "name": "stdout",
     "output_type": "stream",
     "text": [
      "Epoch 179 / 201 - 311 seconds - loss: 0.002568751776188459 - acc: 0.9273158482142857 - val_loss: 0.25136865756849414 - val_acc: 0.9273\n"
     ]
    },
    {
     "name": "stdout",
     "output_type": "stream",
     "text": [
      "Epoch 180 / 201 - 312 seconds - loss: 0.0025627910836502938 - acc: 0.9274676946671525 - val_loss: 0.2507890643931701 - val_acc: 0.92744\n"
     ]
    },
    {
     "name": "stdout",
     "output_type": "stream",
     "text": [
      "Epoch 181 / 201 - 314 seconds - loss: 0.00255692504621822 - acc: 0.9275037581997084 - val_loss: 0.2502132637328738 - val_acc: 0.9276\n"
     ]
    },
    {
     "name": "stdout",
     "output_type": "stream",
     "text": [
      "Epoch 182 / 201 - 316 seconds - loss: 0.0025510488272829186 - acc: 0.9276869229834791 - val_loss: 0.24964123678850844 - val_acc: 0.92764\n"
     ]
    },
    {
     "name": "stdout",
     "output_type": "stream",
     "text": [
      "Epoch 183 / 201 - 318 seconds - loss: 0.0025452440737113026 - acc: 0.927559751579203 - val_loss: 0.24907310298332036 - val_acc: 0.92774\n"
     ]
    },
    {
     "name": "stdout",
     "output_type": "stream",
     "text": [
      "Epoch 184 / 201 - 319 seconds - loss: 0.0025394619606763703 - acc: 0.9277618971695821 - val_loss: 0.2485084414629342 - val_acc: 0.9278\n"
     ]
    },
    {
     "name": "stdout",
     "output_type": "stream",
     "text": [
      "Epoch 185 / 201 - 321 seconds - loss: 0.0025337061607515862 - acc: 0.9278302280733722 - val_loss: 0.2479471262464411 - val_acc: 0.9279\n"
     ]
    },
    {
     "name": "stdout",
     "output_type": "stream",
     "text": [
      "Epoch 186 / 201 - 323 seconds - loss: 0.002527988658689087 - acc: 0.9279830235665695 - val_loss: 0.24738952528558855 - val_acc: 0.92816\n"
     ]
    },
    {
     "name": "stdout",
     "output_type": "stream",
     "text": [
      "Epoch 187 / 201 - 324 seconds - loss: 0.0025223483832211473 - acc: 0.9282430606171039 - val_loss: 0.24683536332385414 - val_acc: 0.92842\n"
     ]
    },
    {
     "name": "stdout",
     "output_type": "stream",
     "text": [
      "Epoch 188 / 201 - 326 seconds - loss: 0.0025166903657036273 - acc: 0.9285211294339164 - val_loss: 0.24628474283620966 - val_acc: 0.92858\n"
     ]
    },
    {
     "name": "stdout",
     "output_type": "stream",
     "text": [
      "Epoch 189 / 201 - 328 seconds - loss: 0.002511096819991247 - acc: 0.9285277727162294 - val_loss: 0.2457374637218672 - val_acc: 0.92864\n"
     ]
    },
    {
     "name": "stdout",
     "output_type": "stream",
     "text": [
      "Epoch 190 / 201 - 330 seconds - loss: 0.0025055329147271317 - acc: 0.928722325983965 - val_loss: 0.24519334233214618 - val_acc: 0.9288\n"
     ]
    },
    {
     "name": "stdout",
     "output_type": "stream",
     "text": [
      "Epoch 191 / 201 - 332 seconds - loss: 0.002499985710749282 - acc: 0.9289719235908649 - val_loss: 0.24465261512904982 - val_acc: 0.92904\n"
     ]
    },
    {
     "name": "stdout",
     "output_type": "stream",
     "text": [
      "Epoch 192 / 201 - 333 seconds - loss: 0.002494497002934826 - acc: 0.9290079871234208 - val_loss: 0.2441152103360932 - val_acc: 0.92916\n"
     ]
    },
    {
     "name": "stdout",
     "output_type": "stream",
     "text": [
      "Epoch 193 / 201 - 335 seconds - loss: 0.0024890109524869416 - acc: 0.9291788143828961 - val_loss: 0.24358077230833267 - val_acc: 0.92932\n"
     ]
    },
    {
     "name": "stdout",
     "output_type": "stream",
     "text": [
      "Epoch 194 / 201 - 337 seconds - loss: 0.0024835593223848165 - acc: 0.9293999407798834 - val_loss: 0.24304924456744115 - val_acc: 0.92948\n"
     ]
    },
    {
     "name": "stdout",
     "output_type": "stream",
     "text": [
      "Epoch 195 / 201 - 339 seconds - loss: 0.0024781759141448193 - acc: 0.9295982902089407 - val_loss: 0.24252083419035325 - val_acc: 0.92962\n"
     ]
    },
    {
     "name": "stdout",
     "output_type": "stream",
     "text": [
      "Epoch 196 / 201 - 340 seconds - loss: 0.002472805877192288 - acc: 0.9297994867589893 - val_loss: 0.24199565492066907 - val_acc: 0.9299\n"
     ]
    },
    {
     "name": "stdout",
     "output_type": "stream",
     "text": [
      "Epoch 197 / 201 - 342 seconds - loss: 0.0024674581929012528 - acc: 0.9298962888726919 - val_loss: 0.24147356479461843 - val_acc: 0.93006\n"
     ]
    },
    {
     "name": "stdout",
     "output_type": "stream",
     "text": [
      "Epoch 198 / 201 - 344 seconds - loss: 0.0024621226130989654 - acc: 0.9300139698736638 - val_loss: 0.24095456102740087 - val_acc: 0.93022\n"
     ]
    },
    {
     "name": "stdout",
     "output_type": "stream",
     "text": [
      "Epoch 199 / 201 - 346 seconds - loss: 0.002456884650898185 - acc: 0.9302056760204082 - val_loss: 0.24043827363159986 - val_acc: 0.93034\n"
     ]
    },
    {
     "name": "stdout",
     "output_type": "stream",
     "text": [
      "Epoch 200 / 201 - 347 seconds - loss: 0.0024516126033849086 - acc: 0.9304752034742468 - val_loss: 0.2399252171162377 - val_acc: 0.93054\n"
     ]
    },
    {
     "name": "stdout",
     "output_type": "stream",
     "text": [
      "Epoch 1 / 201 - 2 seconds - loss: 0.023397137038888616 - acc: 0.11362385355928085 - val_loss: 2.2675860197263935 - val_acc: 0.2414\n"
     ]
    },
    {
     "name": "stdout",
     "output_type": "stream",
     "text": [
      "Epoch 2 / 201 - 4 seconds - loss: 0.02288449112489786 - acc: 0.39889588647959184 - val_loss: 2.21681946617038 - val_acc: 0.52158\n"
     ]
    },
    {
     "name": "stdout",
     "output_type": "stream",
     "text": [
      "Epoch 3 / 201 - 5 seconds - loss: 0.022350761545037876 - acc: 0.581458978680758 - val_loss: 2.1624997420766334 - val_acc: 0.62154\n"
     ]
    },
    {
     "name": "stdout",
     "output_type": "stream",
     "text": [
      "Epoch 4 / 201 - 7 seconds - loss: 0.021768615097218117 - acc: 0.6408167061467444 - val_loss: 2.1023166551278605 - val_acc: 0.6528\n"
     ]
    },
    {
     "name": "stdout",
     "output_type": "stream",
     "text": [
      "Epoch 5 / 201 - 9 seconds - loss: 0.02111767663976176 - acc: 0.6572123268950438 - val_loss: 2.034622784255766 - val_acc: 0.66098\n"
     ]
    },
    {
     "name": "stdout",
     "output_type": "stream",
     "text": [
      "Epoch 6 / 201 - 11 seconds - loss: 0.020385134190685966 - acc: 0.6621236106049562 - val_loss: 1.9585939737967308 - val_acc: 0.66132\n"
     ]
    },
    {
     "name": "stdout",
     "output_type": "stream",
     "text": [
      "Epoch 7 / 201 - 12 seconds - loss: 0.019568161007932225 - acc: 0.6604096437682215 - val_loss: 1.8745862104267184 - val_acc: 0.65896\n"
     ]
    },
    {
     "name": "stdout",
     "output_type": "stream",
     "text": [
      "Epoch 8 / 201 - 14 seconds - loss: 0.018677484281032556 - acc: 0.6579411898688047 - val_loss: 1.7843702680660816 - val_acc: 0.65792\n"
     ]
    },
    {
     "name": "stdout",
     "output_type": "stream",
     "text": [
      "Epoch 9 / 201 - 16 seconds - loss: 0.01773801213937768 - acc: 0.6583511752915452 - val_loss: 1.6909566005642012 - val_acc: 0.65922\n"
     ]
    },
    {
     "name": "stdout",
     "output_type": "stream",
     "text": [
      "Epoch 10 / 201 - 17 seconds - loss: 0.016782088301530662 - acc: 0.6619081784499514 - val_loss: 1.5974865156617672 - val_acc: 0.66388\n"
     ]
    },
    {
     "name": "stdout",
     "output_type": "stream",
     "text": [
      "Epoch 11 / 201 - 19 seconds - loss: 0.01583850817143293 - acc: 0.6676584138119533 - val_loss: 1.5063430351028122 - val_acc: 0.67128\n"
     ]
    },
    {
     "name": "stdout",
     "output_type": "stream",
     "text": [
      "Epoch 12 / 201 - 21 seconds - loss: 0.014926690026512177 - acc: 0.6761694074951409 - val_loss: 1.4189903697948432 - val_acc: 0.6812\n"
     ]
    },
    {
     "name": "stdout",
     "output_type": "stream",
     "text": [
      "Epoch 13 / 201 - 23 seconds - loss: 0.014058365608633607 - acc: 0.6867758822278911 - val_loss: 1.336324010878114 - val_acc: 0.69324\n"
     ]
    },
    {
     "name": "stdout",
     "output_type": "stream",
     "text": [
      "Epoch 14 / 201 - 25 seconds - loss: 0.013241316016988377 - acc: 0.6998460656584062 - val_loss: 1.2589902938603228 - val_acc: 0.7055\n"
     ]
    },
    {
     "name": "stdout",
     "output_type": "stream",
     "text": [
      "Epoch 15 / 201 - 26 seconds - loss: 0.01248107364873844 - acc: 0.7111709639212828 - val_loss: 1.18742364133214 - val_acc: 0.71802\n"
     ]
    },
    {
     "name": "stdout",
     "output_type": "stream",
     "text": [
      "Epoch 16 / 201 - 28 seconds - loss: 0.011780596882825154 - acc: 0.7246179163629738 - val_loss: 1.121744940325705 - val_acc: 0.7315\n"
     ]
    },
    {
     "name": "stdout",
     "output_type": "stream",
     "text": [
      "Epoch 17 / 201 - 30 seconds - loss: 0.011139419341999766 - acc: 0.7380876457725948 - val_loss: 1.061768185623776 - val_acc: 0.7444\n"
     ]
    },
    {
     "name": "stdout",
     "output_type": "stream",
     "text": [
      "Epoch 18 / 201 - 32 seconds - loss: 0.010554837012426257 - acc: 0.7514577259475218 - val_loss: 1.0071534862426352 - val_acc: 0.75714\n"
     ]
    },
    {
     "name": "stdout",
     "output_type": "stream",
     "text": [
      "Epoch 19 / 201 - 34 seconds - loss: 0.010022830970611785 - acc: 0.7628613945578232 - val_loss: 0.9574671028134175 - val_acc: 0.769\n"
     ]
    },
    {
     "name": "stdout",
     "output_type": "stream",
     "text": [
      "Epoch 20 / 201 - 36 seconds - loss: 0.00953872837113885 - acc: 0.7750698493683188 - val_loss: 0.9122409493101832 - val_acc: 0.78044\n"
     ]
    },
    {
     "name": "stdout",
     "output_type": "stream",
     "text": [
      "Epoch 21 / 201 - 37 seconds - loss: 0.009098056945404717 - acc: 0.7850025054664723 - val_loss: 0.8710678681562117 - val_acc: 0.7901\n"
     ]
    },
    {
     "name": "stdout",
     "output_type": "stream",
     "text": [
      "Epoch 22 / 201 - 39 seconds - loss: 0.00869687521865591 - acc: 0.7949066903547133 - val_loss: 0.833582748434132 - val_acc: 0.79952\n"
     ]
    },
    {
     "name": "stdout",
     "output_type": "stream",
     "text": [
      "Epoch 23 / 201 - 41 seconds - loss: 0.00833155113189237 - acc: 0.8036568422011663 - val_loss: 0.7994493738359327 - val_acc: 0.80818\n"
     ]
    },
    {
     "name": "stdout",
     "output_type": "stream",
     "text": [
      "Epoch 24 / 201 - 43 seconds - loss: 0.007998829218068307 - acc: 0.8120833712949466 - val_loss: 0.7683464411730081 - val_acc: 0.81586\n"
     ]
    },
    {
     "name": "stdout",
     "output_type": "stream",
     "text": [
      "Epoch 25 / 201 - 45 seconds - loss: 0.007695492843059034 - acc: 0.8196851843415938 - val_loss: 0.7399796514467956 - val_acc: 0.82336\n"
     ]
    },
    {
     "name": "stdout",
     "output_type": "stream",
     "text": [
      "Epoch 26 / 201 - 47 seconds - loss: 0.007418668540367463 - acc: 0.8269396486273081 - val_loss: 0.7140680264411756 - val_acc: 0.83002\n"
     ]
    },
    {
     "name": "stdout",
     "output_type": "stream",
     "text": [
      "Epoch 27 / 201 - 49 seconds - loss: 0.007165623955742624 - acc: 0.8325807443513119 - val_loss: 0.6903617128634215 - val_acc: 0.8352\n"
     ]
    },
    {
     "name": "stdout",
     "output_type": "stream",
     "text": [
      "Epoch 28 / 201 - 51 seconds - loss: 0.006933852640333383 - acc: 0.8377738930393586 - val_loss: 0.6686236782203543 - val_acc: 0.8409\n"
     ]
    },
    {
     "name": "stdout",
     "output_type": "stream",
     "text": [
      "Epoch 29 / 201 - 52 seconds - loss: 0.006721079991734692 - acc: 0.8428873223396501 - val_loss: 0.6486452540237541 - val_acc: 0.84494\n"
     ]
    },
    {
     "name": "stdout",
     "output_type": "stream",
     "text": [
      "Epoch 30 / 201 - 54 seconds - loss: 0.0065253604136617585 - acc: 0.8469235908649173 - val_loss: 0.6302464214368163 - val_acc: 0.84896\n"
     ]
    },
    {
     "name": "stdout",
     "output_type": "stream",
     "text": [
      "Epoch 31 / 201 - 56 seconds - loss: 0.006344873344543444 - acc: 0.8507254464285714 - val_loss: 0.613259329929087 - val_acc: 0.85254\n"
     ]
    },
    {
     "name": "stdout",
     "output_type": "stream",
     "text": [
      "Epoch 32 / 201 - 58 seconds - loss: 0.006178039110844061 - acc: 0.8538231140670555 - val_loss: 0.5975367799922705 - val_acc: 0.85516\n"
     ]
    },
    {
     "name": "stdout",
     "output_type": "stream",
     "text": [
      "Epoch 33 / 201 - 59 seconds - loss: 0.006023521601296008 - acc: 0.8561624984815355 - val_loss: 0.5829621420427802 - val_acc: 0.8576\n"
     ]
    },
    {
     "name": "stdout",
     "output_type": "stream",
     "text": [
      "Epoch 34 / 201 - 61 seconds - loss: 0.00588008396984564 - acc: 0.8588966836734694 - val_loss: 0.5694206772867005 - val_acc: 0.85972\n"
     ]
    },
    {
     "name": "stdout",
     "output_type": "stream",
     "text": [
      "Epoch 35 / 201 - 63 seconds - loss: 0.005746713556879938 - acc: 0.8611800747084548 - val_loss: 0.5568119145893536 - val_acc: 0.86256\n"
     ]
    },
    {
     "name": "stdout",
     "output_type": "stream",
     "text": [
      "Epoch 36 / 201 - 65 seconds - loss: 0.0056224033077257735 - acc: 0.8634293002915452 - val_loss: 0.5450535816652494 - val_acc: 0.86476\n"
     ]
    },
    {
     "name": "stdout",
     "output_type": "stream",
     "text": [
      "Epoch 37 / 201 - 66 seconds - loss: 0.00550638784797055 - acc: 0.8654099474611273 - val_loss: 0.5340661008396909 - val_acc: 0.86624\n"
     ]
    },
    {
     "name": "stdout",
     "output_type": "stream",
     "text": [
      "Epoch 38 / 201 - 68 seconds - loss: 0.005397876224008844 - acc: 0.8671685191933917 - val_loss: 0.5237826751134167 - val_acc: 0.86794\n"
     ]
    },
    {
     "name": "stdout",
     "output_type": "stream",
     "text": [
      "Epoch 39 / 201 - 70 seconds - loss: 0.005296239653623542 - acc: 0.8684981246963072 - val_loss: 0.5141438057530965 - val_acc: 0.86938\n"
     ]
    },
    {
     "name": "stdout",
     "output_type": "stream",
     "text": [
      "Epoch 40 / 201 - 71 seconds - loss: 0.005200889509392115 - acc: 0.8699226342322642 - val_loss: 0.5050916902606015 - val_acc: 0.87088\n"
     ]
    },
    {
     "name": "stdout",
     "output_type": "stream",
     "text": [
      "Epoch 41 / 201 - 73 seconds - loss: 0.005111273928116052 - acc: 0.8717827532798834 - val_loss: 0.496576663577315 - val_acc: 0.87226\n"
     ]
    },
    {
     "name": "stdout",
     "output_type": "stream",
     "text": [
      "Epoch 42 / 201 - 75 seconds - loss: 0.005026908791561809 - acc: 0.873006066265792 - val_loss: 0.48855563457991036 - val_acc: 0.87384\n"
     ]
    },
    {
     "name": "stdout",
     "output_type": "stream",
     "text": [
      "Epoch 43 / 201 - 77 seconds - loss: 0.004947415462349498 - acc: 0.8743603468172984 - val_loss: 0.4809913153209958 - val_acc: 0.87504\n"
     ]
    },
    {
     "name": "stdout",
     "output_type": "stream",
     "text": [
      "Epoch 44 / 201 - 78 seconds - loss: 0.00487235809065352 - acc: 0.8757070350461613 - val_loss: 0.4738429242439664 - val_acc: 0.8766\n"
     ]
    },
    {
     "name": "stdout",
     "output_type": "stream",
     "text": [
      "Epoch 45 / 201 - 80 seconds - loss: 0.004801397344663772 - acc: 0.8771628629130224 - val_loss: 0.46708059966479787 - val_acc: 0.8782\n"
     ]
    },
    {
     "name": "stdout",
     "output_type": "stream",
     "text": [
      "Epoch 46 / 201 - 82 seconds - loss: 0.004734212565624627 - acc: 0.878738269861516 - val_loss: 0.46067465879522834 - val_acc: 0.87928\n"
     ]
    },
    {
     "name": "stdout",
     "output_type": "stream",
     "text": [
      "Epoch 47 / 201 - 83 seconds - loss: 0.004670522516756411 - acc: 0.8795629859086492 - val_loss: 0.4545962787830301 - val_acc: 0.88006\n"
     ]
    },
    {
     "name": "stdout",
     "output_type": "stream",
     "text": [
      "Epoch 48 / 201 - 85 seconds - loss: 0.004610061594401515 - acc: 0.8808318528304179 - val_loss: 0.44882064139333017 - val_acc: 0.88134\n"
     ]
    },
    {
     "name": "stdout",
     "output_type": "stream",
     "text": [
      "Epoch 49 / 201 - 87 seconds - loss: 0.004552570264020992 - acc: 0.8817476767492711 - val_loss: 0.44332648027334226 - val_acc: 0.88232\n"
     ]
    },
    {
     "name": "stdout",
     "output_type": "stream",
     "text": [
      "Epoch 50 / 201 - 89 seconds - loss: 0.004497850214014426 - acc: 0.8829254357993197 - val_loss: 0.4380947375974432 - val_acc: 0.8833\n"
     ]
    },
    {
     "name": "stdout",
     "output_type": "stream",
     "text": [
      "Epoch 51 / 201 - 90 seconds - loss: 0.004445697012633103 - acc: 0.8836419612487852 - val_loss: 0.433105083310153 - val_acc: 0.88424\n"
     ]
    },
    {
     "name": "stdout",
     "output_type": "stream",
     "text": [
      "Epoch 52 / 201 - 92 seconds - loss: 0.004395924232573259 - acc: 0.8847798606049562 - val_loss: 0.42833981189972625 - val_acc: 0.88536\n"
     ]
    },
    {
     "name": "stdout",
     "output_type": "stream",
     "text": [
      "Epoch 53 / 201 - 94 seconds - loss: 0.004348387212239916 - acc: 0.8859215561224489 - val_loss: 0.4237847197706801 - val_acc: 0.88626\n"
     ]
    },
    {
     "name": "stdout",
     "output_type": "stream",
     "text": [
      "Epoch 54 / 201 - 96 seconds - loss: 0.004302898294883049 - acc: 0.8866542152575316 - val_loss: 0.41942588179256285 - val_acc: 0.88704\n"
     ]
    },
    {
     "name": "stdout",
     "output_type": "stream",
     "text": [
      "Epoch 55 / 201 - 97 seconds - loss: 0.004259371763258971 - acc: 0.8874779822643343 - val_loss: 0.41524939387363125 - val_acc: 0.88788\n"
     ]
    },
    {
     "name": "stdout",
     "output_type": "stream",
     "text": [
      "Epoch 56 / 201 - 99 seconds - loss: 0.004217611782928324 - acc: 0.8881669855442177 - val_loss: 0.41124400949785656 - val_acc: 0.88872\n"
     ]
    },
    {
     "name": "stdout",
     "output_type": "stream",
     "text": [
      "Epoch 57 / 201 - 101 seconds - loss: 0.004177560265638572 - acc: 0.8891729682944606 - val_loss: 0.4073976266347194 - val_acc: 0.88948\n"
     ]
    },
    {
     "name": "stdout",
     "output_type": "stream",
     "text": [
      "Epoch 58 / 201 - 103 seconds - loss: 0.004139077568217675 - acc: 0.8899397928814382 - val_loss: 0.40370093071087404 - val_acc: 0.89024\n"
     ]
    },
    {
     "name": "stdout",
     "output_type": "stream",
     "text": [
      "Epoch 59 / 201 - 104 seconds - loss: 0.004102079186755359 - acc: 0.8906876366618075 - val_loss: 0.4001451622207377 - val_acc: 0.8912\n"
     ]
    },
    {
     "name": "stdout",
     "output_type": "stream",
     "text": [
      "Epoch 60 / 201 - 106 seconds - loss: 0.004066469347203273 - acc: 0.8914231429178814 - val_loss: 0.39672063237012584 - val_acc: 0.89182\n"
     ]
    },
    {
     "name": "stdout",
     "output_type": "stream",
     "text": [
      "Epoch 61 / 201 - 108 seconds - loss: 0.004032158077162357 - acc: 0.8921928146258503 - val_loss: 0.3934200717547029 - val_acc: 0.89242\n"
     ]
    },
    {
     "name": "stdout",
     "output_type": "stream",
     "text": [
      "Epoch 62 / 201 - 110 seconds - loss: 0.003999050709681776 - acc: 0.8926882136783285 - val_loss: 0.39023583232437437 - val_acc: 0.89316\n"
     ]
    },
    {
     "name": "stdout",
     "output_type": "stream",
     "text": [
      "Epoch 63 / 201 - 111 seconds - loss: 0.00396712789179217 - acc: 0.8934009429664723 - val_loss: 0.38716038571385014 - val_acc: 0.89372\n"
     ]
    },
    {
     "name": "stdout",
     "output_type": "stream",
     "text": [
      "Epoch 64 / 201 - 113 seconds - loss: 0.0039362829985406765 - acc: 0.8937909985422741 - val_loss: 0.3841884859455851 - val_acc: 0.89434\n"
     ]
    },
    {
     "name": "stdout",
     "output_type": "stream",
     "text": [
      "Epoch 65 / 201 - 115 seconds - loss: 0.003906450557766591 - acc: 0.8943034803206997 - val_loss: 0.38131477669362374 - val_acc: 0.89466\n"
     ]
    },
    {
     "name": "stdout",
     "output_type": "stream",
     "text": [
      "Epoch 66 / 201 - 117 seconds - loss: 0.0038776112689434743 - acc: 0.8952620110544217 - val_loss: 0.37853371795138674 - val_acc: 0.89528\n"
     ]
    },
    {
     "name": "stdout",
     "output_type": "stream",
     "text": [
      "Epoch 67 / 201 - 118 seconds - loss: 0.003849679051888781 - acc: 0.8955960732507289 - val_loss: 0.3758399293525501 - val_acc: 0.89594\n"
     ]
    },
    {
     "name": "stdout",
     "output_type": "stream",
     "text": [
      "Epoch 68 / 201 - 120 seconds - loss: 0.003822591359520895 - acc: 0.8962566053206997 - val_loss: 0.3732285996218727 - val_acc: 0.89662\n"
     ]
    },
    {
     "name": "stdout",
     "output_type": "stream",
     "text": [
      "Epoch 69 / 201 - 122 seconds - loss: 0.003796356298417278 - acc: 0.8969797740524782 - val_loss: 0.3706951947089135 - val_acc: 0.89724\n"
     ]
    },
    {
     "name": "stdout",
     "output_type": "stream",
     "text": [
      "Epoch 70 / 201 - 124 seconds - loss: 0.0037708743298249196 - acc: 0.8974419566933917 - val_loss: 0.3682355620325424 - val_acc: 0.89786\n"
     ]
    },
    {
     "name": "stdout",
     "output_type": "stream",
     "text": [
      "Epoch 71 / 201 - 126 seconds - loss: 0.0037461259434682795 - acc: 0.89814234845724 - val_loss: 0.36584577945418456 - val_acc: 0.89834\n"
     ]
    }
   ],
   "source": [
    "#First Experiment\n",
    "layers = [generate_layer(num_pixels, 128, \"relu\", \"l2\", 0.2)]\n",
    "layers.append(generate_layer(128, 10, \"softmax\", \"l2\", 0.2))\n",
    "  # MSE\n",
    "log = {}\n",
    "for batch in [128,1024,6e5]:\n",
    "    net = MyDNN(layers, \"cross-entropy\")\n",
    "    log[batch] = net.fit(\n",
    "        training_samples, training_classifications, 200, 512, 0.4,\n",
    "        validation_samples, validation_classifications)\n",
    "pickle.dump(log,open('Log_first.p','wb'))"
   ]
  },
  {
   "cell_type": "code",
   "execution_count": null,
   "metadata": {},
   "outputs": [],
   "source": [
    "log = {}\n",
    "for batch in\n",
    "net.fit(training_samples, training_classifications, 200, 512, 0.4, validation_samples, validation_classifications)"
   ]
  }
 ],
 "metadata": {
  "kernelspec": {
   "display_name": "Python 2",
   "language": "python",
   "name": "python2"
  },
  "language_info": {
   "codemirror_mode": {
    "name": "ipython",
    "version": 2
   },
   "file_extension": ".py",
   "mimetype": "text/x-python",
   "name": "python",
   "nbconvert_exporter": "python",
   "pygments_lexer": "ipython2",
   "version": "2.7.6"
  }
 },
 "nbformat": 4,
 "nbformat_minor": 0
}
