{
 "cells": [
  {
   "cell_type": "code",
   "execution_count": 2,
   "metadata": {
    "collapsed": true
   },
   "outputs": [
    {
     "ename": "FileNotFoundError",
     "evalue": "[WinError 2] The system cannot find the file specified: '.\\\\HW2'",
     "traceback": [
      "\u001b[1;31m---------------------------------------------------------------------------\u001b[0m",
      "\u001b[1;31mFileNotFoundError\u001b[0m                         Traceback (most recent call last)",
      "\u001b[1;32m<ipython-input-2-2ba56ddf43ef>\u001b[0m in \u001b[0;36m<module>\u001b[1;34m()\u001b[0m\n\u001b[0;32m      7\u001b[0m \u001b[1;32mimport\u001b[0m \u001b[0mpickle\u001b[0m\u001b[1;33m\u001b[0m\u001b[0m\n\u001b[0;32m      8\u001b[0m \u001b[1;32mimport\u001b[0m \u001b[0mos\u001b[0m\u001b[1;33m\u001b[0m\u001b[0m\n\u001b[1;32m----> 9\u001b[1;33m \u001b[0mos\u001b[0m\u001b[1;33m.\u001b[0m\u001b[0mchdir\u001b[0m\u001b[1;33m(\u001b[0m\u001b[1;34m'.\\\\HW2'\u001b[0m\u001b[1;33m)\u001b[0m\u001b[1;33m\u001b[0m\u001b[0m\n\u001b[0m\u001b[0;32m     10\u001b[0m \u001b[1;33m\u001b[0m\u001b[0m\n\u001b[0;32m     11\u001b[0m \u001b[0mdata_url\u001b[0m \u001b[1;33m=\u001b[0m \u001b[1;34m\"http://deeplearning.net/data/mnist/mnist.pkl.gz\"\u001b[0m\u001b[1;33m\u001b[0m\u001b[0m\n",
      "\u001b[1;31mFileNotFoundError\u001b[0m: [WinError 2] The system cannot find the file specified: '.\\\\HW2'"
     ],
     "output_type": "error"
    }
   ],
   "source": [
    "import pickle\n",
    "import gzip\n",
    "import urllib.request\n",
    "from sklearn.preprocessing import scale\n",
    "from mydnn import MyDNN\n",
    "from Macros import generate_layer\n",
    "import pickle\n",
    "import os\n",
    "os.chdir('.\\\\HW2')\n",
    "\n",
    "data_url = \"http://deeplearning.net/data/mnist/mnist.pkl.gz\"\n",
    "urllib.request.urlretrieve(data_url, \"mnist.pkl.gz\")\n",
    "with gzip.open('mnist.pkl.gz', 'rb') as f:\n",
    "    train_set, valid_set, test_set = pickle.load(f, encoding='latin1')\n",
    "\n",
    "training_samples = scale(train_set[0], axis=0, with_std=False)\n",
    "validation_samples = scale(valid_set[0], axis=0, with_std=False)\n",
    "\n",
    "training_classifications = train_set[1]\n",
    "validation_classifications = valid_set[1]\n",
    "\n",
    "num_samples, num_pixels = training_samples.shape"
   ]
  },
  {
   "cell_type": "code",
   "execution_count": 4,
   "metadata": {
    "collapsed": true
   },
   "outputs": [
    {
     "name": "stdout",
     "output_type": "stream",
     "text": [
      "Epoch 1 / 101 - 2 seconds - loss: 0.0058367390774835565 - acc: 0.19255914322250642 - val_loss: 2.2572873136080345 - val_acc: 0.32036\n"
     ]
    },
    {
     "name": "stdout",
     "output_type": "stream",
     "text": [
      "Epoch 2 / 101 - 4 seconds - loss: 0.005708736742990706 - acc: 0.41239210358056266 - val_loss: 2.2062645932423512 - val_acc: 0.49118\n"
     ]
    },
    {
     "name": "stdout",
     "output_type": "stream",
     "text": [
      "Epoch 3 / 101 - 6 seconds - loss: 0.005573624498964866 - acc: 0.541332320971867 - val_loss: 2.151234216542806 - val_acc: 0.58156\n"
     ]
    },
    {
     "name": "stdout",
     "output_type": "stream",
     "text": [
      "Epoch 4 / 101 - 8 seconds - loss: 0.005425451850536223 - acc: 0.6061341112531969 - val_loss: 2.0900398009712706 - val_acc: 0.62592\n"
     ]
    },
    {
     "name": "stdout",
     "output_type": "stream",
     "text": [
      "Epoch 5 / 101 - 10 seconds - loss: 0.005259233510576516 - acc: 0.6397738171355499 - val_loss: 2.0210254083358574 - val_acc: 0.64842\n"
     ]
    },
    {
     "name": "stdout",
     "output_type": "stream",
     "text": [
      "Epoch 6 / 101 - 12 seconds - loss: 0.005071979396834592 - acc: 0.6545236572890025 - val_loss: 1.9435987206018763 - val_acc: 0.65896\n"
     ]
    },
    {
     "name": "stdout",
     "output_type": "stream",
     "text": [
      "Epoch 7 / 101 - 14 seconds - loss: 0.004864084470516499 - acc: 0.6632552749360614 - val_loss: 1.8586958763034376 - val_acc: 0.66668\n"
     ]
    },
    {
     "name": "stdout",
     "output_type": "stream",
     "text": [
      "Epoch 8 / 101 - 17 seconds - loss: 0.004639600527527166 - acc: 0.6694213554987212 - val_loss: 1.7684668056569457 - val_acc: 0.6726\n"
     ]
    },
    {
     "name": "stdout",
     "output_type": "stream",
     "text": [
      "Epoch 9 / 101 - 19 seconds - loss: 0.0044049029790191475 - acc: 0.6762468030690537 - val_loss: 1.675591765553783 - val_acc: 0.68024\n"
     ]
    },
    {
     "name": "stdout",
     "output_type": "stream",
     "text": [
      "Epoch 10 / 101 - 21 seconds - loss: 0.004166516416276146 - acc: 0.685318094629156 - val_loss: 1.5823606588141974 - val_acc: 0.69042\n"
     ]
    },
    {
     "name": "stdout",
     "output_type": "stream",
     "text": [
      "Epoch 11 / 101 - 23 seconds - loss: 0.003929411786397953 - acc: 0.6966791879795396 - val_loss: 1.4904160779495954 - val_acc: 0.70202\n"
     ]
    },
    {
     "name": "stdout",
     "output_type": "stream",
     "text": [
      "Epoch 12 / 101 - 25 seconds - loss: 0.003697365384899074 - acc: 0.708755594629156 - val_loss: 1.4011199846695803 - val_acc: 0.71532\n"
     ]
    },
    {
     "name": "stdout",
     "output_type": "stream",
     "text": [
      "Epoch 13 / 101 - 27 seconds - loss: 0.0034737298361658445 - acc: 0.7209119245524296 - val_loss: 1.3157587943906743 - val_acc: 0.72668\n"
     ]
    },
    {
     "name": "stdout",
     "output_type": "stream",
     "text": [
      "Epoch 14 / 101 - 29 seconds - loss: 0.0032617915045951885 - acc: 0.7323849104859336 - val_loss: 1.235572520574731 - val_acc: 0.73834\n"
     ]
    },
    {
     "name": "stdout",
     "output_type": "stream",
     "text": [
      "Epoch 15 / 101 - 31 seconds - loss: 0.0030642319370781657 - acc: 0.7449328644501279 - val_loss: 1.1613777979181374 - val_acc: 0.75038\n"
     ]
    },
    {
     "name": "stdout",
     "output_type": "stream",
     "text": [
      "Epoch 16 / 101 - 33 seconds - loss: 0.002882517719162983 - acc: 0.7561381074168797 - val_loss: 1.0934902097116836 - val_acc: 0.76238\n"
     ]
    },
    {
     "name": "stdout",
     "output_type": "stream",
     "text": [
      "Epoch 17 / 101 - 35 seconds - loss: 0.002716810327003173 - acc: 0.768250479539642 - val_loss: 1.0317655110040702 - val_acc: 0.774\n"
     ]
    },
    {
     "name": "stdout",
     "output_type": "stream",
     "text": [
      "Epoch 18 / 101 - 37 seconds - loss: 0.002566452377893122 - acc: 0.7797474424552431 - val_loss: 0.9758496809374635 - val_acc: 0.7852\n"
     ]
    },
    {
     "name": "stdout",
     "output_type": "stream",
     "text": [
      "Epoch 19 / 101 - 39 seconds - loss: 0.0024303538048217844 - acc: 0.7899056905370844 - val_loss: 0.9252709449734372 - val_acc: 0.79478\n"
     ]
    },
    {
     "name": "stdout",
     "output_type": "stream",
     "text": [
      "Epoch 20 / 101 - 41 seconds - loss: 0.0023073012438238013 - acc: 0.7989050511508952 - val_loss: 0.879557187806499 - val_acc: 0.8041\n"
     ]
    },
    {
     "name": "stdout",
     "output_type": "stream",
     "text": [
      "Epoch 21 / 101 - 43 seconds - loss: 0.0021961137226386806 - acc: 0.8085278132992327 - val_loss: 0.8382634940262954 - val_acc: 0.81252\n"
     ]
    },
    {
     "name": "stdout",
     "output_type": "stream",
     "text": [
      "Epoch 22 / 101 - 45 seconds - loss: 0.002095696386346202 - acc: 0.8162923593350384 - val_loss: 0.8009738750325471 - val_acc: 0.82028\n"
     ]
    },
    {
     "name": "stdout",
     "output_type": "stream",
     "text": [
      "Epoch 23 / 101 - 47 seconds - loss: 0.002005030105144693 - acc: 0.8240289322250639 - val_loss: 0.7673050005033349 - val_acc: 0.82688\n"
     ]
    },
    {
     "name": "stdout",
     "output_type": "stream",
     "text": [
      "Epoch 24 / 101 - 49 seconds - loss: 0.0019231413073608592 - acc: 0.8298753196930946 - val_loss: 0.736889170869824 - val_acc: 0.83308\n"
     ]
    },
    {
     "name": "stdout",
     "output_type": "stream",
     "text": [
      "Epoch 25 / 101 - 51 seconds - loss: 0.001849128798309585 - acc: 0.8354779411764706 - val_loss: 0.7093808493190474 - val_acc: 0.83798\n"
     ]
    },
    {
     "name": "stdout",
     "output_type": "stream",
     "text": [
      "Epoch 26 / 101 - 53 seconds - loss: 0.0017821507246610507 - acc: 0.8400775255754475 - val_loss: 0.684465543458341 - val_acc: 0.84178\n"
     ]
    },
    {
     "name": "stdout",
     "output_type": "stream",
     "text": [
      "Epoch 27 / 101 - 55 seconds - loss: 0.0017214188322733348 - acc: 0.8438938618925831 - val_loss: 0.6618483168205328 - val_acc: 0.84604\n"
     ]
    },
    {
     "name": "stdout",
     "output_type": "stream",
     "text": [
      "Epoch 28 / 101 - 57 seconds - loss: 0.0016662290089298586 - acc: 0.8475743286445013 - val_loss: 0.6412695870831437 - val_acc: 0.84924\n"
     ]
    },
    {
     "name": "stdout",
     "output_type": "stream",
     "text": [
      "Epoch 29 / 101 - 59 seconds - loss: 0.0016159439164128184 - acc: 0.850355658567775 - val_loss: 0.6224965520964705 - val_acc: 0.85164\n"
     ]
    },
    {
     "name": "stdout",
     "output_type": "stream",
     "text": [
      "Epoch 30 / 101 - 61 seconds - loss: 0.0015700122159298955 - acc: 0.8530890345268543 - val_loss: 0.6053198828956735 - val_acc: 0.85436\n"
     ]
    },
    {
     "name": "stdout",
     "output_type": "stream",
     "text": [
      "Epoch 31 / 101 - 63 seconds - loss: 0.0015279221102864333 - acc: 0.8557105179028133 - val_loss: 0.5895567610221388 - val_acc: 0.8571\n"
     ]
    },
    {
     "name": "stdout",
     "output_type": "stream",
     "text": [
      "Epoch 32 / 101 - 65 seconds - loss: 0.0014892460599525835 - acc: 0.8581122122762149 - val_loss: 0.5750550464930738 - val_acc: 0.85912\n"
     ]
    },
    {
     "name": "stdout",
     "output_type": "stream",
     "text": [
      "Epoch 33 / 101 - 67 seconds - loss: 0.0014536096291091303 - acc: 0.860290121483376 - val_loss: 0.5616698159595394 - val_acc: 0.86124\n"
     ]
    },
    {
     "name": "stdout",
     "output_type": "stream",
     "text": [
      "Epoch 34 / 101 - 69 seconds - loss: 0.0014206801414789387 - acc: 0.861880594629156 - val_loss: 0.549286856883017 - val_acc: 0.86306\n"
     ]
    },
    {
     "name": "stdout",
     "output_type": "stream",
     "text": [
      "Epoch 35 / 101 - 71 seconds - loss: 0.001390165733619089 - acc: 0.8636628836317135 - val_loss: 0.5377938919772514 - val_acc: 0.8649\n"
     ]
    },
    {
     "name": "stdout",
     "output_type": "stream",
     "text": [
      "Epoch 36 / 101 - 73 seconds - loss: 0.0013618153365749118 - acc: 0.8655850383631715 - val_loss: 0.5271021720502769 - val_acc: 0.86656\n"
     ]
    },
    {
     "name": "stdout",
     "output_type": "stream",
     "text": [
      "Epoch 37 / 101 - 75 seconds - loss: 0.0013354097867830366 - acc: 0.8673473465473146 - val_loss: 0.5171334561072599 - val_acc: 0.86808\n"
     ]
    },
    {
     "name": "stdout",
     "output_type": "stream",
     "text": [
      "Epoch 38 / 101 - 77 seconds - loss: 0.0013107637079650375 - acc: 0.8688618925831203 - val_loss: 0.5078210777930791 - val_acc: 0.86944\n"
     ]
    },
    {
     "name": "stdout",
     "output_type": "stream",
     "text": [
      "Epoch 39 / 101 - 79 seconds - loss: 0.0012877111978466923 - acc: 0.8699488491048593 - val_loss: 0.4990987867277172 - val_acc: 0.87082\n"
     ]
    },
    {
     "name": "stdout",
     "output_type": "stream",
     "text": [
      "Epoch 40 / 101 - 81 seconds - loss: 0.0012661057844422713 - acc: 0.8715313299232736 - val_loss: 0.4909161085736297 - val_acc: 0.8722\n"
     ]
    },
    {
     "name": "stdout",
     "output_type": "stream",
     "text": [
      "Epoch 41 / 101 - 83 seconds - loss: 0.0012458106361223947 - acc: 0.8730218989769821 - val_loss: 0.48322330198675206 - val_acc: 0.8736\n"
     ]
    },
    {
     "name": "stdout",
     "output_type": "stream",
     "text": [
      "Epoch 42 / 101 - 85 seconds - loss: 0.0012267183899931954 - acc: 0.874236732736573 - val_loss: 0.47597690270529547 - val_acc: 0.87458\n"
     ]
    },
    {
     "name": "stdout",
     "output_type": "stream",
     "text": [
      "Epoch 43 / 101 - 86 seconds - loss: 0.0012087127438067382 - acc: 0.8753356777493607 - val_loss: 0.46914042814835766 - val_acc: 0.87624\n"
     ]
    },
    {
     "name": "stdout",
     "output_type": "stream",
     "text": [
      "Epoch 44 / 101 - 88 seconds - loss: 0.0011917111132396863 - acc: 0.8769980818414322 - val_loss: 0.4626772007118487 - val_acc: 0.87766\n"
     ]
    },
    {
     "name": "stdout",
     "output_type": "stream",
     "text": [
      "Epoch 45 / 101 - 90 seconds - loss: 0.0011756262378294822 - acc: 0.8780770460358056 - val_loss: 0.4565568669868492 - val_acc: 0.87852\n"
     ]
    },
    {
     "name": "stdout",
     "output_type": "stream",
     "text": [
      "Epoch 46 / 101 - 92 seconds - loss: 0.0011603788135428317 - acc: 0.8790760869565217 - val_loss: 0.4507508629292163 - val_acc: 0.8793\n"
     ]
    },
    {
     "name": "stdout",
     "output_type": "stream",
     "text": [
      "Epoch 47 / 101 - 95 seconds - loss: 0.0011459096061163393 - acc: 0.8798713235294118 - val_loss: 0.4452374041922859 - val_acc: 0.88024\n"
     ]
    },
    {
     "name": "stdout",
     "output_type": "stream",
     "text": [
      "Epoch 48 / 101 - 97 seconds - loss: 0.0011321561919610357 - acc: 0.8807984335038362 - val_loss: 0.4399921845764945 - val_acc: 0.88146\n"
     ]
    },
    {
     "name": "stdout",
     "output_type": "stream",
     "text": [
      "Epoch 49 / 101 - 99 seconds - loss: 0.001119058006082234 - acc: 0.8818534207161125 - val_loss: 0.43499405819404097 - val_acc: 0.88232\n"
     ]
    },
    {
     "name": "stdout",
     "output_type": "stream",
     "text": [
      "Epoch 50 / 101 - 101 seconds - loss: 0.0011065756612872138 - acc: 0.8827205882352942 - val_loss: 0.4302266308436295 - val_acc: 0.88344\n"
     ]
    },
    {
     "name": "stdout",
     "output_type": "stream",
     "text": [
      "Epoch 51 / 101 - 103 seconds - loss: 0.0010946566742981907 - acc: 0.8835637787723785 - val_loss: 0.42567203193037906 - val_acc: 0.8843\n"
     ]
    },
    {
     "name": "stdout",
     "output_type": "stream",
     "text": [
      "Epoch 52 / 101 - 105 seconds - loss: 0.0010832669087999683 - acc: 0.884814578005115 - val_loss: 0.42131648371847336 - val_acc: 0.88536\n"
     ]
    },
    {
     "name": "stdout",
     "output_type": "stream",
     "text": [
      "Epoch 53 / 101 - 107 seconds - loss: 0.001072363987858957 - acc: 0.8858256074168799 - val_loss: 0.4171465542101648 - val_acc: 0.88616\n"
     ]
    },
    {
     "name": "stdout",
     "output_type": "stream",
     "text": [
      "Epoch 54 / 101 - 109 seconds - loss: 0.001061922590562548 - acc: 0.8863570971867007 - val_loss: 0.41314806902685336 - val_acc: 0.8868\n"
     ]
    },
    {
     "name": "stdout",
     "output_type": "stream",
     "text": [
      "Epoch 55 / 101 - 111 seconds - loss: 0.0010519032699318515 - acc: 0.8870164641943734 - val_loss: 0.40931093233070953 - val_acc: 0.88746\n"
     ]
    },
    {
     "name": "stdout",
     "output_type": "stream",
     "text": [
      "Epoch 56 / 101 - 113 seconds - loss: 0.001042288373188596 - acc: 0.8878316815856777 - val_loss: 0.4056250585751946 - val_acc: 0.88836\n"
     ]
    },
    {
     "name": "stdout",
     "output_type": "stream",
     "text": [
      "Epoch 57 / 101 - 115 seconds - loss: 0.0010330401789658992 - acc: 0.8885669757033248 - val_loss: 0.40207844357592826 - val_acc: 0.88882\n"
     ]
    },
    {
     "name": "stdout",
     "output_type": "stream",
     "text": [
      "Epoch 58 / 101 - 117 seconds - loss: 0.0010241391555894206 - acc: 0.8891144501278773 - val_loss: 0.3986633226968885 - val_acc: 0.8897\n"
     ]
    },
    {
     "name": "stdout",
     "output_type": "stream",
     "text": [
      "Epoch 59 / 101 - 119 seconds - loss: 0.0010155619665168992 - acc: 0.8900535485933504 - val_loss: 0.39537118285689654 - val_acc: 0.89044\n"
     ]
    },
    {
     "name": "stdout",
     "output_type": "stream",
     "text": [
      "Epoch 60 / 101 - 121 seconds - loss: 0.0010072933465228257 - acc: 0.8908607736572891 - val_loss: 0.3921938326860471 - val_acc: 0.89136\n"
     ]
    },
    {
     "name": "stdout",
     "output_type": "stream",
     "text": [
      "Epoch 61 / 101 - 123 seconds - loss: 0.0009993056469581704 - acc: 0.8917758951406649 - val_loss: 0.3891256896495786 - val_acc: 0.89202\n"
     ]
    },
    {
     "name": "stdout",
     "output_type": "stream",
     "text": [
      "Epoch 62 / 101 - 125 seconds - loss: 0.0009915928766215628 - acc: 0.8922714194373402 - val_loss: 0.3861604311407805 - val_acc: 0.89264\n"
     ]
    },
    {
     "name": "stdout",
     "output_type": "stream",
     "text": [
      "Epoch 63 / 101 - 127 seconds - loss: 0.0009841327840698375 - acc: 0.8927589514066496 - val_loss: 0.3832920986591337 - val_acc: 0.89306\n"
     ]
    },
    {
     "name": "stdout",
     "output_type": "stream",
     "text": [
      "Epoch 64 / 101 - 129 seconds - loss: 0.0009769147012381712 - acc: 0.8932904411764706 - val_loss: 0.3805150803117119 - val_acc: 0.89386\n"
     ]
    },
    {
     "name": "stdout",
     "output_type": "stream",
     "text": [
      "Epoch 65 / 101 - 131 seconds - loss: 0.0009699253161134177 - acc: 0.894013746803069 - val_loss: 0.37782501878185315 - val_acc: 0.8943\n"
     ]
    },
    {
     "name": "stdout",
     "output_type": "stream",
     "text": [
      "Epoch 66 / 101 - 133 seconds - loss: 0.0009631516708363741 - acc: 0.8946131713554987 - val_loss: 0.3752169437155443 - val_acc: 0.89476\n"
     ]
    },
    {
     "name": "stdout",
     "output_type": "stream",
     "text": [
      "Epoch 67 / 101 - 135 seconds - loss: 0.0009565783035135967 - acc: 0.8949768222506395 - val_loss: 0.37268572421151674 - val_acc: 0.89514\n"
     ]
    },
    {
     "name": "stdout",
     "output_type": "stream",
     "text": [
      "Epoch 68 / 101 - 137 seconds - loss: 0.0009502003719269276 - acc: 0.8953764386189259 - val_loss: 0.3702279272007687 - val_acc: 0.89574\n"
     ]
    },
    {
     "name": "stdout",
     "output_type": "stream",
     "text": [
      "Epoch 69 / 101 - 139 seconds - loss: 0.0009440058249477812 - acc: 0.8958200127877238 - val_loss: 0.3678399415223355 - val_acc: 0.89616\n"
     ]
    },
    {
     "name": "stdout",
     "output_type": "stream",
     "text": [
      "Epoch 70 / 101 - 141 seconds - loss: 0.0009379830504185498 - acc: 0.8965712915601023 - val_loss: 0.36551833500337766 - val_acc: 0.89658\n"
     ]
    },
    {
     "name": "stdout",
     "output_type": "stream",
     "text": [
      "Epoch 71 / 101 - 143 seconds - loss: 0.0009321239456964877 - acc: 0.8968350383631715 - val_loss: 0.3632591934755711 - val_acc: 0.89694\n"
     ]
    },
    {
     "name": "stdout",
     "output_type": "stream",
     "text": [
      "Epoch 72 / 101 - 145 seconds - loss: 0.0009264251502586954 - acc: 0.897170716112532 - val_loss: 0.36105918885887417 - val_acc: 0.89748\n"
     ]
    },
    {
     "name": "stdout",
     "output_type": "stream",
     "text": [
      "Epoch 73 / 101 - 147 seconds - loss: 0.0009208726331786745 - acc: 0.8978380754475703 - val_loss: 0.3589167538464454 - val_acc: 0.8979\n"
     ]
    },
    {
     "name": "stdout",
     "output_type": "stream",
     "text": [
      "Epoch 74 / 101 - 149 seconds - loss: 0.0009154623446727503 - acc: 0.8982137148337597 - val_loss: 0.3568290730166344 - val_acc: 0.8984\n"
     ]
    },
    {
     "name": "stdout",
     "output_type": "stream",
     "text": [
      "Epoch 75 / 101 - 151 seconds - loss: 0.0009101903905245532 - acc: 0.8987052429667519 - val_loss: 0.3547933054119025 - val_acc: 0.89896\n"
     ]
    },
    {
     "name": "stdout",
     "output_type": "stream",
     "text": [
      "Epoch 76 / 101 - 153 seconds - loss: 0.0009050482928547569 - acc: 0.899144820971867 - val_loss: 0.35280698652335946 - val_acc: 0.89934\n"
     ]
    },
    {
     "name": "stdout",
     "output_type": "stream",
     "text": [
      "Epoch 77 / 101 - 155 seconds - loss: 0.0009000284852747309 - acc: 0.8995923913043479 - val_loss: 0.3508684348226757 - val_acc: 0.89976\n"
     ]
    },
    {
     "name": "stdout",
     "output_type": "stream",
     "text": [
      "Epoch 78 / 101 - 157 seconds - loss: 0.0008951296438085447 - acc: 0.8999400575447569 - val_loss: 0.3489748291181154 - val_acc: 0.90024\n"
     ]
    },
    {
     "name": "stdout",
     "output_type": "stream",
     "text": [
      "Epoch 79 / 101 - 159 seconds - loss: 0.0008903416419434508 - acc: 0.9005195012787723 - val_loss: 0.3471242531632646 - val_acc: 0.9008\n"
     ]
    },
    {
     "name": "stdout",
     "output_type": "stream",
     "text": [
      "Epoch 80 / 101 - 161 seconds - loss: 0.0008856611352069961 - acc: 0.9008232097186701 - val_loss: 0.34531515321811146 - val_acc: 0.90118\n"
     ]
    },
    {
     "name": "stdout",
     "output_type": "stream",
     "text": [
      "Epoch 81 / 101 - 163 seconds - loss: 0.0008810857222330453 - acc: 0.9014026534526854 - val_loss: 0.3435451878384963 - val_acc: 0.9017\n"
     ]
    },
    {
     "name": "stdout",
     "output_type": "stream",
     "text": [
      "Epoch 82 / 101 - 165 seconds - loss: 0.0008766092390783185 - acc: 0.9018022698209719 - val_loss: 0.34181380521787397 - val_acc: 0.90216\n"
     ]
    },
    {
     "name": "stdout",
     "output_type": "stream",
     "text": [
      "Epoch 83 / 101 - 167 seconds - loss: 0.0008722242542730453 - acc: 0.9022498401534528 - val_loss: 0.34011799986538843 - val_acc: 0.90252\n"
     ]
    },
    {
     "name": "stdout",
     "output_type": "stream",
     "text": [
      "Epoch 84 / 101 - 169 seconds - loss: 0.0008679330043427735 - acc: 0.9028093030690537 - val_loss: 0.33845623711480055 - val_acc: 0.90296\n"
     ]
    },
    {
     "name": "stdout",
     "output_type": "stream",
     "text": [
      "Epoch 85 / 101 - 171 seconds - loss: 0.0008637254940860993 - acc: 0.9033208120204604 - val_loss: 0.3368280015768651 - val_acc: 0.90344\n"
     ]
    },
    {
     "name": "stdout",
     "output_type": "stream",
     "text": [
      "Epoch 86 / 101 - 173 seconds - loss: 0.0008596002693206899 - acc: 0.9037563938618925 - val_loss: 0.33523171601909163 - val_acc: 0.90384\n"
     ]
    },
    {
     "name": "stdout",
     "output_type": "stream",
     "text": [
      "Epoch 87 / 101 - 175 seconds - loss: 0.0008555597675642653 - acc: 0.9040041560102301 - val_loss: 0.33366643541792607 - val_acc: 0.90436\n"
     ]
    },
    {
     "name": "stdout",
     "output_type": "stream",
     "text": [
      "Epoch 88 / 101 - 177 seconds - loss: 0.0008515943308982607 - acc: 0.9045636189258311 - val_loss: 0.3321306446547557 - val_acc: 0.9048\n"
     ]
    },
    {
     "name": "stdout",
     "output_type": "stream",
     "text": [
      "Epoch 89 / 101 - 179 seconds - loss: 0.0008477046790728232 - acc: 0.9049072890025576 - val_loss: 0.33062413717298256 - val_acc: 0.90512\n"
     ]
    },
    {
     "name": "stdout",
     "output_type": "stream",
     "text": [
      "Epoch 90 / 101 - 181 seconds - loss: 0.0008438890980592599 - acc: 0.9054108056265985 - val_loss: 0.3291452548027168 - val_acc: 0.90564\n"
     ]
    },
    {
     "name": "stdout",
     "output_type": "stream",
     "text": [
      "Epoch 91 / 101 - 183 seconds - loss: 0.0008401379852102183 - acc: 0.905774456521739 - val_loss: 0.3276932898053886 - val_acc: 0.90604\n"
     ]
    },
    {
     "name": "stdout",
     "output_type": "stream",
     "text": [
      "Epoch 92 / 101 - 185 seconds - loss: 0.0008364580307559314 - acc: 0.9062300191815856 - val_loss: 0.32626657759938194 - val_acc: 0.90642\n"
     ]
    },
    {
     "name": "stdout",
     "output_type": "stream",
     "text": [
      "Epoch 93 / 101 - 187 seconds - loss: 0.0008328419006503473 - acc: 0.9066416240409206 - val_loss: 0.32486450909662734 - val_acc: 0.90678\n"
     ]
    },
    {
     "name": "stdout",
     "output_type": "stream",
     "text": [
      "Epoch 94 / 101 - 189 seconds - loss: 0.000829282802030372 - acc: 0.9069413363171355 - val_loss: 0.3234863943171632 - val_acc: 0.90714\n"
     ]
    },
    {
     "name": "stdout",
     "output_type": "stream",
     "text": [
      "Epoch 95 / 101 - 191 seconds - loss: 0.0008257921672988425 - acc: 0.9072929987212276 - val_loss: 0.3221311497689164 - val_acc: 0.90734\n"
     ]
    },
    {
     "name": "stdout",
     "output_type": "stream",
     "text": [
      "Epoch 96 / 101 - 193 seconds - loss: 0.0008223521437492039 - acc: 0.9075527493606137 - val_loss: 0.3207979757457556 - val_acc: 0.9077\n"
     ]
    },
    {
     "name": "stdout",
     "output_type": "stream",
     "text": [
      "Epoch 97 / 101 - 195 seconds - loss: 0.0008189685665709681 - acc: 0.9078124999999999 - val_loss: 0.3194855716243548 - val_acc: 0.90794\n"
     ]
    },
    {
     "name": "stdout",
     "output_type": "stream",
     "text": [
      "Epoch 98 / 101 - 197 seconds - loss: 0.000815637265728153 - acc: 0.9081801470588236 - val_loss: 0.31819410973841644 - val_acc: 0.90836\n"
     ]
    },
    {
     "name": "stdout",
     "output_type": "stream",
     "text": [
      "Epoch 99 / 101 - 199 seconds - loss: 0.0008123633472130807 - acc: 0.9085437979539642 - val_loss: 0.3169230190331739 - val_acc: 0.9087\n"
     ]
    },
    {
     "name": "stdout",
     "output_type": "stream",
     "text": [
      "Epoch 100 / 101 - 201 seconds - loss: 0.0008091371986527911 - acc: 0.9088435102301791 - val_loss: 0.3156708536977687 - val_acc: 0.90892\n"
     ]
    },
    {
     "name": "stdout",
     "output_type": "stream",
     "text": [
      "Epoch 1 / 101 - 2 seconds - loss: 0.04660408061879161 - acc: 0.14056182614555257 - val_loss: 2.2581454215365047 - val_acc: 0.28264\n"
     ]
    },
    {
     "name": "stdout",
     "output_type": "stream",
     "text": [
      "Epoch 2 / 101 - 3 seconds - loss: 0.045582629074852346 - acc: 0.40218619139872935 - val_loss: 2.2074724699710306 - val_acc: 0.48898\n"
     ]
    },
    {
     "name": "stdout",
     "output_type": "stream",
     "text": [
      "Epoch 3 / 101 - 5 seconds - loss: 0.044517817856783805 - acc: 0.5390805496726992 - val_loss: 2.153288179610999 - val_acc: 0.5788\n"
     ]
    },
    {
     "name": "stdout",
     "output_type": "stream",
     "text": [
      "Epoch 4 / 101 - 7 seconds - loss: 0.04335629510893393 - acc: 0.6025541038939161 - val_loss: 2.0931462938856145 - val_acc: 0.62292\n"
     ]
    },
    {
     "name": "stdout",
     "output_type": "stream",
     "text": [
      "Epoch 5 / 101 - 9 seconds - loss: 0.042052935542108566 - acc: 0.6346231077926453 - val_loss: 2.025131529919707 - val_acc: 0.64512\n"
     ]
    },
    {
     "name": "stdout",
     "output_type": "stream",
     "text": [
      "Epoch 6 / 101 - 11 seconds - loss: 0.04057673783096463 - acc: 0.6511351739988448 - val_loss: 1.9482324766252053 - val_acc: 0.65652\n"
     ]
    },
    {
     "name": "stdout",
     "output_type": "stream",
     "text": [
      "Epoch 7 / 101 - 12 seconds - loss: 0.0389200639706466 - acc: 0.6598076656959955 - val_loss: 1.8627775593123845 - val_acc: 0.66374\n"
     ]
    },
    {
     "name": "stdout",
     "output_type": "stream",
     "text": [
      "Epoch 8 / 101 - 14 seconds - loss: 0.0371048910600132 - acc: 0.6664653626780901 - val_loss: 1.7706259394857757 - val_acc: 0.6688\n"
     ]
    },
    {
     "name": "stdout",
     "output_type": "stream",
     "text": [
      "Epoch 9 / 101 - 16 seconds - loss: 0.035181056665670486 - acc: 0.6720348148103581 - val_loss: 1.6746744000001266 - val_acc: 0.67554\n"
     ]
    },
    {
     "name": "stdout",
     "output_type": "stream",
     "text": [
      "Epoch 10 / 101 - 18 seconds - loss: 0.03321015072714011 - acc: 0.6794445814882556 - val_loss: 1.5779378807897524 - val_acc: 0.68398\n"
     ]
    },
    {
     "name": "stdout",
     "output_type": "stream",
     "text": [
      "Epoch 11 / 101 - 19 seconds - loss: 0.03125077123568442 - acc: 0.6894260504909511 - val_loss: 1.4830809814064243 - val_acc: 0.6948\n"
     ]
    },
    {
     "name": "stdout",
     "output_type": "stream",
     "text": [
      "Epoch 12 / 101 - 21 seconds - loss: 0.029350605854199577 - acc: 0.7002276514969196 - val_loss: 1.3920713943256726 - val_acc: 0.70578\n"
     ]
    },
    {
     "name": "stdout",
     "output_type": "stream",
     "text": [
      "Epoch 13 / 101 - 23 seconds - loss: 0.027543716215475782 - acc: 0.7116899457306507 - val_loss: 1.3063048079969446 - val_acc: 0.7176\n"
     ]
    },
    {
     "name": "stdout",
     "output_type": "stream",
     "text": [
      "Epoch 14 / 101 - 24 seconds - loss: 0.025854262437651758 - acc: 0.7239877893964188 - val_loss: 1.2267522820478223 - val_acc: 0.7306\n"
     ]
    },
    {
     "name": "stdout",
     "output_type": "stream",
     "text": [
      "Epoch 15 / 101 - 26 seconds - loss: 0.024297559878018005 - acc: 0.7357418866721217 - val_loss: 1.1539310997848458 - val_acc: 0.74206\n"
     ]
    },
    {
     "name": "stdout",
     "output_type": "stream",
     "text": [
      "Epoch 16 / 101 - 28 seconds - loss: 0.02287955425290126 - acc: 0.7470466223045822 - val_loss: 1.0879019822523042 - val_acc: 0.75312\n"
     ]
    },
    {
     "name": "stdout",
     "output_type": "stream",
     "text": [
      "Epoch 17 / 101 - 30 seconds - loss: 0.0215975719664615 - acc: 0.7588356908211397 - val_loss: 1.0283544489444272 - val_acc: 0.76398\n"
     ]
    },
    {
     "name": "stdout",
     "output_type": "stream",
     "text": [
      "Epoch 18 / 101 - 32 seconds - loss: 0.020443091297091744 - acc: 0.7689179371630728 - val_loss: 0.9747822545674103 - val_acc: 0.77478\n"
     ]
    },
    {
     "name": "stdout",
     "output_type": "stream",
     "text": [
      "Epoch 19 / 101 - 33 seconds - loss: 0.019404338185924012 - acc: 0.7792506227137082 - val_loss: 0.9265684237500914 - val_acc: 0.78392\n"
     ]
    },
    {
     "name": "stdout",
     "output_type": "stream",
     "text": [
      "Epoch 20 / 101 - 35 seconds - loss: 0.01846915965590794 - acc: 0.7885875679871005 - val_loss: 0.8831374452841505 - val_acc: 0.79302\n"
     ]
    },
    {
     "name": "stdout",
     "output_type": "stream",
     "text": [
      "Epoch 21 / 101 - 37 seconds - loss: 0.017626046741987495 - acc: 0.7969426862726223 - val_loss: 0.8439468038709212 - val_acc: 0.80144\n"
     ]
    },
    {
     "name": "stdout",
     "output_type": "stream",
     "text": [
      "Epoch 22 / 101 - 39 seconds - loss: 0.016864597389151807 - acc: 0.8051876263477089 - val_loss: 0.8085209074703665 - val_acc: 0.80892\n"
     ]
    },
    {
     "name": "stdout",
     "output_type": "stream",
     "text": [
      "Epoch 23 / 101 - 40 seconds - loss: 0.016175765918632696 - acc: 0.8124646527242972 - val_loss: 0.7764382300860272 - val_acc: 0.81606\n"
     ]
    },
    {
     "name": "stdout",
     "output_type": "stream",
     "text": [
      "Epoch 24 / 101 - 42 seconds - loss: 0.01555120581320454 - acc: 0.8192949497015788 - val_loss: 0.7473233952830386 - val_acc: 0.82238\n"
     ]
    },
    {
     "name": "stdout",
     "output_type": "stream",
     "text": [
      "Epoch 25 / 101 - 44 seconds - loss: 0.014983946612570334 - acc: 0.8249685634867154 - val_loss: 0.7208408619682065 - val_acc: 0.82806\n"
     ]
    },
    {
     "name": "stdout",
     "output_type": "stream",
     "text": [
      "Epoch 26 / 101 - 45 seconds - loss: 0.014467394816799949 - acc: 0.8308403476366962 - val_loss: 0.6966966400768462 - val_acc: 0.83292\n"
     ]
    },
    {
     "name": "stdout",
     "output_type": "stream",
     "text": [
      "Epoch 27 / 101 - 47 seconds - loss: 0.013995767665772724 - acc: 0.8352023518723527 - val_loss: 0.6746285838028916 - val_acc: 0.83728\n"
     ]
    },
    {
     "name": "stdout",
     "output_type": "stream",
     "text": [
      "Epoch 28 / 101 - 49 seconds - loss: 0.013564190008343227 - acc: 0.838802133471313 - val_loss: 0.6544033090775442 - val_acc: 0.8409\n"
     ]
    },
    {
     "name": "stdout",
     "output_type": "stream",
     "text": [
      "Epoch 29 / 101 - 51 seconds - loss: 0.013168119226443082 - acc: 0.8422932409992299 - val_loss: 0.6358190976163685 - val_acc: 0.84452\n"
     ]
    },
    {
     "name": "stdout",
     "output_type": "stream",
     "text": [
      "Epoch 30 / 101 - 53 seconds - loss: 0.012803823854122282 - acc: 0.8466740469772815 - val_loss: 0.61869885567538 - val_acc: 0.84794\n"
     ]
    },
    {
     "name": "stdout",
     "output_type": "stream",
     "text": [
      "Epoch 31 / 101 - 54 seconds - loss: 0.012467776145765492 - acc: 0.8495108538698498 - val_loss: 0.6028888456096078 - val_acc: 0.8512\n"
     ]
    },
    {
     "name": "stdout",
     "output_type": "stream",
     "text": [
      "Epoch 32 / 101 - 56 seconds - loss: 0.012157018535965038 - acc: 0.8524439256834809 - val_loss: 0.5882486953269644 - val_acc: 0.85404\n"
     ]
    },
    {
     "name": "stdout",
     "output_type": "stream",
     "text": [
      "Epoch 33 / 101 - 58 seconds - loss: 0.0118689494805509 - acc: 0.8552506497882172 - val_loss: 0.5746614788775992 - val_acc: 0.85642\n"
     ]
    },
    {
     "name": "stdout",
     "output_type": "stream",
     "text": [
      "Epoch 34 / 101 - 59 seconds - loss: 0.011601343821074448 - acc: 0.8576004915527531 - val_loss: 0.5620240283439326 - val_acc: 0.85862\n"
     ]
    },
    {
     "name": "stdout",
     "output_type": "stream",
     "text": [
      "Epoch 35 / 101 - 61 seconds - loss: 0.011352151930630128 - acc: 0.8600469742731999 - val_loss: 0.5502465687884731 - val_acc: 0.86084\n"
     ]
    },
    {
     "name": "stdout",
     "output_type": "stream",
     "text": [
      "Epoch 36 / 101 - 63 seconds - loss: 0.011119715870365086 - acc: 0.862320104928764 - val_loss: 0.5392437621957131 - val_acc: 0.86366\n"
     ]
    },
    {
     "name": "stdout",
     "output_type": "stream",
     "text": [
      "Epoch 37 / 101 - 65 seconds - loss: 0.010902275042376152 - acc: 0.8644274042164036 - val_loss: 0.5289463497266688 - val_acc: 0.86534\n"
     ]
    },
    {
     "name": "stdout",
     "output_type": "stream",
     "text": [
      "Epoch 38 / 101 - 66 seconds - loss: 0.010698651521408625 - acc: 0.8658864194262611 - val_loss: 0.5192893008404595 - val_acc: 0.86686\n"
     ]
    },
    {
     "name": "stdout",
     "output_type": "stream",
     "text": [
      "Epoch 39 / 101 - 68 seconds - loss: 0.010507557109944263 - acc: 0.8677831391990759 - val_loss: 0.5102147031396169 - val_acc: 0.86864\n"
     ]
    },
    {
     "name": "stdout",
     "output_type": "stream",
     "text": [
      "Epoch 40 / 101 - 70 seconds - loss: 0.010327713529073112 - acc: 0.8693748947102425 - val_loss: 0.5016743349180538 - val_acc: 0.87004\n"
     ]
    },
    {
     "name": "stdout",
     "output_type": "stream",
     "text": [
      "Epoch 41 / 101 - 72 seconds - loss: 0.010158418184740135 - acc: 0.8708553439064305 - val_loss: 0.49362520860348424 - val_acc: 0.8714\n"
     ]
    },
    {
     "name": "stdout",
     "output_type": "stream",
     "text": [
      "Epoch 42 / 101 - 73 seconds - loss: 0.009998771395048131 - acc: 0.8719424606517135 - val_loss: 0.4860260869586123 - val_acc: 0.87256\n"
     ]
    },
    {
     "name": "stdout",
     "output_type": "stream",
     "text": [
      "Epoch 43 / 101 - 75 seconds - loss: 0.00984785862959737 - acc: 0.8732206030997305 - val_loss: 0.47883850804698463 - val_acc: 0.87396\n"
     ]
    },
    {
     "name": "stdout",
     "output_type": "stream",
     "text": [
      "Epoch 44 / 101 - 77 seconds - loss: 0.009705031193159309 - acc: 0.8747059407489411 - val_loss: 0.47203272405903196 - val_acc: 0.87556\n"
     ]
    },
    {
     "name": "stdout",
     "output_type": "stream",
     "text": [
      "Epoch 45 / 101 - 79 seconds - loss: 0.009569663320985492 - acc: 0.8761435219724683 - val_loss: 0.46558103964053826 - val_acc: 0.87676\n"
     ]
    },
    {
     "name": "stdout",
     "output_type": "stream",
     "text": [
      "Epoch 46 / 101 - 80 seconds - loss: 0.009441357340079023 - acc: 0.8773851890402388 - val_loss: 0.45945472993055597 - val_acc: 0.87834\n"
     ]
    },
    {
     "name": "stdout",
     "output_type": "stream",
     "text": [
      "Epoch 47 / 101 - 82 seconds - loss: 0.009319339467452541 - acc: 0.8788182578455911 - val_loss: 0.45363070776617287 - val_acc: 0.87954\n"
     ]
    },
    {
     "name": "stdout",
     "output_type": "stream",
     "text": [
      "Epoch 48 / 101 - 84 seconds - loss: 0.009203283521128714 - acc: 0.8799730608634964 - val_loss: 0.4480848835042677 - val_acc: 0.8805\n"
     ]
    },
    {
     "name": "stdout",
     "output_type": "stream",
     "text": [
      "Epoch 49 / 101 - 86 seconds - loss: 0.009092769266730825 - acc: 0.8807334033259531 - val_loss: 0.4427988871916251 - val_acc: 0.88118\n"
     ]
    },
    {
     "name": "stdout",
     "output_type": "stream",
     "text": [
      "Epoch 50 / 101 - 87 seconds - loss: 0.008987366871524023 - acc: 0.8817727636455526 - val_loss: 0.43775310314431026 - val_acc: 0.88232\n"
     ]
    },
    {
     "name": "stdout",
     "output_type": "stream",
     "text": [
      "Epoch 51 / 101 - 89 seconds - loss: 0.008886663211871999 - acc: 0.88262974706392 - val_loss: 0.4329298690750173 - val_acc: 0.88308\n"
     ]
    },
    {
     "name": "stdout",
     "output_type": "stream",
     "text": [
      "Epoch 52 / 101 - 91 seconds - loss: 0.008790362697487605 - acc: 0.8834965073883326 - val_loss: 0.4283150070662313 - val_acc: 0.88398\n"
     ]
    },
    {
     "name": "stdout",
     "output_type": "stream",
     "text": [
      "Epoch 53 / 101 - 93 seconds - loss: 0.008698108911309907 - acc: 0.8842075892857143 - val_loss: 0.4238961045407376 - val_acc: 0.88468\n"
     ]
    },
    {
     "name": "stdout",
     "output_type": "stream",
     "text": [
      "Epoch 54 / 101 - 94 seconds - loss: 0.008609774700798795 - acc: 0.8851236101752021 - val_loss: 0.4196591021494414 - val_acc: 0.88574\n"
     ]
    },
    {
     "name": "stdout",
     "output_type": "stream",
     "text": [
      "Epoch 55 / 101 - 96 seconds - loss: 0.008524981839569325 - acc: 0.8860866354206777 - val_loss: 0.4155927948132473 - val_acc: 0.88622\n"
     ]
    },
    {
     "name": "stdout",
     "output_type": "stream",
     "text": [
      "Epoch 56 / 101 - 98 seconds - loss: 0.008443659532847396 - acc: 0.886642414925876 - val_loss: 0.41168753791949125 - val_acc: 0.88724\n"
     ]
    },
    {
     "name": "stdout",
     "output_type": "stream",
     "text": [
      "Epoch 57 / 101 - 100 seconds - loss: 0.008365446501383019 - acc: 0.8875813739410858 - val_loss: 0.4079310772619242 - val_acc: 0.88792\n"
     ]
    },
    {
     "name": "stdout",
     "output_type": "stream",
     "text": [
      "Epoch 58 / 101 - 101 seconds - loss: 0.008290214078191093 - acc: 0.8880314876540238 - val_loss: 0.4043149943786694 - val_acc: 0.88852\n"
     ]
    },
    {
     "name": "stdout",
     "output_type": "stream",
     "text": [
      "Epoch 59 / 101 - 103 seconds - loss: 0.008217786677625922 - acc: 0.8887365529938391 - val_loss: 0.400830853448903 - val_acc: 0.88922\n"
     ]
    },
    {
     "name": "stdout",
     "output_type": "stream",
     "text": [
      "Epoch 60 / 101 - 105 seconds - loss: 0.00814794341689821 - acc: 0.8895777429485946 - val_loss: 0.39747127915106795 - val_acc: 0.89\n"
     ]
    },
    {
     "name": "stdout",
     "output_type": "stream",
     "text": [
      "Epoch 61 / 101 - 107 seconds - loss: 0.008080563658950237 - acc: 0.8903832095927993 - val_loss: 0.39422821099013666 - val_acc: 0.89094\n"
     ]
    },
    {
     "name": "stdout",
     "output_type": "stream",
     "text": [
      "Epoch 62 / 101 - 108 seconds - loss: 0.008015518556897448 - acc: 0.891258242683866 - val_loss: 0.39109561193461506 - val_acc: 0.8914\n"
     ]
    },
    {
     "name": "stdout",
     "output_type": "stream",
     "text": [
      "Epoch 63 / 101 - 110 seconds - loss: 0.007952575735519501 - acc: 0.8919159276328457 - val_loss: 0.38806710998500954 - val_acc: 0.89202\n"
     ]
    },
    {
     "name": "stdout",
     "output_type": "stream",
     "text": [
      "Epoch 64 / 101 - 112 seconds - loss: 0.007891774654610996 - acc: 0.892597678812091 - val_loss: 0.3851373625526385 - val_acc: 0.89276\n"
     ]
    },
    {
     "name": "stdout",
     "output_type": "stream",
     "text": [
      "Epoch 65 / 101 - 114 seconds - loss: 0.00783295177771506 - acc: 0.8931260077733923 - val_loss: 0.38230090394671534 - val_acc: 0.8934\n"
     ]
    },
    {
     "name": "stdout",
     "output_type": "stream",
     "text": [
      "Epoch 66 / 101 - 116 seconds - loss: 0.007775908427902609 - acc: 0.8937107419618792 - val_loss: 0.3795520884603424 - val_acc: 0.89414\n"
     ]
    },
    {
     "name": "stdout",
     "output_type": "stream",
     "text": [
      "Epoch 67 / 101 - 117 seconds - loss: 0.007720705735480174 - acc: 0.8942635131882942 - val_loss: 0.37688653189745874 - val_acc: 0.89454\n"
     ]
    },
    {
     "name": "stdout",
     "output_type": "stream",
     "text": [
      "Epoch 68 / 101 - 119 seconds - loss: 0.007667064767428474 - acc: 0.8946090892135156 - val_loss: 0.3743008033089049 - val_acc: 0.89502\n"
     ]
    },
    {
     "name": "stdout",
     "output_type": "stream",
     "text": [
      "Epoch 69 / 101 - 121 seconds - loss: 0.00761504480745067 - acc: 0.8953265637033114 - val_loss: 0.3717913163537052 - val_acc: 0.89566\n"
     ]
    },
    {
     "name": "stdout",
     "output_type": "stream",
     "text": [
      "Epoch 70 / 101 - 123 seconds - loss: 0.007564556901487532 - acc: 0.8958304503994995 - val_loss: 0.36935258104356533 - val_acc: 0.89608\n"
     ]
    },
    {
     "name": "stdout",
     "output_type": "stream",
     "text": [
      "Epoch 71 / 101 - 124 seconds - loss: 0.00751549008225227 - acc: 0.8964915196621102 - val_loss: 0.36698141795992223 - val_acc: 0.89672\n"
     ]
    },
    {
     "name": "stdout",
     "output_type": "stream",
     "text": [
      "Epoch 72 / 101 - 126 seconds - loss: 0.007467734130347624 - acc: 0.8970510595157875 - val_loss: 0.364675456346574 - val_acc: 0.89734\n"
     ]
    },
    {
     "name": "stdout",
     "output_type": "stream",
     "text": [
      "Epoch 73 / 101 - 128 seconds - loss: 0.0074213227104306745 - acc: 0.8975278717029265 - val_loss: 0.3624310886022383 - val_acc: 0.89792\n"
     ]
    },
    {
     "name": "stdout",
     "output_type": "stream",
     "text": [
      "Epoch 74 / 101 - 130 seconds - loss: 0.007376128081155349 - acc: 0.8980659775702734 - val_loss: 0.36024443164282377 - val_acc: 0.89842\n"
     ]
    },
    {
     "name": "stdout",
     "output_type": "stream",
     "text": [
      "Epoch 75 / 101 - 131 seconds - loss: 0.007332036479835669 - acc: 0.8986522158981518 - val_loss: 0.3581136193138995 - val_acc: 0.89894\n"
     ]
    },
    {
     "name": "stdout",
     "output_type": "stream",
     "text": [
      "Epoch 76 / 101 - 133 seconds - loss: 0.007289086570715752 - acc: 0.8989804943203697 - val_loss: 0.35603635860018285 - val_acc: 0.89938\n"
     ]
    },
    {
     "name": "stdout",
     "output_type": "stream",
     "text": [
      "Epoch 77 / 101 - 135 seconds - loss: 0.007247189616343365 - acc: 0.8996645017087024 - val_loss: 0.35400938360435535 - val_acc: 0.89988\n"
     ]
    },
    {
     "name": "stdout",
     "output_type": "stream",
     "text": [
      "Epoch 78 / 101 - 137 seconds - loss: 0.007206311370526402 - acc: 0.9002048637851368 - val_loss: 0.35203123654100565 - val_acc: 0.90042\n"
     ]
    },
    {
     "name": "stdout",
     "output_type": "stream",
     "text": [
      "Epoch 79 / 101 - 138 seconds - loss: 0.007166434942152237 - acc: 0.9005256215103966 - val_loss: 0.35010011483341735 - val_acc: 0.90086\n"
     ]
    },
    {
     "name": "stdout",
     "output_type": "stream",
     "text": [
      "Epoch 80 / 101 - 140 seconds - loss: 0.007127497752636594 - acc: 0.9010934341307277 - val_loss: 0.3482122429148852 - val_acc: 0.90136\n"
     ]
    },
    {
     "name": "stdout",
     "output_type": "stream",
     "text": [
      "Epoch 81 / 101 - 142 seconds - loss: 0.007089303759125988 - acc: 0.901645829322295 - val_loss: 0.34636711005284754 - val_acc: 0.90174\n"
     ]
    },
    {
     "name": "stdout",
     "output_type": "stream",
     "text": [
      "Epoch 82 / 101 - 144 seconds - loss: 0.007052158014809017 - acc: 0.901794739122064 - val_loss: 0.34456300828184877 - val_acc: 0.90214\n"
     ]
    },
    {
     "name": "stdout",
     "output_type": "stream",
     "text": [
      "Epoch 83 / 101 - 145 seconds - loss: 0.007015684954050565 - acc: 0.9022993778879477 - val_loss: 0.3427978141021491 - val_acc: 0.9026\n"
     ]
    },
    {
     "name": "stdout",
     "output_type": "stream",
     "text": [
      "Epoch 84 / 101 - 147 seconds - loss: 0.006980078244149722 - acc: 0.9027047434539853 - val_loss: 0.3410704171635856 - val_acc: 0.90294\n"
     ]
    },
    {
     "name": "stdout",
     "output_type": "stream",
     "text": [
      "Epoch 85 / 101 - 149 seconds - loss: 0.006945185520944738 - acc: 0.9031165016124375 - val_loss: 0.3393788038045758 - val_acc: 0.90336\n"
     ]
    },
    {
     "name": "stdout",
     "output_type": "stream",
     "text": [
      "Epoch 86 / 101 - 151 seconds - loss: 0.0069109853390643934 - acc: 0.903431242780131 - val_loss: 0.3377215267614942 - val_acc: 0.90372\n"
     ]
    },
    {
     "name": "stdout",
     "output_type": "stream",
     "text": [
      "Epoch 87 / 101 - 152 seconds - loss: 0.006877462441382068 - acc: 0.9039543072535617 - val_loss: 0.3360979521768005 - val_acc: 0.90412\n"
     ]
    },
    {
     "name": "stdout",
     "output_type": "stream",
     "text": [
      "Epoch 88 / 101 - 154 seconds - loss: 0.006844657479842963 - acc: 0.9042367094243359 - val_loss: 0.334506506011963 - val_acc: 0.90458\n"
     ]
    },
    {
     "name": "stdout",
     "output_type": "stream",
     "text": [
      "Epoch 89 / 101 - 156 seconds - loss: 0.0068125235465052066 - acc: 0.9047240505872159 - val_loss: 0.3329460256622025 - val_acc: 0.90494\n"
     ]
    },
    {
     "name": "stdout",
     "output_type": "stream",
     "text": [
      "Epoch 90 / 101 - 158 seconds - loss: 0.0067809711503282665 - acc: 0.9051474658259531 - val_loss: 0.33141496433527334 - val_acc: 0.90524\n"
     ]
    },
    {
     "name": "stdout",
     "output_type": "stream",
     "text": [
      "Epoch 91 / 101 - 159 seconds - loss: 0.006749991791098081 - acc: 0.9052350819455139 - val_loss: 0.32991249609430373 - val_acc: 0.90544\n"
     ]
    },
    {
     "name": "stdout",
     "output_type": "stream",
     "text": [
      "Epoch 92 / 101 - 161 seconds - loss: 0.006719593859191833 - acc: 0.9055272610223335 - val_loss: 0.32843769256124544 - val_acc: 0.90574\n"
     ]
    },
    {
     "name": "stdout",
     "output_type": "stream",
     "text": [
      "Epoch 93 / 101 - 163 seconds - loss: 0.006689807337892243 - acc: 0.9058536592703119 - val_loss: 0.3269896626993357 - val_acc: 0.906\n"
     ]
    },
    {
     "name": "stdout",
     "output_type": "stream",
     "text": [
      "Epoch 94 / 101 - 165 seconds - loss: 0.006660482982676866 - acc: 0.9062323263621486 - val_loss: 0.32556742048590237 - val_acc: 0.90634\n"
     ]
    },
    {
     "name": "stdout",
     "output_type": "stream",
     "text": [
      "Epoch 95 / 101 - 166 seconds - loss: 0.0066317278193548665 - acc: 0.9063692030467848 - val_loss: 0.32416981299516434 - val_acc: 0.9067\n"
     ]
    },
    {
     "name": "stdout",
     "output_type": "stream",
     "text": [
      "Epoch 96 / 101 - 168 seconds - loss: 0.006603441167714534 - acc: 0.9067644156719291 - val_loss: 0.32279594269321044 - val_acc: 0.90698\n"
     ]
    },
    {
     "name": "stdout",
     "output_type": "stream",
     "text": [
      "Epoch 97 / 101 - 170 seconds - loss: 0.006575619948340402 - acc: 0.9071389463804389 - val_loss: 0.3214452370648047 - val_acc: 0.90732\n"
     ]
    },
    {
     "name": "stdout",
     "output_type": "stream",
     "text": [
      "Epoch 98 / 101 - 172 seconds - loss: 0.0065483228294602736 - acc: 0.9074578239314594 - val_loss: 0.32011696637423626 - val_acc: 0.90758\n"
     ]
    },
    {
     "name": "stdout",
     "output_type": "stream",
     "text": [
      "Epoch 99 / 101 - 173 seconds - loss: 0.006521397519953246 - acc: 0.9078248339430112 - val_loss: 0.31881009077273936 - val_acc: 0.90794\n"
     ]
    },
    {
     "name": "stdout",
     "output_type": "stream",
     "text": [
      "Epoch 100 / 101 - 175 seconds - loss: 0.006494928793926344 - acc: 0.9080955790335001 - val_loss: 0.31752393680920604 - val_acc: 0.90848\n"
     ]
    },
    {
     "name": "stdout",
     "output_type": "stream",
     "text": [
      "Epoch 1 / 101 - 2 seconds - loss: 2.3005889779167257 - acc: 0.08508 - val_loss: 2.2472547441231745 - val_acc: 0.31422\n"
     ]
    },
    {
     "name": "stdout",
     "output_type": "stream",
     "text": [
      "Epoch 2 / 101 - 3 seconds - loss: 2.2472547441231745 - acc: 0.31422 - val_loss: 2.193951959062558 - val_acc: 0.43656\n"
     ]
    },
    {
     "name": "stdout",
     "output_type": "stream",
     "text": [
      "Epoch 3 / 101 - 5 seconds - loss: 2.1939519590625562 - acc: 0.43656 - val_loss: 2.137820329311849 - val_acc: 0.51468\n"
     ]
    },
    {
     "name": "stdout",
     "output_type": "stream",
     "text": [
      "Epoch 4 / 101 - 7 seconds - loss: 2.1378203293118494 - acc: 0.51468 - val_loss: 2.076678213537503 - val_acc: 0.55708\n"
     ]
    },
    {
     "name": "stdout",
     "output_type": "stream",
     "text": [
      "Epoch 5 / 101 - 9 seconds - loss: 2.0766782135375026 - acc: 0.55708 - val_loss: 2.0092227410815737 - val_acc: 0.58082\n"
     ]
    },
    {
     "name": "stdout",
     "output_type": "stream",
     "text": [
      "Epoch 6 / 101 - 11 seconds - loss: 2.0092227410815737 - acc: 0.58082 - val_loss: 1.9353928448497693 - val_acc: 0.5952\n"
     ]
    },
    {
     "name": "stdout",
     "output_type": "stream",
     "text": [
      "Epoch 7 / 101 - 12 seconds - loss: 1.9353928448497695 - acc: 0.5952 - val_loss: 1.8566160431057677 - val_acc: 0.60736\n"
     ]
    },
    {
     "name": "stdout",
     "output_type": "stream",
     "text": [
      "Epoch 8 / 101 - 14 seconds - loss: 1.8566160431057679 - acc: 0.60736 - val_loss: 1.775201638616602 - val_acc: 0.61922\n"
     ]
    },
    {
     "name": "stdout",
     "output_type": "stream",
     "text": [
      "Epoch 9 / 101 - 16 seconds - loss: 1.775201638616602 - acc: 0.61922 - val_loss: 1.6931478398725017 - val_acc: 0.63228\n"
     ]
    },
    {
     "name": "stdout",
     "output_type": "stream",
     "text": [
      "Epoch 10 / 101 - 18 seconds - loss: 1.6931478398725022 - acc: 0.63228 - val_loss: 1.6112384542263667 - val_acc: 0.64784\n"
     ]
    },
    {
     "name": "stdout",
     "output_type": "stream",
     "text": [
      "Epoch 11 / 101 - 20 seconds - loss: 1.611238454226367 - acc: 0.64784 - val_loss: 1.5293460167420136 - val_acc: 0.66554\n"
     ]
    },
    {
     "name": "stdout",
     "output_type": "stream",
     "text": [
      "Epoch 12 / 101 - 21 seconds - loss: 1.5293460167420136 - acc: 0.66554 - val_loss: 1.4474958537218563 - val_acc: 0.68236\n"
     ]
    },
    {
     "name": "stdout",
     "output_type": "stream",
     "text": [
      "Epoch 13 / 101 - 23 seconds - loss: 1.447495853721857 - acc: 0.68236 - val_loss: 1.3664764572480734 - val_acc: 0.69926\n"
     ]
    },
    {
     "name": "stdout",
     "output_type": "stream",
     "text": [
      "Epoch 14 / 101 - 25 seconds - loss: 1.3664764572480739 - acc: 0.69926 - val_loss: 1.2877538212854165 - val_acc: 0.7138\n"
     ]
    },
    {
     "name": "stdout",
     "output_type": "stream",
     "text": [
      "Epoch 15 / 101 - 27 seconds - loss: 1.2877538212854158 - acc: 0.7138 - val_loss: 1.2129303108602831 - val_acc: 0.72782\n"
     ]
    },
    {
     "name": "stdout",
     "output_type": "stream",
     "text": [
      "Epoch 16 / 101 - 29 seconds - loss: 1.2129303108602831 - acc: 0.72782 - val_loss: 1.1431918978861906 - val_acc: 0.74166\n"
     ]
    },
    {
     "name": "stdout",
     "output_type": "stream",
     "text": [
      "Epoch 17 / 101 - 30 seconds - loss: 1.1431918978861906 - acc: 0.74166 - val_loss: 1.0791221593681108 - val_acc: 0.75486\n"
     ]
    },
    {
     "name": "stdout",
     "output_type": "stream",
     "text": [
      "Epoch 18 / 101 - 32 seconds - loss: 1.079122159368111 - acc: 0.75486 - val_loss: 1.0207572367334992 - val_acc: 0.7667\n"
     ]
    },
    {
     "name": "stdout",
     "output_type": "stream",
     "text": [
      "Epoch 19 / 101 - 34 seconds - loss: 1.0207572367334992 - acc: 0.7667 - val_loss: 0.9677998910934197 - val_acc: 0.77712\n"
     ]
    },
    {
     "name": "stdout",
     "output_type": "stream",
     "text": [
      "Epoch 20 / 101 - 36 seconds - loss: 0.9677998910934195 - acc: 0.77712 - val_loss: 0.9198003490976381 - val_acc: 0.78796\n"
     ]
    },
    {
     "name": "stdout",
     "output_type": "stream",
     "text": [
      "Epoch 21 / 101 - 38 seconds - loss: 0.9198003490976379 - acc: 0.78796 - val_loss: 0.8762986208770306 - val_acc: 0.7973\n"
     ]
    },
    {
     "name": "stdout",
     "output_type": "stream",
     "text": [
      "Epoch 22 / 101 - 40 seconds - loss: 0.8762986208770307 - acc: 0.7973 - val_loss: 0.8368638946092134 - val_acc: 0.80644\n"
     ]
    },
    {
     "name": "stdout",
     "output_type": "stream",
     "text": [
      "Epoch 23 / 101 - 41 seconds - loss: 0.8368638946092136 - acc: 0.80644 - val_loss: 0.8011132347904454 - val_acc: 0.8143\n"
     ]
    },
    {
     "name": "stdout",
     "output_type": "stream",
     "text": [
      "Epoch 24 / 101 - 43 seconds - loss: 0.8011132347904452 - acc: 0.8143 - val_loss: 0.7686960360585143 - val_acc: 0.82114\n"
     ]
    },
    {
     "name": "stdout",
     "output_type": "stream",
     "text": [
      "Epoch 25 / 101 - 45 seconds - loss: 0.7686960360585147 - acc: 0.82114 - val_loss: 0.7392901880860773 - val_acc: 0.82756\n"
     ]
    },
    {
     "name": "stdout",
     "output_type": "stream",
     "text": [
      "Epoch 26 / 101 - 47 seconds - loss: 0.7392901880860777 - acc: 0.82756 - val_loss: 0.7125948467242523 - val_acc: 0.83326\n"
     ]
    },
    {
     "name": "stdout",
     "output_type": "stream",
     "text": [
      "Epoch 27 / 101 - 48 seconds - loss: 0.7125948467242524 - acc: 0.83326 - val_loss: 0.6883239480283215 - val_acc: 0.8384\n"
     ]
    },
    {
     "name": "stdout",
     "output_type": "stream",
     "text": [
      "Epoch 28 / 101 - 50 seconds - loss: 0.6883239480283215 - acc: 0.8384 - val_loss: 0.6662181047795253 - val_acc: 0.84292\n"
     ]
    },
    {
     "name": "stdout",
     "output_type": "stream",
     "text": [
      "Epoch 29 / 101 - 52 seconds - loss: 0.666218104779525 - acc: 0.84292 - val_loss: 0.6460381855609921 - val_acc: 0.84722\n"
     ]
    },
    {
     "name": "stdout",
     "output_type": "stream",
     "text": [
      "Epoch 30 / 101 - 54 seconds - loss: 0.6460381855609921 - acc: 0.84722 - val_loss: 0.6275705691338558 - val_acc: 0.85032\n"
     ]
    },
    {
     "name": "stdout",
     "output_type": "stream",
     "text": [
      "Epoch 31 / 101 - 55 seconds - loss: 0.6275705691338553 - acc: 0.85032 - val_loss: 0.6106265972163704 - val_acc: 0.85294\n"
     ]
    },
    {
     "name": "stdout",
     "output_type": "stream",
     "text": [
      "Epoch 32 / 101 - 57 seconds - loss: 0.6106265972163704 - acc: 0.85294 - val_loss: 0.5950389804003692 - val_acc: 0.85546\n"
     ]
    },
    {
     "name": "stdout",
     "output_type": "stream",
     "text": [
      "Epoch 33 / 101 - 59 seconds - loss: 0.5950389804003692 - acc: 0.85546 - val_loss: 0.5806618499873941 - val_acc: 0.85774\n"
     ]
    },
    {
     "name": "stdout",
     "output_type": "stream",
     "text": [
      "Epoch 34 / 101 - 61 seconds - loss: 0.5806618499873942 - acc: 0.85774 - val_loss: 0.5673661375593839 - val_acc: 0.86022\n"
     ]
    },
    {
     "name": "stdout",
     "output_type": "stream",
     "text": [
      "Epoch 35 / 101 - 62 seconds - loss: 0.567366137559384 - acc: 0.86022 - val_loss: 0.5550387872042682 - val_acc: 0.86222\n"
     ]
    },
    {
     "name": "stdout",
     "output_type": "stream",
     "text": [
      "Epoch 36 / 101 - 64 seconds - loss: 0.555038787204268 - acc: 0.86222 - val_loss: 0.5435829207908929 - val_acc: 0.86436\n"
     ]
    },
    {
     "name": "stdout",
     "output_type": "stream",
     "text": [
      "Epoch 37 / 101 - 66 seconds - loss: 0.5435829207908927 - acc: 0.86436 - val_loss: 0.5329100500962455 - val_acc: 0.86572\n"
     ]
    },
    {
     "name": "stdout",
     "output_type": "stream",
     "text": [
      "Epoch 38 / 101 - 68 seconds - loss: 0.5329100500962455 - acc: 0.86572 - val_loss: 0.5229442095979069 - val_acc: 0.86704\n"
     ]
    },
    {
     "name": "stdout",
     "output_type": "stream",
     "text": [
      "Epoch 39 / 101 - 69 seconds - loss: 0.5229442095979069 - acc: 0.86704 - val_loss: 0.5136188393011312 - val_acc: 0.86856\n"
     ]
    },
    {
     "name": "stdout",
     "output_type": "stream",
     "text": [
      "Epoch 40 / 101 - 71 seconds - loss: 0.5136188393011311 - acc: 0.86856 - val_loss: 0.5048756611930718 - val_acc: 0.86994\n"
     ]
    },
    {
     "name": "stdout",
     "output_type": "stream",
     "text": [
      "Epoch 41 / 101 - 73 seconds - loss: 0.5048756611930716 - acc: 0.86994 - val_loss: 0.4966624142023114 - val_acc: 0.87126\n"
     ]
    },
    {
     "name": "stdout",
     "output_type": "stream",
     "text": [
      "Epoch 42 / 101 - 75 seconds - loss: 0.49666241420231144 - acc: 0.87126 - val_loss: 0.48893041325004954 - val_acc: 0.87236\n"
     ]
    },
    {
     "name": "stdout",
     "output_type": "stream",
     "text": [
      "Epoch 43 / 101 - 76 seconds - loss: 0.48893041325004954 - acc: 0.87236 - val_loss: 0.4816368393754137 - val_acc: 0.87382\n"
     ]
    },
    {
     "name": "stdout",
     "output_type": "stream",
     "text": [
      "Epoch 44 / 101 - 78 seconds - loss: 0.4816368393754137 - acc: 0.87382 - val_loss: 0.47474591814942735 - val_acc: 0.87508\n"
     ]
    },
    {
     "name": "stdout",
     "output_type": "stream",
     "text": [
      "Epoch 45 / 101 - 80 seconds - loss: 0.4747459181494273 - acc: 0.87508 - val_loss: 0.4682239330236758 - val_acc: 0.87624\n"
     ]
    },
    {
     "name": "stdout",
     "output_type": "stream",
     "text": [
      "Epoch 46 / 101 - 82 seconds - loss: 0.46822393302367576 - acc: 0.87624 - val_loss: 0.4620423718052312 - val_acc: 0.87736\n"
     ]
    },
    {
     "name": "stdout",
     "output_type": "stream",
     "text": [
      "Epoch 47 / 101 - 83 seconds - loss: 0.4620423718052309 - acc: 0.87736 - val_loss: 0.4561749887264724 - val_acc: 0.8784\n"
     ]
    },
    {
     "name": "stdout",
     "output_type": "stream",
     "text": [
      "Epoch 48 / 101 - 85 seconds - loss: 0.45617498872647233 - acc: 0.8784 - val_loss: 0.4505983367539274 - val_acc: 0.87956\n"
     ]
    },
    {
     "name": "stdout",
     "output_type": "stream",
     "text": [
      "Epoch 49 / 101 - 87 seconds - loss: 0.4505983367539274 - acc: 0.87956 - val_loss: 0.44529086589209166 - val_acc: 0.88054\n"
     ]
    },
    {
     "name": "stdout",
     "output_type": "stream",
     "text": [
      "Epoch 50 / 101 - 89 seconds - loss: 0.44529086589209144 - acc: 0.88054 - val_loss: 0.4402324928212518 - val_acc: 0.8814\n"
     ]
    },
    {
     "name": "stdout",
     "output_type": "stream",
     "text": [
      "Epoch 51 / 101 - 91 seconds - loss: 0.44023249282125193 - acc: 0.8814 - val_loss: 0.43540348156613706 - val_acc: 0.8824\n"
     ]
    },
    {
     "name": "stdout",
     "output_type": "stream",
     "text": [
      "Epoch 52 / 101 - 92 seconds - loss: 0.4354034815661372 - acc: 0.8824 - val_loss: 0.43078857762466705 - val_acc: 0.88332\n"
     ]
    },
    {
     "name": "stdout",
     "output_type": "stream",
     "text": [
      "Epoch 53 / 101 - 94 seconds - loss: 0.430788577624667 - acc: 0.88332 - val_loss: 0.42637225463151607 - val_acc: 0.88412\n"
     ]
    },
    {
     "name": "stdout",
     "output_type": "stream",
     "text": [
      "Epoch 54 / 101 - 96 seconds - loss: 0.42637225463151607 - acc: 0.88412 - val_loss: 0.4221414216856932 - val_acc: 0.88498\n"
     ]
    },
    {
     "name": "stdout",
     "output_type": "stream",
     "text": [
      "Epoch 55 / 101 - 98 seconds - loss: 0.4221414216856932 - acc: 0.88498 - val_loss: 0.4180838933452949 - val_acc: 0.88588\n"
     ]
    },
    {
     "name": "stdout",
     "output_type": "stream",
     "text": [
      "Epoch 56 / 101 - 99 seconds - loss: 0.4180838933452949 - acc: 0.88588 - val_loss: 0.41418804330498393 - val_acc: 0.88652\n"
     ]
    },
    {
     "name": "stdout",
     "output_type": "stream",
     "text": [
      "Epoch 57 / 101 - 101 seconds - loss: 0.41418804330498393 - acc: 0.88652 - val_loss: 0.4104440329064034 - val_acc: 0.88726\n"
     ]
    },
    {
     "name": "stdout",
     "output_type": "stream",
     "text": [
      "Epoch 58 / 101 - 103 seconds - loss: 0.41044403290640363 - acc: 0.88726 - val_loss: 0.4068425677721661 - val_acc: 0.88798\n"
     ]
    },
    {
     "name": "stdout",
     "output_type": "stream",
     "text": [
      "Epoch 59 / 101 - 105 seconds - loss: 0.4068425677721662 - acc: 0.88798 - val_loss: 0.4033747388745978 - val_acc: 0.88862\n"
     ]
    },
    {
     "name": "stdout",
     "output_type": "stream",
     "text": [
      "Epoch 60 / 101 - 107 seconds - loss: 0.4033747388745978 - acc: 0.88862 - val_loss: 0.4000316667790597 - val_acc: 0.88928\n"
     ]
    },
    {
     "name": "stdout",
     "output_type": "stream",
     "text": [
      "Epoch 61 / 101 - 108 seconds - loss: 0.40003166677905955 - acc: 0.88928 - val_loss: 0.396806608010008 - val_acc: 0.88986\n"
     ]
    },
    {
     "name": "stdout",
     "output_type": "stream",
     "text": [
      "Epoch 62 / 101 - 110 seconds - loss: 0.3968066080100081 - acc: 0.88986 - val_loss: 0.39369326669168153 - val_acc: 0.89046\n"
     ]
    },
    {
     "name": "stdout",
     "output_type": "stream",
     "text": [
      "Epoch 63 / 101 - 112 seconds - loss: 0.3936932666916815 - acc: 0.89046 - val_loss: 0.3906842720527769 - val_acc: 0.89114\n"
     ]
    },
    {
     "name": "stdout",
     "output_type": "stream",
     "text": [
      "Epoch 64 / 101 - 114 seconds - loss: 0.3906842720527768 - acc: 0.89114 - val_loss: 0.3877743297255254 - val_acc: 0.89166\n"
     ]
    },
    {
     "name": "stdout",
     "output_type": "stream",
     "text": [
      "Epoch 65 / 101 - 116 seconds - loss: 0.3877743297255252 - acc: 0.89166 - val_loss: 0.3849586005226081 - val_acc: 0.8922\n"
     ]
    },
    {
     "name": "stdout",
     "output_type": "stream",
     "text": [
      "Epoch 66 / 101 - 117 seconds - loss: 0.3849586005226082 - acc: 0.8922 - val_loss: 0.38223119744659934 - val_acc: 0.89282\n"
     ]
    },
    {
     "name": "stdout",
     "output_type": "stream",
     "text": [
      "Epoch 67 / 101 - 119 seconds - loss: 0.38223119744659945 - acc: 0.89282 - val_loss: 0.37958707142543074 - val_acc: 0.89348\n"
     ]
    },
    {
     "name": "stdout",
     "output_type": "stream",
     "text": [
      "Epoch 68 / 101 - 121 seconds - loss: 0.3795870714254308 - acc: 0.89348 - val_loss: 0.3770219570467922 - val_acc: 0.89428\n"
     ]
    },
    {
     "name": "stdout",
     "output_type": "stream",
     "text": [
      "Epoch 69 / 101 - 123 seconds - loss: 0.3770219570467921 - acc: 0.89428 - val_loss: 0.37453216154098323 - val_acc: 0.8949\n"
     ]
    },
    {
     "name": "stdout",
     "output_type": "stream",
     "text": [
      "Epoch 70 / 101 - 125 seconds - loss: 0.3745321615409831 - acc: 0.8949 - val_loss: 0.3721139296883086 - val_acc: 0.89554\n"
     ]
    },
    {
     "name": "stdout",
     "output_type": "stream",
     "text": [
      "Epoch 71 / 101 - 127 seconds - loss: 0.37211392968830864 - acc: 0.89554 - val_loss: 0.36976368360269746 - val_acc: 0.89614\n"
     ]
    },
    {
     "name": "stdout",
     "output_type": "stream",
     "text": [
      "Epoch 72 / 101 - 128 seconds - loss: 0.36976368360269746 - acc: 0.89614 - val_loss: 0.3674778877352316 - val_acc: 0.89668\n"
     ]
    },
    {
     "name": "stdout",
     "output_type": "stream",
     "text": [
      "Epoch 73 / 101 - 130 seconds - loss: 0.3674778877352316 - acc: 0.89668 - val_loss: 0.3652525663493264 - val_acc: 0.89694\n"
     ]
    },
    {
     "name": "stdout",
     "output_type": "stream",
     "text": [
      "Epoch 74 / 101 - 132 seconds - loss: 0.36525256634932624 - acc: 0.89694 - val_loss: 0.36308566189924624 - val_acc: 0.89732\n"
     ]
    },
    {
     "name": "stdout",
     "output_type": "stream",
     "text": [
      "Epoch 75 / 101 - 134 seconds - loss: 0.36308566189924635 - acc: 0.89732 - val_loss: 0.36097508278790363 - val_acc: 0.89772\n"
     ]
    },
    {
     "name": "stdout",
     "output_type": "stream",
     "text": [
      "Epoch 76 / 101 - 136 seconds - loss: 0.3609750827879035 - acc: 0.89772 - val_loss: 0.3589174565512804 - val_acc: 0.8982\n"
     ]
    },
    {
     "name": "stdout",
     "output_type": "stream",
     "text": [
      "Epoch 77 / 101 - 138 seconds - loss: 0.3589174565512804 - acc: 0.8982 - val_loss: 0.3569097099457278 - val_acc: 0.89858\n"
     ]
    },
    {
     "name": "stdout",
     "output_type": "stream",
     "text": [
      "Epoch 78 / 101 - 139 seconds - loss: 0.3569097099457278 - acc: 0.89858 - val_loss: 0.354949944713745 - val_acc: 0.89886\n"
     ]
    },
    {
     "name": "stdout",
     "output_type": "stream",
     "text": [
      "Epoch 79 / 101 - 141 seconds - loss: 0.35494994471374486 - acc: 0.89886 - val_loss: 0.3530359854093558 - val_acc: 0.89934\n"
     ]
    },
    {
     "name": "stdout",
     "output_type": "stream",
     "text": [
      "Epoch 80 / 101 - 143 seconds - loss: 0.3530359854093558 - acc: 0.89934 - val_loss: 0.3511661038131927 - val_acc: 0.89972\n"
     ]
    },
    {
     "name": "stdout",
     "output_type": "stream",
     "text": [
      "Epoch 81 / 101 - 145 seconds - loss: 0.35116610381319285 - acc: 0.89972 - val_loss: 0.349338433655931 - val_acc: 0.90004\n"
     ]
    },
    {
     "name": "stdout",
     "output_type": "stream",
     "text": [
      "Epoch 82 / 101 - 147 seconds - loss: 0.34933843365593104 - acc: 0.90004 - val_loss: 0.3475512541259734 - val_acc: 0.90046\n"
     ]
    },
    {
     "name": "stdout",
     "output_type": "stream",
     "text": [
      "Epoch 83 / 101 - 149 seconds - loss: 0.3475512541259734 - acc: 0.90046 - val_loss: 0.3458028416594519 - val_acc: 0.90098\n"
     ]
    },
    {
     "name": "stdout",
     "output_type": "stream",
     "text": [
      "Epoch 84 / 101 - 150 seconds - loss: 0.34580284165945185 - acc: 0.90098 - val_loss: 0.3440921176110271 - val_acc: 0.9014\n"
     ]
    },
    {
     "name": "stdout",
     "output_type": "stream",
     "text": [
      "Epoch 85 / 101 - 152 seconds - loss: 0.34409211761102715 - acc: 0.9014 - val_loss: 0.3424163939048028 - val_acc: 0.90192\n"
     ]
    },
    {
     "name": "stdout",
     "output_type": "stream",
     "text": [
      "Epoch 86 / 101 - 154 seconds - loss: 0.34241639390480255 - acc: 0.90192 - val_loss: 0.340773990662797 - val_acc: 0.90224\n"
     ]
    },
    {
     "name": "stdout",
     "output_type": "stream",
     "text": [
      "Epoch 87 / 101 - 156 seconds - loss: 0.3407739906627971 - acc: 0.90224 - val_loss: 0.33916393172635323 - val_acc: 0.90286\n"
     ]
    },
    {
     "name": "stdout",
     "output_type": "stream",
     "text": [
      "Epoch 88 / 101 - 157 seconds - loss: 0.339163931726353 - acc: 0.90286 - val_loss: 0.3375849766919752 - val_acc: 0.90324\n"
     ]
    },
    {
     "name": "stdout",
     "output_type": "stream",
     "text": [
      "Epoch 89 / 101 - 159 seconds - loss: 0.3375849766919751 - acc: 0.90324 - val_loss: 0.3360360673297247 - val_acc: 0.9036\n"
     ]
    },
    {
     "name": "stdout",
     "output_type": "stream",
     "text": [
      "Epoch 90 / 101 - 161 seconds - loss: 0.33603606732972463 - acc: 0.9036 - val_loss: 0.33451622310229695 - val_acc: 0.9039\n"
     ]
    },
    {
     "name": "stdout",
     "output_type": "stream",
     "text": [
      "Epoch 91 / 101 - 163 seconds - loss: 0.33451622310229695 - acc: 0.9039 - val_loss: 0.33302453911857804 - val_acc: 0.90434\n"
     ]
    },
    {
     "name": "stdout",
     "output_type": "stream",
     "text": [
      "Epoch 92 / 101 - 165 seconds - loss: 0.3330245391185782 - acc: 0.90434 - val_loss: 0.331559710770857 - val_acc: 0.90468\n"
     ]
    },
    {
     "name": "stdout",
     "output_type": "stream",
     "text": [
      "Epoch 93 / 101 - 166 seconds - loss: 0.33155971077085716 - acc: 0.90468 - val_loss: 0.3301211343099112 - val_acc: 0.90504\n"
     ]
    },
    {
     "name": "stdout",
     "output_type": "stream",
     "text": [
      "Epoch 94 / 101 - 168 seconds - loss: 0.3301211343099111 - acc: 0.90504 - val_loss: 0.32870741199184694 - val_acc: 0.90544\n"
     ]
    },
    {
     "name": "stdout",
     "output_type": "stream",
     "text": [
      "Epoch 95 / 101 - 170 seconds - loss: 0.32870741199184683 - acc: 0.90544 - val_loss: 0.3273182806002803 - val_acc: 0.90588\n"
     ]
    },
    {
     "name": "stdout",
     "output_type": "stream",
     "text": [
      "Epoch 96 / 101 - 172 seconds - loss: 0.32731828060028023 - acc: 0.90588 - val_loss: 0.325952512089248 - val_acc: 0.90628\n"
     ]
    },
    {
     "name": "stdout",
     "output_type": "stream",
     "text": [
      "Epoch 97 / 101 - 174 seconds - loss: 0.3259525120892479 - acc: 0.90628 - val_loss: 0.32460954261524033 - val_acc: 0.90662\n"
     ]
    },
    {
     "name": "stdout",
     "output_type": "stream",
     "text": [
      "Epoch 98 / 101 - 175 seconds - loss: 0.32460954261524044 - acc: 0.90662 - val_loss: 0.3232881672184413 - val_acc: 0.907\n"
     ]
    },
    {
     "name": "stdout",
     "output_type": "stream",
     "text": [
      "Epoch 99 / 101 - 177 seconds - loss: 0.3232881672184414 - acc: 0.907 - val_loss: 0.32198787563615 - val_acc: 0.90732\n"
     ]
    },
    {
     "name": "stdout",
     "output_type": "stream",
     "text": [
      "Epoch 100 / 101 - 179 seconds - loss: 0.3219878756361499 - acc: 0.90732 - val_loss: 0.3207080326002457 - val_acc: 0.90768\n"
     ]
    }
   ],
   "source": [
    "#First Experiment\n",
    "layers = [generate_layer(num_pixels, 128, \"relu\", \"l2\", 0.2)]\n",
    "layers.append(generate_layer(128, 10, \"softmax\", \"l2\", 0.2))\n",
    "log = {}\n",
    "for batch in [128,1024,6e5]:\n",
    "    net = MyDNN(layers, \"cross-entropy\")\n",
    "    log[batch] = net.fit(\n",
    "        training_samples, training_classifications, 100, batch, 0.4,\n",
    "        validation_samples, validation_classifications)\n",
    "pickle.dump(log,open('Log_first.p','wb'))"
   ]
  },
  {
   "cell_type": "code",
   "execution_count": 9,
   "metadata": {},
   "outputs": [
    {
     "name": "stdout",
     "output_type": "stream",
     "text": [
      "Test 1 layer relu and 1 softmax\nBatch size: 128\nBatch size: 1024\n"
     ]
    },
    {
     "name": "stdout",
     "output_type": "stream",
     "text": [
      "Batch size: 600000.0\n"
     ]
    }
   ],
   "source": [
    "log = pickle.load(open('Log_first.p','rb'))\n",
    "from Macros import plot_graphs\n",
    "print('Test 1 layer relu and 1 softmax')\n",
    "for batch_size in log.keys():\n",
    "    print(f'Batch size: {batch_size}')\n",
    "    plot_graphs(log[batch_size])"
   ]
  },
  {
   "cell_type": "code",
   "execution_count": 8,
   "metadata": {
    "collapsed": false
   },
   "outputs": [
    {
     "name": "stdout",
     "output_type": "stream",
     "text": [
      "Epoch 1 / 101 - 2 seconds - loss: 0.04894986554758946 - acc: 0.1984617918511744 - val_loss: 2.275274466644647 - val_acc: 0.27622\n"
     ]
    },
    {
     "name": "stdout",
     "output_type": "stream",
     "text": [
      "Epoch 2 / 101 - 4 seconds - loss: 0.04842102002555152 - acc: 0.33545730349922986 - val_loss: 2.249661154469196 - val_acc: 0.38934\n"
     ]
    },
    {
     "name": "stdout",
     "output_type": "stream",
     "text": [
      "Epoch 3 / 101 - 6 seconds - loss: 0.04789652235835428 - acc: 0.43515918307181367 - val_loss: 2.224047040424629 - val_acc: 0.47994\n"
     ]
    },
    {
     "name": "stdout",
     "output_type": "stream",
     "text": [
      "Epoch 4 / 101 - 7 seconds - loss: 0.047369539950042935 - acc: 0.5194522826819407 - val_loss: 2.1980865165420496 - val_acc: 0.5547\n"
     ]
    },
    {
     "name": "stdout",
     "output_type": "stream",
     "text": [
      "Epoch 5 / 101 - 9 seconds - loss: 0.04683292401258712 - acc: 0.5810039227955333 - val_loss: 2.1714264972994957 - val_acc: 0.6043\n"
     ]
    },
    {
     "name": "stdout",
     "output_type": "stream",
     "text": [
      "Epoch 6 / 101 - 11 seconds - loss: 0.04627984433159005 - acc: 0.6212938005390836 - val_loss: 2.1437458798780034 - val_acc: 0.63576\n"
     ]
    },
    {
     "name": "stdout",
     "output_type": "stream",
     "text": [
      "Epoch 7 / 101 - 13 seconds - loss: 0.04570366870075521 - acc: 0.645438998122834 - val_loss: 2.1147263331429222 - val_acc: 0.65384\n"
     ]
    },
    {
     "name": "stdout",
     "output_type": "stream",
     "text": [
      "Epoch 8 / 101 - 15 seconds - loss: 0.04509848187147035 - acc: 0.6602179197150558 - val_loss: 2.0841098579803172 - val_acc: 0.666\n"
     ]
    },
    {
     "name": "stdout",
     "output_type": "stream",
     "text": [
      "Epoch 9 / 101 - 17 seconds - loss: 0.0444595947715237 - acc: 0.6694770257749326 - val_loss: 2.051684682359225 - val_acc: 0.67192\n"
     ]
    },
    {
     "name": "stdout",
     "output_type": "stream",
     "text": [
      "Epoch 10 / 101 - 18 seconds - loss: 0.04378344883261547 - acc: 0.6734189990854833 - val_loss: 2.0173222078016644 - val_acc: 0.67492\n"
     ]
    },
    {
     "name": "stdout",
     "output_type": "stream",
     "text": [
      "Epoch 11 / 101 - 20 seconds - loss: 0.04306837633647558 - acc: 0.6754484591596073 - val_loss: 1.980979816721349 - val_acc: 0.6762\n"
     ]
    },
    {
     "name": "stdout",
     "output_type": "stream",
     "text": [
      "Epoch 12 / 101 - 22 seconds - loss: 0.04231390594902922 - acc: 0.6760884704707355 - val_loss: 1.9426546408004413 - val_acc: 0.67598\n"
     ]
    },
    {
     "name": "stdout",
     "output_type": "stream",
     "text": [
      "Epoch 13 / 101 - 24 seconds - loss: 0.04152113150450622 - acc: 0.6758124608923759 - val_loss: 1.9024605553278955 - val_acc: 0.67546\n"
     ]
    },
    {
     "name": "stdout",
     "output_type": "stream",
     "text": [
      "Epoch 14 / 101 - 26 seconds - loss: 0.0406931504300787 - acc: 0.6760046146996534 - val_loss: 1.8605881911094229 - val_acc: 0.67534\n"
     ]
    },
    {
     "name": "stdout",
     "output_type": "stream",
     "text": [
      "Epoch 15 / 101 - 28 seconds - loss: 0.03983464494281085 - acc: 0.6748404108105506 - val_loss: 1.8173095640667418 - val_acc: 0.675\n"
     ]
    },
    {
     "name": "stdout",
     "output_type": "stream",
     "text": [
      "Epoch 16 / 101 - 30 seconds - loss: 0.038951927101498675 - acc: 0.6745956121245669 - val_loss: 1.772962207450439 - val_acc: 0.67476\n"
     ]
    },
    {
     "name": "stdout",
     "output_type": "stream",
     "text": [
      "Epoch 17 / 101 - 32 seconds - loss: 0.038051869406363306 - acc: 0.674759187283404 - val_loss: 1.7278943867401773 - val_acc: 0.67524\n"
     ]
    },
    {
     "name": "stdout",
     "output_type": "stream",
     "text": [
      "Epoch 18 / 101 - 34 seconds - loss: 0.03714172003674284 - acc: 0.6760245445465922 - val_loss: 1.6824581974709503 - val_acc: 0.67694\n"
     ]
    },
    {
     "name": "stdout",
     "output_type": "stream",
     "text": [
      "Epoch 19 / 101 - 35 seconds - loss: 0.036228102678302364 - acc: 0.6779630041875241 - val_loss: 1.636961658130025 - val_acc: 0.67884\n"
     ]
    },
    {
     "name": "stdout",
     "output_type": "stream",
     "text": [
      "Epoch 20 / 101 - 37 seconds - loss: 0.035316808771891736 - acc: 0.6805486198016942 - val_loss: 1.5916656389068131 - val_acc: 0.68218\n"
     ]
    },
    {
     "name": "stdout",
     "output_type": "stream",
     "text": [
      "Epoch 21 / 101 - 39 seconds - loss: 0.03441226978119112 - acc: 0.6835655473864074 - val_loss: 1.5467608375241113 - val_acc: 0.68508\n"
     ]
    },
    {
     "name": "stdout",
     "output_type": "stream",
     "text": [
      "Epoch 22 / 101 - 41 seconds - loss: 0.033518280980229825 - acc: 0.6872006762610705 - val_loss: 1.502430794185732 - val_acc: 0.68934\n"
     ]
    },
    {
     "name": "stdout",
     "output_type": "stream",
     "text": [
      "Epoch 23 / 101 - 43 seconds - loss: 0.03263782042086487 - acc: 0.6920834887610705 - val_loss: 1.4587953896395889 - val_acc: 0.69452\n"
     ]
    },
    {
     "name": "stdout",
     "output_type": "stream",
     "text": [
      "Epoch 24 / 101 - 44 seconds - loss: 0.03177344253515982 - acc: 0.697025338732191 - val_loss: 1.4159964678961934 - val_acc: 0.69998\n"
     ]
    },
    {
     "name": "stdout",
     "output_type": "stream",
     "text": [
      "Epoch 25 / 101 - 46 seconds - loss: 0.0309275180005481 - acc: 0.7023142688679245 - val_loss: 1.3741338834832146 - val_acc: 0.70576\n"
     ]
    },
    {
     "name": "stdout",
     "output_type": "stream",
     "text": [
      "Epoch 26 / 101 - 48 seconds - loss: 0.030102398701878457 - acc: 0.7085914185839429 - val_loss: 1.333337194887268 - val_acc: 0.7115\n"
     ]
    },
    {
     "name": "stdout",
     "output_type": "stream",
     "text": [
      "Epoch 27 / 101 - 50 seconds - loss: 0.029300399821870098 - acc: 0.7146749103532922 - val_loss: 1.2937136200088015 - val_acc: 0.71788\n"
     ]
    },
    {
     "name": "stdout",
     "output_type": "stream",
     "text": [
      "Epoch 28 / 101 - 51 seconds - loss: 0.02852360930307503 - acc: 0.7208384975452445 - val_loss: 1.2553679355418272 - val_acc: 0.72404\n"
     ]
    },
    {
     "name": "stdout",
     "output_type": "stream",
     "text": [
      "Epoch 29 / 101 - 53 seconds - loss: 0.02777380008563758 - acc: 0.7269216132797458 - val_loss: 1.2183775343638068 - val_acc: 0.7304\n"
     ]
    },
    {
     "name": "stdout",
     "output_type": "stream",
     "text": [
      "Epoch 30 / 101 - 55 seconds - loss: 0.027052460885872265 - acc: 0.7340775564353099 - val_loss: 1.182802948951486 - val_acc: 0.73716\n"
     ]
    },
    {
     "name": "stdout",
     "output_type": "stream",
     "text": [
      "Epoch 31 / 101 - 57 seconds - loss: 0.026360359588867042 - acc: 0.7403614747785907 - val_loss: 1.14868192085191 - val_acc: 0.74348\n"
     ]
    },
    {
     "name": "stdout",
     "output_type": "stream",
     "text": [
      "Epoch 32 / 101 - 58 seconds - loss: 0.02569808527727044 - acc: 0.7463806645889488 - val_loss: 1.1160271325596514 - val_acc: 0.74956\n"
     ]
    },
    {
     "name": "stdout",
     "output_type": "stream",
     "text": [
      "Epoch 33 / 101 - 60 seconds - loss: 0.025065676228876503 - acc: 0.7528093563486715 - val_loss: 1.0848350572057752 - val_acc: 0.75594\n"
     ]
    },
    {
     "name": "stdout",
     "output_type": "stream",
     "text": [
      "Epoch 34 / 101 - 62 seconds - loss: 0.024462823460237718 - acc: 0.7584652964959568 - val_loss: 1.0550875946439573 - val_acc: 0.76178\n"
     ]
    },
    {
     "name": "stdout",
     "output_type": "stream",
     "text": [
      "Epoch 35 / 101 - 64 seconds - loss: 0.02388893922920103 - acc: 0.7646518218136311 - val_loss: 1.026746194720912 - val_acc: 0.76814\n"
     ]
    },
    {
     "name": "stdout",
     "output_type": "stream",
     "text": [
      "Epoch 36 / 101 - 65 seconds - loss: 0.02334319572080588 - acc: 0.7710305009385829 - val_loss: 0.9997694260481093 - val_acc: 0.77348\n"
     ]
    },
    {
     "name": "stdout",
     "output_type": "stream",
     "text": [
      "Epoch 37 / 101 - 67 seconds - loss: 0.022824610557398664 - acc: 0.7764292332499038 - val_loss: 0.9741142481128827 - val_acc: 0.77944\n"
     ]
    },
    {
     "name": "stdout",
     "output_type": "stream",
     "text": [
      "Epoch 38 / 101 - 69 seconds - loss: 0.02233215518327488 - acc: 0.7823886335194455 - val_loss: 0.9497213478127778 - val_acc: 0.78534\n"
     ]
    },
    {
     "name": "stdout",
     "output_type": "stream",
     "text": [
      "Epoch 39 / 101 - 71 seconds - loss: 0.021864717874410886 - acc: 0.7879780154986523 - val_loss: 0.9265361700422681 - val_acc: 0.79016\n"
     ]
    },
    {
     "name": "stdout",
     "output_type": "stream",
     "text": [
      "Epoch 40 / 101 - 72 seconds - loss: 0.021421129069344715 - acc: 0.793079304245283 - val_loss: 0.9045056285187292 - val_acc: 0.79548\n"
     ]
    },
    {
     "name": "stdout",
     "output_type": "stream",
     "text": [
      "Epoch 41 / 101 - 74 seconds - loss: 0.021000179511907097 - acc: 0.7981208034510975 - val_loss: 0.8835714349258055 - val_acc: 0.80036\n"
     ]
    },
    {
     "name": "stdout",
     "output_type": "stream",
     "text": [
      "Epoch 42 / 101 - 76 seconds - loss: 0.02060079567276127 - acc: 0.8021402399403158 - val_loss: 0.8636774424749835 - val_acc: 0.80416\n"
     ]
    },
    {
     "name": "stdout",
     "output_type": "stream",
     "text": [
      "Epoch 43 / 101 - 78 seconds - loss: 0.0202218281471502 - acc: 0.8057170834135542 - val_loss: 0.8447735084630709 - val_acc: 0.80722\n"
     ]
    },
    {
     "name": "stdout",
     "output_type": "stream",
     "text": [
      "Epoch 44 / 101 - 79 seconds - loss: 0.019862275091723006 - acc: 0.8091329839718906 - val_loss: 0.8268083757684643 - val_acc: 0.81132\n"
     ]
    },
    {
     "name": "stdout",
     "output_type": "stream",
     "text": [
      "Epoch 45 / 101 - 81 seconds - loss: 0.019521008260052958 - acc: 0.8138477088948788 - val_loss: 0.8097286486010113 - val_acc: 0.81606\n"
     ]
    },
    {
     "name": "stdout",
     "output_type": "stream",
     "text": [
      "Epoch 46 / 101 - 83 seconds - loss: 0.019197057337834902 - acc: 0.8177039462601078 - val_loss: 0.7934876317796568 - val_acc: 0.81926\n"
     ]
    },
    {
     "name": "stdout",
     "output_type": "stream",
     "text": [
      "Epoch 47 / 101 - 85 seconds - loss: 0.018889425182129656 - acc: 0.8204903644830575 - val_loss: 0.7780407665237161 - val_acc: 0.82236\n"
     ]
    },
    {
     "name": "stdout",
     "output_type": "stream",
     "text": [
      "Epoch 48 / 101 - 86 seconds - loss: 0.01859727351028151 - acc: 0.82371523933866 - val_loss: 0.7633440786226018 - val_acc: 0.82536\n"
     ]
    },
    {
     "name": "stdout",
     "output_type": "stream",
     "text": [
      "Epoch 49 / 101 - 88 seconds - loss: 0.01831965502652906 - acc: 0.8268250475308048 - val_loss: 0.7493535878517693 - val_acc: 0.82864\n"
     ]
    },
    {
     "name": "stdout",
     "output_type": "stream",
     "text": [
      "Epoch 50 / 101 - 90 seconds - loss: 0.01805577961933795 - acc: 0.8300563149788217 - val_loss: 0.7360319294645536 - val_acc: 0.83154\n"
     ]
    },
    {
     "name": "stdout",
     "output_type": "stream",
     "text": [
      "Epoch 51 / 101 - 92 seconds - loss: 0.0178048634201786 - acc: 0.8329611841788603 - val_loss: 0.7233410634509153 - val_acc: 0.83416\n"
     ]
    },
    {
     "name": "stdout",
     "output_type": "stream",
     "text": [
      "Epoch 52 / 101 - 93 seconds - loss: 0.017566137787488112 - acc: 0.8357998712456681 - val_loss: 0.7112424187632045 - val_acc: 0.83704\n"
     ]
    },
    {
     "name": "stdout",
     "output_type": "stream",
     "text": [
      "Epoch 53 / 101 - 95 seconds - loss: 0.01733881554356158 - acc: 0.838176411484405 - val_loss: 0.6997007138866228 - val_acc: 0.839\n"
     ]
    },
    {
     "name": "stdout",
     "output_type": "stream",
     "text": [
      "Epoch 54 / 101 - 97 seconds - loss: 0.017122275764405316 - acc: 0.8401020859405083 - val_loss: 0.6886865895354514 - val_acc: 0.84126\n"
     ]
    },
    {
     "name": "stdout",
     "output_type": "stream",
     "text": [
      "Epoch 55 / 101 - 99 seconds - loss: 0.016915877650001136 - acc: 0.8418859952589527 - val_loss: 0.6781675098677942 - val_acc: 0.84296\n"
     ]
    },
    {
     "name": "stdout",
     "output_type": "stream",
     "text": [
      "Epoch 56 / 101 - 100 seconds - loss: 0.016719027322710137 - acc: 0.8438940213467462 - val_loss: 0.6681153984682824 - val_acc: 0.84482\n"
     ]
    },
    {
     "name": "stdout",
     "output_type": "stream",
     "text": [
      "Epoch 57 / 101 - 102 seconds - loss: 0.016531108026102283 - acc: 0.845748625216596 - val_loss: 0.6585045965683197 - val_acc: 0.8467\n"
     ]
    },
    {
     "name": "stdout",
     "output_type": "stream",
     "text": [
      "Epoch 58 / 101 - 104 seconds - loss: 0.016351683629242757 - acc: 0.8474242364988448 - val_loss: 0.64930970340208 - val_acc: 0.84826\n"
     ]
    },
    {
     "name": "stdout",
     "output_type": "stream",
     "text": [
      "Epoch 59 / 101 - 106 seconds - loss: 0.01618015604893226 - acc: 0.8491494843810167 - val_loss: 0.6405047899064273 - val_acc: 0.84998\n"
     ]
    },
    {
     "name": "stdout",
     "output_type": "stream",
     "text": [
      "Epoch 60 / 101 - 107 seconds - loss: 0.01601615474424908 - acc: 0.850547957980362 - val_loss: 0.632067714061319 - val_acc: 0.85152\n"
     ]
    },
    {
     "name": "stdout",
     "output_type": "stream",
     "text": [
      "Epoch 61 / 101 - 109 seconds - loss: 0.015859181825914677 - acc: 0.8520536015113592 - val_loss: 0.623979353106333 - val_acc: 0.85278\n"
     ]
    },
    {
     "name": "stdout",
     "output_type": "stream",
     "text": [
      "Epoch 62 / 101 - 111 seconds - loss: 0.015708861697230115 - acc: 0.8533242232624182 - val_loss: 0.6162194274612051 - val_acc: 0.85412\n"
     ]
    },
    {
     "name": "stdout",
     "output_type": "stream",
     "text": [
      "Epoch 63 / 101 - 113 seconds - loss: 0.015564816222171967 - acc: 0.8550900829081632 - val_loss: 0.6087697630348772 - val_acc: 0.8557\n"
     ]
    },
    {
     "name": "stdout",
     "output_type": "stream",
     "text": [
      "Epoch 64 / 101 - 114 seconds - loss: 0.015426623018774501 - acc: 0.8562170593473237 - val_loss: 0.6016128024794494 - val_acc: 0.85682\n"
     ]
    },
    {
     "name": "stdout",
     "output_type": "stream",
     "text": [
      "Epoch 65 / 101 - 116 seconds - loss: 0.015294031919626626 - acc: 0.8573571970061609 - val_loss: 0.5947318756659461 - val_acc: 0.85804\n"
     ]
    },
    {
     "name": "stdout",
     "output_type": "stream",
     "text": [
      "Epoch 66 / 101 - 118 seconds - loss: 0.015166671245976242 - acc: 0.8585183926164806 - val_loss: 0.5881114721224012 - val_acc: 0.85918\n"
     ]
    },
    {
     "name": "stdout",
     "output_type": "stream",
     "text": [
      "Epoch 67 / 101 - 120 seconds - loss: 0.015044240254236075 - acc: 0.8597006461782826 - val_loss: 0.5817378801803015 - val_acc: 0.86052\n"
     ]
    },
    {
     "name": "stdout",
     "output_type": "stream",
     "text": [
      "Epoch 68 / 101 - 121 seconds - loss: 0.014926502055791008 - acc: 0.8609844291490181 - val_loss: 0.5755998017458428 - val_acc: 0.86172\n"
     ]
    },
    {
     "name": "stdout",
     "output_type": "stream",
     "text": [
      "Epoch 69 / 101 - 123 seconds - loss: 0.014813214847502419 - acc: 0.8623280016605699 - val_loss: 0.5696835431831062 - val_acc: 0.86254\n"
     ]
    },
    {
     "name": "stdout",
     "output_type": "stream",
     "text": [
      "Epoch 70 / 101 - 125 seconds - loss: 0.01470408883256865 - acc: 0.8630503646033886 - val_loss: 0.5639776930777269 - val_acc: 0.86336\n"
     ]
    },
    {
     "name": "stdout",
     "output_type": "stream",
     "text": [
      "Epoch 71 / 101 - 127 seconds - loss: 0.014599005846649084 - acc: 0.8637761118598383 - val_loss: 0.5584722490634288 - val_acc: 0.86412\n"
     ]
    },
    {
     "name": "stdout",
     "output_type": "stream",
     "text": [
      "Epoch 72 / 101 - 128 seconds - loss: 0.014497598776621984 - acc: 0.8646406159751636 - val_loss: 0.5531566816399106 - val_acc: 0.86508\n"
     ]
    },
    {
     "name": "stdout",
     "output_type": "stream",
     "text": [
      "Epoch 73 / 101 - 130 seconds - loss: 0.014399863072613525 - acc: 0.8654197601800154 - val_loss: 0.5480212812014696 - val_acc: 0.86594\n"
     ]
    },
    {
     "name": "stdout",
     "output_type": "stream",
     "text": [
      "Epoch 74 / 101 - 132 seconds - loss: 0.014305479360663089 - acc: 0.8664801784510975 - val_loss: 0.5430582096539599 - val_acc: 0.86724\n"
     ]
    },
    {
     "name": "stdout",
     "output_type": "stream",
     "text": [
      "Epoch 75 / 101 - 134 seconds - loss: 0.014214320382293404 - acc: 0.8676462625144397 - val_loss: 0.5382581070871739 - val_acc: 0.86798\n"
     ]
    },
    {
     "name": "stdout",
     "output_type": "stream",
     "text": [
      "Epoch 76 / 101 - 135 seconds - loss: 0.014126218959543094 - acc: 0.8681997858105506 - val_loss: 0.5336126568844918 - val_acc: 0.86862\n"
     ]
    },
    {
     "name": "stdout",
     "output_type": "stream",
     "text": [
      "Epoch 77 / 101 - 137 seconds - loss: 0.014041005846582766 - acc: 0.8689198925442819 - val_loss: 0.5291147693225351 - val_acc: 0.86918\n"
     ]
    },
    {
     "name": "stdout",
     "output_type": "stream",
     "text": [
      "Epoch 78 / 101 - 139 seconds - loss: 0.013958580978479107 - acc: 0.8695335814160571 - val_loss: 0.5247578084998948 - val_acc: 0.86992\n"
     ]
    },
    {
     "name": "stdout",
     "output_type": "stream",
     "text": [
      "Epoch 79 / 101 - 141 seconds - loss: 0.013878832540098526 - acc: 0.8701453901135926 - val_loss: 0.5205357312256954 - val_acc: 0.87032\n"
     ]
    },
    {
     "name": "stdout",
     "output_type": "stream",
     "text": [
      "Epoch 80 / 101 - 142 seconds - loss: 0.013801535679341058 - acc: 0.870395453287447 - val_loss: 0.5164426378928981 - val_acc: 0.87068\n"
     ]
    },
    {
     "name": "stdout",
     "output_type": "stream",
     "text": [
      "Epoch 81 / 101 - 144 seconds - loss: 0.013726665879604836 - acc: 0.8709610096986907 - val_loss: 0.5124724120634401 - val_acc: 0.87126\n"
     ]
    },
    {
     "name": "stdout",
     "output_type": "stream",
     "text": [
      "Epoch 82 / 101 - 146 seconds - loss: 0.013654110129532061 - acc: 0.871715711638429 - val_loss: 0.5086191443769825 - val_acc: 0.8721\n"
     ]
    },
    {
     "name": "stdout",
     "output_type": "stream",
     "text": [
      "Epoch 83 / 101 - 148 seconds - loss: 0.013583689927944245 - acc: 0.8723933264343473 - val_loss: 0.5048781181324983 - val_acc: 0.873\n"
     ]
    },
    {
     "name": "stdout",
     "output_type": "stream",
     "text": [
      "Epoch 84 / 101 - 149 seconds - loss: 0.013515356342306124 - acc: 0.8733409342510589 - val_loss: 0.5012442792548075 - val_acc: 0.87372\n"
     ]
    },
    {
     "name": "stdout",
     "output_type": "stream",
     "text": [
      "Epoch 85 / 101 - 151 seconds - loss: 0.013449067619840336 - acc: 0.8740956361907971 - val_loss: 0.49771324623296026 - val_acc: 0.87426\n"
     ]
    },
    {
     "name": "stdout",
     "output_type": "stream",
     "text": [
      "Epoch 86 / 101 - 153 seconds - loss: 0.013384673669709921 - acc: 0.8746104278975741 - val_loss: 0.49428079207687015 - val_acc: 0.87506\n"
     ]
    },
    {
     "name": "stdout",
     "output_type": "stream",
     "text": [
      "Epoch 87 / 101 - 155 seconds - loss: 0.01332204404531446 - acc: 0.8754076217751252 - val_loss: 0.49094280180627 - val_acc: 0.87578\n"
     ]
    },
    {
     "name": "stdout",
     "output_type": "stream",
     "text": [
      "Epoch 88 / 101 - 156 seconds - loss: 0.013261222506359676 - acc: 0.8760397363544474 - val_loss: 0.48769591498319703 - val_acc: 0.87648\n"
     ]
    },
    {
     "name": "stdout",
     "output_type": "stream",
     "text": [
      "Epoch 89 / 101 - 158 seconds - loss: 0.013202058092614101 - acc: 0.8766207101944551 - val_loss: 0.4845356975275746 - val_acc: 0.87688\n"
     ]
    },
    {
     "name": "stdout",
     "output_type": "stream",
     "text": [
      "Epoch 90 / 101 - 160 seconds - loss: 0.013144538727527742 - acc: 0.8770437493983442 - val_loss: 0.4814584358298898 - val_acc: 0.8774\n"
     ]
    },
    {
     "name": "stdout",
     "output_type": "stream",
     "text": [
      "Epoch 91 / 101 - 162 seconds - loss: 0.013088497430051976 - acc: 0.8776307397959183 - val_loss: 0.4784617935529288 - val_acc: 0.87784\n"
     ]
    },
    {
     "name": "stdout",
     "output_type": "stream",
     "text": [
      "Epoch 92 / 101 - 164 seconds - loss: 0.013033937833593955 - acc: 0.8780691964285714 - val_loss: 0.4755424209301286 - val_acc: 0.87836\n"
     ]
    },
    {
     "name": "stdout",
     "output_type": "stream",
     "text": [
      "Epoch 93 / 101 - 165 seconds - loss: 0.012980825297369575 - acc: 0.8786685959761262 - val_loss: 0.47269741945306487 - val_acc: 0.8789\n"
     ]
    },
    {
     "name": "stdout",
     "output_type": "stream",
     "text": [
      "Epoch 94 / 101 - 167 seconds - loss: 0.012929097969989747 - acc: 0.8790871227618405 - val_loss: 0.46992390616439966 - val_acc: 0.8793\n"
     ]
    },
    {
     "name": "stdout",
     "output_type": "stream",
     "text": [
      "Epoch 95 / 101 - 169 seconds - loss: 0.01287867874810933 - acc: 0.8795056495475548 - val_loss: 0.4672188013240719 - val_acc: 0.87976\n"
     ]
    },
    {
     "name": "stdout",
     "output_type": "stream",
     "text": [
      "Epoch 96 / 101 - 171 seconds - loss: 0.012829480748437977 - acc: 0.8798952216499808 - val_loss: 0.46457946030852626 - val_acc: 0.8802\n"
     ]
    },
    {
     "name": "stdout",
     "output_type": "stream",
     "text": [
      "Epoch 97 / 101 - 173 seconds - loss: 0.01278152380250271 - acc: 0.8804291911340008 - val_loss: 0.4620041059569262 - val_acc: 0.88062\n"
     ]
    },
    {
     "name": "stdout",
     "output_type": "stream",
     "text": [
      "Epoch 98 / 101 - 174 seconds - loss: 0.012734702893571417 - acc: 0.8808834412302657 - val_loss: 0.45949011501186177 - val_acc: 0.88102\n"
     ]
    },
    {
     "name": "stdout",
     "output_type": "stream",
     "text": [
      "Epoch 99 / 101 - 176 seconds - loss: 0.012689036784249036 - acc: 0.8813489723719677 - val_loss: 0.4570352881535009 - val_acc: 0.88156\n"
     ]
    },
    {
     "name": "stdout",
     "output_type": "stream",
     "text": [
      "Epoch 100 / 101 - 178 seconds - loss: 0.012644428641278195 - acc: 0.8817219989410858 - val_loss: 0.45463739405748355 - val_acc: 0.88192\n"
     ]
    },
    {
     "name": "stdout",
     "output_type": "stream",
     "text": [
      "Epoch 1 / 101 - 2 seconds - loss: 0.0697101983675354 - acc: 0.15866602389776666 - val_loss: 2.303652473048183 - val_acc: 0.21484\n"
     ]
    },
    {
     "name": "stdout",
     "output_type": "stream",
     "text": [
      "Epoch 2 / 101 - 3 seconds - loss: 0.0687553863291758 - acc: 0.28055960001925295 - val_loss: 2.2783764541468043 - val_acc: 0.34714\n"
     ]
    },
    {
     "name": "stdout",
     "output_type": "stream",
     "text": [
      "Epoch 3 / 101 - 5 seconds - loss: 0.06783765421400678 - acc: 0.392452153325953 - val_loss: 2.2538405551707816 - val_acc: 0.43126\n"
     ]
    },
    {
     "name": "stdout",
     "output_type": "stream",
     "text": [
      "Epoch 4 / 101 - 7 seconds - loss: 0.0669479082415754 - acc: 0.4556538343521371 - val_loss: 2.229636176426013 - val_acc: 0.47928\n"
     ]
    },
    {
     "name": "stdout",
     "output_type": "stream",
     "text": [
      "Epoch 5 / 101 - 9 seconds - loss: 0.06607786913377363 - acc: 0.49660139704466694 - val_loss: 2.20541649721272 - val_acc: 0.51318\n"
     ]
    },
    {
     "name": "stdout",
     "output_type": "stream",
     "text": [
      "Epoch 6 / 101 - 10 seconds - loss: 0.06522054729274696 - acc: 0.5262769391365036 - val_loss: 2.1808783163200425 - val_acc: 0.53764\n"
     ]
    },
    {
     "name": "stdout",
     "output_type": "stream",
     "text": [
      "Epoch 7 / 101 - 12 seconds - loss: 0.06436973012719077 - acc: 0.548084328070851 - val_loss: 2.155763250541189 - val_acc: 0.55912\n"
     ]
    },
    {
     "name": "stdout",
     "output_type": "stream",
     "text": [
      "Epoch 8 / 101 - 14 seconds - loss: 0.06352068751968722 - acc: 0.5673591223045822 - val_loss: 2.1298829069844882 - val_acc: 0.57548\n"
     ]
    },
    {
     "name": "stdout",
     "output_type": "stream",
     "text": [
      "Epoch 9 / 101 - 16 seconds - loss: 0.0626695649001374 - acc: 0.5824892604447439 - val_loss: 2.1030607891929076 - val_acc: 0.58798\n"
     ]
    },
    {
     "name": "stdout",
     "output_type": "stream",
     "text": [
      "Epoch 10 / 101 - 17 seconds - loss: 0.06181311518938341 - acc: 0.5923752165960724 - val_loss: 2.075172716835916 - val_acc: 0.59646\n"
     ]
    },
    {
     "name": "stdout",
     "output_type": "stream",
     "text": [
      "Epoch 11 / 101 - 19 seconds - loss: 0.06094902505270779 - acc: 0.599865078696573 - val_loss: 2.0461383102661697 - val_acc: 0.60374\n"
     ]
    },
    {
     "name": "stdout",
     "output_type": "stream",
     "text": [
      "Epoch 12 / 101 - 21 seconds - loss: 0.06007604833893476 - acc: 0.6064930689256834 - val_loss: 2.0159157287381357 - val_acc: 0.6093\n"
     ]
    },
    {
     "name": "stdout",
     "output_type": "stream",
     "text": [
      "Epoch 13 / 101 - 23 seconds - loss: 0.05919340694266795 - acc: 0.6112510378561802 - val_loss: 1.9845006410798105 - val_acc: 0.61312\n"
     ]
    },
    {
     "name": "stdout",
     "output_type": "stream",
     "text": [
      "Epoch 14 / 101 - 25 seconds - loss: 0.05830148931010635 - acc: 0.6145593924480169 - val_loss: 1.9519568150548832 - val_acc: 0.61654\n"
     ]
    },
    {
     "name": "stdout",
     "output_type": "stream",
     "text": [
      "Epoch 15 / 101 - 27 seconds - loss: 0.05740172509941435 - acc: 0.6175349561994609 - val_loss: 1.9183829888380026 - val_acc: 0.61868\n"
     ]
    },
    {
     "name": "stdout",
     "output_type": "stream",
     "text": [
      "Epoch 16 / 101 - 29 seconds - loss: 0.056496227648434726 - acc: 0.6198441862004236 - val_loss: 1.8839348629617765 - val_acc: 0.62074\n"
     ]
    },
    {
     "name": "stdout",
     "output_type": "stream",
     "text": [
      "Epoch 17 / 101 - 30 seconds - loss: 0.055588089800416546 - acc: 0.6214280449797843 - val_loss: 1.8487972530836503 - val_acc: 0.6227\n"
     ]
    },
    {
     "name": "stdout",
     "output_type": "stream",
     "text": [
      "Epoch 18 / 101 - 32 seconds - loss: 0.05468070932703792 - acc: 0.6237421634337698 - val_loss: 1.8131774237786995 - val_acc: 0.62512\n"
     ]
    },
    {
     "name": "stdout",
     "output_type": "stream",
     "text": [
      "Epoch 19 / 101 - 34 seconds - loss: 0.053777617007714676 - acc: 0.6255813498748556 - val_loss: 1.7772825482055026 - val_acc: 0.62688\n"
     ]
    },
    {
     "name": "stdout",
     "output_type": "stream",
     "text": [
      "Epoch 20 / 101 - 36 seconds - loss: 0.0528824695310955 - acc: 0.6278010835820177 - val_loss: 1.7413250731510044 - val_acc: 0.62922\n"
     ]
    },
    {
     "name": "stdout",
     "output_type": "stream",
     "text": [
      "Epoch 21 / 101 - 38 seconds - loss: 0.05199846246711731 - acc: 0.6308992346938775 - val_loss: 1.7054794167344682 - val_acc: 0.63242\n"
     ]
    },
    {
     "name": "stdout",
     "output_type": "stream",
     "text": [
      "Epoch 22 / 101 - 39 seconds - loss: 0.051128296885158214 - acc: 0.6341658494175972 - val_loss: 1.6699099211348658 - val_acc: 0.63656\n"
     ]
    },
    {
     "name": "stdout",
     "output_type": "stream",
     "text": [
      "Epoch 23 / 101 - 41 seconds - loss: 0.050273986236197735 - acc: 0.6393848370716211 - val_loss: 1.634732982521044 - val_acc: 0.6415\n"
     ]
    },
    {
     "name": "stdout",
     "output_type": "stream",
     "text": [
      "Epoch 24 / 101 - 43 seconds - loss: 0.04943718516030045 - acc: 0.6433286905564113 - val_loss: 1.600055256372702 - val_acc: 0.6456\n"
     ]
    },
    {
     "name": "stdout",
     "output_type": "stream",
     "text": [
      "Epoch 25 / 101 - 45 seconds - loss: 0.048619025742736834 - acc: 0.6478866089478245 - val_loss: 1.5659581659354067 - val_acc: 0.65012\n"
     ]
    },
    {
     "name": "stdout",
     "output_type": "stream",
     "text": [
      "Epoch 26 / 101 - 47 seconds - loss: 0.04782049662688853 - acc: 0.6524268537013862 - val_loss: 1.53250994029196 - val_acc: 0.655\n"
     ]
    },
    {
     "name": "stdout",
     "output_type": "stream",
     "text": [
      "Epoch 27 / 101 - 48 seconds - loss: 0.047042287110598116 - acc: 0.6576326801357335 - val_loss: 1.4997730539984664 - val_acc: 0.65994\n"
     ]
    },
    {
     "name": "stdout",
     "output_type": "stream",
     "text": [
      "Epoch 28 / 101 - 50 seconds - loss: 0.04628507318590275 - acc: 0.663089697848479 - val_loss: 1.467802025217858 - val_acc: 0.66618\n"
     ]
    },
    {
     "name": "stdout",
     "output_type": "stream",
     "text": [
      "Epoch 29 / 101 - 52 seconds - loss: 0.04554935584551472 - acc: 0.6692626859116289 - val_loss: 1.4366437185576348 - val_acc: 0.6722\n"
     ]
    },
    {
     "name": "stdout",
     "output_type": "stream",
     "text": [
      "Epoch 30 / 101 - 53 seconds - loss: 0.04483556067017479 - acc: 0.6750547506738543 - val_loss: 1.4063392542578794 - val_acc: 0.67826\n"
     ]
    },
    {
     "name": "stdout",
     "output_type": "stream",
     "text": [
      "Epoch 31 / 101 - 55 seconds - loss: 0.04414409040827667 - acc: 0.6816233273969966 - val_loss: 1.3769341273803009 - val_acc: 0.68498\n"
     ]
    },
    {
     "name": "stdout",
     "output_type": "stream",
     "text": [
      "Epoch 32 / 101 - 57 seconds - loss: 0.043475276386121246 - acc: 0.6882930574942241 - val_loss: 1.348457787595363 - val_acc: 0.69132\n"
     ]
    },
    {
     "name": "stdout",
     "output_type": "stream",
     "text": [
      "Epoch 33 / 101 - 59 seconds - loss: 0.042829251173509636 - acc: 0.6943084869561033 - val_loss: 1.3209335540517877 - val_acc: 0.69768\n"
     ]
    },
    {
     "name": "stdout",
     "output_type": "stream",
     "text": [
      "Epoch 34 / 101 - 60 seconds - loss: 0.04220603805143499 - acc: 0.701057560406238 - val_loss: 1.2943761134427658 - val_acc: 0.70458\n"
     ]
    },
    {
     "name": "stdout",
     "output_type": "stream",
     "text": [
      "Epoch 35 / 101 - 62 seconds - loss: 0.041605436483077005 - acc: 0.7070823907393147 - val_loss: 1.2687912829786596 - val_acc: 0.71026\n"
     ]
    },
    {
     "name": "stdout",
     "output_type": "stream",
     "text": [
      "Epoch 36 / 101 - 64 seconds - loss: 0.0410272578973214 - acc: 0.7134561814112437 - val_loss: 1.244180305209252 - val_acc: 0.7162\n"
     ]
    },
    {
     "name": "stdout",
     "output_type": "stream",
     "text": [
      "Epoch 37 / 101 - 66 seconds - loss: 0.040471187436169315 - acc: 0.7195596030275317 - val_loss: 1.2205393930430763 - val_acc: 0.72242\n"
     ]
    },
    {
     "name": "stdout",
     "output_type": "stream",
     "text": [
      "Epoch 38 / 101 - 68 seconds - loss: 0.039936616812072605 - acc: 0.7246364495090489 - val_loss: 1.197849085411092 - val_acc: 0.72732\n"
     ]
    },
    {
     "name": "stdout",
     "output_type": "stream",
     "text": [
      "Epoch 39 / 101 - 69 seconds - loss: 0.039422883545767125 - acc: 0.7300724092703119 - val_loss: 1.1760892912888414 - val_acc: 0.73284\n"
     ]
    },
    {
     "name": "stdout",
     "output_type": "stream",
     "text": [
      "Epoch 40 / 101 - 71 seconds - loss: 0.03892926425887247 - acc: 0.7361852317577975 - val_loss: 1.1552217157826776 - val_acc: 0.7386\n"
     ]
    },
    {
     "name": "stdout",
     "output_type": "stream",
     "text": [
      "Epoch 41 / 101 - 73 seconds - loss: 0.03845500815338222 - acc: 0.7410225440412014 - val_loss: 1.1352283499354614 - val_acc: 0.74376\n"
     ]
    },
    {
     "name": "stdout",
     "output_type": "stream",
     "text": [
      "Epoch 42 / 101 - 75 seconds - loss: 0.037999316738492446 - acc: 0.7462975608875625 - val_loss: 1.1160750402558888 - val_acc: 0.74838\n"
     ]
    },
    {
     "name": "stdout",
     "output_type": "stream",
     "text": [
      "Epoch 43 / 101 - 76 seconds - loss: 0.03756141128136366 - acc: 0.7514672879765114 - val_loss: 1.0977307780931065 - val_acc: 0.7543\n"
     ]
    },
    {
     "name": "stdout",
     "output_type": "stream",
     "text": [
      "Epoch 44 / 101 - 78 seconds - loss: 0.03714040357589834 - acc: 0.757106682590489 - val_loss: 1.0801537843159703 - val_acc: 0.76004\n"
     ]
    },
    {
     "name": "stdout",
     "output_type": "stream",
     "text": [
      "Epoch 45 / 101 - 80 seconds - loss: 0.03673549065132308 - acc: 0.7620748550009626 - val_loss: 1.0633127778147675 - val_acc: 0.7645\n"
     ]
    },
    {
     "name": "stdout",
     "output_type": "stream",
     "text": [
      "Epoch 46 / 101 - 81 seconds - loss: 0.03634590225259864 - acc: 0.7666519511696188 - val_loss: 1.0471688020453143 - val_acc: 0.76884\n"
     ]
    },
    {
     "name": "stdout",
     "output_type": "stream",
     "text": [
      "Epoch 47 / 101 - 83 seconds - loss: 0.035970792989075295 - acc: 0.7716092185695033 - val_loss: 1.0316932777313061 - val_acc: 0.77376\n"
     ]
    },
    {
     "name": "stdout",
     "output_type": "stream",
     "text": [
      "Epoch 48 / 101 - 85 seconds - loss: 0.03560956057167358 - acc: 0.7761998519926838 - val_loss: 1.0168543315578844 - val_acc: 0.77844\n"
     ]
    },
    {
     "name": "stdout",
     "output_type": "stream",
     "text": [
      "Epoch 49 / 101 - 87 seconds - loss: 0.03526138290610039 - acc: 0.7803516527483636 - val_loss: 1.0026187435716036 - val_acc: 0.78252\n"
     ]
    },
    {
     "name": "stdout",
     "output_type": "stream",
     "text": [
      "Epoch 50 / 101 - 88 seconds - loss: 0.03492570005382069 - acc: 0.784412453070851 - val_loss: 0.9889592987906035 - val_acc: 0.7861\n"
     ]
    },
    {
     "name": "stdout",
     "output_type": "stream",
     "text": [
      "Epoch 51 / 101 - 90 seconds - loss: 0.034601881806843746 - acc: 0.7876553775991529 - val_loss: 0.9758461299286753 - val_acc: 0.78974\n"
     ]
    },
    {
     "name": "stdout",
     "output_type": "stream",
     "text": [
      "Epoch 52 / 101 - 92 seconds - loss: 0.03428934926317734 - acc: 0.7912814816374663 - val_loss: 0.9632534381403766 - val_acc: 0.79318\n"
     ]
    },
    {
     "name": "stdout",
     "output_type": "stream",
     "text": [
      "Epoch 53 / 101 - 94 seconds - loss: 0.03398755746126158 - acc: 0.7947699569214478 - val_loss: 0.95115877541187 - val_acc: 0.7966\n"
     ]
    },
    {
     "name": "stdout",
     "output_type": "stream",
     "text": [
      "Epoch 54 / 101 - 95 seconds - loss: 0.03369600740608185 - acc: 0.7977304792789758 - val_loss: 0.9395389399213454 - val_acc: 0.79938\n"
     ]
    },
    {
     "name": "stdout",
     "output_type": "stream",
     "text": [
      "Epoch 55 / 101 - 97 seconds - loss: 0.033414203616324314 - acc: 0.8010301850693107 - val_loss: 0.9283701073728114 - val_acc: 0.80252\n"
     ]
    },
    {
     "name": "stdout",
     "output_type": "stream",
     "text": [
      "Epoch 56 / 101 - 99 seconds - loss: 0.033141809424687446 - acc: 0.8037831361907971 - val_loss: 0.9176348260462418 - val_acc: 0.80524\n"
     ]
    },
    {
     "name": "stdout",
     "output_type": "stream",
     "text": [
      "Epoch 57 / 101 - 101 seconds - loss: 0.03287835208147278 - acc: 0.8063285160762418 - val_loss: 0.9073175112268745 - val_acc: 0.8077\n"
     ]
    },
    {
     "name": "stdout",
     "output_type": "stream",
     "text": [
      "Epoch 58 / 101 - 102 seconds - loss: 0.032623463866467084 - acc: 0.8091626907248748 - val_loss: 0.8973984740763319 - val_acc: 0.81052\n"
     ]
    },
    {
     "name": "stdout",
     "output_type": "stream",
     "text": [
      "Epoch 59 / 101 - 104 seconds - loss: 0.0323768207173325 - acc: 0.8117295045966499 - val_loss: 0.8878556748664814 - val_acc: 0.81296\n"
     ]
    },
    {
     "name": "stdout",
     "output_type": "stream",
     "text": [
      "Epoch 60 / 101 - 106 seconds - loss: 0.03213796317404124 - acc: 0.8139849616143627 - val_loss: 0.8786804942202483 - val_acc: 0.81546\n"
     ]
    },
    {
     "name": "stdout",
     "output_type": "stream",
     "text": [
      "Epoch 61 / 101 - 107 seconds - loss: 0.031906607734319116 - acc: 0.8167995824509049 - val_loss: 0.8698542555740056 - val_acc: 0.81796\n"
     ]
    },
    {
     "name": "stdout",
     "output_type": "stream",
     "text": [
      "Epoch 62 / 101 - 109 seconds - loss: 0.031682507843837235 - acc: 0.818836563221987 - val_loss: 0.8613605746442389 - val_acc: 0.81982\n"
     ]
    },
    {
     "name": "stdout",
     "output_type": "stream",
     "text": [
      "Epoch 63 / 101 - 111 seconds - loss: 0.031465267058734814 - acc: 0.8208554943203697 - val_loss: 0.8531888738881773 - val_acc: 0.82212\n"
     ]
    },
    {
     "name": "stdout",
     "output_type": "stream",
     "text": [
      "Epoch 64 / 101 - 113 seconds - loss: 0.031254687406138064 - acc: 0.8233275474104735 - val_loss: 0.8453222533969035 - val_acc: 0.82468\n"
     ]
    },
    {
     "name": "stdout",
     "output_type": "stream",
     "text": [
      "Epoch 65 / 101 - 115 seconds - loss: 0.03105043727052411 - acc: 0.8255047891798228 - val_loss: 0.8377485008363664 - val_acc: 0.82666\n"
     ]
    },
    {
     "name": "stdout",
     "output_type": "stream",
     "text": [
      "Epoch 66 / 101 - 116 seconds - loss: 0.030852235966120318 - acc: 0.8275692204948016 - val_loss: 0.830455057982684 - val_acc: 0.82848\n"
     ]
    },
    {
     "name": "stdout",
     "output_type": "stream",
     "text": [
      "Epoch 67 / 101 - 118 seconds - loss: 0.030659894973829177 - acc: 0.8293504975693107 - val_loss: 0.8234313683412267 - val_acc: 0.83034\n"
     ]
    },
    {
     "name": "stdout",
     "output_type": "stream",
     "text": [
      "Epoch 68 / 101 - 120 seconds - loss: 0.030473153322568867 - acc: 0.8312705315026955 - val_loss: 0.816665419964447 - val_acc: 0.83222\n"
     ]
    },
    {
     "name": "stdout",
     "output_type": "stream",
     "text": [
      "Epoch 69 / 101 - 122 seconds - loss: 0.030291756686113346 - acc: 0.832961936248556 - val_loss: 0.8101448920786175 - val_acc: 0.8337\n"
     ]
    },
    {
     "name": "stdout",
     "output_type": "stream",
     "text": [
      "Epoch 70 / 101 - 123 seconds - loss: 0.030115500371512977 - acc: 0.8342186447102425 - val_loss: 0.8038607539949254 - val_acc: 0.83526\n"
     ]
    },
    {
     "name": "stdout",
     "output_type": "stream",
     "text": [
      "Epoch 71 / 101 - 125 seconds - loss: 0.02994420178352604 - acc: 0.836006314377166 - val_loss: 0.7978036664533488 - val_acc: 0.83676\n"
     ]
    },
    {
     "name": "stdout",
     "output_type": "stream",
     "text": [
      "Epoch 72 / 101 - 127 seconds - loss: 0.029777635325736122 - acc: 0.8372592624903735 - val_loss: 0.7919618466952337 - val_acc: 0.8381\n"
     ]
    },
    {
     "name": "stdout",
     "output_type": "stream",
     "text": [
      "Epoch 73 / 101 - 129 seconds - loss: 0.029615648240545706 - acc: 0.8385968184443588 - val_loss: 0.7863263703227031 - val_acc: 0.8392\n"
     ]
    },
    {
     "name": "stdout",
     "output_type": "stream",
     "text": [
      "Epoch 74 / 101 - 131 seconds - loss: 0.029457976377832016 - acc: 0.839732819719869 - val_loss: 0.7808876332852882 - val_acc: 0.84064\n"
     ]
    },
    {
     "name": "stdout",
     "output_type": "stream",
     "text": [
      "Epoch 75 / 101 - 132 seconds - loss: 0.029304535173052093 - acc: 0.8410888013814016 - val_loss: 0.7756368722411431 - val_acc: 0.84158\n"
     ]
    },
    {
     "name": "stdout",
     "output_type": "stream",
     "text": [
      "Epoch 76 / 101 - 134 seconds - loss: 0.029155144060728236 - acc: 0.8420837895889488 - val_loss: 0.7705666882501219 - val_acc: 0.84264\n"
     ]
    },
    {
     "name": "stdout",
     "output_type": "stream",
     "text": [
      "Epoch 77 / 101 - 136 seconds - loss: 0.02900965492347384 - acc: 0.8431840675539083 - val_loss: 0.7656684729610369 - val_acc: 0.84352\n"
     ]
    },
    {
     "name": "stdout",
     "output_type": "stream",
     "text": [
      "Epoch 78 / 101 - 138 seconds - loss: 0.02886788239097466 - acc: 0.844230948570466 - val_loss: 0.7609357640679398 - val_acc: 0.84472\n"
     ]
    },
    {
     "name": "stdout",
     "output_type": "stream",
     "text": [
      "Epoch 79 / 101 - 140 seconds - loss: 0.028729712549621964 - acc: 0.8450341590055833 - val_loss: 0.756366570689287 - val_acc: 0.84562\n"
     ]
    },
    {
     "name": "stdout",
     "output_type": "stream",
     "text": [
      "Epoch 80 / 101 - 141 seconds - loss: 0.0285950132056899 - acc: 0.8461660238977666 - val_loss: 0.7519441314828021 - val_acc: 0.84654\n"
     ]
    },
    {
     "name": "stdout",
     "output_type": "stream",
     "text": [
      "Epoch 81 / 101 - 143 seconds - loss: 0.02846367959310259 - acc: 0.8468037789998074 - val_loss: 0.7476698533798184 - val_acc: 0.8472\n"
     ]
    },
    {
     "name": "stdout",
     "output_type": "stream",
     "text": [
      "Epoch 82 / 101 - 145 seconds - loss: 0.0283355588468673 - acc: 0.8476348160136696 - val_loss: 0.7435325594217407 - val_acc: 0.84784\n"
     ]
    },
    {
     "name": "stdout",
     "output_type": "stream",
     "text": [
      "Epoch 83 / 101 - 147 seconds - loss: 0.028210588550259666 - acc: 0.8483534186080093 - val_loss: 0.7395304715485217 - val_acc: 0.84872\n"
     ]
    },
    {
     "name": "stdout",
     "output_type": "stream",
     "text": [
      "Epoch 84 / 101 - 148 seconds - loss: 0.028088659660253392 - acc: 0.8491487323113208 - val_loss: 0.7356581036387296 - val_acc: 0.84968\n"
     ]
    },
    {
     "name": "stdout",
     "output_type": "stream",
     "text": [
      "Epoch 85 / 101 - 150 seconds - loss: 0.027969644787006316 - acc: 0.8500151166008857 - val_loss: 0.7319108460557653 - val_acc: 0.85048\n"
     ]
    },
    {
     "name": "stdout",
     "output_type": "stream",
     "text": [
      "Epoch 86 / 101 - 153 seconds - loss: 0.02785344164746326 - acc: 0.8508784926116674 - val_loss: 0.7282785044263811 - val_acc: 0.85138\n"
     ]
    },
    {
     "name": "stdout",
     "output_type": "stream",
     "text": [
      "Epoch 87 / 101 - 155 seconds - loss: 0.027739982331271885 - acc: 0.8517779679678474 - val_loss: 0.7247607795504637 - val_acc: 0.85206\n"
     ]
    },
    {
     "name": "stdout",
     "output_type": "stream",
     "text": [
      "Epoch 88 / 101 - 157 seconds - loss: 0.027629111496597386 - acc: 0.852325098671544 - val_loss: 0.7213526696788801 - val_acc: 0.85288\n"
     ]
    },
    {
     "name": "stdout",
     "output_type": "stream",
     "text": [
      "Epoch 89 / 101 - 159 seconds - loss: 0.0275208323340191 - acc: 0.853301661171544 - val_loss: 0.7180502506699659 - val_acc: 0.85376\n"
     ]
    },
    {
     "name": "stdout",
     "output_type": "stream",
     "text": [
      "Epoch 90 / 101 - 160 seconds - loss: 0.02741508079144689 - acc: 0.8539371600644975 - val_loss: 0.7148477098912336 - val_acc: 0.8542\n"
     ]
    },
    {
     "name": "stdout",
     "output_type": "stream",
     "text": [
      "Epoch 91 / 101 - 162 seconds - loss: 0.027311699227854352 - acc: 0.8543271082017714 - val_loss: 0.7117442256157498 - val_acc: 0.85468\n"
     ]
    },
    {
     "name": "stdout",
     "output_type": "stream",
     "text": [
      "Epoch 92 / 101 - 164 seconds - loss: 0.02721062176264369 - acc: 0.8550280371582596 - val_loss: 0.7087349176090293 - val_acc: 0.85534\n"
     ]
    },
    {
     "name": "stdout",
     "output_type": "stream",
     "text": [
      "Epoch 93 / 101 - 166 seconds - loss: 0.02711183524552062 - acc: 0.8556368375770119 - val_loss: 0.7058123545149497 - val_acc: 0.85598\n"
     ]
    },
    {
     "name": "stdout",
     "output_type": "stream",
     "text": [
      "Epoch 94 / 101 - 168 seconds - loss: 0.027015230238616274 - acc: 0.8564246305833654 - val_loss: 0.70297552758532 - val_acc: 0.85654\n"
     ]
    },
    {
     "name": "stdout",
     "output_type": "stream",
     "text": [
      "Epoch 95 / 101 - 170 seconds - loss: 0.026920781214184078 - acc: 0.8567074087889873 - val_loss: 0.7002228581144224 - val_acc: 0.85708\n"
     ]
    },
    {
     "name": "stdout",
     "output_type": "stream",
     "text": [
      "Epoch 96 / 101 - 171 seconds - loss: 0.02682838381645847 - acc: 0.8574587264150944 - val_loss: 0.697550703527959 - val_acc: 0.85788\n"
     ]
    },
    {
     "name": "stdout",
     "output_type": "stream",
     "text": [
      "Epoch 97 / 101 - 173 seconds - loss: 0.026738014068183567 - acc: 0.8582307259578359 - val_loss: 0.6949523456240417 - val_acc: 0.8585\n"
     ]
    },
    {
     "name": "stdout",
     "output_type": "stream",
     "text": [
      "Epoch 98 / 101 - 175 seconds - loss: 0.026649582924580865 - acc: 0.8586244344435887 - val_loss: 0.6924313617962637 - val_acc: 0.8589\n"
     ]
    },
    {
     "name": "stdout",
     "output_type": "stream",
     "text": [
      "Epoch 99 / 101 - 177 seconds - loss: 0.026563071626113554 - acc: 0.8591783337745477 - val_loss: 0.6899798640696817 - val_acc: 0.8596\n"
     ]
    },
    {
     "name": "stdout",
     "output_type": "stream",
     "text": [
      "Epoch 100 / 101 - 179 seconds - loss: 0.026478405505483544 - acc: 0.859870989964382 - val_loss: 0.6875991987026012 - val_acc: 0.86008\n"
     ]
    },
    {
     "name": "stdout",
     "output_type": "stream",
     "text": [
      "Epoch 1 / 101 - 2 seconds - loss: 0.25711820174818856 - acc: 0.13722376480073162 - val_loss: 2.469683228082683 - val_acc: 0.18498\n"
     ]
    },
    {
     "name": "stdout",
     "output_type": "stream",
     "text": [
      "Epoch 2 / 101 - 4 seconds - loss: 0.2193258616393514 - acc: 0.2472007965922218 - val_loss: 2.4208320159820977 - val_acc: 0.32438\n"
     ]
    },
    {
     "name": "stdout",
     "output_type": "stream",
     "text": [
      "Epoch 3 / 101 - 5 seconds - loss: 0.18839765660756339 - acc: 0.3945410269060455 - val_loss: 2.3838805337729907 - val_acc: 0.4554\n"
     ]
    },
    {
     "name": "stdout",
     "output_type": "stream",
     "text": [
      "Epoch 4 / 101 - 7 seconds - loss: 0.1630690926711602 - acc: 0.4958331578504043 - val_loss: 2.3558835210081317 - val_acc: 0.53182\n"
     ]
    },
    {
     "name": "stdout",
     "output_type": "stream",
     "text": [
      "Epoch 5 / 101 - 9 seconds - loss: 0.1423138319160094 - acc: 0.55794508988737 - val_loss: 2.334668609231909 - val_acc: 0.58026\n"
     ]
    },
    {
     "name": "stdout",
     "output_type": "stream",
     "text": [
      "Epoch 6 / 101 - 11 seconds - loss: 0.12529712479963664 - acc: 0.5954692313246053 - val_loss: 2.3186041419054315 - val_acc: 0.60674\n"
     ]
    },
    {
     "name": "stdout",
     "output_type": "stream",
     "text": [
      "Epoch 7 / 101 - 13 seconds - loss: 0.11133913776025886 - acc: 0.6124502129861378 - val_loss: 2.3064776483279763 - val_acc: 0.61642\n"
     ]
    },
    {
     "name": "stdout",
     "output_type": "stream",
     "text": [
      "Epoch 8 / 101 - 14 seconds - loss: 0.09988532469153294 - acc: 0.6153870451482479 - val_loss: 2.2973675300604386 - val_acc: 0.61418\n"
     ]
    },
    {
     "name": "stdout",
     "output_type": "stream",
     "text": [
      "Epoch 9 / 101 - 16 seconds - loss: 0.09048297807593936 - acc: 0.6096389764632267 - val_loss: 2.290577100681731 - val_acc: 0.60576\n"
     ]
    },
    {
     "name": "stdout",
     "output_type": "stream",
     "text": [
      "Epoch 10 / 101 - 18 seconds - loss: 0.08276209516400442 - acc: 0.5991964887370043 - val_loss: 2.285576678948213 - val_acc: 0.59174\n"
     ]
    },
    {
     "name": "stdout",
     "output_type": "stream",
     "text": [
      "Epoch 11 / 101 - 20 seconds - loss: 0.07642006651174646 - acc: 0.5822046020648826 - val_loss: 2.2819604293515563 - val_acc: 0.5722\n"
     ]
    },
    {
     "name": "stdout",
     "output_type": "stream",
     "text": [
      "Epoch 12 / 101 - 22 seconds - loss: 0.07120921883122655 - acc: 0.5619968653735079 - val_loss: 2.279412315878726 - val_acc: 0.54902\n"
     ]
    },
    {
     "name": "stdout",
     "output_type": "stream",
     "text": [
      "Epoch 13 / 101 - 23 seconds - loss: 0.06692658747113342 - acc: 0.5373391322920678 - val_loss: 2.277686589777025 - val_acc: 0.52216\n"
     ]
    },
    {
     "name": "stdout",
     "output_type": "stream",
     "text": [
      "Epoch 14 / 101 - 25 seconds - loss: 0.06340590812178351 - acc: 0.5070972817192915 - val_loss: 2.276591760239684 - val_acc: 0.49182\n"
     ]
    },
    {
     "name": "stdout",
     "output_type": "stream",
     "text": [
      "Epoch 15 / 101 - 27 seconds - loss: 0.060510823210237236 - acc: 0.4751305592991914 - val_loss: 2.2759786386522367 - val_acc: 0.45606\n"
     ]
    },
    {
     "name": "stdout",
     "output_type": "stream",
     "text": [
      "Epoch 16 / 101 - 29 seconds - loss: 0.05812954657313138 - acc: 0.43819904878224875 - val_loss: 2.2757306703324667 - val_acc: 0.41972\n"
     ]
    },
    {
     "name": "stdout",
     "output_type": "stream",
     "text": [
      "Epoch 17 / 101 - 31 seconds - loss: 0.05617037068595578 - acc: 0.3996441958269157 - val_loss: 2.275756804028936 - val_acc: 0.38116\n"
     ]
    },
    {
     "name": "stdout",
     "output_type": "stream",
     "text": [
      "Epoch 18 / 101 - 32 seconds - loss: 0.054558026629472386 - acc: 0.359325363400077 - val_loss: 2.275987383039727 - val_acc: 0.34242\n"
     ]
    },
    {
     "name": "stdout",
     "output_type": "stream",
     "text": [
      "Epoch 19 / 101 - 34 seconds - loss: 0.05323076671402125 - acc: 0.3257488357961109 - val_loss: 2.276367285419236 - val_acc: 0.30586\n"
     ]
    },
    {
     "name": "stdout",
     "output_type": "stream",
     "text": [
      "Epoch 20 / 101 - 36 seconds - loss: 0.052137856825832815 - acc: 0.29047037447054297 - val_loss: 2.276853888110391 - val_acc: 0.2745\n"
     ]
    },
    {
     "name": "stdout",
     "output_type": "stream",
     "text": [
      "Epoch 21 / 101 - 38 seconds - loss: 0.051237662611000184 - acc: 0.2615773608971891 - val_loss: 2.277414437575048 - val_acc: 0.2491\n"
     ]
    },
    {
     "name": "stdout",
     "output_type": "stream",
     "text": [
      "Epoch 22 / 101 - 40 seconds - loss: 0.05049596533806744 - acc: 0.23767508182518288 - val_loss: 2.278023430389335 - val_acc: 0.22814\n"
     ]
    },
    {
     "name": "stdout",
     "output_type": "stream",
     "text": [
      "Epoch 23 / 101 - 42 seconds - loss: 0.04988466878856652 - acc: 0.22031317686272622 - val_loss: 2.278661284540666 - val_acc: 0.21268\n"
     ]
    },
    {
     "name": "stdout",
     "output_type": "stream",
     "text": [
      "Epoch 24 / 101 - 43 seconds - loss: 0.049380662700561406 - acc: 0.20849064124470543 - val_loss: 2.279313442415913 - val_acc: 0.20446\n"
     ]
    },
    {
     "name": "stdout",
     "output_type": "stream",
     "text": [
      "Epoch 25 / 101 - 45 seconds - loss: 0.04896497738721476 - acc: 0.20228681832402773 - val_loss: 2.279968538884989 - val_acc: 0.20044\n"
     ]
    },
    {
     "name": "stdout",
     "output_type": "stream",
     "text": [
      "Epoch 26 / 101 - 47 seconds - loss: 0.04862198595846535 - acc: 0.19904502190026957 - val_loss: 2.28061792571257 - val_acc: 0.19782\n"
     ]
    },
    {
     "name": "stdout",
     "output_type": "stream",
     "text": [
      "Epoch 27 / 101 - 49 seconds - loss: 0.048338866855966355 - acc: 0.19687078840970348 - val_loss: 2.28125544714847 - val_acc: 0.19572\n"
     ]
    },
    {
     "name": "stdout",
     "output_type": "stream",
     "text": [
      "Epoch 28 / 101 - 51 seconds - loss: 0.04810506004142919 - acc: 0.1946224760541009 - val_loss: 2.281876714703952 - val_acc: 0.19368\n"
     ]
    },
    {
     "name": "stdout",
     "output_type": "stream",
     "text": [
      "Epoch 29 / 101 - 52 seconds - loss: 0.04791187586267625 - acc: 0.19271936368887177 - val_loss: 2.2824785867954436 - val_acc: 0.1919\n"
     ]
    },
    {
     "name": "stdout",
     "output_type": "stream",
     "text": [
      "Epoch 30 / 101 - 54 seconds - loss: 0.047752175211782336 - acc: 0.19097117768097804 - val_loss: 2.283058679076023 - val_acc: 0.18988\n"
     ]
    },
    {
     "name": "stdout",
     "output_type": "stream",
     "text": [
      "Epoch 31 / 101 - 56 seconds - loss: 0.04762006505917944 - acc: 0.18873489844050828 - val_loss: 2.283615653763446 - val_acc: 0.18776\n"
     ]
    },
    {
     "name": "stdout",
     "output_type": "stream",
     "text": [
      "Epoch 32 / 101 - 58 seconds - loss: 0.04751072877780317 - acc: 0.18669603749518673 - val_loss: 2.2841487961950144 - val_acc: 0.18532\n"
     ]
    },
    {
     "name": "stdout",
     "output_type": "stream",
     "text": [
      "Epoch 33 / 101 - 60 seconds - loss: 0.04742015660635119 - acc: 0.18395098310550634 - val_loss: 2.2846578158345534 - val_acc: 0.18246\n"
     ]
    },
    {
     "name": "stdout",
     "output_type": "stream",
     "text": [
      "Epoch 34 / 101 - 61 seconds - loss: 0.047345078616421434 - acc: 0.18096489037832114 - val_loss: 2.2851428992195153 - val_acc: 0.17946\n"
     ]
    },
    {
     "name": "stdout",
     "output_type": "stream",
     "text": [
      "Epoch 35 / 101 - 63 seconds - loss: 0.04728277880223149 - acc: 0.17803257063438582 - val_loss: 2.2856041061079413 - val_acc: 0.17656\n"
     ]
    },
    {
     "name": "stdout",
     "output_type": "stream",
     "text": [
      "Epoch 36 / 101 - 65 seconds - loss: 0.047231041902939086 - acc: 0.17517620992972663 - val_loss: 2.286042200203497 - val_acc: 0.1736\n"
     ]
    },
    {
     "name": "stdout",
     "output_type": "stream",
     "text": [
      "Epoch 37 / 101 - 67 seconds - loss: 0.04718802938506466 - acc: 0.17178174335772042 - val_loss: 2.286457896319751 - val_acc: 0.16972\n"
     ]
    },
    {
     "name": "stdout",
     "output_type": "stream",
     "text": [
      "Epoch 38 / 101 - 68 seconds - loss: 0.0471522261460074 - acc: 0.16821392472083174 - val_loss: 2.286851912117522 - val_acc: 0.1658\n"
     ]
    },
    {
     "name": "stdout",
     "output_type": "stream",
     "text": [
      "Epoch 39 / 101 - 70 seconds - loss: 0.047122389648496014 - acc: 0.16365487822487487 - val_loss: 2.2872248297047273 - val_acc: 0.16206\n"
     ]
    },
    {
     "name": "stdout",
     "output_type": "stream",
     "text": [
      "Epoch 40 / 101 - 72 seconds - loss: 0.04709748170934158 - acc: 0.16071541381882942 - val_loss: 2.2875778771864175 - val_acc: 0.1589\n"
     ]
    },
    {
     "name": "stdout",
     "output_type": "stream",
     "text": [
      "Epoch 41 / 101 - 74 seconds - loss: 0.04707665611252305 - acc: 0.1572212980121294 - val_loss: 2.2879119006169915 - val_acc: 0.15544\n"
     ]
    },
    {
     "name": "stdout",
     "output_type": "stream",
     "text": [
      "Epoch 42 / 101 - 75 seconds - loss: 0.04705921117589652 - acc: 0.15339627153927607 - val_loss: 2.288227580920637 - val_acc: 0.15192\n"
     ]
    },
    {
     "name": "stdout",
     "output_type": "stream",
     "text": [
      "Epoch 43 / 101 - 77 seconds - loss: 0.0470445698015785 - acc: 0.15045831127262224 - val_loss: 2.2885261124298277 - val_acc: 0.14892\n"
     ]
    },
    {
     "name": "stdout",
     "output_type": "stream",
     "text": [
      "Epoch 44 / 101 - 79 seconds - loss: 0.047032250845312255 - acc: 0.14683446344339623 - val_loss: 2.2888083248693563 - val_acc: 0.1454\n"
     ]
    },
    {
     "name": "stdout",
     "output_type": "stream",
     "text": [
      "Epoch 45 / 101 - 81 seconds - loss: 0.047021859956167734 - acc: 0.1431342805400462 - val_loss: 2.2890749098988996 - val_acc: 0.14212\n"
     ]
    },
    {
     "name": "stdout",
     "output_type": "stream",
     "text": [
      "Epoch 46 / 101 - 83 seconds - loss: 0.04701308576227209 - acc: 0.14016811765979975 - val_loss: 2.289326889317997 - val_acc: 0.13876\n"
     ]
    },
    {
     "name": "stdout",
     "output_type": "stream",
     "text": [
      "Epoch 47 / 101 - 85 seconds - loss: 0.04700563644682538 - acc: 0.13797621053138237 - val_loss: 2.2895651250131563 - val_acc: 0.13588\n"
     ]
    },
    {
     "name": "stdout",
     "output_type": "stream",
     "text": [
      "Epoch 48 / 101 - 87 seconds - loss: 0.04699929693544061 - acc: 0.13486527423469388 - val_loss: 2.2897900837409435 - val_acc: 0.13316\n"
     ]
    },
    {
     "name": "stdout",
     "output_type": "stream",
     "text": [
      "Epoch 49 / 101 - 88 seconds - loss: 0.04699388225389293 - acc: 0.13205666995571813 - val_loss: 2.2900026901888064 - val_acc: 0.13032\n"
     ]
    },
    {
     "name": "stdout",
     "output_type": "stream",
     "text": [
      "Epoch 50 / 101 - 90 seconds - loss: 0.0469892493240758 - acc: 0.12916533801020408 - val_loss: 2.2902036381583097 - val_acc: 0.12774\n"
     ]
    },
    {
     "name": "stdout",
     "output_type": "stream",
     "text": [
      "Epoch 51 / 101 - 92 seconds - loss: 0.04698526316178197 - acc: 0.12673540082306506 - val_loss: 2.2903934473011263 - val_acc: 0.12572\n"
     ]
    },
    {
     "name": "stdout",
     "output_type": "stream",
     "text": [
      "Epoch 52 / 101 - 94 seconds - loss: 0.04698181476668212 - acc: 0.12474843268675394 - val_loss: 2.2905728183512797 - val_acc: 0.1238\n"
     ]
    },
    {
     "name": "stdout",
     "output_type": "stream",
     "text": [
      "Epoch 53 / 101 - 95 seconds - loss: 0.04697882758226744 - acc: 0.1227520636792453 - val_loss: 2.2907423688867463 - val_acc: 0.12198\n"
     ]
    },
    {
     "name": "stdout",
     "output_type": "stream",
     "text": [
      "Epoch 54 / 101 - 97 seconds - loss: 0.04697622121723975 - acc: 0.12128289552849443 - val_loss: 2.290902421016618 - val_acc: 0.12048\n"
     ]
    },
    {
     "name": "stdout",
     "output_type": "stream",
     "text": [
      "Epoch 55 / 101 - 99 seconds - loss: 0.046973945346736996 - acc: 0.11994947595783596 - val_loss: 2.2910538321153466 - val_acc: 0.11892\n"
     ]
    },
    {
     "name": "stdout",
     "output_type": "stream",
     "text": [
      "Epoch 56 / 101 - 101 seconds - loss: 0.04697193640191539 - acc: 0.11873450736426647 - val_loss: 2.2911967567224396 - val_acc: 0.11792\n"
     ]
    },
    {
     "name": "stdout",
     "output_type": "stream",
     "text": [
      "Epoch 57 / 101 - 103 seconds - loss: 0.046970162968378 - acc: 0.11757143157970736 - val_loss: 2.291331829581986 - val_acc: 0.117\n"
     ]
    },
    {
     "name": "stdout",
     "output_type": "stream",
     "text": [
      "Epoch 58 / 101 - 105 seconds - loss: 0.04696858227832567 - acc: 0.11655801766461302 - val_loss: 2.291459292040177 - val_acc: 0.11608\n"
     ]
    },
    {
     "name": "stdout",
     "output_type": "stream",
     "text": [
      "Epoch 59 / 101 - 107 seconds - loss: 0.04696718213982943 - acc: 0.11591198979591837 - val_loss: 2.2915797765507966 - val_acc: 0.11564\n"
     ]
    },
    {
     "name": "stdout",
     "output_type": "stream",
     "text": [
      "Epoch 60 / 101 - 108 seconds - loss: 0.04696591231442515 - acc: 0.11527423469387756 - val_loss: 2.2916934422392212 - val_acc: 0.11512\n"
     ]
    },
    {
     "name": "stdout",
     "output_type": "stream",
     "text": [
      "Epoch 61 / 101 - 110 seconds - loss: 0.046964772297805574 - acc: 0.11493317108683096 - val_loss: 2.291800816665136 - val_acc: 0.11482\n"
     ]
    },
    {
     "name": "stdout",
     "output_type": "stream",
     "text": [
      "Epoch 62 / 101 - 112 seconds - loss: 0.046963744364094236 - acc: 0.11461504560550637 - val_loss: 2.2919021482369732 - val_acc: 0.1146\n"
     ]
    },
    {
     "name": "stdout",
     "output_type": "stream",
     "text": [
      "Epoch 63 / 101 - 114 seconds - loss: 0.04696280103444489 - acc: 0.11446463166634578 - val_loss: 2.2919976188022844 - val_acc: 0.1143\n"
     ]
    },
    {
     "name": "stdout",
     "output_type": "stream",
     "text": [
      "Epoch 64 / 101 - 116 seconds - loss: 0.046961939590603345 - acc: 0.114231114025799 - val_loss: 2.2920875314163367 - val_acc: 0.11408\n"
     ]
    },
    {
     "name": "stdout",
     "output_type": "stream",
     "text": [
      "Epoch 65 / 101 - 117 seconds - loss: 0.04696114670640496 - acc: 0.11397653843376974 - val_loss: 2.2921721694049624 - val_acc: 0.11396\n"
     ]
    },
    {
     "name": "stdout",
     "output_type": "stream",
     "text": [
      "Epoch 66 / 101 - 119 seconds - loss: 0.04696041875019406 - acc: 0.11394645564593761 - val_loss: 2.292252094702913 - val_acc: 0.11388\n"
     ]
    },
    {
     "name": "stdout",
     "output_type": "stream",
     "text": [
      "Epoch 67 / 101 - 121 seconds - loss: 0.0469597523538402 - acc: 0.1138859140354255 - val_loss: 2.292327210185616 - val_acc: 0.11376\n"
     ]
    },
    {
     "name": "stdout",
     "output_type": "stream",
     "text": [
      "Epoch 68 / 101 - 123 seconds - loss: 0.046959120055323586 - acc: 0.11373813234020023 - val_loss: 2.2923979826232266 - val_acc: 0.11366\n"
     ]
    },
    {
     "name": "stdout",
     "output_type": "stream",
     "text": [
      "Epoch 69 / 101 - 125 seconds - loss: 0.04695852566631396 - acc: 0.11370804955236812 - val_loss: 2.2924643543072762 - val_acc: 0.11362\n"
     ]
    },
    {
     "name": "stdout",
     "output_type": "stream",
     "text": [
      "Epoch 70 / 101 - 127 seconds - loss: 0.04695797912815402 - acc: 0.11352416851174432 - val_loss: 2.292526647768591 - val_acc: 0.11358\n"
     ]
    },
    {
     "name": "stdout",
     "output_type": "stream",
     "text": [
      "Epoch 71 / 101 - 128 seconds - loss: 0.04695746481374599 - acc: 0.11360840031767423 - val_loss: 2.2925849775248426 - val_acc: 0.11356\n"
     ]
    },
    {
     "name": "stdout",
     "output_type": "stream",
     "text": [
      "Epoch 72 / 101 - 130 seconds - loss: 0.046956984111006066 - acc: 0.11350912711782826 - val_loss: 2.2926396061413103 - val_acc: 0.11356\n"
     ]
    },
    {
     "name": "stdout",
     "output_type": "stream",
     "text": [
      "Epoch 73 / 101 - 132 seconds - loss: 0.04695652059325673 - acc: 0.11352567265113592 - val_loss: 2.292690517929917 - val_acc: 0.11356\n"
     ]
    },
    {
     "name": "stdout",
     "output_type": "stream",
     "text": [
      "Epoch 74 / 101 - 134 seconds - loss: 0.04695609142567052 - acc: 0.11359599116769348 - val_loss: 2.2927382354278114 - val_acc: 0.11356\n"
     ]
    },
    {
     "name": "stdout",
     "output_type": "stream",
     "text": [
      "Epoch 75 / 101 - 136 seconds - loss: 0.04695567728953203 - acc: 0.11355462733442434 - val_loss: 2.292782706323475 - val_acc: 0.11356\n"
     ]
    },
    {
     "name": "stdout",
     "output_type": "stream",
     "text": [
      "Epoch 76 / 101 - 138 seconds - loss: 0.04695528710798481 - acc: 0.113571172867732 - val_loss: 2.292824008032661 - val_acc: 0.11356\n"
     ]
    },
    {
     "name": "stdout",
     "output_type": "stream",
     "text": [
      "Epoch 77 / 101 - 140 seconds - loss: 0.04695491986216667 - acc: 0.11355462733442434 - val_loss: 2.292862311788734 - val_acc: 0.11356\n"
     ]
    },
    {
     "name": "stdout",
     "output_type": "stream",
     "text": [
      "Epoch 78 / 101 - 141 seconds - loss: 0.046954560218585455 - acc: 0.11365390053427031 - val_loss: 2.292897894680437 - val_acc: 0.11356\n"
     ]
    },
    {
     "name": "stdout",
     "output_type": "stream",
     "text": [
      "Epoch 79 / 101 - 143 seconds - loss: 0.046954216582908506 - acc: 0.1135670364844051 - val_loss: 2.2929305345204085 - val_acc: 0.11356\n"
     ]
    },
    {
     "name": "stdout",
     "output_type": "stream",
     "text": [
      "Epoch 80 / 101 - 145 seconds - loss: 0.046953889684974444 - acc: 0.11355462733442434 - val_loss: 2.292960640530975 - val_acc: 0.11356\n"
     ]
    },
    {
     "name": "stdout",
     "output_type": "stream",
     "text": [
      "Epoch 81 / 101 - 147 seconds - loss: 0.046953578543111905 - acc: 0.11357944563438582 - val_loss: 2.2929882216510418 - val_acc: 0.11356\n"
     ]
    },
    {
     "name": "stdout",
     "output_type": "stream",
     "text": [
      "Epoch 82 / 101 - 148 seconds - loss: 0.046953282159845414 - acc: 0.11353808180111667 - val_loss: 2.2930133763661296 - val_acc: 0.11356\n"
     ]
    },
    {
     "name": "stdout",
     "output_type": "stream",
     "text": [
      "Epoch 83 / 101 - 150 seconds - loss: 0.04695298942131778 - acc: 0.11351326350115519 - val_loss: 2.2930361447321466 - val_acc: 0.11356\n"
     ]
    },
    {
     "name": "stdout",
     "output_type": "stream",
     "text": [
      "Epoch 84 / 101 - 152 seconds - loss: 0.046952709158116245 - acc: 0.11362908223430881 - val_loss: 2.2930564436725795 - val_acc: 0.11356\n"
     ]
    },
    {
     "name": "stdout",
     "output_type": "stream",
     "text": [
      "Epoch 85 / 101 - 154 seconds - loss: 0.04695244339712801 - acc: 0.11355462733442434 - val_loss: 2.2930747489414984 - val_acc: 0.11356\n"
     ]
    },
    {
     "name": "stdout",
     "output_type": "stream",
     "text": [
      "Epoch 86 / 101 - 155 seconds - loss: 0.046952185379093334 - acc: 0.11360426393434733 - val_loss: 2.293090923304022 - val_acc: 0.11356\n"
     ]
    },
    {
     "name": "stdout",
     "output_type": "stream",
     "text": [
      "Epoch 87 / 101 - 157 seconds - loss: 0.04695192661475195 - acc: 0.11358771840103965 - val_loss: 2.293105128496551 - val_acc: 0.11356\n"
     ]
    },
    {
     "name": "stdout",
     "output_type": "stream",
     "text": [
      "Epoch 88 / 101 - 159 seconds - loss: 0.0469516821331049 - acc: 0.11358771840103965 - val_loss: 2.2931174202193008 - val_acc: 0.11356\n"
     ]
    },
    {
     "name": "stdout",
     "output_type": "stream",
     "text": [
      "Epoch 89 / 101 - 160 seconds - loss: 0.046951452862271086 - acc: 0.11352980903446284 - val_loss: 2.293127944661545 - val_acc: 0.11356\n"
     ]
    },
    {
     "name": "stdout",
     "output_type": "stream",
     "text": [
      "Epoch 90 / 101 - 162 seconds - loss: 0.04695121432851483 - acc: 0.11354635456777051 - val_loss: 2.293136572520174 - val_acc: 0.11356\n"
     ]
    },
    {
     "name": "stdout",
     "output_type": "stream",
     "text": [
      "Epoch 91 / 101 - 164 seconds - loss: 0.04695099492866101 - acc: 0.11358771840103965 - val_loss: 2.2931435116149306 - val_acc: 0.11356\n"
     ]
    },
    {
     "name": "stdout",
     "output_type": "stream",
     "text": [
      "Epoch 92 / 101 - 166 seconds - loss: 0.046950782761282235 - acc: 0.11360840031767423 - val_loss: 2.2931487638707004 - val_acc: 0.11356\n"
     ]
    },
    {
     "name": "stdout",
     "output_type": "stream",
     "text": [
      "Epoch 93 / 101 - 167 seconds - loss: 0.04695057231033245 - acc: 0.11353808180111667 - val_loss: 2.293152291522044 - val_acc: 0.11356\n"
     ]
    },
    {
     "name": "stdout",
     "output_type": "stream",
     "text": [
      "Epoch 94 / 101 - 169 seconds - loss: 0.04695036505519139 - acc: 0.11357944563438582 - val_loss: 2.29315421835708 - val_acc: 0.11356\n"
     ]
    },
    {
     "name": "stdout",
     "output_type": "stream",
     "text": [
      "Epoch 95 / 101 - 171 seconds - loss: 0.0469501600654974 - acc: 0.1136001275510204 - val_loss: 2.293154682688125 - val_acc: 0.11356\n"
     ]
    },
    {
     "name": "stdout",
     "output_type": "stream",
     "text": [
      "Epoch 96 / 101 - 172 seconds - loss: 0.04694997468130163 - acc: 0.11360840031767423 - val_loss: 2.293153548716904 - val_acc: 0.11356\n"
     ]
    },
    {
     "name": "stdout",
     "output_type": "stream",
     "text": [
      "Epoch 97 / 101 - 174 seconds - loss: 0.04694978396821077 - acc: 0.11354635456777051 - val_loss: 2.2931511453093805 - val_acc: 0.11356\n"
     ]
    },
    {
     "name": "stdout",
     "output_type": "stream",
     "text": [
      "Epoch 98 / 101 - 176 seconds - loss: 0.04694959350278722 - acc: 0.11350912711782826 - val_loss: 2.2931473245253526 - val_acc: 0.11356\n"
     ]
    },
    {
     "name": "stdout",
     "output_type": "stream",
     "text": [
      "Epoch 99 / 101 - 177 seconds - loss: 0.04694941356923446 - acc: 0.11356290010107817 - val_loss: 2.29314239521665 - val_acc: 0.11356\n"
     ]
    },
    {
     "name": "stdout",
     "output_type": "stream",
     "text": [
      "Epoch 100 / 101 - 179 seconds - loss: 0.046949232863730185 - acc: 0.11358358201771275 - val_loss: 2.293136380963524 - val_acc: 0.11356\n"
     ]
    }
   ],
   "source": [
    "#First Experiment\n",
    "import numpy as np\n",
    "layers = [generate_layer(num_pixels, 128, \"relu\", \"l2\", 0.2)]\n",
    "layers.append(generate_layer(128, 10, \"softmax\", \"l2\", 0.2))\n",
    "log = {}\n",
    "for weight in [5e-5,5e-4,5e-3]:\n",
    "    net = MyDNN(layers, \"cross-entropy\",weight)\n",
    "    log[-round(np.log10(weight))] = net.fit(\n",
    "        training_samples, training_classifications, 100, 1024, 0.2,\n",
    "        validation_samples, validation_classifications)\n",
    "pickle.dump(log,open('Log_first_l1.p','wb'))"
   ]
  },
  {
   "cell_type": "code",
   "execution_count": 8,
   "metadata": {},
   "outputs": [
    {
     "name": "stdout",
     "output_type": "stream",
     "text": [
      "Test 1 layer relu and 1 softmax L1\nLambda size: -4.0\nLambda size: -3.0\n"
     ]
    },
    {
     "name": "stdout",
     "output_type": "stream",
     "text": [
      "Lambda size: -2.0\n"
     ]
    }
   ],
   "source": [
    "log = pickle.load(open('Log_first_l1.p','rb'))\n",
    "from Macros import plot_graphs\n",
    "print('Test 1 layer relu and 1 softmax L1')\n",
    "for batch_size in log.keys():\n",
    "    print(f'Lambda size: {batch_size}')\n",
    "    plot_graphs(log[batch_size])\n",
    "    "
   ]
  },
  {
   "cell_type": "code",
   "execution_count": null,
   "metadata": {},
   "outputs": [],
   "source": []
  }
 ],
 "metadata": {
  "kernelspec": {
   "display_name": "Python 2",
   "language": "python",
   "name": "python2"
  },
  "language_info": {
   "codemirror_mode": {
    "name": "ipython",
    "version": 2
   },
   "file_extension": ".py",
   "mimetype": "text/x-python",
   "name": "python",
   "nbconvert_exporter": "python",
   "pygments_lexer": "ipython2",
   "version": "2.7.6"
  }
 },
 "nbformat": 4,
 "nbformat_minor": 0
}
