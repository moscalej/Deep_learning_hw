{
 "cells": [
  {
   "cell_type": "code",
   "execution_count": 3,
   "metadata": {
    "collapsed": true
   },
   "outputs": [
    {
     "name": "stderr",
     "output_type": "stream",
     "text": [
      "C:\\Users\\alejandro\\AppData\\Local\\Programs\\Python\\Python36\\lib\\site-packages\\sklearn\\preprocessing\\data.py:164: UserWarning: Numerical issues were encountered when centering the data and might not be solved. Dataset may contain too large values. You may need to prescale your features.\n  warnings.warn(\"Numerical issues were encountered \"\n"
     ]
    }
   ],
   "source": [
    "import pickle\n",
    "import gzip\n",
    "import urllib.request\n",
    "from sklearn.preprocessing import scale\n",
    "from mydnn import MyDNN\n",
    "from Macros import generate_layer\n",
    "import pickle\n",
    "import os\n",
    "\n",
    "\n",
    "# data_url = \"http://deeplearning.net/data/mnist/mnist.pkl.gz\"\n",
    "# urllib.request.urlretrieve(data_url, \"mnist.pkl.gz\")\n",
    "with gzip.open('mnist.pkl.gz', 'rb') as f:\n",
    "    train_set, valid_set, test_set = pickle.load(f, encoding='latin1')\n",
    "\n",
    "training_samples = scale(train_set[0], axis=0, with_std=False)\n",
    "validation_samples = scale(valid_set[0], axis=0, with_std=False)\n",
    "\n",
    "training_classifications = train_set[1]\n",
    "validation_classifications = valid_set[1]\n",
    "\n",
    "num_samples, num_pixels = training_samples.shape"
   ]
  },
  {
   "cell_type": "code",
   "execution_count": 2,
   "metadata": {
    "collapsed": true
   },
   "outputs": [
    {
     "name": "stdout",
     "output_type": "stream",
     "text": [
      "Epoch 1 / 101 - 2 seconds - loss: 0.0058194796753841494 - acc: 0.18274856138107418 - val_loss: 2.2472570756026116 - val_acc: 0.3128\n"
     ]
    },
    {
     "name": "stdout",
     "output_type": "stream",
     "text": [
      "Epoch 2 / 101 - 3 seconds - loss: 0.005686291520905105 - acc: 0.4140425191815857 - val_loss: 2.1927870670485157 - val_acc: 0.5062\n"
     ]
    },
    {
     "name": "stdout",
     "output_type": "stream",
     "text": [
      "Epoch 3 / 101 - 5 seconds - loss: 0.0055454299715051916 - acc: 0.5332600703324808 - val_loss: 2.134103934000687 - val_acc: 0.5841\n"
     ]
    },
    {
     "name": "stdout",
     "output_type": "stream",
     "text": [
      "Epoch 4 / 101 - 7 seconds - loss: 0.0053913264911360425 - acc: 0.5858855498721228 - val_loss: 2.0691591867650883 - val_acc: 0.622\n"
     ]
    },
    {
     "name": "stdout",
     "output_type": "stream",
     "text": [
      "Epoch 5 / 101 - 9 seconds - loss: 0.005219673123999356 - acc: 0.6090033567774936 - val_loss: 1.996631467529645 - val_acc: 0.6371\n"
     ]
    },
    {
     "name": "stdout",
     "output_type": "stream",
     "text": [
      "Epoch 6 / 101 - 10 seconds - loss: 0.005028392329517486 - acc: 0.6191895780051151 - val_loss: 1.9162083837065567 - val_acc: 0.6445\n"
     ]
    },
    {
     "name": "stdout",
     "output_type": "stream",
     "text": [
      "Epoch 7 / 101 - 12 seconds - loss: 0.004818340898725012 - acc: 0.6234854539641944 - val_loss: 1.8288294897122455 - val_acc: 0.6504\n"
     ]
    },
    {
     "name": "stdout",
     "output_type": "stream",
     "text": [
      "Epoch 8 / 101 - 14 seconds - loss: 0.004593365865464421 - acc: 0.6275175831202046 - val_loss: 1.7365861739569228 - val_acc: 0.653\n"
     ]
    },
    {
     "name": "stdout",
     "output_type": "stream",
     "text": [
      "Epoch 9 / 101 - 15 seconds - loss: 0.0043594564819865594 - acc: 0.6326166879795396 - val_loss: 1.642081901536519 - val_acc: 0.6591\n"
     ]
    },
    {
     "name": "stdout",
     "output_type": "stream",
     "text": [
      "Epoch 10 / 101 - 17 seconds - loss: 0.004123382627487608 - acc: 0.6408407928388746 - val_loss: 1.547921660555382 - val_acc: 0.6671\n"
     ]
    },
    {
     "name": "stdout",
     "output_type": "stream",
     "text": [
      "Epoch 11 / 101 - 19 seconds - loss: 0.0038913983881513235 - acc: 0.6513187340153452 - val_loss: 1.4563874362903892 - val_acc: 0.6804\n"
     ]
    },
    {
     "name": "stdout",
     "output_type": "stream",
     "text": [
      "Epoch 12 / 101 - 20 seconds - loss: 0.0036683545939685427 - acc: 0.6647418478260869 - val_loss: 1.3690382772942116 - val_acc: 0.6958\n"
     ]
    },
    {
     "name": "stdout",
     "output_type": "stream",
     "text": [
      "Epoch 13 / 101 - 22 seconds - loss: 0.003457265144926801 - acc: 0.6804987212276215 - val_loss: 1.2868096700787297 - val_acc: 0.7128\n"
     ]
    },
    {
     "name": "stdout",
     "output_type": "stream",
     "text": [
      "Epoch 14 / 101 - 23 seconds - loss: 0.0032597414295445224 - acc: 0.6964713874680307 - val_loss: 1.210139979194227 - val_acc: 0.7275\n"
     ]
    },
    {
     "name": "stdout",
     "output_type": "stream",
     "text": [
      "Epoch 15 / 101 - 25 seconds - loss: 0.003076404473827299 - acc: 0.7143821930946291 - val_loss: 1.139171564193684 - val_acc: 0.7442\n"
     ]
    },
    {
     "name": "stdout",
     "output_type": "stream",
     "text": [
      "Epoch 16 / 101 - 26 seconds - loss: 0.002907291843609478 - acc: 0.7290161445012788 - val_loss: 1.0738460068816849 - val_acc: 0.7592\n"
     ]
    },
    {
     "name": "stdout",
     "output_type": "stream",
     "text": [
      "Epoch 17 / 101 - 28 seconds - loss: 0.002751962920721897 - acc: 0.744749040920716 - val_loss: 1.0138871508045812 - val_acc: 0.7744\n"
     ]
    },
    {
     "name": "stdout",
     "output_type": "stream",
     "text": [
      "Epoch 18 / 101 - 29 seconds - loss: 0.0026096882200931783 - acc: 0.7591791879795396 - val_loss: 0.9590087538081554 - val_acc: 0.7893\n"
     ]
    },
    {
     "name": "stdout",
     "output_type": "stream",
     "text": [
      "Epoch 19 / 101 - 31 seconds - loss: 0.002479661212172765 - acc: 0.7734694693094629 - val_loss: 0.9088701609697757 - val_acc: 0.8015\n"
     ]
    },
    {
     "name": "stdout",
     "output_type": "stream",
     "text": [
      "Epoch 20 / 101 - 33 seconds - loss: 0.002361033848343553 - acc: 0.7844988810741688 - val_loss: 0.8631566263743233 - val_acc: 0.8127\n"
     ]
    },
    {
     "name": "stdout",
     "output_type": "stream",
     "text": [
      "Epoch 21 / 101 - 34 seconds - loss: 0.0022529372159483477 - acc: 0.7944053708439898 - val_loss: 0.8215213750901147 - val_acc: 0.8216\n"
     ]
    },
    {
     "name": "stdout",
     "output_type": "stream",
     "text": [
      "Epoch 22 / 101 - 36 seconds - loss: 0.0021545128451114022 - acc: 0.8038243286445014 - val_loss: 0.7836348514509853 - val_acc: 0.8324\n"
     ]
    },
    {
     "name": "stdout",
     "output_type": "stream",
     "text": [
      "Epoch 23 / 101 - 37 seconds - loss: 0.002064937823023604 - acc: 0.8121603260869565 - val_loss: 0.749198621667815 - val_acc: 0.8401\n"
     ]
    },
    {
     "name": "stdout",
     "output_type": "stream",
     "text": [
      "Epoch 24 / 101 - 39 seconds - loss: 0.0019834065361856164 - acc: 0.8198209718670078 - val_loss: 0.7178942936999884 - val_acc: 0.8453\n"
     ]
    },
    {
     "name": "stdout",
     "output_type": "stream",
     "text": [
      "Epoch 25 / 101 - 40 seconds - loss: 0.0019091400627022149 - acc: 0.826122921994885 - val_loss: 0.6894288465574048 - val_acc: 0.8504\n"
     ]
    },
    {
     "name": "stdout",
     "output_type": "stream",
     "text": [
      "Epoch 26 / 101 - 42 seconds - loss: 0.0018414067610911296 - acc: 0.8321451406649616 - val_loss: 0.6635119849132093 - val_acc: 0.8555\n"
     ]
    },
    {
     "name": "stdout",
     "output_type": "stream",
     "text": [
      "Epoch 27 / 101 - 43 seconds - loss: 0.0017795377400854529 - acc: 0.8370084718670077 - val_loss: 0.6398925931063567 - val_acc: 0.8595\n"
     ]
    },
    {
     "name": "stdout",
     "output_type": "stream",
     "text": [
      "Epoch 28 / 101 - 45 seconds - loss: 0.00172291119615116 - acc: 0.8410925511508951 - val_loss: 0.6183188677890902 - val_acc: 0.8627\n"
     ]
    },
    {
     "name": "stdout",
     "output_type": "stream",
     "text": [
      "Epoch 29 / 101 - 46 seconds - loss: 0.0016709832891630306 - acc: 0.8448809143222507 - val_loss: 0.598589068868415 - val_acc: 0.8657\n"
     ]
    },
    {
     "name": "stdout",
     "output_type": "stream",
     "text": [
      "Epoch 30 / 101 - 48 seconds - loss: 0.001623252224604768 - acc: 0.8480378836317135 - val_loss: 0.5805073330890751 - val_acc: 0.869\n"
     ]
    },
    {
     "name": "stdout",
     "output_type": "stream",
     "text": [
      "Epoch 31 / 101 - 49 seconds - loss: 0.001579284810069624 - acc: 0.8509311061381074 - val_loss: 0.5638967076414781 - val_acc: 0.8713\n"
     ]
    },
    {
     "name": "stdout",
     "output_type": "stream",
     "text": [
      "Epoch 32 / 101 - 51 seconds - loss: 0.0015386790977235801 - acc: 0.8533128196930946 - val_loss: 0.5485928797248373 - val_acc: 0.8727\n"
     ]
    },
    {
     "name": "stdout",
     "output_type": "stream",
     "text": [
      "Epoch 33 / 101 - 53 seconds - loss: 0.00150109011492789 - acc: 0.8560182225063938 - val_loss: 0.5344668597156949 - val_acc: 0.8746\n"
     ]
    },
    {
     "name": "stdout",
     "output_type": "stream",
     "text": [
      "Epoch 34 / 101 - 54 seconds - loss: 0.0014662102427790342 - acc: 0.8577605498721227 - val_loss: 0.5214124580667363 - val_acc: 0.877\n"
     ]
    },
    {
     "name": "stdout",
     "output_type": "stream",
     "text": [
      "Epoch 35 / 101 - 56 seconds - loss: 0.0014337781045257935 - acc: 0.8601102941176472 - val_loss: 0.509304491980795 - val_acc: 0.8792\n"
     ]
    },
    {
     "name": "stdout",
     "output_type": "stream",
     "text": [
      "Epoch 36 / 101 - 57 seconds - loss: 0.0014035604635783334 - acc: 0.8622162723785166 - val_loss: 0.4980648234563278 - val_acc: 0.8809\n"
     ]
    },
    {
     "name": "stdout",
     "output_type": "stream",
     "text": [
      "Epoch 37 / 101 - 59 seconds - loss: 0.0013753390246230687 - acc: 0.8642982736572891 - val_loss: 0.48760245782387684 - val_acc: 0.882\n"
     ]
    },
    {
     "name": "stdout",
     "output_type": "stream",
     "text": [
      "Epoch 38 / 101 - 60 seconds - loss: 0.0013489356605155577 - acc: 0.8659007352941176 - val_loss: 0.47784898104725654 - val_acc: 0.8833\n"
     ]
    },
    {
     "name": "stdout",
     "output_type": "stream",
     "text": [
      "Epoch 39 / 101 - 62 seconds - loss: 0.0013241801132730098 - acc: 0.8676750319693095 - val_loss: 0.4687354631192563 - val_acc: 0.8843\n"
     ]
    },
    {
     "name": "stdout",
     "output_type": "stream",
     "text": [
      "Epoch 40 / 101 - 63 seconds - loss: 0.0013009287235513892 - acc: 0.8690337276214835 - val_loss: 0.460194595547977 - val_acc: 0.8858\n"
     ]
    },
    {
     "name": "stdout",
     "output_type": "stream",
     "text": [
      "Epoch 41 / 101 - 65 seconds - loss: 0.0012790531044313221 - acc: 0.8705482736572889 - val_loss: 0.4521884603312046 - val_acc: 0.8872\n"
     ]
    },
    {
     "name": "stdout",
     "output_type": "stream",
     "text": [
      "Epoch 42 / 101 - 66 seconds - loss: 0.001258442298512302 - acc: 0.8718270460358055 - val_loss: 0.4446724988324126 - val_acc: 0.8881\n"
     ]
    },
    {
     "name": "stdout",
     "output_type": "stream",
     "text": [
      "Epoch 43 / 101 - 68 seconds - loss: 0.0012389826569022845 - acc: 0.8729779411764707 - val_loss: 0.4375984035092445 - val_acc: 0.8887\n"
     ]
    },
    {
     "name": "stdout",
     "output_type": "stream",
     "text": [
      "Epoch 44 / 101 - 69 seconds - loss: 0.0012205761056936343 - acc: 0.8742527173913043 - val_loss: 0.43093017581708937 - val_acc: 0.8896\n"
     ]
    },
    {
     "name": "stdout",
     "output_type": "stream",
     "text": [
      "Epoch 45 / 101 - 71 seconds - loss: 0.0012031437240322702 - acc: 0.8753396739130435 - val_loss: 0.42463867590388354 - val_acc: 0.8907\n"
     ]
    },
    {
     "name": "stdout",
     "output_type": "stream",
     "text": [
      "Epoch 46 / 101 - 73 seconds - loss: 0.0011866174413118237 - acc: 0.8766703964194373 - val_loss: 0.4186869838471833 - val_acc: 0.8912\n"
     ]
    },
    {
     "name": "stdout",
     "output_type": "stream",
     "text": [
      "Epoch 47 / 101 - 74 seconds - loss: 0.0011709155798527067 - acc: 0.8776414641943734 - val_loss: 0.4130538904269704 - val_acc: 0.8929\n"
     ]
    },
    {
     "name": "stdout",
     "output_type": "stream",
     "text": [
      "Epoch 48 / 101 - 76 seconds - loss: 0.0011559830039728294 - acc: 0.8785246163682865 - val_loss: 0.4077046833597047 - val_acc: 0.8942\n"
     ]
    },
    {
     "name": "stdout",
     "output_type": "stream",
     "text": [
      "Epoch 49 / 101 - 77 seconds - loss: 0.0011417642154653307 - acc: 0.8794157608695652 - val_loss: 0.4026318331891874 - val_acc: 0.895\n"
     ]
    },
    {
     "name": "stdout",
     "output_type": "stream",
     "text": [
      "Epoch 50 / 101 - 79 seconds - loss: 0.0011282138959010377 - acc: 0.8804547634271099 - val_loss: 0.39780609960764335 - val_acc: 0.8963\n"
     ]
    },
    {
     "name": "stdout",
     "output_type": "stream",
     "text": [
      "Epoch 51 / 101 - 80 seconds - loss: 0.0011152720462732468 - acc: 0.8817495204603581 - val_loss: 0.3932088727800805 - val_acc: 0.8971\n"
     ]
    },
    {
     "name": "stdout",
     "output_type": "stream",
     "text": [
      "Epoch 52 / 101 - 82 seconds - loss: 0.0011029096847846704 - acc: 0.8825367647058823 - val_loss: 0.38883027521796765 - val_acc: 0.8974\n"
     ]
    },
    {
     "name": "stdout",
     "output_type": "stream",
     "text": [
      "Epoch 53 / 101 - 83 seconds - loss: 0.0010910792541742598 - acc: 0.8834518861892583 - val_loss: 0.3846474172651957 - val_acc: 0.8981\n"
     ]
    },
    {
     "name": "stdout",
     "output_type": "stream",
     "text": [
      "Epoch 54 / 101 - 85 seconds - loss: 0.0010797550596277873 - acc: 0.8845947890025575 - val_loss: 0.3806536686428568 - val_acc: 0.8987\n"
     ]
    },
    {
     "name": "stdout",
     "output_type": "stream",
     "text": [
      "Epoch 55 / 101 - 86 seconds - loss: 0.0010688871082708436 - acc: 0.8855978260869566 - val_loss: 0.37683070848768474 - val_acc: 0.8988\n"
     ]
    },
    {
     "name": "stdout",
     "output_type": "stream",
     "text": [
      "Epoch 56 / 101 - 88 seconds - loss: 0.0010584664996744811 - acc: 0.8865169437340154 - val_loss: 0.37317179906216474 - val_acc: 0.8998\n"
     ]
    },
    {
     "name": "stdout",
     "output_type": "stream",
     "text": [
      "Epoch 57 / 101 - 89 seconds - loss: 0.0010484487081288654 - acc: 0.8871403452685421 - val_loss: 0.36966414959069965 - val_acc: 0.9002\n"
     ]
    },
    {
     "name": "stdout",
     "output_type": "stream",
     "text": [
      "Epoch 58 / 101 - 91 seconds - loss: 0.0010388197513854984 - acc: 0.887795716112532 - val_loss: 0.3663001559416383 - val_acc: 0.9009\n"
     ]
    },
    {
     "name": "stdout",
     "output_type": "stream",
     "text": [
      "Epoch 59 / 101 - 93 seconds - loss: 0.0010295477953845044 - acc: 0.8885070332480819 - val_loss: 0.3630735196802561 - val_acc: 0.9018\n"
     ]
    },
    {
     "name": "stdout",
     "output_type": "stream",
     "text": [
      "Epoch 60 / 101 - 94 seconds - loss: 0.0010206117553948604 - acc: 0.8890625000000001 - val_loss: 0.35996074143378054 - val_acc: 0.9027\n"
     ]
    },
    {
     "name": "stdout",
     "output_type": "stream",
     "text": [
      "Epoch 61 / 101 - 96 seconds - loss: 0.0010119994011131314 - acc: 0.889741847826087 - val_loss: 0.3569697888623064 - val_acc: 0.9029\n"
     ]
    },
    {
     "name": "stdout",
     "output_type": "stream",
     "text": [
      "Epoch 62 / 101 - 97 seconds - loss: 0.0010036883410077834 - acc: 0.8906689578005115 - val_loss: 0.3540886532256549 - val_acc: 0.9035\n"
     ]
    },
    {
     "name": "stdout",
     "output_type": "stream",
     "text": [
      "Epoch 63 / 101 - 99 seconds - loss: 0.0009956557076720907 - acc: 0.8913083439897698 - val_loss: 0.3513101530950306 - val_acc: 0.9038\n"
     ]
    },
    {
     "name": "stdout",
     "output_type": "stream",
     "text": [
      "Epoch 64 / 101 - 100 seconds - loss: 0.00098789429408115 - acc: 0.8922394501278773 - val_loss: 0.34862691120647704 - val_acc: 0.9042\n"
     ]
    },
    {
     "name": "stdout",
     "output_type": "stream",
     "text": [
      "Epoch 65 / 101 - 102 seconds - loss: 0.0009803876188663571 - acc: 0.8928468670076726 - val_loss: 0.3460358479265648 - val_acc: 0.9045\n"
     ]
    },
    {
     "name": "stdout",
     "output_type": "stream",
     "text": [
      "Epoch 66 / 101 - 103 seconds - loss: 0.0009731174194372804 - acc: 0.8932824488491049 - val_loss: 0.3435290333383316 - val_acc: 0.905\n"
     ]
    },
    {
     "name": "stdout",
     "output_type": "stream",
     "text": [
      "Epoch 67 / 101 - 105 seconds - loss: 0.0009660728111955624 - acc: 0.8937060421994885 - val_loss: 0.3411009240995912 - val_acc: 0.905\n"
     ]
    },
    {
     "name": "stdout",
     "output_type": "stream",
     "text": [
      "Epoch 68 / 101 - 106 seconds - loss: 0.0009592450946463689 - acc: 0.8943813938618926 - val_loss: 0.3387530494691712 - val_acc: 0.9051\n"
     ]
    },
    {
     "name": "stdout",
     "output_type": "stream",
     "text": [
      "Epoch 69 / 101 - 108 seconds - loss: 0.0009526211507892683 - acc: 0.8951526534526854 - val_loss: 0.3364778646843064 - val_acc: 0.9054\n"
     ]
    },
    {
     "name": "stdout",
     "output_type": "stream",
     "text": [
      "Epoch 70 / 101 - 109 seconds - loss: 0.0009461859135987785 - acc: 0.8956122122762148 - val_loss: 0.334272123058596 - val_acc: 0.9062\n"
     ]
    },
    {
     "name": "stdout",
     "output_type": "stream",
     "text": [
      "Epoch 71 / 101 - 111 seconds - loss: 0.0009399408237256382 - acc: 0.8963275255754476 - val_loss: 0.3321314984514614 - val_acc: 0.9061\n"
     ]
    },
    {
     "name": "stdout",
     "output_type": "stream",
     "text": [
      "Epoch 72 / 101 - 113 seconds - loss: 0.0009338666740176213 - acc: 0.8968110613810741 - val_loss: 0.33005179754440717 - val_acc: 0.9063\n"
     ]
    },
    {
     "name": "stdout",
     "output_type": "stream",
     "text": [
      "Epoch 73 / 101 - 114 seconds - loss: 0.0009279580562509173 - acc: 0.8973505434782608 - val_loss: 0.32803329057456154 - val_acc: 0.907\n"
     ]
    },
    {
     "name": "stdout",
     "output_type": "stream",
     "text": [
      "Epoch 74 / 101 - 116 seconds - loss: 0.0009222045172075237 - acc: 0.8979020140664961 - val_loss: 0.3260665225554795 - val_acc: 0.9073\n"
     ]
    },
    {
     "name": "stdout",
     "output_type": "stream",
     "text": [
      "Epoch 75 / 101 - 117 seconds - loss: 0.0009166066992983535 - acc: 0.8982576726342711 - val_loss: 0.3241555780890138 - val_acc: 0.9076\n"
     ]
    },
    {
     "name": "stdout",
     "output_type": "stream",
     "text": [
      "Epoch 76 / 101 - 119 seconds - loss: 0.0009111522047723673 - acc: 0.8987771739130435 - val_loss: 0.32229363577152753 - val_acc: 0.9079\n"
     ]
    },
    {
     "name": "stdout",
     "output_type": "stream",
     "text": [
      "Epoch 77 / 101 - 120 seconds - loss: 0.0009058296884077646 - acc: 0.8991608056265984 - val_loss: 0.3204828089165799 - val_acc: 0.9086\n"
     ]
    },
    {
     "name": "stdout",
     "output_type": "stream",
     "text": [
      "Epoch 78 / 101 - 122 seconds - loss: 0.0009006452738186065 - acc: 0.8995524296675192 - val_loss: 0.3187156722045023 - val_acc: 0.9091\n"
     ]
    },
    {
     "name": "stdout",
     "output_type": "stream",
     "text": [
      "Epoch 79 / 101 - 123 seconds - loss: 0.0008955853742313911 - acc: 0.8999320652173913 - val_loss: 0.31699219526727257 - val_acc: 0.909\n"
     ]
    },
    {
     "name": "stdout",
     "output_type": "stream",
     "text": [
      "Epoch 80 / 101 - 125 seconds - loss: 0.0008906487763818616 - acc: 0.9001878196930946 - val_loss: 0.3153137905592415 - val_acc: 0.9097\n"
     ]
    },
    {
     "name": "stdout",
     "output_type": "stream",
     "text": [
      "Epoch 81 / 101 - 126 seconds - loss: 0.0008858212481970521 - acc: 0.9007632672634271 - val_loss: 0.3136698414643158 - val_acc: 0.9101\n"
     ]
    },
    {
     "name": "stdout",
     "output_type": "stream",
     "text": [
      "Epoch 82 / 101 - 128 seconds - loss: 0.0008811104190637002 - acc: 0.9012987531969309 - val_loss: 0.31206793298872304 - val_acc: 0.9108\n"
     ]
    },
    {
     "name": "stdout",
     "output_type": "stream",
     "text": [
      "Epoch 83 / 101 - 130 seconds - loss: 0.0008765007104215279 - acc: 0.9018781969309463 - val_loss: 0.3105051817949253 - val_acc: 0.9111\n"
     ]
    },
    {
     "name": "stdout",
     "output_type": "stream",
     "text": [
      "Epoch 84 / 101 - 131 seconds - loss: 0.0008719912392128147 - acc: 0.902181905370844 - val_loss: 0.3089741676165797 - val_acc: 0.9112\n"
     ]
    },
    {
     "name": "stdout",
     "output_type": "stream",
     "text": [
      "Epoch 85 / 101 - 133 seconds - loss: 0.0008675800298285557 - acc: 0.9025415601023018 - val_loss: 0.30747703647098273 - val_acc: 0.9114\n"
     ]
    },
    {
     "name": "stdout",
     "output_type": "stream",
     "text": [
      "Epoch 86 / 101 - 134 seconds - loss: 0.0008632567110451577 - acc: 0.9028692455242967 - val_loss: 0.3060133619663391 - val_acc: 0.912\n"
     ]
    },
    {
     "name": "stdout",
     "output_type": "stream",
     "text": [
      "Epoch 87 / 101 - 136 seconds - loss: 0.000859024431047558 - acc: 0.9030131074168798 - val_loss: 0.30457771665479966 - val_acc: 0.9124\n"
     ]
    },
    {
     "name": "stdout",
     "output_type": "stream",
     "text": [
      "Epoch 88 / 101 - 137 seconds - loss: 0.0008548753505458297 - acc: 0.9034446930946292 - val_loss: 0.30317290381562567 - val_acc: 0.9128\n"
     ]
    },
    {
     "name": "stdout",
     "output_type": "stream",
     "text": [
      "Epoch 89 / 101 - 139 seconds - loss: 0.0008508026187574291 - acc: 0.9037723785166241 - val_loss: 0.3017928773992049 - val_acc: 0.913\n"
     ]
    },
    {
     "name": "stdout",
     "output_type": "stream",
     "text": [
      "Epoch 90 / 101 - 140 seconds - loss: 0.0008468118679439862 - acc: 0.9043478260869566 - val_loss: 0.3004434904859823 - val_acc: 0.9134\n"
     ]
    },
    {
     "name": "stdout",
     "output_type": "stream",
     "text": [
      "Epoch 91 / 101 - 142 seconds - loss: 0.0008428970927243684 - acc: 0.9046635230179028 - val_loss: 0.2991235886220215 - val_acc: 0.9136\n"
     ]
    },
    {
     "name": "stdout",
     "output_type": "stream",
     "text": [
      "Epoch 92 / 101 - 144 seconds - loss: 0.0008390572000467805 - acc: 0.9051270780051152 - val_loss: 0.29782697880292325 - val_acc: 0.9142\n"
     ]
    },
    {
     "name": "stdout",
     "output_type": "stream",
     "text": [
      "Epoch 93 / 101 - 145 seconds - loss: 0.0008352867943980611 - acc: 0.9055626598465473 - val_loss: 0.2965573599792096 - val_acc: 0.9146\n"
     ]
    },
    {
     "name": "stdout",
     "output_type": "stream",
     "text": [
      "Epoch 94 / 101 - 147 seconds - loss: 0.0008315792812938009 - acc: 0.9059702685421995 - val_loss: 0.29530691149015087 - val_acc: 0.9148\n"
     ]
    },
    {
     "name": "stdout",
     "output_type": "stream",
     "text": [
      "Epoch 95 / 101 - 148 seconds - loss: 0.000827941882531157 - acc: 0.9062300191815856 - val_loss: 0.2940814073786247 - val_acc: 0.9152\n"
     ]
    },
    {
     "name": "stdout",
     "output_type": "stream",
     "text": [
      "Epoch 96 / 101 - 150 seconds - loss: 0.0008243657302915004 - acc: 0.9069453324808184 - val_loss: 0.29287806659372567 - val_acc: 0.9153\n"
     ]
    },
    {
     "name": "stdout",
     "output_type": "stream",
     "text": [
      "Epoch 97 / 101 - 151 seconds - loss: 0.000820854270680621 - acc: 0.9073489450127877 - val_loss: 0.2916936557191821 - val_acc: 0.9159\n"
     ]
    },
    {
     "name": "stdout",
     "output_type": "stream",
     "text": [
      "Epoch 98 / 101 - 153 seconds - loss: 0.0008174003656058188 - acc: 0.9076206841432225 - val_loss: 0.29053629883924004 - val_acc: 0.9159\n"
     ]
    },
    {
     "name": "stdout",
     "output_type": "stream",
     "text": [
      "Epoch 99 / 101 - 154 seconds - loss: 0.0008140010076636986 - acc: 0.9080282928388747 - val_loss: 0.28939589442040814 - val_acc: 0.9161\n"
     ]
    },
    {
     "name": "stdout",
     "output_type": "stream",
     "text": [
      "Epoch 100 / 101 - 156 seconds - loss: 0.0008106602318592786 - acc: 0.9085158248081842 - val_loss: 0.2882702676455182 - val_acc: 0.9161\n"
     ]
    },
    {
     "name": "stdout",
     "output_type": "stream",
     "text": [
      "Epoch 1 / 101 - 1 seconds - loss: 0.0464994065469324 - acc: 0.17835972095206007 - val_loss: 2.2511190764643536 - val_acc: 0.3209\n"
     ]
    },
    {
     "name": "stdout",
     "output_type": "stream",
     "text": [
      "Epoch 2 / 101 - 3 seconds - loss: 0.045461725477098376 - acc: 0.4311957757749326 - val_loss: 2.1984931316900367 - val_acc: 0.549\n"
     ]
    },
    {
     "name": "stdout",
     "output_type": "stream",
     "text": [
      "Epoch 3 / 101 - 4 seconds - loss: 0.04438239271285323 - acc: 0.5892879704948016 - val_loss: 2.142333876817118 - val_acc: 0.654\n"
     ]
    },
    {
     "name": "stdout",
     "output_type": "stream",
     "text": [
      "Epoch 4 / 101 - 6 seconds - loss: 0.04320881008695885 - acc: 0.6570934461638429 - val_loss: 2.080227685523666 - val_acc: 0.6949\n"
     ]
    },
    {
     "name": "stdout",
     "output_type": "stream",
     "text": [
      "Epoch 5 / 101 - 7 seconds - loss: 0.04189670541773691 - acc: 0.6845375974682326 - val_loss: 2.0102960356576034 - val_acc: 0.7154\n"
     ]
    },
    {
     "name": "stdout",
     "output_type": "stream",
     "text": [
      "Epoch 6 / 101 - 9 seconds - loss: 0.0404161716080449 - acc: 0.6934300695514054 - val_loss: 1.9315836030071416 - val_acc: 0.7199\n"
     ]
    },
    {
     "name": "stdout",
     "output_type": "stream",
     "text": [
      "Epoch 7 / 101 - 10 seconds - loss: 0.03875910694609135 - acc: 0.6947815387947632 - val_loss: 1.8443010950765832 - val_acc: 0.7195\n"
     ]
    },
    {
     "name": "stdout",
     "output_type": "stream",
     "text": [
      "Epoch 8 / 101 - 11 seconds - loss: 0.036946203604096756 - acc: 0.6930295924383905 - val_loss: 1.750188766988348 - val_acc: 0.7173\n"
     ]
    },
    {
     "name": "stdout",
     "output_type": "stream",
     "text": [
      "Epoch 9 / 101 - 13 seconds - loss: 0.03502624589474926 - acc: 0.6941543126684636 - val_loss: 1.6521755204869975 - val_acc: 0.7175\n"
     ]
    },
    {
     "name": "stdout",
     "output_type": "stream",
     "text": [
      "Epoch 10 / 101 - 14 seconds - loss: 0.03306323967150102 - acc: 0.6959773296110897 - val_loss: 1.5534904301860681 - val_acc: 0.7226\n"
     ]
    },
    {
     "name": "stdout",
     "output_type": "stream",
     "text": [
      "Epoch 11 / 101 - 16 seconds - loss: 0.031117291095993153 - acc: 0.7027895769156719 - val_loss: 1.4567067904287918 - val_acc: 0.7293\n"
     ]
    },
    {
     "name": "stdout",
     "output_type": "stream",
     "text": [
      "Epoch 12 / 101 - 17 seconds - loss: 0.02923255060672389 - acc: 0.7117959875577589 - val_loss: 1.3636741948935887 - val_acc: 0.7397\n"
     ]
    },
    {
     "name": "stdout",
     "output_type": "stream",
     "text": [
      "Epoch 13 / 101 - 19 seconds - loss: 0.027438560723753395 - acc: 0.7223385005535233 - val_loss: 1.2756922147169618 - val_acc: 0.7531\n"
     ]
    },
    {
     "name": "stdout",
     "output_type": "stream",
     "text": [
      "Epoch 14 / 101 - 20 seconds - loss: 0.025755621966884815 - acc: 0.7341711891124375 - val_loss: 1.1936190526701114 - val_acc: 0.7651\n"
     ]
    },
    {
     "name": "stdout",
     "output_type": "stream",
     "text": [
      "Epoch 15 / 101 - 21 seconds - loss: 0.024196264664397997 - acc: 0.7461591800635348 - val_loss: 1.117995457405681 - val_acc: 0.7765\n"
     ]
    },
    {
     "name": "stdout",
     "output_type": "stream",
     "text": [
      "Epoch 16 / 101 - 23 seconds - loss: 0.02276689011930206 - acc: 0.758689789300154 - val_loss: 1.0490108295301295 - val_acc: 0.7867\n"
     ]
    },
    {
     "name": "stdout",
     "output_type": "stream",
     "text": [
      "Epoch 17 / 101 - 24 seconds - loss: 0.021467377730364272 - acc: 0.7695323781045437 - val_loss: 0.986530038192561 - val_acc: 0.7993\n"
     ]
    },
    {
     "name": "stdout",
     "output_type": "stream",
     "text": [
      "Epoch 18 / 101 - 26 seconds - loss: 0.020292977719158757 - acc: 0.7805486950086638 - val_loss: 0.9302152498172856 - val_acc: 0.8094\n"
     ]
    },
    {
     "name": "stdout",
     "output_type": "stream",
     "text": [
      "Epoch 19 / 101 - 27 seconds - loss: 0.01923572885444744 - acc: 0.7894355265691183 - val_loss: 0.8796197636809077 - val_acc: 0.8187\n"
     ]
    },
    {
     "name": "stdout",
     "output_type": "stream",
     "text": [
      "Epoch 20 / 101 - 29 seconds - loss: 0.018286048611680154 - acc: 0.7986017520215634 - val_loss: 0.834231946835963 - val_acc: 0.8242\n"
     ]
    },
    {
     "name": "stdout",
     "output_type": "stream",
     "text": [
      "Epoch 21 / 101 - 30 seconds - loss: 0.01743343514365259 - acc: 0.806564289925876 - val_loss: 0.793532938503163 - val_acc: 0.831\n"
     ]
    },
    {
     "name": "stdout",
     "output_type": "stream",
     "text": [
      "Epoch 22 / 101 - 31 seconds - loss: 0.01666773346795418 - acc: 0.8133596156623027 - val_loss: 0.7570065375352254 - val_acc: 0.8382\n"
     ]
    },
    {
     "name": "stdout",
     "output_type": "stream",
     "text": [
      "Epoch 23 / 101 - 33 seconds - loss: 0.015979194507463282 - acc: 0.8196585753994995 - val_loss: 0.7241984695397745 - val_acc: 0.8431\n"
     ]
    },
    {
     "name": "stdout",
     "output_type": "stream",
     "text": [
      "Epoch 24 / 101 - 34 seconds - loss: 0.015358819334392464 - acc: 0.8253611438679245 - val_loss: 0.6946489570686356 - val_acc: 0.8472\n"
     ]
    },
    {
     "name": "stdout",
     "output_type": "stream",
     "text": [
      "Epoch 25 / 101 - 36 seconds - loss: 0.014798402531400677 - acc: 0.8303060021178282 - val_loss: 0.6679761172300882 - val_acc: 0.8513\n"
     ]
    },
    {
     "name": "stdout",
     "output_type": "stream",
     "text": [
      "Epoch 26 / 101 - 37 seconds - loss: 0.014290693496015399 - acc: 0.8345397784703503 - val_loss: 0.6438385459144839 - val_acc: 0.8545\n"
     ]
    },
    {
     "name": "stdout",
     "output_type": "stream",
     "text": [
      "Epoch 27 / 101 - 39 seconds - loss: 0.01382905793500402 - acc: 0.8387284306411245 - val_loss: 0.6219021134836048 - val_acc: 0.8572\n"
     ]
    },
    {
     "name": "stdout",
     "output_type": "stream",
     "text": [
      "Epoch 28 / 101 - 40 seconds - loss: 0.01340805301547522 - acc: 0.8419969255390836 - val_loss: 0.6019327635434546 - val_acc: 0.8616\n"
     ]
    },
    {
     "name": "stdout",
     "output_type": "stream",
     "text": [
      "Epoch 29 / 101 - 41 seconds - loss: 0.013022762626059605 - acc: 0.8453150570369657 - val_loss: 0.5836820527247906 - val_acc: 0.8645\n"
     ]
    },
    {
     "name": "stdout",
     "output_type": "stream",
     "text": [
      "Epoch 30 / 101 - 43 seconds - loss: 0.012669001175107721 - acc: 0.8483067902868694 - val_loss: 0.5669669444338549 - val_acc: 0.8673\n"
     ]
    },
    {
     "name": "stdout",
     "output_type": "stream",
     "text": [
      "Epoch 31 / 101 - 44 seconds - loss: 0.012343139601793705 - acc: 0.8511676634097035 - val_loss: 0.5515928010515122 - val_acc: 0.8692\n"
     ]
    },
    {
     "name": "stdout",
     "output_type": "stream",
     "text": [
      "Epoch 32 / 101 - 46 seconds - loss: 0.012042040181261175 - acc: 0.8537325971072391 - val_loss: 0.537430268025748 - val_acc: 0.8718\n"
     ]
    },
    {
     "name": "stdout",
     "output_type": "stream",
     "text": [
      "Epoch 33 / 101 - 47 seconds - loss: 0.011763118269162905 - acc: 0.8561929931170581 - val_loss: 0.5243376227290906 - val_acc: 0.8741\n"
     ]
    },
    {
     "name": "stdout",
     "output_type": "stream",
     "text": [
      "Epoch 34 / 101 - 49 seconds - loss: 0.01150403224286424 - acc: 0.8586342113496342 - val_loss: 0.5122049040637134 - val_acc: 0.8759\n"
     ]
    },
    {
     "name": "stdout",
     "output_type": "stream",
     "text": [
      "Epoch 35 / 101 - 50 seconds - loss: 0.011262649695594377 - acc: 0.860568910642087 - val_loss: 0.5009434872295011 - val_acc: 0.8782\n"
     ]
    },
    {
     "name": "stdout",
     "output_type": "stream",
     "text": [
      "Epoch 36 / 101 - 52 seconds - loss: 0.01103736581246014 - acc: 0.8624408121149404 - val_loss: 0.4904565157658933 - val_acc: 0.8794\n"
     ]
    },
    {
     "name": "stdout",
     "output_type": "stream",
     "text": [
      "Epoch 37 / 101 - 53 seconds - loss: 0.010826575446384434 - acc: 0.864017526232191 - val_loss: 0.48066821785608455 - val_acc: 0.8799\n"
     ]
    },
    {
     "name": "stdout",
     "output_type": "stream",
     "text": [
      "Epoch 38 / 101 - 55 seconds - loss: 0.01062885055782373 - acc: 0.8658322704081632 - val_loss: 0.47151299251580986 - val_acc: 0.8813\n"
     ]
    },
    {
     "name": "stdout",
     "output_type": "stream",
     "text": [
      "Epoch 39 / 101 - 56 seconds - loss: 0.010443155671367768 - acc: 0.8674142490132846 - val_loss: 0.4629373278894844 - val_acc: 0.8823\n"
     ]
    },
    {
     "name": "stdout",
     "output_type": "stream",
     "text": [
      "Epoch 40 / 101 - 57 seconds - loss: 0.010268268639388392 - acc: 0.868923276857913 - val_loss: 0.45489142842132596 - val_acc: 0.8832\n"
     ]
    },
    {
     "name": "stdout",
     "output_type": "stream",
     "text": [
      "Epoch 41 / 101 - 59 seconds - loss: 0.010103429660789389 - acc: 0.8705296977281478 - val_loss: 0.44732334221701714 - val_acc: 0.8849\n"
     ]
    },
    {
     "name": "stdout",
     "output_type": "stream",
     "text": [
      "Epoch 42 / 101 - 60 seconds - loss: 0.009947722412850963 - acc: 0.8718736462745477 - val_loss: 0.440196361028443 - val_acc: 0.8859\n"
     ]
    },
    {
     "name": "stdout",
     "output_type": "stream",
     "text": [
      "Epoch 43 / 101 - 62 seconds - loss: 0.009800371462962138 - acc: 0.8736413860945322 - val_loss: 0.43348386202220246 - val_acc: 0.8866\n"
     ]
    },
    {
     "name": "stdout",
     "output_type": "stream",
     "text": [
      "Epoch 44 / 101 - 63 seconds - loss: 0.009660827272730352 - acc: 0.8749973677560646 - val_loss: 0.4271377195051377 - val_acc: 0.8881\n"
     ]
    },
    {
     "name": "stdout",
     "output_type": "stream",
     "text": [
      "Epoch 45 / 101 - 65 seconds - loss: 0.009528464489025841 - acc: 0.8764932343810167 - val_loss: 0.42112850215308556 - val_acc: 0.8895\n"
     ]
    },
    {
     "name": "stdout",
     "output_type": "stream",
     "text": [
      "Epoch 46 / 101 - 66 seconds - loss: 0.009402614887591839 - acc: 0.8775303384915286 - val_loss: 0.4154369643842705 - val_acc: 0.891\n"
     ]
    },
    {
     "name": "stdout",
     "output_type": "stream",
     "text": [
      "Epoch 47 / 101 - 67 seconds - loss: 0.009282818913286792 - acc: 0.8786595711397767 - val_loss: 0.4100328952147895 - val_acc: 0.8918\n"
     ]
    },
    {
     "name": "stdout",
     "output_type": "stream",
     "text": [
      "Epoch 48 / 101 - 69 seconds - loss: 0.009168720496914818 - acc: 0.8795214430111666 - val_loss: 0.4049009258043451 - val_acc: 0.8924\n"
     ]
    },
    {
     "name": "stdout",
     "output_type": "stream",
     "text": [
      "Epoch 49 / 101 - 70 seconds - loss: 0.009059933233244857 - acc: 0.8806119440700808 - val_loss: 0.40001523454123483 - val_acc: 0.8933\n"
     ]
    },
    {
     "name": "stdout",
     "output_type": "stream",
     "text": [
      "Epoch 50 / 101 - 72 seconds - loss: 0.008955979408015884 - acc: 0.8817502015546784 - val_loss: 0.3953588128971897 - val_acc: 0.8943\n"
     ]
    },
    {
     "name": "stdout",
     "output_type": "stream",
     "text": [
      "Epoch 51 / 101 - 73 seconds - loss: 0.008856619239093628 - acc: 0.8827184912880246 - val_loss: 0.3909235901920897 - val_acc: 0.895\n"
     ]
    },
    {
     "name": "stdout",
     "output_type": "stream",
     "text": [
      "Epoch 52 / 101 - 75 seconds - loss: 0.008761434060510293 - acc: 0.8834931230747016 - val_loss: 0.38668580918718876 - val_acc: 0.8962\n"
     ]
    },
    {
     "name": "stdout",
     "output_type": "stream",
     "text": [
      "Epoch 53 / 101 - 76 seconds - loss: 0.00867031974158937 - acc: 0.8844271936368887 - val_loss: 0.38264177456789716 - val_acc: 0.8965\n"
     ]
    },
    {
     "name": "stdout",
     "output_type": "stream",
     "text": [
      "Epoch 54 / 101 - 78 seconds - loss: 0.00858293731857327 - acc: 0.8851615896948402 - val_loss: 0.3787640366487319 - val_acc: 0.8976\n"
     ]
    },
    {
     "name": "stdout",
     "output_type": "stream",
     "text": [
      "Epoch 55 / 101 - 79 seconds - loss: 0.00849900455114456 - acc: 0.8858497334664999 - val_loss: 0.3750524186124919 - val_acc: 0.8986\n"
     ]
    },
    {
     "name": "stdout",
     "output_type": "stream",
     "text": [
      "Epoch 56 / 101 - 81 seconds - loss: 0.00841828314644856 - acc: 0.8865641996775125 - val_loss: 0.3714847342730577 - val_acc: 0.8988\n"
     ]
    },
    {
     "name": "stdout",
     "output_type": "stream",
     "text": [
      "Epoch 57 / 101 - 82 seconds - loss: 0.00834062805388892 - acc: 0.8872955874566808 - val_loss: 0.36806548499995906 - val_acc: 0.8997\n"
     ]
    },
    {
     "name": "stdout",
     "output_type": "stream",
     "text": [
      "Epoch 58 / 101 - 84 seconds - loss: 0.008265958727424791 - acc: 0.8882274018097804 - val_loss: 0.3647769321520352 - val_acc: 0.9008\n"
     ]
    },
    {
     "name": "stdout",
     "output_type": "stream",
     "text": [
      "Epoch 59 / 101 - 85 seconds - loss: 0.008193966187450217 - acc: 0.8891407904553331 - val_loss: 0.3616127447555694 - val_acc: 0.9016\n"
     ]
    },
    {
     "name": "stdout",
     "output_type": "stream",
     "text": [
      "Epoch 60 / 101 - 87 seconds - loss: 0.008124412061039473 - acc: 0.8899590422843665 - val_loss: 0.3585678206286139 - val_acc: 0.9022\n"
     ]
    },
    {
     "name": "stdout",
     "output_type": "stream",
     "text": [
      "Epoch 61 / 101 - 88 seconds - loss: 0.008057390919591085 - acc: 0.8903625276761649 - val_loss: 0.3556243077335233 - val_acc: 0.9025\n"
     ]
    },
    {
     "name": "stdout",
     "output_type": "stream",
     "text": [
      "Epoch 62 / 101 - 90 seconds - loss: 0.007992593505254221 - acc: 0.8913469869079707 - val_loss: 0.3527950867244807 - val_acc: 0.903\n"
     ]
    },
    {
     "name": "stdout",
     "output_type": "stream",
     "text": [
      "Epoch 63 / 101 - 91 seconds - loss: 0.007929922965773582 - acc: 0.8920306182614555 - val_loss: 0.3500587243105314 - val_acc: 0.9032\n"
     ]
    },
    {
     "name": "stdout",
     "output_type": "stream",
     "text": [
      "Epoch 64 / 101 - 93 seconds - loss: 0.007869350437801691 - acc: 0.8924950212986138 - val_loss: 0.34741975481259646 - val_acc: 0.9034\n"
     ]
    },
    {
     "name": "stdout",
     "output_type": "stream",
     "text": [
      "Epoch 65 / 101 - 94 seconds - loss: 0.007810664376736238 - acc: 0.8931418012370042 - val_loss: 0.34486507298672736 - val_acc: 0.9042\n"
     ]
    },
    {
     "name": "stdout",
     "output_type": "stream",
     "text": [
      "Epoch 66 / 101 - 95 seconds - loss: 0.007753816608222925 - acc: 0.8938269367298807 - val_loss: 0.3423976477282631 - val_acc: 0.9044\n"
     ]
    },
    {
     "name": "stdout",
     "output_type": "stream",
     "text": [
      "Epoch 67 / 101 - 97 seconds - loss: 0.007698708444952122 - acc: 0.8945707336590297 - val_loss: 0.34000768492876426 - val_acc: 0.9046\n"
     ]
    },
    {
     "name": "stdout",
     "output_type": "stream",
     "text": [
      "Epoch 68 / 101 - 98 seconds - loss: 0.007645184174439134 - acc: 0.8951960796110897 - val_loss: 0.3376920720819638 - val_acc: 0.905\n"
     ]
    },
    {
     "name": "stdout",
     "output_type": "stream",
     "text": [
      "Epoch 69 / 101 - 100 seconds - loss: 0.007593274442638006 - acc: 0.8957232804678474 - val_loss: 0.33544904194061664 - val_acc: 0.9052\n"
     ]
    },
    {
     "name": "stdout",
     "output_type": "stream",
     "text": [
      "Epoch 70 / 101 - 101 seconds - loss: 0.007542877591485009 - acc: 0.8961327824172122 - val_loss: 0.333270000885896 - val_acc: 0.9057\n"
     ]
    },
    {
     "name": "stdout",
     "output_type": "stream",
     "text": [
      "Epoch 71 / 101 - 103 seconds - loss: 0.007493857303700117 - acc: 0.8965140817529842 - val_loss: 0.33115088349729066 - val_acc: 0.9058\n"
     ]
    },
    {
     "name": "stdout",
     "output_type": "stream",
     "text": [
      "Epoch 72 / 101 - 104 seconds - loss: 0.007446143112920382 - acc: 0.8970818943733154 - val_loss: 0.329099703984171 - val_acc: 0.9064\n"
     ]
    },
    {
     "name": "stdout",
     "output_type": "stream",
     "text": [
      "Epoch 73 / 101 - 105 seconds - loss: 0.007399731518040839 - acc: 0.8972879614699654 - val_loss: 0.32709910990731556 - val_acc: 0.907\n"
     ]
    },
    {
     "name": "stdout",
     "output_type": "stream",
     "text": [
      "Epoch 74 / 101 - 107 seconds - loss: 0.0073545430485397675 - acc: 0.8979911466355409 - val_loss: 0.3251569058306924 - val_acc: 0.9074\n"
     ]
    },
    {
     "name": "stdout",
     "output_type": "stream",
     "text": [
      "Epoch 75 / 101 - 108 seconds - loss: 0.007310460655210724 - acc: 0.898326569719869 - val_loss: 0.323265416876551 - val_acc: 0.9079\n"
     ]
    },
    {
     "name": "stdout",
     "output_type": "stream",
     "text": [
      "Epoch 76 / 101 - 110 seconds - loss: 0.0072674517386881795 - acc: 0.8985694882316134 - val_loss: 0.32142477968303795 - val_acc: 0.9083\n"
     ]
    },
    {
     "name": "stdout",
     "output_type": "stream",
     "text": [
      "Epoch 77 / 101 - 111 seconds - loss: 0.007225561695409019 - acc: 0.899006064690027 - val_loss: 0.31962561923614113 - val_acc: 0.9088\n"
     ]
    },
    {
     "name": "stdout",
     "output_type": "stream",
     "text": [
      "Epoch 78 / 101 - 113 seconds - loss: 0.007184706225817895 - acc: 0.8997393326434348 - val_loss: 0.3178755957634315 - val_acc: 0.9091\n"
     ]
    },
    {
     "name": "stdout",
     "output_type": "stream",
     "text": [
      "Epoch 79 / 101 - 114 seconds - loss: 0.007144849523779925 - acc: 0.9000589622641509 - val_loss: 0.31617029228958193 - val_acc: 0.9097\n"
     ]
    },
    {
     "name": "stdout",
     "output_type": "stream",
     "text": [
      "Epoch 80 / 101 - 116 seconds - loss: 0.007105868961946319 - acc: 0.9005147164998074 - val_loss: 0.31450786113946305 - val_acc: 0.9106\n"
     ]
    },
    {
     "name": "stdout",
     "output_type": "stream",
     "text": [
      "Epoch 81 / 101 - 117 seconds - loss: 0.007067801923116051 - acc: 0.9009373796688487 - val_loss: 0.3128858114983935 - val_acc: 0.9108\n"
     ]
    },
    {
     "name": "stdout",
     "output_type": "stream",
     "text": [
      "Epoch 82 / 101 - 119 seconds - loss: 0.007030555568607301 - acc: 0.9014141918559877 - val_loss: 0.3112996282590612 - val_acc: 0.9112\n"
     ]
    },
    {
     "name": "stdout",
     "output_type": "stream",
     "text": [
      "Epoch 83 / 101 - 120 seconds - loss: 0.00699416392774983 - acc: 0.9018127887947632 - val_loss: 0.3097500601654173 - val_acc: 0.912\n"
     ]
    },
    {
     "name": "stdout",
     "output_type": "stream",
     "text": [
      "Epoch 84 / 101 - 122 seconds - loss: 0.006958527132202701 - acc: 0.9023110349682326 - val_loss: 0.30823042197370804 - val_acc: 0.9121\n"
     ]
    },
    {
     "name": "stdout",
     "output_type": "stream",
     "text": [
      "Epoch 85 / 101 - 123 seconds - loss: 0.006923652337756781 - acc: 0.9025941892087024 - val_loss: 0.30674692922313435 - val_acc: 0.9127\n"
     ]
    },
    {
     "name": "stdout",
     "output_type": "stream",
     "text": [
      "Epoch 86 / 101 - 124 seconds - loss: 0.006889507149675928 - acc: 0.9031138693685021 - val_loss: 0.3053009272187332 - val_acc: 0.9128\n"
     ]
    },
    {
     "name": "stdout",
     "output_type": "stream",
     "text": [
      "Epoch 87 / 101 - 126 seconds - loss: 0.0068560768003145265 - acc: 0.9034695983346168 - val_loss: 0.3038844407094839 - val_acc: 0.9129\n"
     ]
    },
    {
     "name": "stdout",
     "output_type": "stream",
     "text": [
      "Epoch 88 / 101 - 128 seconds - loss: 0.006823353414984572 - acc: 0.9039377617202542 - val_loss: 0.3024963055566233 - val_acc: 0.9131\n"
     ]
    },
    {
     "name": "stdout",
     "output_type": "stream",
     "text": [
      "Epoch 89 / 101 - 130 seconds - loss: 0.006791208728234351 - acc: 0.9045439298950713 - val_loss: 0.30113722923506975 - val_acc: 0.9131\n"
     ]
    },
    {
     "name": "stdout",
     "output_type": "stream",
     "text": [
      "Epoch 90 / 101 - 131 seconds - loss: 0.006759724494054606 - acc: 0.9050440562427801 - val_loss: 0.2998033120622361 - val_acc: 0.9132\n"
     ]
    },
    {
     "name": "stdout",
     "output_type": "stream",
     "text": [
      "Epoch 91 / 101 - 133 seconds - loss: 0.006728892296377257 - acc: 0.9057577703840971 - val_loss: 0.2984966349374526 - val_acc: 0.9137\n"
     ]
    },
    {
     "name": "stdout",
     "output_type": "stream",
     "text": [
      "Epoch 92 / 101 - 135 seconds - loss: 0.0066985307071200425 - acc: 0.9063300954226029 - val_loss: 0.297217074550281 - val_acc: 0.9137\n"
     ]
    },
    {
     "name": "stdout",
     "output_type": "stream",
     "text": [
      "Epoch 93 / 101 - 137 seconds - loss: 0.006668806334491409 - acc: 0.9067004897477858 - val_loss: 0.29595640665367773 - val_acc: 0.9142\n"
     ]
    },
    {
     "name": "stdout",
     "output_type": "stream",
     "text": [
      "Epoch 94 / 101 - 138 seconds - loss: 0.006639584010380177 - acc: 0.9071795581440123 - val_loss: 0.2947221812687343 - val_acc: 0.9145\n"
     ]
    },
    {
     "name": "stdout",
     "output_type": "stream",
     "text": [
      "Epoch 95 / 101 - 140 seconds - loss: 0.006610847761331998 - acc: 0.9075601054100886 - val_loss: 0.2935138098738361 - val_acc: 0.9146\n"
     ]
    },
    {
     "name": "stdout",
     "output_type": "stream",
     "text": [
      "Epoch 96 / 101 - 141 seconds - loss: 0.006582702158391818 - acc: 0.9077586518097804 - val_loss: 0.29232232712373085 - val_acc: 0.915\n"
     ]
    },
    {
     "name": "stdout",
     "output_type": "stream",
     "text": [
      "Epoch 97 / 101 - 143 seconds - loss: 0.006555003767323856 - acc: 0.908165145480362 - val_loss: 0.29115394012238455 - val_acc: 0.9154\n"
     ]
    },
    {
     "name": "stdout",
     "output_type": "stream",
     "text": [
      "Epoch 98 / 101 - 144 seconds - loss: 0.0065277175973218315 - acc: 0.9083994151906045 - val_loss: 0.29000565043046417 - val_acc: 0.9162\n"
     ]
    },
    {
     "name": "stdout",
     "output_type": "stream",
     "text": [
      "Epoch 99 / 101 - 146 seconds - loss: 0.006500986811455886 - acc: 0.9086385733538699 - val_loss: 0.28887537607907365 - val_acc: 0.9167\n"
     ]
    },
    {
     "name": "stdout",
     "output_type": "stream",
     "text": [
      "Epoch 100 / 101 - 147 seconds - loss: 0.006474540164000491 - acc: 0.9091195219243359 - val_loss: 0.28776739365382165 - val_acc: 0.9167\n"
     ]
    },
    {
     "name": "stdout",
     "output_type": "stream",
     "text": [
      "Epoch 1 / 101 - 1 seconds - loss: 2.3027106299357407 - acc: 0.11856 - val_loss: 2.2544568303116477 - val_acc: 0.2878\n"
     ]
    },
    {
     "name": "stdout",
     "output_type": "stream",
     "text": [
      "Epoch 2 / 101 - 3 seconds - loss: 2.2554460124496747 - acc: 0.27378 - val_loss: 2.2061359346770737 - val_acc: 0.4432\n"
     ]
    },
    {
     "name": "stdout",
     "output_type": "stream",
     "text": [
      "Epoch 3 / 101 - 4 seconds - loss: 2.2082091456836417 - acc: 0.43636 - val_loss: 2.1549525123504387 - val_acc: 0.5449\n"
     ]
    },
    {
     "name": "stdout",
     "output_type": "stream",
     "text": [
      "Epoch 4 / 101 - 6 seconds - loss: 2.1581949929149062 - acc: 0.5305 - val_loss: 2.0987019898988812 - val_acc: 0.5937\n"
     ]
    },
    {
     "name": "stdout",
     "output_type": "stream",
     "text": [
      "Epoch 5 / 101 - 8 seconds - loss: 2.103253384684911 - acc: 0.57602 - val_loss: 2.035905157157663 - val_acc: 0.6188\n"
     ]
    },
    {
     "name": "stdout",
     "output_type": "stream",
     "text": [
      "Epoch 6 / 101 - 9 seconds - loss: 2.0419076462873953 - acc: 0.60076 - val_loss: 1.9658599132311243 - val_acc: 0.6357\n"
     ]
    },
    {
     "name": "stdout",
     "output_type": "stream",
     "text": [
      "Epoch 7 / 101 - 10 seconds - loss: 1.9734616583937423 - acc: 0.61476 - val_loss: 1.8887748788261371 - val_acc: 0.6429\n"
     ]
    },
    {
     "name": "stdout",
     "output_type": "stream",
     "text": [
      "Epoch 8 / 101 - 12 seconds - loss: 1.8981087457421113 - acc: 0.62222 - val_loss: 1.805624715292712 - val_acc: 0.6504\n"
     ]
    },
    {
     "name": "stdout",
     "output_type": "stream",
     "text": [
      "Epoch 9 / 101 - 13 seconds - loss: 1.8168119857643288 - acc: 0.62836 - val_loss: 1.7178117974073328 - val_acc: 0.6577\n"
     ]
    },
    {
     "name": "stdout",
     "output_type": "stream",
     "text": [
      "Epoch 10 / 101 - 15 seconds - loss: 1.7309788652015694 - acc: 0.63432 - val_loss: 1.627027507323231 - val_acc: 0.6645\n"
     ]
    },
    {
     "name": "stdout",
     "output_type": "stream",
     "text": [
      "Epoch 11 / 101 - 16 seconds - loss: 1.6423000853601613 - acc: 0.64218 - val_loss: 1.5353225398863912 - val_acc: 0.6742\n"
     ]
    },
    {
     "name": "stdout",
     "output_type": "stream",
     "text": [
      "Epoch 12 / 101 - 18 seconds - loss: 1.5528372935285915 - acc: 0.65112 - val_loss: 1.4449135634721313 - val_acc: 0.6863\n"
     ]
    },
    {
     "name": "stdout",
     "output_type": "stream",
     "text": [
      "Epoch 13 / 101 - 19 seconds - loss: 1.464824923371033 - acc: 0.66202 - val_loss: 1.357669254030304 - val_acc: 0.7001\n"
     ]
    },
    {
     "name": "stdout",
     "output_type": "stream",
     "text": [
      "Epoch 14 / 101 - 21 seconds - loss: 1.3801151103227662 - acc: 0.6753 - val_loss: 1.2748874572468094 - val_acc: 0.7146\n"
     ]
    },
    {
     "name": "stdout",
     "output_type": "stream",
     "text": [
      "Epoch 15 / 101 - 22 seconds - loss: 1.2999230345289026 - acc: 0.69024 - val_loss: 1.1973197146249723 - val_acc: 0.7309\n"
     ]
    },
    {
     "name": "stdout",
     "output_type": "stream",
     "text": [
      "Epoch 16 / 101 - 24 seconds - loss: 1.2249024433280855 - acc: 0.70566 - val_loss: 1.1253768236166142 - val_acc: 0.7475\n"
     ]
    },
    {
     "name": "stdout",
     "output_type": "stream",
     "text": [
      "Epoch 17 / 101 - 25 seconds - loss: 1.1553798629919307 - acc: 0.72224 - val_loss: 1.0591842453238864 - val_acc: 0.7624\n"
     ]
    },
    {
     "name": "stdout",
     "output_type": "stream",
     "text": [
      "Epoch 18 / 101 - 27 seconds - loss: 1.0914196531963969 - acc: 0.73854 - val_loss: 0.9986390389295065 - val_acc: 0.7788\n"
     ]
    },
    {
     "name": "stdout",
     "output_type": "stream",
     "text": [
      "Epoch 19 / 101 - 28 seconds - loss: 1.032896916434559 - acc: 0.75422 - val_loss: 0.9434678020475873 - val_acc: 0.7934\n"
     ]
    },
    {
     "name": "stdout",
     "output_type": "stream",
     "text": [
      "Epoch 20 / 101 - 30 seconds - loss: 0.9795411215071536 - acc: 0.76866 - val_loss: 0.8932997950141796 - val_acc: 0.806\n"
     ]
    },
    {
     "name": "stdout",
     "output_type": "stream",
     "text": [
      "Epoch 21 / 101 - 31 seconds - loss: 0.9309982171444483 - acc: 0.782 - val_loss: 0.8477344815216317 - val_acc: 0.8179\n"
     ]
    },
    {
     "name": "stdout",
     "output_type": "stream",
     "text": [
      "Epoch 22 / 101 - 33 seconds - loss: 0.8868872847792197 - acc: 0.79398 - val_loss: 0.8063841870949425 - val_acc: 0.8265\n"
     ]
    },
    {
     "name": "stdout",
     "output_type": "stream",
     "text": [
      "Epoch 23 / 101 - 34 seconds - loss: 0.8468337034022152 - acc: 0.8035 - val_loss: 0.7688805098368379 - val_acc: 0.8357\n"
     ]
    },
    {
     "name": "stdout",
     "output_type": "stream",
     "text": [
      "Epoch 24 / 101 - 36 seconds - loss: 0.8104770462947213 - acc: 0.81216 - val_loss: 0.7348823912625659 - val_acc: 0.8435\n"
     ]
    },
    {
     "name": "stdout",
     "output_type": "stream",
     "text": [
      "Epoch 25 / 101 - 38 seconds - loss: 0.7774810312513785 - acc: 0.819 - val_loss: 0.7040706750649223 - val_acc: 0.8487\n"
     ]
    },
    {
     "name": "stdout",
     "output_type": "stream",
     "text": [
      "Epoch 26 / 101 - 39 seconds - loss: 0.7475300195293634 - acc: 0.82598 - val_loss: 0.6761388325975404 - val_acc: 0.8539\n"
     ]
    },
    {
     "name": "stdout",
     "output_type": "stream",
     "text": [
      "Epoch 27 / 101 - 41 seconds - loss: 0.7203212139221693 - acc: 0.83138 - val_loss: 0.650789337889021 - val_acc: 0.8576\n"
     ]
    },
    {
     "name": "stdout",
     "output_type": "stream",
     "text": [
      "Epoch 28 / 101 - 42 seconds - loss: 0.6955625278722719 - acc: 0.8366 - val_loss: 0.6277479089238583 - val_acc: 0.861\n"
     ]
    },
    {
     "name": "stdout",
     "output_type": "stream",
     "text": [
      "Epoch 29 / 101 - 44 seconds - loss: 0.6729872375073109 - acc: 0.83994 - val_loss: 0.6067667458301526 - val_acc: 0.8645\n"
     ]
    },
    {
     "name": "stdout",
     "output_type": "stream",
     "text": [
      "Epoch 30 / 101 - 45 seconds - loss: 0.6523557107763558 - acc: 0.844 - val_loss: 0.5876169923287414 - val_acc: 0.8678\n"
     ]
    },
    {
     "name": "stdout",
     "output_type": "stream",
     "text": [
      "Epoch 31 / 101 - 47 seconds - loss: 0.6334565856840696 - acc: 0.84714 - val_loss: 0.5700994200013692 - val_acc: 0.8705\n"
     ]
    },
    {
     "name": "stdout",
     "output_type": "stream",
     "text": [
      "Epoch 32 / 101 - 48 seconds - loss: 0.6160979462295479 - acc: 0.85048 - val_loss: 0.5540359308250657 - val_acc: 0.8731\n"
     ]
    },
    {
     "name": "stdout",
     "output_type": "stream",
     "text": [
      "Epoch 33 / 101 - 50 seconds - loss: 0.6001136647526956 - acc: 0.8533 - val_loss: 0.5392646684699809 - val_acc: 0.8748\n"
     ]
    },
    {
     "name": "stdout",
     "output_type": "stream",
     "text": [
      "Epoch 34 / 101 - 51 seconds - loss: 0.5853552053561315 - acc: 0.85552 - val_loss: 0.5256514148637175 - val_acc: 0.8768\n"
     ]
    },
    {
     "name": "stdout",
     "output_type": "stream",
     "text": [
      "Epoch 35 / 101 - 53 seconds - loss: 0.5716936597510884 - acc: 0.85774 - val_loss: 0.5130772279911803 - val_acc: 0.878\n"
     ]
    },
    {
     "name": "stdout",
     "output_type": "stream",
     "text": [
      "Epoch 36 / 101 - 54 seconds - loss: 0.5590154813255458 - acc: 0.8596 - val_loss: 0.5014336964455284 - val_acc: 0.8796\n"
     ]
    },
    {
     "name": "stdout",
     "output_type": "stream",
     "text": [
      "Epoch 37 / 101 - 56 seconds - loss: 0.5472221112276915 - acc: 0.86166 - val_loss: 0.4906297905206422 - val_acc: 0.8808\n"
     ]
    },
    {
     "name": "stdout",
     "output_type": "stream",
     "text": [
      "Epoch 38 / 101 - 57 seconds - loss: 0.5362293820303555 - acc: 0.86312 - val_loss: 0.4805852732379994 - val_acc: 0.8822\n"
     ]
    },
    {
     "name": "stdout",
     "output_type": "stream",
     "text": [
      "Epoch 39 / 101 - 59 seconds - loss: 0.5259600692729822 - acc: 0.86486 - val_loss: 0.4712259586967158 - val_acc: 0.8837\n"
     ]
    },
    {
     "name": "stdout",
     "output_type": "stream",
     "text": [
      "Epoch 40 / 101 - 60 seconds - loss: 0.5163441379114617 - acc: 0.86654 - val_loss: 0.46248639719672496 - val_acc: 0.8862\n"
     ]
    },
    {
     "name": "stdout",
     "output_type": "stream",
     "text": [
      "Epoch 41 / 101 - 62 seconds - loss: 0.5073228371193479 - acc: 0.86804 - val_loss: 0.4543090649011762 - val_acc: 0.8874\n"
     ]
    },
    {
     "name": "stdout",
     "output_type": "stream",
     "text": [
      "Epoch 42 / 101 - 63 seconds - loss: 0.4988436224780656 - acc: 0.86954 - val_loss: 0.4466413250256201 - val_acc: 0.8883\n"
     ]
    },
    {
     "name": "stdout",
     "output_type": "stream",
     "text": [
      "Epoch 43 / 101 - 65 seconds - loss: 0.4908588004716408 - acc: 0.87084 - val_loss: 0.439437374065053 - val_acc: 0.889\n"
     ]
    },
    {
     "name": "stdout",
     "output_type": "stream",
     "text": [
      "Epoch 44 / 101 - 66 seconds - loss: 0.48332568453921254 - acc: 0.87218 - val_loss: 0.4326573166820951 - val_acc: 0.8903\n"
     ]
    },
    {
     "name": "stdout",
     "output_type": "stream",
     "text": [
      "Epoch 45 / 101 - 68 seconds - loss: 0.4762063308675302 - acc: 0.8737 - val_loss: 0.42626598864409193 - val_acc: 0.8908\n"
     ]
    },
    {
     "name": "stdout",
     "output_type": "stream",
     "text": [
      "Epoch 46 / 101 - 69 seconds - loss: 0.46946677983033797 - acc: 0.87498 - val_loss: 0.4202304016181079 - val_acc: 0.8912\n"
     ]
    },
    {
     "name": "stdout",
     "output_type": "stream",
     "text": [
      "Epoch 47 / 101 - 70 seconds - loss: 0.4630782676614464 - acc: 0.87642 - val_loss: 0.4145231276863294 - val_acc: 0.8919\n"
     ]
    },
    {
     "name": "stdout",
     "output_type": "stream",
     "text": [
      "Epoch 48 / 101 - 72 seconds - loss: 0.45701425477573643 - acc: 0.8776 - val_loss: 0.40911889262268036 - val_acc: 0.8922\n"
     ]
    },
    {
     "name": "stdout",
     "output_type": "stream",
     "text": [
      "Epoch 49 / 101 - 73 seconds - loss: 0.45124979645952507 - acc: 0.87848 - val_loss: 0.4039934858446663 - val_acc: 0.8928\n"
     ]
    },
    {
     "name": "stdout",
     "output_type": "stream",
     "text": [
      "Epoch 50 / 101 - 75 seconds - loss: 0.4457628915935657 - acc: 0.87978 - val_loss: 0.3991245988179453 - val_acc: 0.8928\n"
     ]
    },
    {
     "name": "stdout",
     "output_type": "stream",
     "text": [
      "Epoch 51 / 101 - 76 seconds - loss: 0.44053254706947226 - acc: 0.8809 - val_loss: 0.39449326772270943 - val_acc: 0.894\n"
     ]
    },
    {
     "name": "stdout",
     "output_type": "stream",
     "text": [
      "Epoch 52 / 101 - 78 seconds - loss: 0.43554140835282823 - acc: 0.88176 - val_loss: 0.3900827728259061 - val_acc: 0.8951\n"
     ]
    },
    {
     "name": "stdout",
     "output_type": "stream",
     "text": [
      "Epoch 53 / 101 - 79 seconds - loss: 0.4307724427546518 - acc: 0.8825 - val_loss: 0.3858764722137732 - val_acc: 0.8954\n"
     ]
    },
    {
     "name": "stdout",
     "output_type": "stream",
     "text": [
      "Epoch 54 / 101 - 81 seconds - loss: 0.42621002838185895 - acc: 0.88334 - val_loss: 0.3818613900604348 - val_acc: 0.8965\n"
     ]
    },
    {
     "name": "stdout",
     "output_type": "stream",
     "text": [
      "Epoch 55 / 101 - 82 seconds - loss: 0.4218411308028474 - acc: 0.88422 - val_loss: 0.3780230761433606 - val_acc: 0.8973\n"
     ]
    },
    {
     "name": "stdout",
     "output_type": "stream",
     "text": [
      "Epoch 56 / 101 - 84 seconds - loss: 0.4176531088646095 - acc: 0.88496 - val_loss: 0.37434978043643613 - val_acc: 0.8978\n"
     ]
    },
    {
     "name": "stdout",
     "output_type": "stream",
     "text": [
      "Epoch 57 / 101 - 85 seconds - loss: 0.41363354274166936 - acc: 0.8859 - val_loss: 0.37083002109141494 - val_acc: 0.8991\n"
     ]
    },
    {
     "name": "stdout",
     "output_type": "stream",
     "text": [
      "Epoch 58 / 101 - 87 seconds - loss: 0.40977148013575326 - acc: 0.88656 - val_loss: 0.3674531510005347 - val_acc: 0.9003\n"
     ]
    },
    {
     "name": "stdout",
     "output_type": "stream",
     "text": [
      "Epoch 59 / 101 - 88 seconds - loss: 0.406057000296774 - acc: 0.88734 - val_loss: 0.3642091590007247 - val_acc: 0.9007\n"
     ]
    },
    {
     "name": "stdout",
     "output_type": "stream",
     "text": [
      "Epoch 60 / 101 - 90 seconds - loss: 0.4024816008865012 - acc: 0.88822 - val_loss: 0.36109045738453655 - val_acc: 0.9013\n"
     ]
    },
    {
     "name": "stdout",
     "output_type": "stream",
     "text": [
      "Epoch 61 / 101 - 91 seconds - loss: 0.39903759988848575 - acc: 0.88896 - val_loss: 0.35808856299015945 - val_acc: 0.9014\n"
     ]
    },
    {
     "name": "stdout",
     "output_type": "stream",
     "text": [
      "Epoch 62 / 101 - 93 seconds - loss: 0.39571512656106195 - acc: 0.88988 - val_loss: 0.35519659835442907 - val_acc: 0.9016\n"
     ]
    },
    {
     "name": "stdout",
     "output_type": "stream",
     "text": [
      "Epoch 63 / 101 - 94 seconds - loss: 0.3925078101745681 - acc: 0.89056 - val_loss: 0.35240751780822943 - val_acc: 0.902\n"
     ]
    },
    {
     "name": "stdout",
     "output_type": "stream",
     "text": [
      "Epoch 64 / 101 - 96 seconds - loss: 0.38940880064216526 - acc: 0.89128 - val_loss: 0.3497156790581679 - val_acc: 0.9022\n"
     ]
    },
    {
     "name": "stdout",
     "output_type": "stream",
     "text": [
      "Epoch 65 / 101 - 97 seconds - loss: 0.3864121842949802 - acc: 0.89176 - val_loss: 0.34711536228902345 - val_acc: 0.9027\n"
     ]
    },
    {
     "name": "stdout",
     "output_type": "stream",
     "text": [
      "Epoch 66 / 101 - 99 seconds - loss: 0.3835120043466657 - acc: 0.89254 - val_loss: 0.3446016777412666 - val_acc: 0.9035\n"
     ]
    },
    {
     "name": "stdout",
     "output_type": "stream",
     "text": [
      "Epoch 67 / 101 - 100 seconds - loss: 0.38070284931787385 - acc: 0.89312 - val_loss: 0.34216988444980256 - val_acc: 0.9039\n"
     ]
    },
    {
     "name": "stdout",
     "output_type": "stream",
     "text": [
      "Epoch 68 / 101 - 102 seconds - loss: 0.3779801751036634 - acc: 0.89366 - val_loss: 0.33981641587342937 - val_acc: 0.9047\n"
     ]
    },
    {
     "name": "stdout",
     "output_type": "stream",
     "text": [
      "Epoch 69 / 101 - 103 seconds - loss: 0.3753403326113166 - acc: 0.89452 - val_loss: 0.33753573966402217 - val_acc: 0.905\n"
     ]
    },
    {
     "name": "stdout",
     "output_type": "stream",
     "text": [
      "Epoch 70 / 101 - 104 seconds - loss: 0.37277926452008503 - acc: 0.89502 - val_loss: 0.3353251151870606 - val_acc: 0.9051\n"
     ]
    },
    {
     "name": "stdout",
     "output_type": "stream",
     "text": [
      "Epoch 71 / 101 - 106 seconds - loss: 0.3702919390916028 - acc: 0.89572 - val_loss: 0.33318075757190313 - val_acc: 0.9054\n"
     ]
    },
    {
     "name": "stdout",
     "output_type": "stream",
     "text": [
      "Epoch 72 / 101 - 107 seconds - loss: 0.3678746795541063 - acc: 0.89606 - val_loss: 0.3310981680615751 - val_acc: 0.9062\n"
     ]
    },
    {
     "name": "stdout",
     "output_type": "stream",
     "text": [
      "Epoch 73 / 101 - 109 seconds - loss: 0.36552441370787625 - acc: 0.89658 - val_loss: 0.3290756437047973 - val_acc: 0.9067\n"
     ]
    },
    {
     "name": "stdout",
     "output_type": "stream",
     "text": [
      "Epoch 74 / 101 - 110 seconds - loss: 0.36323837038410883 - acc: 0.897 - val_loss: 0.32711042656144007 - val_acc: 0.9071\n"
     ]
    },
    {
     "name": "stdout",
     "output_type": "stream",
     "text": [
      "Epoch 75 / 101 - 112 seconds - loss: 0.36101343080282383 - acc: 0.8974 - val_loss: 0.3251994322578342 - val_acc: 0.9075\n"
     ]
    },
    {
     "name": "stdout",
     "output_type": "stream",
     "text": [
      "Epoch 76 / 101 - 114 seconds - loss: 0.3588469069269567 - acc: 0.89794 - val_loss: 0.3233398049855286 - val_acc: 0.9077\n"
     ]
    },
    {
     "name": "stdout",
     "output_type": "stream",
     "text": [
      "Epoch 77 / 101 - 115 seconds - loss: 0.3567351588584588 - acc: 0.8985 - val_loss: 0.3215290355788053 - val_acc: 0.9082\n"
     ]
    },
    {
     "name": "stdout",
     "output_type": "stream",
     "text": [
      "Epoch 78 / 101 - 117 seconds - loss: 0.35467579217975714 - acc: 0.89878 - val_loss: 0.31976495897160895 - val_acc: 0.9085\n"
     ]
    },
    {
     "name": "stdout",
     "output_type": "stream",
     "text": [
      "Epoch 79 / 101 - 118 seconds - loss: 0.3526667216674775 - acc: 0.89914 - val_loss: 0.31804449665853407 - val_acc: 0.9087\n"
     ]
    },
    {
     "name": "stdout",
     "output_type": "stream",
     "text": [
      "Epoch 80 / 101 - 120 seconds - loss: 0.3507055930856586 - acc: 0.89956 - val_loss: 0.31636617943832923 - val_acc: 0.909\n"
     ]
    },
    {
     "name": "stdout",
     "output_type": "stream",
     "text": [
      "Epoch 81 / 101 - 121 seconds - loss: 0.34879034377492885 - acc: 0.90008 - val_loss: 0.31472774886898697 - val_acc: 0.9094\n"
     ]
    },
    {
     "name": "stdout",
     "output_type": "stream",
     "text": [
      "Epoch 82 / 101 - 123 seconds - loss: 0.34691935161953263 - acc: 0.9008 - val_loss: 0.3131288257323344 - val_acc: 0.9099\n"
     ]
    },
    {
     "name": "stdout",
     "output_type": "stream",
     "text": [
      "Epoch 83 / 101 - 124 seconds - loss: 0.34509120726525294 - acc: 0.9012 - val_loss: 0.3115664969167034 - val_acc: 0.9103\n"
     ]
    },
    {
     "name": "stdout",
     "output_type": "stream",
     "text": [
      "Epoch 84 / 101 - 126 seconds - loss: 0.34330318247959135 - acc: 0.90162 - val_loss: 0.3100396955994858 - val_acc: 0.9105\n"
     ]
    },
    {
     "name": "stdout",
     "output_type": "stream",
     "text": [
      "Epoch 85 / 101 - 127 seconds - loss: 0.34155420256917673 - acc: 0.90186 - val_loss: 0.30854636866723967 - val_acc: 0.9109\n"
     ]
    },
    {
     "name": "stdout",
     "output_type": "stream",
     "text": [
      "Epoch 86 / 101 - 129 seconds - loss: 0.33984253970793765 - acc: 0.9023 - val_loss: 0.3070854527154457 - val_acc: 0.9113\n"
     ]
    },
    {
     "name": "stdout",
     "output_type": "stream",
     "text": [
      "Epoch 87 / 101 - 130 seconds - loss: 0.33816642641892225 - acc: 0.9029 - val_loss: 0.3056562764747146 - val_acc: 0.9117\n"
     ]
    },
    {
     "name": "stdout",
     "output_type": "stream",
     "text": [
      "Epoch 88 / 101 - 132 seconds - loss: 0.3365247260985104 - acc: 0.90322 - val_loss: 0.30425738576625244 - val_acc: 0.9126\n"
     ]
    },
    {
     "name": "stdout",
     "output_type": "stream",
     "text": [
      "Epoch 89 / 101 - 133 seconds - loss: 0.334915862401357 - acc: 0.90362 - val_loss: 0.302887675641586 - val_acc: 0.9127\n"
     ]
    },
    {
     "name": "stdout",
     "output_type": "stream",
     "text": [
      "Epoch 90 / 101 - 135 seconds - loss: 0.33333841412787757 - acc: 0.90418 - val_loss: 0.30154630742624083 - val_acc: 0.9132\n"
     ]
    },
    {
     "name": "stdout",
     "output_type": "stream",
     "text": [
      "Epoch 91 / 101 - 136 seconds - loss: 0.33179141563486064 - acc: 0.90454 - val_loss: 0.30023130387329205 - val_acc: 0.9137\n"
     ]
    },
    {
     "name": "stdout",
     "output_type": "stream",
     "text": [
      "Epoch 92 / 101 - 138 seconds - loss: 0.3302738616905086 - acc: 0.905 - val_loss: 0.2989422134604684 - val_acc: 0.9147\n"
     ]
    },
    {
     "name": "stdout",
     "output_type": "stream",
     "text": [
      "Epoch 93 / 101 - 139 seconds - loss: 0.3287840178795593 - acc: 0.90534 - val_loss: 0.29767788425616476 - val_acc: 0.9151\n"
     ]
    },
    {
     "name": "stdout",
     "output_type": "stream",
     "text": [
      "Epoch 94 / 101 - 141 seconds - loss: 0.3273214596462722 - acc: 0.90556 - val_loss: 0.29643701672061884 - val_acc: 0.9154\n"
     ]
    },
    {
     "name": "stdout",
     "output_type": "stream",
     "text": [
      "Epoch 95 / 101 - 142 seconds - loss: 0.3258859991762722 - acc: 0.9059 - val_loss: 0.29521917721846885 - val_acc: 0.9153\n"
     ]
    },
    {
     "name": "stdout",
     "output_type": "stream",
     "text": [
      "Epoch 96 / 101 - 144 seconds - loss: 0.324476145499824 - acc: 0.90626 - val_loss: 0.29402376085788273 - val_acc: 0.9155\n"
     ]
    },
    {
     "name": "stdout",
     "output_type": "stream",
     "text": [
      "Epoch 97 / 101 - 145 seconds - loss: 0.3230906851544908 - acc: 0.90668 - val_loss: 0.2928495297988065 - val_acc: 0.9159\n"
     ]
    },
    {
     "name": "stdout",
     "output_type": "stream",
     "text": [
      "Epoch 98 / 101 - 146 seconds - loss: 0.3217285150802099 - acc: 0.90712 - val_loss: 0.2916952141280304 - val_acc: 0.9159\n"
     ]
    },
    {
     "name": "stdout",
     "output_type": "stream",
     "text": [
      "Epoch 99 / 101 - 148 seconds - loss: 0.3203891714570278 - acc: 0.9076 - val_loss: 0.2905608006507622 - val_acc: 0.9162\n"
     ]
    },
    {
     "name": "stdout",
     "output_type": "stream",
     "text": [
      "Epoch 100 / 101 - 149 seconds - loss: 0.31907204978092657 - acc: 0.908 - val_loss: 0.2894452085129164 - val_acc: 0.9165\n"
     ]
    },
    {
     "ename": "FileNotFoundError",
     "evalue": "[Errno 2] No such file or directory: '.\\\\LOG\\\\Log_first.p'",
     "traceback": [
      "\u001b[1;31m---------------------------------------------------------------------------\u001b[0m",
      "\u001b[1;31mFileNotFoundError\u001b[0m                         Traceback (most recent call last)",
      "\u001b[1;32m<ipython-input-2-33a4514fd9ff>\u001b[0m in \u001b[0;36m<module>\u001b[1;34m()\u001b[0m\n\u001b[0;32m      8\u001b[0m         \u001b[0mtraining_samples\u001b[0m\u001b[1;33m,\u001b[0m \u001b[0mtraining_classifications\u001b[0m\u001b[1;33m,\u001b[0m \u001b[1;36m100\u001b[0m\u001b[1;33m,\u001b[0m \u001b[0mbatch\u001b[0m\u001b[1;33m,\u001b[0m \u001b[1;36m0.4\u001b[0m\u001b[1;33m,\u001b[0m\u001b[1;33m\u001b[0m\u001b[0m\n\u001b[0;32m      9\u001b[0m         validation_samples, validation_classifications)\n\u001b[1;32m---> 10\u001b[1;33m \u001b[0mpickle\u001b[0m\u001b[1;33m.\u001b[0m\u001b[0mdump\u001b[0m\u001b[1;33m(\u001b[0m\u001b[0mlog\u001b[0m\u001b[1;33m,\u001b[0m\u001b[0mopen\u001b[0m\u001b[1;33m(\u001b[0m\u001b[1;34mf'{log_path}\\\\Log_first.p'\u001b[0m\u001b[1;33m,\u001b[0m\u001b[1;34m'wb'\u001b[0m\u001b[1;33m)\u001b[0m\u001b[1;33m)\u001b[0m\u001b[1;33m\u001b[0m\u001b[0m\n\u001b[0m",
      "\u001b[1;31mFileNotFoundError\u001b[0m: [Errno 2] No such file or directory: '.\\\\LOG\\\\Log_first.p'"
     ],
     "output_type": "error"
    }
   ],
   "source": [
    "#First Experiment\n",
    "layers = [generate_layer(num_pixels, 128, \"relu\", \"l2\", 0.2)]\n",
    "layers.append(generate_layer(128, 10, \"softmax\", \"l2\", 0.2))\n",
    "log = {}\n",
    "for batch in [128,1024,6e5]:\n",
    "    net = MyDNN(layers, \"cross-entropy\")\n",
    "    log[batch] = net.fit(\n",
    "        training_samples, training_classifications, 100, batch, 0.4,\n",
    "        validation_samples, validation_classifications)\n",
    "pickle.dump(log,open(f'{log_path}\\\\Log_first.p','wb'))"
   ]
  },
  {
   "cell_type": "code",
   "execution_count": 5,
   "metadata": {},
   "outputs": [
    {
     "ename": "TypeError",
     "evalue": "can't pickle module objects",
     "traceback": [
      "\u001b[1;31m---------------------------------------------------------------------------\u001b[0m",
      "\u001b[1;31mTypeError\u001b[0m                                 Traceback (most recent call last)",
      "\u001b[1;32m<ipython-input-5-d343708e73d0>\u001b[0m in \u001b[0;36m<module>\u001b[1;34m()\u001b[0m\n\u001b[1;32m----> 1\u001b[1;33m \u001b[0mpickle\u001b[0m\u001b[1;33m.\u001b[0m\u001b[0mdump\u001b[0m\u001b[1;33m(\u001b[0m\u001b[0mlog\u001b[0m\u001b[1;33m,\u001b[0m\u001b[0mopen\u001b[0m\u001b[1;33m(\u001b[0m\u001b[1;34mf'Log_first.p'\u001b[0m\u001b[1;33m,\u001b[0m\u001b[1;34m'wb'\u001b[0m\u001b[1;33m)\u001b[0m\u001b[1;33m)\u001b[0m\u001b[1;33m\u001b[0m\u001b[0m\n\u001b[0m",
      "\u001b[1;31mTypeError\u001b[0m: can't pickle module objects"
     ],
     "output_type": "error"
    }
   ],
   "source": [
    ""
   ]
  },
  {
   "cell_type": "code",
   "execution_count": null,
   "metadata": {},
   "outputs": [
    {
     "name": "stdout",
     "output_type": "stream",
     "text": [
      "Test 1 layer relu and 1 softmax\nBatch size: 128\nBatch size: 1024\n"
     ]
    },
    {
     "name": "stdout",
     "output_type": "stream",
     "text": [
      "Batch size: 600000.0\n"
     ]
    }
   ],
   "source": [
    "log = pickle.load(open(f'{log_path}\\\\Log_first.p','rb'))\n",
    "from Macros import plot_graphs\n",
    "print('Test 1 layer relu and 1 softmax')\n",
    "for batch_size in log.keys():\n",
    "    print(f'Batch size: {batch_size}')\n",
    "    plot_graphs(log[batch_size])"
   ]
  },
  {
   "cell_type": "code",
   "execution_count": null,
   "metadata": {
    "collapsed": false
   },
   "outputs": [
    {
     "name": "stdout",
     "output_type": "stream",
     "text": [
      "Epoch 1 / 101 - 2 seconds - loss: 0.04894986554758946 - acc: 0.1984617918511744 - val_loss: 2.275274466644647 - val_acc: 0.27622\n"
     ]
    },
    {
     "name": "stdout",
     "output_type": "stream",
     "text": [
      "Epoch 2 / 101 - 4 seconds - loss: 0.04842102002555152 - acc: 0.33545730349922986 - val_loss: 2.249661154469196 - val_acc: 0.38934\n"
     ]
    },
    {
     "name": "stdout",
     "output_type": "stream",
     "text": [
      "Epoch 3 / 101 - 6 seconds - loss: 0.04789652235835428 - acc: 0.43515918307181367 - val_loss: 2.224047040424629 - val_acc: 0.47994\n"
     ]
    },
    {
     "name": "stdout",
     "output_type": "stream",
     "text": [
      "Epoch 4 / 101 - 7 seconds - loss: 0.047369539950042935 - acc: 0.5194522826819407 - val_loss: 2.1980865165420496 - val_acc: 0.5547\n"
     ]
    },
    {
     "name": "stdout",
     "output_type": "stream",
     "text": [
      "Epoch 5 / 101 - 9 seconds - loss: 0.04683292401258712 - acc: 0.5810039227955333 - val_loss: 2.1714264972994957 - val_acc: 0.6043\n"
     ]
    },
    {
     "name": "stdout",
     "output_type": "stream",
     "text": [
      "Epoch 6 / 101 - 11 seconds - loss: 0.04627984433159005 - acc: 0.6212938005390836 - val_loss: 2.1437458798780034 - val_acc: 0.63576\n"
     ]
    },
    {
     "name": "stdout",
     "output_type": "stream",
     "text": [
      "Epoch 7 / 101 - 13 seconds - loss: 0.04570366870075521 - acc: 0.645438998122834 - val_loss: 2.1147263331429222 - val_acc: 0.65384\n"
     ]
    },
    {
     "name": "stdout",
     "output_type": "stream",
     "text": [
      "Epoch 8 / 101 - 15 seconds - loss: 0.04509848187147035 - acc: 0.6602179197150558 - val_loss: 2.0841098579803172 - val_acc: 0.666\n"
     ]
    },
    {
     "name": "stdout",
     "output_type": "stream",
     "text": [
      "Epoch 9 / 101 - 17 seconds - loss: 0.0444595947715237 - acc: 0.6694770257749326 - val_loss: 2.051684682359225 - val_acc: 0.67192\n"
     ]
    },
    {
     "name": "stdout",
     "output_type": "stream",
     "text": [
      "Epoch 10 / 101 - 18 seconds - loss: 0.04378344883261547 - acc: 0.6734189990854833 - val_loss: 2.0173222078016644 - val_acc: 0.67492\n"
     ]
    },
    {
     "name": "stdout",
     "output_type": "stream",
     "text": [
      "Epoch 11 / 101 - 20 seconds - loss: 0.04306837633647558 - acc: 0.6754484591596073 - val_loss: 1.980979816721349 - val_acc: 0.6762\n"
     ]
    },
    {
     "name": "stdout",
     "output_type": "stream",
     "text": [
      "Epoch 12 / 101 - 22 seconds - loss: 0.04231390594902922 - acc: 0.6760884704707355 - val_loss: 1.9426546408004413 - val_acc: 0.67598\n"
     ]
    },
    {
     "name": "stdout",
     "output_type": "stream",
     "text": [
      "Epoch 13 / 101 - 24 seconds - loss: 0.04152113150450622 - acc: 0.6758124608923759 - val_loss: 1.9024605553278955 - val_acc: 0.67546\n"
     ]
    },
    {
     "name": "stdout",
     "output_type": "stream",
     "text": [
      "Epoch 14 / 101 - 26 seconds - loss: 0.0406931504300787 - acc: 0.6760046146996534 - val_loss: 1.8605881911094229 - val_acc: 0.67534\n"
     ]
    },
    {
     "name": "stdout",
     "output_type": "stream",
     "text": [
      "Epoch 15 / 101 - 28 seconds - loss: 0.03983464494281085 - acc: 0.6748404108105506 - val_loss: 1.8173095640667418 - val_acc: 0.675\n"
     ]
    },
    {
     "name": "stdout",
     "output_type": "stream",
     "text": [
      "Epoch 16 / 101 - 30 seconds - loss: 0.038951927101498675 - acc: 0.6745956121245669 - val_loss: 1.772962207450439 - val_acc: 0.67476\n"
     ]
    },
    {
     "name": "stdout",
     "output_type": "stream",
     "text": [
      "Epoch 17 / 101 - 32 seconds - loss: 0.038051869406363306 - acc: 0.674759187283404 - val_loss: 1.7278943867401773 - val_acc: 0.67524\n"
     ]
    },
    {
     "name": "stdout",
     "output_type": "stream",
     "text": [
      "Epoch 18 / 101 - 34 seconds - loss: 0.03714172003674284 - acc: 0.6760245445465922 - val_loss: 1.6824581974709503 - val_acc: 0.67694\n"
     ]
    },
    {
     "name": "stdout",
     "output_type": "stream",
     "text": [
      "Epoch 19 / 101 - 35 seconds - loss: 0.036228102678302364 - acc: 0.6779630041875241 - val_loss: 1.636961658130025 - val_acc: 0.67884\n"
     ]
    },
    {
     "name": "stdout",
     "output_type": "stream",
     "text": [
      "Epoch 20 / 101 - 37 seconds - loss: 0.035316808771891736 - acc: 0.6805486198016942 - val_loss: 1.5916656389068131 - val_acc: 0.68218\n"
     ]
    },
    {
     "name": "stdout",
     "output_type": "stream",
     "text": [
      "Epoch 21 / 101 - 39 seconds - loss: 0.03441226978119112 - acc: 0.6835655473864074 - val_loss: 1.5467608375241113 - val_acc: 0.68508\n"
     ]
    },
    {
     "name": "stdout",
     "output_type": "stream",
     "text": [
      "Epoch 22 / 101 - 41 seconds - loss: 0.033518280980229825 - acc: 0.6872006762610705 - val_loss: 1.502430794185732 - val_acc: 0.68934\n"
     ]
    },
    {
     "name": "stdout",
     "output_type": "stream",
     "text": [
      "Epoch 23 / 101 - 43 seconds - loss: 0.03263782042086487 - acc: 0.6920834887610705 - val_loss: 1.4587953896395889 - val_acc: 0.69452\n"
     ]
    },
    {
     "name": "stdout",
     "output_type": "stream",
     "text": [
      "Epoch 24 / 101 - 44 seconds - loss: 0.03177344253515982 - acc: 0.697025338732191 - val_loss: 1.4159964678961934 - val_acc: 0.69998\n"
     ]
    },
    {
     "name": "stdout",
     "output_type": "stream",
     "text": [
      "Epoch 25 / 101 - 46 seconds - loss: 0.0309275180005481 - acc: 0.7023142688679245 - val_loss: 1.3741338834832146 - val_acc: 0.70576\n"
     ]
    },
    {
     "name": "stdout",
     "output_type": "stream",
     "text": [
      "Epoch 26 / 101 - 48 seconds - loss: 0.030102398701878457 - acc: 0.7085914185839429 - val_loss: 1.333337194887268 - val_acc: 0.7115\n"
     ]
    },
    {
     "name": "stdout",
     "output_type": "stream",
     "text": [
      "Epoch 27 / 101 - 50 seconds - loss: 0.029300399821870098 - acc: 0.7146749103532922 - val_loss: 1.2937136200088015 - val_acc: 0.71788\n"
     ]
    },
    {
     "name": "stdout",
     "output_type": "stream",
     "text": [
      "Epoch 28 / 101 - 51 seconds - loss: 0.02852360930307503 - acc: 0.7208384975452445 - val_loss: 1.2553679355418272 - val_acc: 0.72404\n"
     ]
    },
    {
     "name": "stdout",
     "output_type": "stream",
     "text": [
      "Epoch 29 / 101 - 53 seconds - loss: 0.02777380008563758 - acc: 0.7269216132797458 - val_loss: 1.2183775343638068 - val_acc: 0.7304\n"
     ]
    },
    {
     "name": "stdout",
     "output_type": "stream",
     "text": [
      "Epoch 30 / 101 - 55 seconds - loss: 0.027052460885872265 - acc: 0.7340775564353099 - val_loss: 1.182802948951486 - val_acc: 0.73716\n"
     ]
    },
    {
     "name": "stdout",
     "output_type": "stream",
     "text": [
      "Epoch 31 / 101 - 57 seconds - loss: 0.026360359588867042 - acc: 0.7403614747785907 - val_loss: 1.14868192085191 - val_acc: 0.74348\n"
     ]
    },
    {
     "name": "stdout",
     "output_type": "stream",
     "text": [
      "Epoch 32 / 101 - 58 seconds - loss: 0.02569808527727044 - acc: 0.7463806645889488 - val_loss: 1.1160271325596514 - val_acc: 0.74956\n"
     ]
    },
    {
     "name": "stdout",
     "output_type": "stream",
     "text": [
      "Epoch 33 / 101 - 60 seconds - loss: 0.025065676228876503 - acc: 0.7528093563486715 - val_loss: 1.0848350572057752 - val_acc: 0.75594\n"
     ]
    },
    {
     "name": "stdout",
     "output_type": "stream",
     "text": [
      "Epoch 34 / 101 - 62 seconds - loss: 0.024462823460237718 - acc: 0.7584652964959568 - val_loss: 1.0550875946439573 - val_acc: 0.76178\n"
     ]
    },
    {
     "name": "stdout",
     "output_type": "stream",
     "text": [
      "Epoch 35 / 101 - 64 seconds - loss: 0.02388893922920103 - acc: 0.7646518218136311 - val_loss: 1.026746194720912 - val_acc: 0.76814\n"
     ]
    },
    {
     "name": "stdout",
     "output_type": "stream",
     "text": [
      "Epoch 36 / 101 - 65 seconds - loss: 0.02334319572080588 - acc: 0.7710305009385829 - val_loss: 0.9997694260481093 - val_acc: 0.77348\n"
     ]
    },
    {
     "name": "stdout",
     "output_type": "stream",
     "text": [
      "Epoch 37 / 101 - 67 seconds - loss: 0.022824610557398664 - acc: 0.7764292332499038 - val_loss: 0.9741142481128827 - val_acc: 0.77944\n"
     ]
    },
    {
     "name": "stdout",
     "output_type": "stream",
     "text": [
      "Epoch 38 / 101 - 69 seconds - loss: 0.02233215518327488 - acc: 0.7823886335194455 - val_loss: 0.9497213478127778 - val_acc: 0.78534\n"
     ]
    },
    {
     "name": "stdout",
     "output_type": "stream",
     "text": [
      "Epoch 39 / 101 - 71 seconds - loss: 0.021864717874410886 - acc: 0.7879780154986523 - val_loss: 0.9265361700422681 - val_acc: 0.79016\n"
     ]
    },
    {
     "name": "stdout",
     "output_type": "stream",
     "text": [
      "Epoch 40 / 101 - 72 seconds - loss: 0.021421129069344715 - acc: 0.793079304245283 - val_loss: 0.9045056285187292 - val_acc: 0.79548\n"
     ]
    },
    {
     "name": "stdout",
     "output_type": "stream",
     "text": [
      "Epoch 41 / 101 - 74 seconds - loss: 0.021000179511907097 - acc: 0.7981208034510975 - val_loss: 0.8835714349258055 - val_acc: 0.80036\n"
     ]
    },
    {
     "name": "stdout",
     "output_type": "stream",
     "text": [
      "Epoch 42 / 101 - 76 seconds - loss: 0.02060079567276127 - acc: 0.8021402399403158 - val_loss: 0.8636774424749835 - val_acc: 0.80416\n"
     ]
    },
    {
     "name": "stdout",
     "output_type": "stream",
     "text": [
      "Epoch 43 / 101 - 78 seconds - loss: 0.0202218281471502 - acc: 0.8057170834135542 - val_loss: 0.8447735084630709 - val_acc: 0.80722\n"
     ]
    },
    {
     "name": "stdout",
     "output_type": "stream",
     "text": [
      "Epoch 44 / 101 - 79 seconds - loss: 0.019862275091723006 - acc: 0.8091329839718906 - val_loss: 0.8268083757684643 - val_acc: 0.81132\n"
     ]
    },
    {
     "name": "stdout",
     "output_type": "stream",
     "text": [
      "Epoch 45 / 101 - 81 seconds - loss: 0.019521008260052958 - acc: 0.8138477088948788 - val_loss: 0.8097286486010113 - val_acc: 0.81606\n"
     ]
    },
    {
     "name": "stdout",
     "output_type": "stream",
     "text": [
      "Epoch 46 / 101 - 83 seconds - loss: 0.019197057337834902 - acc: 0.8177039462601078 - val_loss: 0.7934876317796568 - val_acc: 0.81926\n"
     ]
    },
    {
     "name": "stdout",
     "output_type": "stream",
     "text": [
      "Epoch 47 / 101 - 85 seconds - loss: 0.018889425182129656 - acc: 0.8204903644830575 - val_loss: 0.7780407665237161 - val_acc: 0.82236\n"
     ]
    },
    {
     "name": "stdout",
     "output_type": "stream",
     "text": [
      "Epoch 48 / 101 - 86 seconds - loss: 0.01859727351028151 - acc: 0.82371523933866 - val_loss: 0.7633440786226018 - val_acc: 0.82536\n"
     ]
    },
    {
     "name": "stdout",
     "output_type": "stream",
     "text": [
      "Epoch 49 / 101 - 88 seconds - loss: 0.01831965502652906 - acc: 0.8268250475308048 - val_loss: 0.7493535878517693 - val_acc: 0.82864\n"
     ]
    },
    {
     "name": "stdout",
     "output_type": "stream",
     "text": [
      "Epoch 50 / 101 - 90 seconds - loss: 0.01805577961933795 - acc: 0.8300563149788217 - val_loss: 0.7360319294645536 - val_acc: 0.83154\n"
     ]
    },
    {
     "name": "stdout",
     "output_type": "stream",
     "text": [
      "Epoch 51 / 101 - 92 seconds - loss: 0.0178048634201786 - acc: 0.8329611841788603 - val_loss: 0.7233410634509153 - val_acc: 0.83416\n"
     ]
    },
    {
     "name": "stdout",
     "output_type": "stream",
     "text": [
      "Epoch 52 / 101 - 93 seconds - loss: 0.017566137787488112 - acc: 0.8357998712456681 - val_loss: 0.7112424187632045 - val_acc: 0.83704\n"
     ]
    },
    {
     "name": "stdout",
     "output_type": "stream",
     "text": [
      "Epoch 53 / 101 - 95 seconds - loss: 0.01733881554356158 - acc: 0.838176411484405 - val_loss: 0.6997007138866228 - val_acc: 0.839\n"
     ]
    },
    {
     "name": "stdout",
     "output_type": "stream",
     "text": [
      "Epoch 54 / 101 - 97 seconds - loss: 0.017122275764405316 - acc: 0.8401020859405083 - val_loss: 0.6886865895354514 - val_acc: 0.84126\n"
     ]
    },
    {
     "name": "stdout",
     "output_type": "stream",
     "text": [
      "Epoch 55 / 101 - 99 seconds - loss: 0.016915877650001136 - acc: 0.8418859952589527 - val_loss: 0.6781675098677942 - val_acc: 0.84296\n"
     ]
    },
    {
     "name": "stdout",
     "output_type": "stream",
     "text": [
      "Epoch 56 / 101 - 100 seconds - loss: 0.016719027322710137 - acc: 0.8438940213467462 - val_loss: 0.6681153984682824 - val_acc: 0.84482\n"
     ]
    },
    {
     "name": "stdout",
     "output_type": "stream",
     "text": [
      "Epoch 57 / 101 - 102 seconds - loss: 0.016531108026102283 - acc: 0.845748625216596 - val_loss: 0.6585045965683197 - val_acc: 0.8467\n"
     ]
    },
    {
     "name": "stdout",
     "output_type": "stream",
     "text": [
      "Epoch 58 / 101 - 104 seconds - loss: 0.016351683629242757 - acc: 0.8474242364988448 - val_loss: 0.64930970340208 - val_acc: 0.84826\n"
     ]
    },
    {
     "name": "stdout",
     "output_type": "stream",
     "text": [
      "Epoch 59 / 101 - 106 seconds - loss: 0.01618015604893226 - acc: 0.8491494843810167 - val_loss: 0.6405047899064273 - val_acc: 0.84998\n"
     ]
    },
    {
     "name": "stdout",
     "output_type": "stream",
     "text": [
      "Epoch 60 / 101 - 107 seconds - loss: 0.01601615474424908 - acc: 0.850547957980362 - val_loss: 0.632067714061319 - val_acc: 0.85152\n"
     ]
    },
    {
     "name": "stdout",
     "output_type": "stream",
     "text": [
      "Epoch 61 / 101 - 109 seconds - loss: 0.015859181825914677 - acc: 0.8520536015113592 - val_loss: 0.623979353106333 - val_acc: 0.85278\n"
     ]
    },
    {
     "name": "stdout",
     "output_type": "stream",
     "text": [
      "Epoch 62 / 101 - 111 seconds - loss: 0.015708861697230115 - acc: 0.8533242232624182 - val_loss: 0.6162194274612051 - val_acc: 0.85412\n"
     ]
    },
    {
     "name": "stdout",
     "output_type": "stream",
     "text": [
      "Epoch 63 / 101 - 113 seconds - loss: 0.015564816222171967 - acc: 0.8550900829081632 - val_loss: 0.6087697630348772 - val_acc: 0.8557\n"
     ]
    },
    {
     "name": "stdout",
     "output_type": "stream",
     "text": [
      "Epoch 64 / 101 - 114 seconds - loss: 0.015426623018774501 - acc: 0.8562170593473237 - val_loss: 0.6016128024794494 - val_acc: 0.85682\n"
     ]
    },
    {
     "name": "stdout",
     "output_type": "stream",
     "text": [
      "Epoch 65 / 101 - 116 seconds - loss: 0.015294031919626626 - acc: 0.8573571970061609 - val_loss: 0.5947318756659461 - val_acc: 0.85804\n"
     ]
    },
    {
     "name": "stdout",
     "output_type": "stream",
     "text": [
      "Epoch 66 / 101 - 118 seconds - loss: 0.015166671245976242 - acc: 0.8585183926164806 - val_loss: 0.5881114721224012 - val_acc: 0.85918\n"
     ]
    },
    {
     "name": "stdout",
     "output_type": "stream",
     "text": [
      "Epoch 67 / 101 - 120 seconds - loss: 0.015044240254236075 - acc: 0.8597006461782826 - val_loss: 0.5817378801803015 - val_acc: 0.86052\n"
     ]
    },
    {
     "name": "stdout",
     "output_type": "stream",
     "text": [
      "Epoch 68 / 101 - 121 seconds - loss: 0.014926502055791008 - acc: 0.8609844291490181 - val_loss: 0.5755998017458428 - val_acc: 0.86172\n"
     ]
    },
    {
     "name": "stdout",
     "output_type": "stream",
     "text": [
      "Epoch 69 / 101 - 123 seconds - loss: 0.014813214847502419 - acc: 0.8623280016605699 - val_loss: 0.5696835431831062 - val_acc: 0.86254\n"
     ]
    },
    {
     "name": "stdout",
     "output_type": "stream",
     "text": [
      "Epoch 70 / 101 - 125 seconds - loss: 0.01470408883256865 - acc: 0.8630503646033886 - val_loss: 0.5639776930777269 - val_acc: 0.86336\n"
     ]
    },
    {
     "name": "stdout",
     "output_type": "stream",
     "text": [
      "Epoch 71 / 101 - 127 seconds - loss: 0.014599005846649084 - acc: 0.8637761118598383 - val_loss: 0.5584722490634288 - val_acc: 0.86412\n"
     ]
    },
    {
     "name": "stdout",
     "output_type": "stream",
     "text": [
      "Epoch 72 / 101 - 128 seconds - loss: 0.014497598776621984 - acc: 0.8646406159751636 - val_loss: 0.5531566816399106 - val_acc: 0.86508\n"
     ]
    },
    {
     "name": "stdout",
     "output_type": "stream",
     "text": [
      "Epoch 73 / 101 - 130 seconds - loss: 0.014399863072613525 - acc: 0.8654197601800154 - val_loss: 0.5480212812014696 - val_acc: 0.86594\n"
     ]
    },
    {
     "name": "stdout",
     "output_type": "stream",
     "text": [
      "Epoch 74 / 101 - 132 seconds - loss: 0.014305479360663089 - acc: 0.8664801784510975 - val_loss: 0.5430582096539599 - val_acc: 0.86724\n"
     ]
    },
    {
     "name": "stdout",
     "output_type": "stream",
     "text": [
      "Epoch 75 / 101 - 134 seconds - loss: 0.014214320382293404 - acc: 0.8676462625144397 - val_loss: 0.5382581070871739 - val_acc: 0.86798\n"
     ]
    },
    {
     "name": "stdout",
     "output_type": "stream",
     "text": [
      "Epoch 76 / 101 - 135 seconds - loss: 0.014126218959543094 - acc: 0.8681997858105506 - val_loss: 0.5336126568844918 - val_acc: 0.86862\n"
     ]
    },
    {
     "name": "stdout",
     "output_type": "stream",
     "text": [
      "Epoch 77 / 101 - 137 seconds - loss: 0.014041005846582766 - acc: 0.8689198925442819 - val_loss: 0.5291147693225351 - val_acc: 0.86918\n"
     ]
    },
    {
     "name": "stdout",
     "output_type": "stream",
     "text": [
      "Epoch 78 / 101 - 139 seconds - loss: 0.013958580978479107 - acc: 0.8695335814160571 - val_loss: 0.5247578084998948 - val_acc: 0.86992\n"
     ]
    },
    {
     "name": "stdout",
     "output_type": "stream",
     "text": [
      "Epoch 79 / 101 - 141 seconds - loss: 0.013878832540098526 - acc: 0.8701453901135926 - val_loss: 0.5205357312256954 - val_acc: 0.87032\n"
     ]
    },
    {
     "name": "stdout",
     "output_type": "stream",
     "text": [
      "Epoch 80 / 101 - 142 seconds - loss: 0.013801535679341058 - acc: 0.870395453287447 - val_loss: 0.5164426378928981 - val_acc: 0.87068\n"
     ]
    },
    {
     "name": "stdout",
     "output_type": "stream",
     "text": [
      "Epoch 81 / 101 - 144 seconds - loss: 0.013726665879604836 - acc: 0.8709610096986907 - val_loss: 0.5124724120634401 - val_acc: 0.87126\n"
     ]
    },
    {
     "name": "stdout",
     "output_type": "stream",
     "text": [
      "Epoch 82 / 101 - 146 seconds - loss: 0.013654110129532061 - acc: 0.871715711638429 - val_loss: 0.5086191443769825 - val_acc: 0.8721\n"
     ]
    },
    {
     "name": "stdout",
     "output_type": "stream",
     "text": [
      "Epoch 83 / 101 - 148 seconds - loss: 0.013583689927944245 - acc: 0.8723933264343473 - val_loss: 0.5048781181324983 - val_acc: 0.873\n"
     ]
    },
    {
     "name": "stdout",
     "output_type": "stream",
     "text": [
      "Epoch 84 / 101 - 149 seconds - loss: 0.013515356342306124 - acc: 0.8733409342510589 - val_loss: 0.5012442792548075 - val_acc: 0.87372\n"
     ]
    },
    {
     "name": "stdout",
     "output_type": "stream",
     "text": [
      "Epoch 85 / 101 - 151 seconds - loss: 0.013449067619840336 - acc: 0.8740956361907971 - val_loss: 0.49771324623296026 - val_acc: 0.87426\n"
     ]
    },
    {
     "name": "stdout",
     "output_type": "stream",
     "text": [
      "Epoch 86 / 101 - 153 seconds - loss: 0.013384673669709921 - acc: 0.8746104278975741 - val_loss: 0.49428079207687015 - val_acc: 0.87506\n"
     ]
    },
    {
     "name": "stdout",
     "output_type": "stream",
     "text": [
      "Epoch 87 / 101 - 155 seconds - loss: 0.01332204404531446 - acc: 0.8754076217751252 - val_loss: 0.49094280180627 - val_acc: 0.87578\n"
     ]
    },
    {
     "name": "stdout",
     "output_type": "stream",
     "text": [
      "Epoch 88 / 101 - 156 seconds - loss: 0.013261222506359676 - acc: 0.8760397363544474 - val_loss: 0.48769591498319703 - val_acc: 0.87648\n"
     ]
    },
    {
     "name": "stdout",
     "output_type": "stream",
     "text": [
      "Epoch 89 / 101 - 158 seconds - loss: 0.013202058092614101 - acc: 0.8766207101944551 - val_loss: 0.4845356975275746 - val_acc: 0.87688\n"
     ]
    },
    {
     "name": "stdout",
     "output_type": "stream",
     "text": [
      "Epoch 90 / 101 - 160 seconds - loss: 0.013144538727527742 - acc: 0.8770437493983442 - val_loss: 0.4814584358298898 - val_acc: 0.8774\n"
     ]
    },
    {
     "name": "stdout",
     "output_type": "stream",
     "text": [
      "Epoch 91 / 101 - 162 seconds - loss: 0.013088497430051976 - acc: 0.8776307397959183 - val_loss: 0.4784617935529288 - val_acc: 0.87784\n"
     ]
    },
    {
     "name": "stdout",
     "output_type": "stream",
     "text": [
      "Epoch 92 / 101 - 164 seconds - loss: 0.013033937833593955 - acc: 0.8780691964285714 - val_loss: 0.4755424209301286 - val_acc: 0.87836\n"
     ]
    },
    {
     "name": "stdout",
     "output_type": "stream",
     "text": [
      "Epoch 93 / 101 - 165 seconds - loss: 0.012980825297369575 - acc: 0.8786685959761262 - val_loss: 0.47269741945306487 - val_acc: 0.8789\n"
     ]
    },
    {
     "name": "stdout",
     "output_type": "stream",
     "text": [
      "Epoch 94 / 101 - 167 seconds - loss: 0.012929097969989747 - acc: 0.8790871227618405 - val_loss: 0.46992390616439966 - val_acc: 0.8793\n"
     ]
    },
    {
     "name": "stdout",
     "output_type": "stream",
     "text": [
      "Epoch 95 / 101 - 169 seconds - loss: 0.01287867874810933 - acc: 0.8795056495475548 - val_loss: 0.4672188013240719 - val_acc: 0.87976\n"
     ]
    },
    {
     "name": "stdout",
     "output_type": "stream",
     "text": [
      "Epoch 96 / 101 - 171 seconds - loss: 0.012829480748437977 - acc: 0.8798952216499808 - val_loss: 0.46457946030852626 - val_acc: 0.8802\n"
     ]
    },
    {
     "name": "stdout",
     "output_type": "stream",
     "text": [
      "Epoch 97 / 101 - 173 seconds - loss: 0.01278152380250271 - acc: 0.8804291911340008 - val_loss: 0.4620041059569262 - val_acc: 0.88062\n"
     ]
    },
    {
     "name": "stdout",
     "output_type": "stream",
     "text": [
      "Epoch 98 / 101 - 174 seconds - loss: 0.012734702893571417 - acc: 0.8808834412302657 - val_loss: 0.45949011501186177 - val_acc: 0.88102\n"
     ]
    },
    {
     "name": "stdout",
     "output_type": "stream",
     "text": [
      "Epoch 99 / 101 - 176 seconds - loss: 0.012689036784249036 - acc: 0.8813489723719677 - val_loss: 0.4570352881535009 - val_acc: 0.88156\n"
     ]
    },
    {
     "name": "stdout",
     "output_type": "stream",
     "text": [
      "Epoch 100 / 101 - 178 seconds - loss: 0.012644428641278195 - acc: 0.8817219989410858 - val_loss: 0.45463739405748355 - val_acc: 0.88192\n"
     ]
    },
    {
     "name": "stdout",
     "output_type": "stream",
     "text": [
      "Epoch 1 / 101 - 2 seconds - loss: 0.0697101983675354 - acc: 0.15866602389776666 - val_loss: 2.303652473048183 - val_acc: 0.21484\n"
     ]
    },
    {
     "name": "stdout",
     "output_type": "stream",
     "text": [
      "Epoch 2 / 101 - 3 seconds - loss: 0.0687553863291758 - acc: 0.28055960001925295 - val_loss: 2.2783764541468043 - val_acc: 0.34714\n"
     ]
    },
    {
     "name": "stdout",
     "output_type": "stream",
     "text": [
      "Epoch 3 / 101 - 5 seconds - loss: 0.06783765421400678 - acc: 0.392452153325953 - val_loss: 2.2538405551707816 - val_acc: 0.43126\n"
     ]
    },
    {
     "name": "stdout",
     "output_type": "stream",
     "text": [
      "Epoch 4 / 101 - 7 seconds - loss: 0.0669479082415754 - acc: 0.4556538343521371 - val_loss: 2.229636176426013 - val_acc: 0.47928\n"
     ]
    },
    {
     "name": "stdout",
     "output_type": "stream",
     "text": [
      "Epoch 5 / 101 - 9 seconds - loss: 0.06607786913377363 - acc: 0.49660139704466694 - val_loss: 2.20541649721272 - val_acc: 0.51318\n"
     ]
    },
    {
     "name": "stdout",
     "output_type": "stream",
     "text": [
      "Epoch 6 / 101 - 10 seconds - loss: 0.06522054729274696 - acc: 0.5262769391365036 - val_loss: 2.1808783163200425 - val_acc: 0.53764\n"
     ]
    },
    {
     "name": "stdout",
     "output_type": "stream",
     "text": [
      "Epoch 7 / 101 - 12 seconds - loss: 0.06436973012719077 - acc: 0.548084328070851 - val_loss: 2.155763250541189 - val_acc: 0.55912\n"
     ]
    },
    {
     "name": "stdout",
     "output_type": "stream",
     "text": [
      "Epoch 8 / 101 - 14 seconds - loss: 0.06352068751968722 - acc: 0.5673591223045822 - val_loss: 2.1298829069844882 - val_acc: 0.57548\n"
     ]
    },
    {
     "name": "stdout",
     "output_type": "stream",
     "text": [
      "Epoch 9 / 101 - 16 seconds - loss: 0.0626695649001374 - acc: 0.5824892604447439 - val_loss: 2.1030607891929076 - val_acc: 0.58798\n"
     ]
    },
    {
     "name": "stdout",
     "output_type": "stream",
     "text": [
      "Epoch 10 / 101 - 17 seconds - loss: 0.06181311518938341 - acc: 0.5923752165960724 - val_loss: 2.075172716835916 - val_acc: 0.59646\n"
     ]
    },
    {
     "name": "stdout",
     "output_type": "stream",
     "text": [
      "Epoch 11 / 101 - 19 seconds - loss: 0.06094902505270779 - acc: 0.599865078696573 - val_loss: 2.0461383102661697 - val_acc: 0.60374\n"
     ]
    },
    {
     "name": "stdout",
     "output_type": "stream",
     "text": [
      "Epoch 12 / 101 - 21 seconds - loss: 0.06007604833893476 - acc: 0.6064930689256834 - val_loss: 2.0159157287381357 - val_acc: 0.6093\n"
     ]
    },
    {
     "name": "stdout",
     "output_type": "stream",
     "text": [
      "Epoch 13 / 101 - 23 seconds - loss: 0.05919340694266795 - acc: 0.6112510378561802 - val_loss: 1.9845006410798105 - val_acc: 0.61312\n"
     ]
    },
    {
     "name": "stdout",
     "output_type": "stream",
     "text": [
      "Epoch 14 / 101 - 25 seconds - loss: 0.05830148931010635 - acc: 0.6145593924480169 - val_loss: 1.9519568150548832 - val_acc: 0.61654\n"
     ]
    },
    {
     "name": "stdout",
     "output_type": "stream",
     "text": [
      "Epoch 15 / 101 - 27 seconds - loss: 0.05740172509941435 - acc: 0.6175349561994609 - val_loss: 1.9183829888380026 - val_acc: 0.61868\n"
     ]
    },
    {
     "name": "stdout",
     "output_type": "stream",
     "text": [
      "Epoch 16 / 101 - 29 seconds - loss: 0.056496227648434726 - acc: 0.6198441862004236 - val_loss: 1.8839348629617765 - val_acc: 0.62074\n"
     ]
    },
    {
     "name": "stdout",
     "output_type": "stream",
     "text": [
      "Epoch 17 / 101 - 30 seconds - loss: 0.055588089800416546 - acc: 0.6214280449797843 - val_loss: 1.8487972530836503 - val_acc: 0.6227\n"
     ]
    },
    {
     "name": "stdout",
     "output_type": "stream",
     "text": [
      "Epoch 18 / 101 - 32 seconds - loss: 0.05468070932703792 - acc: 0.6237421634337698 - val_loss: 1.8131774237786995 - val_acc: 0.62512\n"
     ]
    },
    {
     "name": "stdout",
     "output_type": "stream",
     "text": [
      "Epoch 19 / 101 - 34 seconds - loss: 0.053777617007714676 - acc: 0.6255813498748556 - val_loss: 1.7772825482055026 - val_acc: 0.62688\n"
     ]
    },
    {
     "name": "stdout",
     "output_type": "stream",
     "text": [
      "Epoch 20 / 101 - 36 seconds - loss: 0.0528824695310955 - acc: 0.6278010835820177 - val_loss: 1.7413250731510044 - val_acc: 0.62922\n"
     ]
    },
    {
     "name": "stdout",
     "output_type": "stream",
     "text": [
      "Epoch 21 / 101 - 38 seconds - loss: 0.05199846246711731 - acc: 0.6308992346938775 - val_loss: 1.7054794167344682 - val_acc: 0.63242\n"
     ]
    },
    {
     "name": "stdout",
     "output_type": "stream",
     "text": [
      "Epoch 22 / 101 - 39 seconds - loss: 0.051128296885158214 - acc: 0.6341658494175972 - val_loss: 1.6699099211348658 - val_acc: 0.63656\n"
     ]
    },
    {
     "name": "stdout",
     "output_type": "stream",
     "text": [
      "Epoch 23 / 101 - 41 seconds - loss: 0.050273986236197735 - acc: 0.6393848370716211 - val_loss: 1.634732982521044 - val_acc: 0.6415\n"
     ]
    },
    {
     "name": "stdout",
     "output_type": "stream",
     "text": [
      "Epoch 24 / 101 - 43 seconds - loss: 0.04943718516030045 - acc: 0.6433286905564113 - val_loss: 1.600055256372702 - val_acc: 0.6456\n"
     ]
    },
    {
     "name": "stdout",
     "output_type": "stream",
     "text": [
      "Epoch 25 / 101 - 45 seconds - loss: 0.048619025742736834 - acc: 0.6478866089478245 - val_loss: 1.5659581659354067 - val_acc: 0.65012\n"
     ]
    },
    {
     "name": "stdout",
     "output_type": "stream",
     "text": [
      "Epoch 26 / 101 - 47 seconds - loss: 0.04782049662688853 - acc: 0.6524268537013862 - val_loss: 1.53250994029196 - val_acc: 0.655\n"
     ]
    },
    {
     "name": "stdout",
     "output_type": "stream",
     "text": [
      "Epoch 27 / 101 - 48 seconds - loss: 0.047042287110598116 - acc: 0.6576326801357335 - val_loss: 1.4997730539984664 - val_acc: 0.65994\n"
     ]
    },
    {
     "name": "stdout",
     "output_type": "stream",
     "text": [
      "Epoch 28 / 101 - 50 seconds - loss: 0.04628507318590275 - acc: 0.663089697848479 - val_loss: 1.467802025217858 - val_acc: 0.66618\n"
     ]
    },
    {
     "name": "stdout",
     "output_type": "stream",
     "text": [
      "Epoch 29 / 101 - 52 seconds - loss: 0.04554935584551472 - acc: 0.6692626859116289 - val_loss: 1.4366437185576348 - val_acc: 0.6722\n"
     ]
    },
    {
     "name": "stdout",
     "output_type": "stream",
     "text": [
      "Epoch 30 / 101 - 53 seconds - loss: 0.04483556067017479 - acc: 0.6750547506738543 - val_loss: 1.4063392542578794 - val_acc: 0.67826\n"
     ]
    },
    {
     "name": "stdout",
     "output_type": "stream",
     "text": [
      "Epoch 31 / 101 - 55 seconds - loss: 0.04414409040827667 - acc: 0.6816233273969966 - val_loss: 1.3769341273803009 - val_acc: 0.68498\n"
     ]
    },
    {
     "name": "stdout",
     "output_type": "stream",
     "text": [
      "Epoch 32 / 101 - 57 seconds - loss: 0.043475276386121246 - acc: 0.6882930574942241 - val_loss: 1.348457787595363 - val_acc: 0.69132\n"
     ]
    },
    {
     "name": "stdout",
     "output_type": "stream",
     "text": [
      "Epoch 33 / 101 - 59 seconds - loss: 0.042829251173509636 - acc: 0.6943084869561033 - val_loss: 1.3209335540517877 - val_acc: 0.69768\n"
     ]
    },
    {
     "name": "stdout",
     "output_type": "stream",
     "text": [
      "Epoch 34 / 101 - 60 seconds - loss: 0.04220603805143499 - acc: 0.701057560406238 - val_loss: 1.2943761134427658 - val_acc: 0.70458\n"
     ]
    },
    {
     "name": "stdout",
     "output_type": "stream",
     "text": [
      "Epoch 35 / 101 - 62 seconds - loss: 0.041605436483077005 - acc: 0.7070823907393147 - val_loss: 1.2687912829786596 - val_acc: 0.71026\n"
     ]
    },
    {
     "name": "stdout",
     "output_type": "stream",
     "text": [
      "Epoch 36 / 101 - 64 seconds - loss: 0.0410272578973214 - acc: 0.7134561814112437 - val_loss: 1.244180305209252 - val_acc: 0.7162\n"
     ]
    },
    {
     "name": "stdout",
     "output_type": "stream",
     "text": [
      "Epoch 37 / 101 - 66 seconds - loss: 0.040471187436169315 - acc: 0.7195596030275317 - val_loss: 1.2205393930430763 - val_acc: 0.72242\n"
     ]
    },
    {
     "name": "stdout",
     "output_type": "stream",
     "text": [
      "Epoch 38 / 101 - 68 seconds - loss: 0.039936616812072605 - acc: 0.7246364495090489 - val_loss: 1.197849085411092 - val_acc: 0.72732\n"
     ]
    },
    {
     "name": "stdout",
     "output_type": "stream",
     "text": [
      "Epoch 39 / 101 - 69 seconds - loss: 0.039422883545767125 - acc: 0.7300724092703119 - val_loss: 1.1760892912888414 - val_acc: 0.73284\n"
     ]
    },
    {
     "name": "stdout",
     "output_type": "stream",
     "text": [
      "Epoch 40 / 101 - 71 seconds - loss: 0.03892926425887247 - acc: 0.7361852317577975 - val_loss: 1.1552217157826776 - val_acc: 0.7386\n"
     ]
    },
    {
     "name": "stdout",
     "output_type": "stream",
     "text": [
      "Epoch 41 / 101 - 73 seconds - loss: 0.03845500815338222 - acc: 0.7410225440412014 - val_loss: 1.1352283499354614 - val_acc: 0.74376\n"
     ]
    },
    {
     "name": "stdout",
     "output_type": "stream",
     "text": [
      "Epoch 42 / 101 - 75 seconds - loss: 0.037999316738492446 - acc: 0.7462975608875625 - val_loss: 1.1160750402558888 - val_acc: 0.74838\n"
     ]
    },
    {
     "name": "stdout",
     "output_type": "stream",
     "text": [
      "Epoch 43 / 101 - 76 seconds - loss: 0.03756141128136366 - acc: 0.7514672879765114 - val_loss: 1.0977307780931065 - val_acc: 0.7543\n"
     ]
    },
    {
     "name": "stdout",
     "output_type": "stream",
     "text": [
      "Epoch 44 / 101 - 78 seconds - loss: 0.03714040357589834 - acc: 0.757106682590489 - val_loss: 1.0801537843159703 - val_acc: 0.76004\n"
     ]
    },
    {
     "name": "stdout",
     "output_type": "stream",
     "text": [
      "Epoch 45 / 101 - 80 seconds - loss: 0.03673549065132308 - acc: 0.7620748550009626 - val_loss: 1.0633127778147675 - val_acc: 0.7645\n"
     ]
    },
    {
     "name": "stdout",
     "output_type": "stream",
     "text": [
      "Epoch 46 / 101 - 81 seconds - loss: 0.03634590225259864 - acc: 0.7666519511696188 - val_loss: 1.0471688020453143 - val_acc: 0.76884\n"
     ]
    },
    {
     "name": "stdout",
     "output_type": "stream",
     "text": [
      "Epoch 47 / 101 - 83 seconds - loss: 0.035970792989075295 - acc: 0.7716092185695033 - val_loss: 1.0316932777313061 - val_acc: 0.77376\n"
     ]
    },
    {
     "name": "stdout",
     "output_type": "stream",
     "text": [
      "Epoch 48 / 101 - 85 seconds - loss: 0.03560956057167358 - acc: 0.7761998519926838 - val_loss: 1.0168543315578844 - val_acc: 0.77844\n"
     ]
    },
    {
     "name": "stdout",
     "output_type": "stream",
     "text": [
      "Epoch 49 / 101 - 87 seconds - loss: 0.03526138290610039 - acc: 0.7803516527483636 - val_loss: 1.0026187435716036 - val_acc: 0.78252\n"
     ]
    },
    {
     "name": "stdout",
     "output_type": "stream",
     "text": [
      "Epoch 50 / 101 - 88 seconds - loss: 0.03492570005382069 - acc: 0.784412453070851 - val_loss: 0.9889592987906035 - val_acc: 0.7861\n"
     ]
    },
    {
     "name": "stdout",
     "output_type": "stream",
     "text": [
      "Epoch 51 / 101 - 90 seconds - loss: 0.034601881806843746 - acc: 0.7876553775991529 - val_loss: 0.9758461299286753 - val_acc: 0.78974\n"
     ]
    },
    {
     "name": "stdout",
     "output_type": "stream",
     "text": [
      "Epoch 52 / 101 - 92 seconds - loss: 0.03428934926317734 - acc: 0.7912814816374663 - val_loss: 0.9632534381403766 - val_acc: 0.79318\n"
     ]
    },
    {
     "name": "stdout",
     "output_type": "stream",
     "text": [
      "Epoch 53 / 101 - 94 seconds - loss: 0.03398755746126158 - acc: 0.7947699569214478 - val_loss: 0.95115877541187 - val_acc: 0.7966\n"
     ]
    },
    {
     "name": "stdout",
     "output_type": "stream",
     "text": [
      "Epoch 54 / 101 - 95 seconds - loss: 0.03369600740608185 - acc: 0.7977304792789758 - val_loss: 0.9395389399213454 - val_acc: 0.79938\n"
     ]
    },
    {
     "name": "stdout",
     "output_type": "stream",
     "text": [
      "Epoch 55 / 101 - 97 seconds - loss: 0.033414203616324314 - acc: 0.8010301850693107 - val_loss: 0.9283701073728114 - val_acc: 0.80252\n"
     ]
    },
    {
     "name": "stdout",
     "output_type": "stream",
     "text": [
      "Epoch 56 / 101 - 99 seconds - loss: 0.033141809424687446 - acc: 0.8037831361907971 - val_loss: 0.9176348260462418 - val_acc: 0.80524\n"
     ]
    },
    {
     "name": "stdout",
     "output_type": "stream",
     "text": [
      "Epoch 57 / 101 - 101 seconds - loss: 0.03287835208147278 - acc: 0.8063285160762418 - val_loss: 0.9073175112268745 - val_acc: 0.8077\n"
     ]
    },
    {
     "name": "stdout",
     "output_type": "stream",
     "text": [
      "Epoch 58 / 101 - 102 seconds - loss: 0.032623463866467084 - acc: 0.8091626907248748 - val_loss: 0.8973984740763319 - val_acc: 0.81052\n"
     ]
    },
    {
     "name": "stdout",
     "output_type": "stream",
     "text": [
      "Epoch 59 / 101 - 104 seconds - loss: 0.0323768207173325 - acc: 0.8117295045966499 - val_loss: 0.8878556748664814 - val_acc: 0.81296\n"
     ]
    },
    {
     "name": "stdout",
     "output_type": "stream",
     "text": [
      "Epoch 60 / 101 - 106 seconds - loss: 0.03213796317404124 - acc: 0.8139849616143627 - val_loss: 0.8786804942202483 - val_acc: 0.81546\n"
     ]
    },
    {
     "name": "stdout",
     "output_type": "stream",
     "text": [
      "Epoch 61 / 101 - 107 seconds - loss: 0.031906607734319116 - acc: 0.8167995824509049 - val_loss: 0.8698542555740056 - val_acc: 0.81796\n"
     ]
    },
    {
     "name": "stdout",
     "output_type": "stream",
     "text": [
      "Epoch 62 / 101 - 109 seconds - loss: 0.031682507843837235 - acc: 0.818836563221987 - val_loss: 0.8613605746442389 - val_acc: 0.81982\n"
     ]
    },
    {
     "name": "stdout",
     "output_type": "stream",
     "text": [
      "Epoch 63 / 101 - 111 seconds - loss: 0.031465267058734814 - acc: 0.8208554943203697 - val_loss: 0.8531888738881773 - val_acc: 0.82212\n"
     ]
    },
    {
     "name": "stdout",
     "output_type": "stream",
     "text": [
      "Epoch 64 / 101 - 113 seconds - loss: 0.031254687406138064 - acc: 0.8233275474104735 - val_loss: 0.8453222533969035 - val_acc: 0.82468\n"
     ]
    },
    {
     "name": "stdout",
     "output_type": "stream",
     "text": [
      "Epoch 65 / 101 - 115 seconds - loss: 0.03105043727052411 - acc: 0.8255047891798228 - val_loss: 0.8377485008363664 - val_acc: 0.82666\n"
     ]
    },
    {
     "name": "stdout",
     "output_type": "stream",
     "text": [
      "Epoch 66 / 101 - 116 seconds - loss: 0.030852235966120318 - acc: 0.8275692204948016 - val_loss: 0.830455057982684 - val_acc: 0.82848\n"
     ]
    },
    {
     "name": "stdout",
     "output_type": "stream",
     "text": [
      "Epoch 67 / 101 - 118 seconds - loss: 0.030659894973829177 - acc: 0.8293504975693107 - val_loss: 0.8234313683412267 - val_acc: 0.83034\n"
     ]
    },
    {
     "name": "stdout",
     "output_type": "stream",
     "text": [
      "Epoch 68 / 101 - 120 seconds - loss: 0.030473153322568867 - acc: 0.8312705315026955 - val_loss: 0.816665419964447 - val_acc: 0.83222\n"
     ]
    },
    {
     "name": "stdout",
     "output_type": "stream",
     "text": [
      "Epoch 69 / 101 - 122 seconds - loss: 0.030291756686113346 - acc: 0.832961936248556 - val_loss: 0.8101448920786175 - val_acc: 0.8337\n"
     ]
    },
    {
     "name": "stdout",
     "output_type": "stream",
     "text": [
      "Epoch 70 / 101 - 123 seconds - loss: 0.030115500371512977 - acc: 0.8342186447102425 - val_loss: 0.8038607539949254 - val_acc: 0.83526\n"
     ]
    },
    {
     "name": "stdout",
     "output_type": "stream",
     "text": [
      "Epoch 71 / 101 - 125 seconds - loss: 0.02994420178352604 - acc: 0.836006314377166 - val_loss: 0.7978036664533488 - val_acc: 0.83676\n"
     ]
    },
    {
     "name": "stdout",
     "output_type": "stream",
     "text": [
      "Epoch 72 / 101 - 127 seconds - loss: 0.029777635325736122 - acc: 0.8372592624903735 - val_loss: 0.7919618466952337 - val_acc: 0.8381\n"
     ]
    },
    {
     "name": "stdout",
     "output_type": "stream",
     "text": [
      "Epoch 73 / 101 - 129 seconds - loss: 0.029615648240545706 - acc: 0.8385968184443588 - val_loss: 0.7863263703227031 - val_acc: 0.8392\n"
     ]
    },
    {
     "name": "stdout",
     "output_type": "stream",
     "text": [
      "Epoch 74 / 101 - 131 seconds - loss: 0.029457976377832016 - acc: 0.839732819719869 - val_loss: 0.7808876332852882 - val_acc: 0.84064\n"
     ]
    },
    {
     "name": "stdout",
     "output_type": "stream",
     "text": [
      "Epoch 75 / 101 - 132 seconds - loss: 0.029304535173052093 - acc: 0.8410888013814016 - val_loss: 0.7756368722411431 - val_acc: 0.84158\n"
     ]
    },
    {
     "name": "stdout",
     "output_type": "stream",
     "text": [
      "Epoch 76 / 101 - 134 seconds - loss: 0.029155144060728236 - acc: 0.8420837895889488 - val_loss: 0.7705666882501219 - val_acc: 0.84264\n"
     ]
    },
    {
     "name": "stdout",
     "output_type": "stream",
     "text": [
      "Epoch 77 / 101 - 136 seconds - loss: 0.02900965492347384 - acc: 0.8431840675539083 - val_loss: 0.7656684729610369 - val_acc: 0.84352\n"
     ]
    },
    {
     "name": "stdout",
     "output_type": "stream",
     "text": [
      "Epoch 78 / 101 - 138 seconds - loss: 0.02886788239097466 - acc: 0.844230948570466 - val_loss: 0.7609357640679398 - val_acc: 0.84472\n"
     ]
    },
    {
     "name": "stdout",
     "output_type": "stream",
     "text": [
      "Epoch 79 / 101 - 140 seconds - loss: 0.028729712549621964 - acc: 0.8450341590055833 - val_loss: 0.756366570689287 - val_acc: 0.84562\n"
     ]
    },
    {
     "name": "stdout",
     "output_type": "stream",
     "text": [
      "Epoch 80 / 101 - 141 seconds - loss: 0.0285950132056899 - acc: 0.8461660238977666 - val_loss: 0.7519441314828021 - val_acc: 0.84654\n"
     ]
    },
    {
     "name": "stdout",
     "output_type": "stream",
     "text": [
      "Epoch 81 / 101 - 143 seconds - loss: 0.02846367959310259 - acc: 0.8468037789998074 - val_loss: 0.7476698533798184 - val_acc: 0.8472\n"
     ]
    },
    {
     "name": "stdout",
     "output_type": "stream",
     "text": [
      "Epoch 82 / 101 - 145 seconds - loss: 0.0283355588468673 - acc: 0.8476348160136696 - val_loss: 0.7435325594217407 - val_acc: 0.84784\n"
     ]
    },
    {
     "name": "stdout",
     "output_type": "stream",
     "text": [
      "Epoch 83 / 101 - 147 seconds - loss: 0.028210588550259666 - acc: 0.8483534186080093 - val_loss: 0.7395304715485217 - val_acc: 0.84872\n"
     ]
    },
    {
     "name": "stdout",
     "output_type": "stream",
     "text": [
      "Epoch 84 / 101 - 148 seconds - loss: 0.028088659660253392 - acc: 0.8491487323113208 - val_loss: 0.7356581036387296 - val_acc: 0.84968\n"
     ]
    },
    {
     "name": "stdout",
     "output_type": "stream",
     "text": [
      "Epoch 85 / 101 - 150 seconds - loss: 0.027969644787006316 - acc: 0.8500151166008857 - val_loss: 0.7319108460557653 - val_acc: 0.85048\n"
     ]
    },
    {
     "name": "stdout",
     "output_type": "stream",
     "text": [
      "Epoch 86 / 101 - 153 seconds - loss: 0.02785344164746326 - acc: 0.8508784926116674 - val_loss: 0.7282785044263811 - val_acc: 0.85138\n"
     ]
    },
    {
     "name": "stdout",
     "output_type": "stream",
     "text": [
      "Epoch 87 / 101 - 155 seconds - loss: 0.027739982331271885 - acc: 0.8517779679678474 - val_loss: 0.7247607795504637 - val_acc: 0.85206\n"
     ]
    },
    {
     "name": "stdout",
     "output_type": "stream",
     "text": [
      "Epoch 88 / 101 - 157 seconds - loss: 0.027629111496597386 - acc: 0.852325098671544 - val_loss: 0.7213526696788801 - val_acc: 0.85288\n"
     ]
    },
    {
     "name": "stdout",
     "output_type": "stream",
     "text": [
      "Epoch 89 / 101 - 159 seconds - loss: 0.0275208323340191 - acc: 0.853301661171544 - val_loss: 0.7180502506699659 - val_acc: 0.85376\n"
     ]
    },
    {
     "name": "stdout",
     "output_type": "stream",
     "text": [
      "Epoch 90 / 101 - 160 seconds - loss: 0.02741508079144689 - acc: 0.8539371600644975 - val_loss: 0.7148477098912336 - val_acc: 0.8542\n"
     ]
    },
    {
     "name": "stdout",
     "output_type": "stream",
     "text": [
      "Epoch 91 / 101 - 162 seconds - loss: 0.027311699227854352 - acc: 0.8543271082017714 - val_loss: 0.7117442256157498 - val_acc: 0.85468\n"
     ]
    },
    {
     "name": "stdout",
     "output_type": "stream",
     "text": [
      "Epoch 92 / 101 - 164 seconds - loss: 0.02721062176264369 - acc: 0.8550280371582596 - val_loss: 0.7087349176090293 - val_acc: 0.85534\n"
     ]
    },
    {
     "name": "stdout",
     "output_type": "stream",
     "text": [
      "Epoch 93 / 101 - 166 seconds - loss: 0.02711183524552062 - acc: 0.8556368375770119 - val_loss: 0.7058123545149497 - val_acc: 0.85598\n"
     ]
    },
    {
     "name": "stdout",
     "output_type": "stream",
     "text": [
      "Epoch 94 / 101 - 168 seconds - loss: 0.027015230238616274 - acc: 0.8564246305833654 - val_loss: 0.70297552758532 - val_acc: 0.85654\n"
     ]
    },
    {
     "name": "stdout",
     "output_type": "stream",
     "text": [
      "Epoch 95 / 101 - 170 seconds - loss: 0.026920781214184078 - acc: 0.8567074087889873 - val_loss: 0.7002228581144224 - val_acc: 0.85708\n"
     ]
    },
    {
     "name": "stdout",
     "output_type": "stream",
     "text": [
      "Epoch 96 / 101 - 171 seconds - loss: 0.02682838381645847 - acc: 0.8574587264150944 - val_loss: 0.697550703527959 - val_acc: 0.85788\n"
     ]
    },
    {
     "name": "stdout",
     "output_type": "stream",
     "text": [
      "Epoch 97 / 101 - 173 seconds - loss: 0.026738014068183567 - acc: 0.8582307259578359 - val_loss: 0.6949523456240417 - val_acc: 0.8585\n"
     ]
    },
    {
     "name": "stdout",
     "output_type": "stream",
     "text": [
      "Epoch 98 / 101 - 175 seconds - loss: 0.026649582924580865 - acc: 0.8586244344435887 - val_loss: 0.6924313617962637 - val_acc: 0.8589\n"
     ]
    },
    {
     "name": "stdout",
     "output_type": "stream",
     "text": [
      "Epoch 99 / 101 - 177 seconds - loss: 0.026563071626113554 - acc: 0.8591783337745477 - val_loss: 0.6899798640696817 - val_acc: 0.8596\n"
     ]
    },
    {
     "name": "stdout",
     "output_type": "stream",
     "text": [
      "Epoch 100 / 101 - 179 seconds - loss: 0.026478405505483544 - acc: 0.859870989964382 - val_loss: 0.6875991987026012 - val_acc: 0.86008\n"
     ]
    },
    {
     "name": "stdout",
     "output_type": "stream",
     "text": [
      "Epoch 1 / 101 - 2 seconds - loss: 0.25711820174818856 - acc: 0.13722376480073162 - val_loss: 2.469683228082683 - val_acc: 0.18498\n"
     ]
    },
    {
     "name": "stdout",
     "output_type": "stream",
     "text": [
      "Epoch 2 / 101 - 4 seconds - loss: 0.2193258616393514 - acc: 0.2472007965922218 - val_loss: 2.4208320159820977 - val_acc: 0.32438\n"
     ]
    },
    {
     "name": "stdout",
     "output_type": "stream",
     "text": [
      "Epoch 3 / 101 - 5 seconds - loss: 0.18839765660756339 - acc: 0.3945410269060455 - val_loss: 2.3838805337729907 - val_acc: 0.4554\n"
     ]
    },
    {
     "name": "stdout",
     "output_type": "stream",
     "text": [
      "Epoch 4 / 101 - 7 seconds - loss: 0.1630690926711602 - acc: 0.4958331578504043 - val_loss: 2.3558835210081317 - val_acc: 0.53182\n"
     ]
    },
    {
     "name": "stdout",
     "output_type": "stream",
     "text": [
      "Epoch 5 / 101 - 9 seconds - loss: 0.1423138319160094 - acc: 0.55794508988737 - val_loss: 2.334668609231909 - val_acc: 0.58026\n"
     ]
    },
    {
     "name": "stdout",
     "output_type": "stream",
     "text": [
      "Epoch 6 / 101 - 11 seconds - loss: 0.12529712479963664 - acc: 0.5954692313246053 - val_loss: 2.3186041419054315 - val_acc: 0.60674\n"
     ]
    },
    {
     "name": "stdout",
     "output_type": "stream",
     "text": [
      "Epoch 7 / 101 - 13 seconds - loss: 0.11133913776025886 - acc: 0.6124502129861378 - val_loss: 2.3064776483279763 - val_acc: 0.61642\n"
     ]
    },
    {
     "name": "stdout",
     "output_type": "stream",
     "text": [
      "Epoch 8 / 101 - 14 seconds - loss: 0.09988532469153294 - acc: 0.6153870451482479 - val_loss: 2.2973675300604386 - val_acc: 0.61418\n"
     ]
    },
    {
     "name": "stdout",
     "output_type": "stream",
     "text": [
      "Epoch 9 / 101 - 16 seconds - loss: 0.09048297807593936 - acc: 0.6096389764632267 - val_loss: 2.290577100681731 - val_acc: 0.60576\n"
     ]
    },
    {
     "name": "stdout",
     "output_type": "stream",
     "text": [
      "Epoch 10 / 101 - 18 seconds - loss: 0.08276209516400442 - acc: 0.5991964887370043 - val_loss: 2.285576678948213 - val_acc: 0.59174\n"
     ]
    },
    {
     "name": "stdout",
     "output_type": "stream",
     "text": [
      "Epoch 11 / 101 - 20 seconds - loss: 0.07642006651174646 - acc: 0.5822046020648826 - val_loss: 2.2819604293515563 - val_acc: 0.5722\n"
     ]
    },
    {
     "name": "stdout",
     "output_type": "stream",
     "text": [
      "Epoch 12 / 101 - 22 seconds - loss: 0.07120921883122655 - acc: 0.5619968653735079 - val_loss: 2.279412315878726 - val_acc: 0.54902\n"
     ]
    },
    {
     "name": "stdout",
     "output_type": "stream",
     "text": [
      "Epoch 13 / 101 - 23 seconds - loss: 0.06692658747113342 - acc: 0.5373391322920678 - val_loss: 2.277686589777025 - val_acc: 0.52216\n"
     ]
    },
    {
     "name": "stdout",
     "output_type": "stream",
     "text": [
      "Epoch 14 / 101 - 25 seconds - loss: 0.06340590812178351 - acc: 0.5070972817192915 - val_loss: 2.276591760239684 - val_acc: 0.49182\n"
     ]
    },
    {
     "name": "stdout",
     "output_type": "stream",
     "text": [
      "Epoch 15 / 101 - 27 seconds - loss: 0.060510823210237236 - acc: 0.4751305592991914 - val_loss: 2.2759786386522367 - val_acc: 0.45606\n"
     ]
    },
    {
     "name": "stdout",
     "output_type": "stream",
     "text": [
      "Epoch 16 / 101 - 29 seconds - loss: 0.05812954657313138 - acc: 0.43819904878224875 - val_loss: 2.2757306703324667 - val_acc: 0.41972\n"
     ]
    },
    {
     "name": "stdout",
     "output_type": "stream",
     "text": [
      "Epoch 17 / 101 - 31 seconds - loss: 0.05617037068595578 - acc: 0.3996441958269157 - val_loss: 2.275756804028936 - val_acc: 0.38116\n"
     ]
    },
    {
     "name": "stdout",
     "output_type": "stream",
     "text": [
      "Epoch 18 / 101 - 32 seconds - loss: 0.054558026629472386 - acc: 0.359325363400077 - val_loss: 2.275987383039727 - val_acc: 0.34242\n"
     ]
    },
    {
     "name": "stdout",
     "output_type": "stream",
     "text": [
      "Epoch 19 / 101 - 34 seconds - loss: 0.05323076671402125 - acc: 0.3257488357961109 - val_loss: 2.276367285419236 - val_acc: 0.30586\n"
     ]
    },
    {
     "name": "stdout",
     "output_type": "stream",
     "text": [
      "Epoch 20 / 101 - 36 seconds - loss: 0.052137856825832815 - acc: 0.29047037447054297 - val_loss: 2.276853888110391 - val_acc: 0.2745\n"
     ]
    },
    {
     "name": "stdout",
     "output_type": "stream",
     "text": [
      "Epoch 21 / 101 - 38 seconds - loss: 0.051237662611000184 - acc: 0.2615773608971891 - val_loss: 2.277414437575048 - val_acc: 0.2491\n"
     ]
    },
    {
     "name": "stdout",
     "output_type": "stream",
     "text": [
      "Epoch 22 / 101 - 40 seconds - loss: 0.05049596533806744 - acc: 0.23767508182518288 - val_loss: 2.278023430389335 - val_acc: 0.22814\n"
     ]
    },
    {
     "name": "stdout",
     "output_type": "stream",
     "text": [
      "Epoch 23 / 101 - 42 seconds - loss: 0.04988466878856652 - acc: 0.22031317686272622 - val_loss: 2.278661284540666 - val_acc: 0.21268\n"
     ]
    },
    {
     "name": "stdout",
     "output_type": "stream",
     "text": [
      "Epoch 24 / 101 - 43 seconds - loss: 0.049380662700561406 - acc: 0.20849064124470543 - val_loss: 2.279313442415913 - val_acc: 0.20446\n"
     ]
    },
    {
     "name": "stdout",
     "output_type": "stream",
     "text": [
      "Epoch 25 / 101 - 45 seconds - loss: 0.04896497738721476 - acc: 0.20228681832402773 - val_loss: 2.279968538884989 - val_acc: 0.20044\n"
     ]
    },
    {
     "name": "stdout",
     "output_type": "stream",
     "text": [
      "Epoch 26 / 101 - 47 seconds - loss: 0.04862198595846535 - acc: 0.19904502190026957 - val_loss: 2.28061792571257 - val_acc: 0.19782\n"
     ]
    },
    {
     "name": "stdout",
     "output_type": "stream",
     "text": [
      "Epoch 27 / 101 - 49 seconds - loss: 0.048338866855966355 - acc: 0.19687078840970348 - val_loss: 2.28125544714847 - val_acc: 0.19572\n"
     ]
    },
    {
     "name": "stdout",
     "output_type": "stream",
     "text": [
      "Epoch 28 / 101 - 51 seconds - loss: 0.04810506004142919 - acc: 0.1946224760541009 - val_loss: 2.281876714703952 - val_acc: 0.19368\n"
     ]
    },
    {
     "name": "stdout",
     "output_type": "stream",
     "text": [
      "Epoch 29 / 101 - 52 seconds - loss: 0.04791187586267625 - acc: 0.19271936368887177 - val_loss: 2.2824785867954436 - val_acc: 0.1919\n"
     ]
    },
    {
     "name": "stdout",
     "output_type": "stream",
     "text": [
      "Epoch 30 / 101 - 54 seconds - loss: 0.047752175211782336 - acc: 0.19097117768097804 - val_loss: 2.283058679076023 - val_acc: 0.18988\n"
     ]
    },
    {
     "name": "stdout",
     "output_type": "stream",
     "text": [
      "Epoch 31 / 101 - 56 seconds - loss: 0.04762006505917944 - acc: 0.18873489844050828 - val_loss: 2.283615653763446 - val_acc: 0.18776\n"
     ]
    },
    {
     "name": "stdout",
     "output_type": "stream",
     "text": [
      "Epoch 32 / 101 - 58 seconds - loss: 0.04751072877780317 - acc: 0.18669603749518673 - val_loss: 2.2841487961950144 - val_acc: 0.18532\n"
     ]
    },
    {
     "name": "stdout",
     "output_type": "stream",
     "text": [
      "Epoch 33 / 101 - 60 seconds - loss: 0.04742015660635119 - acc: 0.18395098310550634 - val_loss: 2.2846578158345534 - val_acc: 0.18246\n"
     ]
    },
    {
     "name": "stdout",
     "output_type": "stream",
     "text": [
      "Epoch 34 / 101 - 61 seconds - loss: 0.047345078616421434 - acc: 0.18096489037832114 - val_loss: 2.2851428992195153 - val_acc: 0.17946\n"
     ]
    },
    {
     "name": "stdout",
     "output_type": "stream",
     "text": [
      "Epoch 35 / 101 - 63 seconds - loss: 0.04728277880223149 - acc: 0.17803257063438582 - val_loss: 2.2856041061079413 - val_acc: 0.17656\n"
     ]
    },
    {
     "name": "stdout",
     "output_type": "stream",
     "text": [
      "Epoch 36 / 101 - 65 seconds - loss: 0.047231041902939086 - acc: 0.17517620992972663 - val_loss: 2.286042200203497 - val_acc: 0.1736\n"
     ]
    },
    {
     "name": "stdout",
     "output_type": "stream",
     "text": [
      "Epoch 37 / 101 - 67 seconds - loss: 0.04718802938506466 - acc: 0.17178174335772042 - val_loss: 2.286457896319751 - val_acc: 0.16972\n"
     ]
    },
    {
     "name": "stdout",
     "output_type": "stream",
     "text": [
      "Epoch 38 / 101 - 68 seconds - loss: 0.0471522261460074 - acc: 0.16821392472083174 - val_loss: 2.286851912117522 - val_acc: 0.1658\n"
     ]
    },
    {
     "name": "stdout",
     "output_type": "stream",
     "text": [
      "Epoch 39 / 101 - 70 seconds - loss: 0.047122389648496014 - acc: 0.16365487822487487 - val_loss: 2.2872248297047273 - val_acc: 0.16206\n"
     ]
    },
    {
     "name": "stdout",
     "output_type": "stream",
     "text": [
      "Epoch 40 / 101 - 72 seconds - loss: 0.04709748170934158 - acc: 0.16071541381882942 - val_loss: 2.2875778771864175 - val_acc: 0.1589\n"
     ]
    },
    {
     "name": "stdout",
     "output_type": "stream",
     "text": [
      "Epoch 41 / 101 - 74 seconds - loss: 0.04707665611252305 - acc: 0.1572212980121294 - val_loss: 2.2879119006169915 - val_acc: 0.15544\n"
     ]
    },
    {
     "name": "stdout",
     "output_type": "stream",
     "text": [
      "Epoch 42 / 101 - 75 seconds - loss: 0.04705921117589652 - acc: 0.15339627153927607 - val_loss: 2.288227580920637 - val_acc: 0.15192\n"
     ]
    },
    {
     "name": "stdout",
     "output_type": "stream",
     "text": [
      "Epoch 43 / 101 - 77 seconds - loss: 0.0470445698015785 - acc: 0.15045831127262224 - val_loss: 2.2885261124298277 - val_acc: 0.14892\n"
     ]
    },
    {
     "name": "stdout",
     "output_type": "stream",
     "text": [
      "Epoch 44 / 101 - 79 seconds - loss: 0.047032250845312255 - acc: 0.14683446344339623 - val_loss: 2.2888083248693563 - val_acc: 0.1454\n"
     ]
    },
    {
     "name": "stdout",
     "output_type": "stream",
     "text": [
      "Epoch 45 / 101 - 81 seconds - loss: 0.047021859956167734 - acc: 0.1431342805400462 - val_loss: 2.2890749098988996 - val_acc: 0.14212\n"
     ]
    },
    {
     "name": "stdout",
     "output_type": "stream",
     "text": [
      "Epoch 46 / 101 - 83 seconds - loss: 0.04701308576227209 - acc: 0.14016811765979975 - val_loss: 2.289326889317997 - val_acc: 0.13876\n"
     ]
    },
    {
     "name": "stdout",
     "output_type": "stream",
     "text": [
      "Epoch 47 / 101 - 85 seconds - loss: 0.04700563644682538 - acc: 0.13797621053138237 - val_loss: 2.2895651250131563 - val_acc: 0.13588\n"
     ]
    },
    {
     "name": "stdout",
     "output_type": "stream",
     "text": [
      "Epoch 48 / 101 - 87 seconds - loss: 0.04699929693544061 - acc: 0.13486527423469388 - val_loss: 2.2897900837409435 - val_acc: 0.13316\n"
     ]
    },
    {
     "name": "stdout",
     "output_type": "stream",
     "text": [
      "Epoch 49 / 101 - 88 seconds - loss: 0.04699388225389293 - acc: 0.13205666995571813 - val_loss: 2.2900026901888064 - val_acc: 0.13032\n"
     ]
    },
    {
     "name": "stdout",
     "output_type": "stream",
     "text": [
      "Epoch 50 / 101 - 90 seconds - loss: 0.0469892493240758 - acc: 0.12916533801020408 - val_loss: 2.2902036381583097 - val_acc: 0.12774\n"
     ]
    },
    {
     "name": "stdout",
     "output_type": "stream",
     "text": [
      "Epoch 51 / 101 - 92 seconds - loss: 0.04698526316178197 - acc: 0.12673540082306506 - val_loss: 2.2903934473011263 - val_acc: 0.12572\n"
     ]
    },
    {
     "name": "stdout",
     "output_type": "stream",
     "text": [
      "Epoch 52 / 101 - 94 seconds - loss: 0.04698181476668212 - acc: 0.12474843268675394 - val_loss: 2.2905728183512797 - val_acc: 0.1238\n"
     ]
    },
    {
     "name": "stdout",
     "output_type": "stream",
     "text": [
      "Epoch 53 / 101 - 95 seconds - loss: 0.04697882758226744 - acc: 0.1227520636792453 - val_loss: 2.2907423688867463 - val_acc: 0.12198\n"
     ]
    },
    {
     "name": "stdout",
     "output_type": "stream",
     "text": [
      "Epoch 54 / 101 - 97 seconds - loss: 0.04697622121723975 - acc: 0.12128289552849443 - val_loss: 2.290902421016618 - val_acc: 0.12048\n"
     ]
    },
    {
     "name": "stdout",
     "output_type": "stream",
     "text": [
      "Epoch 55 / 101 - 99 seconds - loss: 0.046973945346736996 - acc: 0.11994947595783596 - val_loss: 2.2910538321153466 - val_acc: 0.11892\n"
     ]
    },
    {
     "name": "stdout",
     "output_type": "stream",
     "text": [
      "Epoch 56 / 101 - 101 seconds - loss: 0.04697193640191539 - acc: 0.11873450736426647 - val_loss: 2.2911967567224396 - val_acc: 0.11792\n"
     ]
    },
    {
     "name": "stdout",
     "output_type": "stream",
     "text": [
      "Epoch 57 / 101 - 103 seconds - loss: 0.046970162968378 - acc: 0.11757143157970736 - val_loss: 2.291331829581986 - val_acc: 0.117\n"
     ]
    },
    {
     "name": "stdout",
     "output_type": "stream",
     "text": [
      "Epoch 58 / 101 - 105 seconds - loss: 0.04696858227832567 - acc: 0.11655801766461302 - val_loss: 2.291459292040177 - val_acc: 0.11608\n"
     ]
    },
    {
     "name": "stdout",
     "output_type": "stream",
     "text": [
      "Epoch 59 / 101 - 107 seconds - loss: 0.04696718213982943 - acc: 0.11591198979591837 - val_loss: 2.2915797765507966 - val_acc: 0.11564\n"
     ]
    },
    {
     "name": "stdout",
     "output_type": "stream",
     "text": [
      "Epoch 60 / 101 - 108 seconds - loss: 0.04696591231442515 - acc: 0.11527423469387756 - val_loss: 2.2916934422392212 - val_acc: 0.11512\n"
     ]
    },
    {
     "name": "stdout",
     "output_type": "stream",
     "text": [
      "Epoch 61 / 101 - 110 seconds - loss: 0.046964772297805574 - acc: 0.11493317108683096 - val_loss: 2.291800816665136 - val_acc: 0.11482\n"
     ]
    },
    {
     "name": "stdout",
     "output_type": "stream",
     "text": [
      "Epoch 62 / 101 - 112 seconds - loss: 0.046963744364094236 - acc: 0.11461504560550637 - val_loss: 2.2919021482369732 - val_acc: 0.1146\n"
     ]
    },
    {
     "name": "stdout",
     "output_type": "stream",
     "text": [
      "Epoch 63 / 101 - 114 seconds - loss: 0.04696280103444489 - acc: 0.11446463166634578 - val_loss: 2.2919976188022844 - val_acc: 0.1143\n"
     ]
    },
    {
     "name": "stdout",
     "output_type": "stream",
     "text": [
      "Epoch 64 / 101 - 116 seconds - loss: 0.046961939590603345 - acc: 0.114231114025799 - val_loss: 2.2920875314163367 - val_acc: 0.11408\n"
     ]
    },
    {
     "name": "stdout",
     "output_type": "stream",
     "text": [
      "Epoch 65 / 101 - 117 seconds - loss: 0.04696114670640496 - acc: 0.11397653843376974 - val_loss: 2.2921721694049624 - val_acc: 0.11396\n"
     ]
    },
    {
     "name": "stdout",
     "output_type": "stream",
     "text": [
      "Epoch 66 / 101 - 119 seconds - loss: 0.04696041875019406 - acc: 0.11394645564593761 - val_loss: 2.292252094702913 - val_acc: 0.11388\n"
     ]
    },
    {
     "name": "stdout",
     "output_type": "stream",
     "text": [
      "Epoch 67 / 101 - 121 seconds - loss: 0.0469597523538402 - acc: 0.1138859140354255 - val_loss: 2.292327210185616 - val_acc: 0.11376\n"
     ]
    },
    {
     "name": "stdout",
     "output_type": "stream",
     "text": [
      "Epoch 68 / 101 - 123 seconds - loss: 0.046959120055323586 - acc: 0.11373813234020023 - val_loss: 2.2923979826232266 - val_acc: 0.11366\n"
     ]
    },
    {
     "name": "stdout",
     "output_type": "stream",
     "text": [
      "Epoch 69 / 101 - 125 seconds - loss: 0.04695852566631396 - acc: 0.11370804955236812 - val_loss: 2.2924643543072762 - val_acc: 0.11362\n"
     ]
    },
    {
     "name": "stdout",
     "output_type": "stream",
     "text": [
      "Epoch 70 / 101 - 127 seconds - loss: 0.04695797912815402 - acc: 0.11352416851174432 - val_loss: 2.292526647768591 - val_acc: 0.11358\n"
     ]
    },
    {
     "name": "stdout",
     "output_type": "stream",
     "text": [
      "Epoch 71 / 101 - 128 seconds - loss: 0.04695746481374599 - acc: 0.11360840031767423 - val_loss: 2.2925849775248426 - val_acc: 0.11356\n"
     ]
    },
    {
     "name": "stdout",
     "output_type": "stream",
     "text": [
      "Epoch 72 / 101 - 130 seconds - loss: 0.046956984111006066 - acc: 0.11350912711782826 - val_loss: 2.2926396061413103 - val_acc: 0.11356\n"
     ]
    },
    {
     "name": "stdout",
     "output_type": "stream",
     "text": [
      "Epoch 73 / 101 - 132 seconds - loss: 0.04695652059325673 - acc: 0.11352567265113592 - val_loss: 2.292690517929917 - val_acc: 0.11356\n"
     ]
    },
    {
     "name": "stdout",
     "output_type": "stream",
     "text": [
      "Epoch 74 / 101 - 134 seconds - loss: 0.04695609142567052 - acc: 0.11359599116769348 - val_loss: 2.2927382354278114 - val_acc: 0.11356\n"
     ]
    },
    {
     "name": "stdout",
     "output_type": "stream",
     "text": [
      "Epoch 75 / 101 - 136 seconds - loss: 0.04695567728953203 - acc: 0.11355462733442434 - val_loss: 2.292782706323475 - val_acc: 0.11356\n"
     ]
    },
    {
     "name": "stdout",
     "output_type": "stream",
     "text": [
      "Epoch 76 / 101 - 138 seconds - loss: 0.04695528710798481 - acc: 0.113571172867732 - val_loss: 2.292824008032661 - val_acc: 0.11356\n"
     ]
    },
    {
     "name": "stdout",
     "output_type": "stream",
     "text": [
      "Epoch 77 / 101 - 140 seconds - loss: 0.04695491986216667 - acc: 0.11355462733442434 - val_loss: 2.292862311788734 - val_acc: 0.11356\n"
     ]
    },
    {
     "name": "stdout",
     "output_type": "stream",
     "text": [
      "Epoch 78 / 101 - 141 seconds - loss: 0.046954560218585455 - acc: 0.11365390053427031 - val_loss: 2.292897894680437 - val_acc: 0.11356\n"
     ]
    },
    {
     "name": "stdout",
     "output_type": "stream",
     "text": [
      "Epoch 79 / 101 - 143 seconds - loss: 0.046954216582908506 - acc: 0.1135670364844051 - val_loss: 2.2929305345204085 - val_acc: 0.11356\n"
     ]
    },
    {
     "name": "stdout",
     "output_type": "stream",
     "text": [
      "Epoch 80 / 101 - 145 seconds - loss: 0.046953889684974444 - acc: 0.11355462733442434 - val_loss: 2.292960640530975 - val_acc: 0.11356\n"
     ]
    },
    {
     "name": "stdout",
     "output_type": "stream",
     "text": [
      "Epoch 81 / 101 - 147 seconds - loss: 0.046953578543111905 - acc: 0.11357944563438582 - val_loss: 2.2929882216510418 - val_acc: 0.11356\n"
     ]
    },
    {
     "name": "stdout",
     "output_type": "stream",
     "text": [
      "Epoch 82 / 101 - 148 seconds - loss: 0.046953282159845414 - acc: 0.11353808180111667 - val_loss: 2.2930133763661296 - val_acc: 0.11356\n"
     ]
    },
    {
     "name": "stdout",
     "output_type": "stream",
     "text": [
      "Epoch 83 / 101 - 150 seconds - loss: 0.04695298942131778 - acc: 0.11351326350115519 - val_loss: 2.2930361447321466 - val_acc: 0.11356\n"
     ]
    },
    {
     "name": "stdout",
     "output_type": "stream",
     "text": [
      "Epoch 84 / 101 - 152 seconds - loss: 0.046952709158116245 - acc: 0.11362908223430881 - val_loss: 2.2930564436725795 - val_acc: 0.11356\n"
     ]
    },
    {
     "name": "stdout",
     "output_type": "stream",
     "text": [
      "Epoch 85 / 101 - 154 seconds - loss: 0.04695244339712801 - acc: 0.11355462733442434 - val_loss: 2.2930747489414984 - val_acc: 0.11356\n"
     ]
    },
    {
     "name": "stdout",
     "output_type": "stream",
     "text": [
      "Epoch 86 / 101 - 155 seconds - loss: 0.046952185379093334 - acc: 0.11360426393434733 - val_loss: 2.293090923304022 - val_acc: 0.11356\n"
     ]
    },
    {
     "name": "stdout",
     "output_type": "stream",
     "text": [
      "Epoch 87 / 101 - 157 seconds - loss: 0.04695192661475195 - acc: 0.11358771840103965 - val_loss: 2.293105128496551 - val_acc: 0.11356\n"
     ]
    },
    {
     "name": "stdout",
     "output_type": "stream",
     "text": [
      "Epoch 88 / 101 - 159 seconds - loss: 0.0469516821331049 - acc: 0.11358771840103965 - val_loss: 2.2931174202193008 - val_acc: 0.11356\n"
     ]
    },
    {
     "name": "stdout",
     "output_type": "stream",
     "text": [
      "Epoch 89 / 101 - 160 seconds - loss: 0.046951452862271086 - acc: 0.11352980903446284 - val_loss: 2.293127944661545 - val_acc: 0.11356\n"
     ]
    },
    {
     "name": "stdout",
     "output_type": "stream",
     "text": [
      "Epoch 90 / 101 - 162 seconds - loss: 0.04695121432851483 - acc: 0.11354635456777051 - val_loss: 2.293136572520174 - val_acc: 0.11356\n"
     ]
    },
    {
     "name": "stdout",
     "output_type": "stream",
     "text": [
      "Epoch 91 / 101 - 164 seconds - loss: 0.04695099492866101 - acc: 0.11358771840103965 - val_loss: 2.2931435116149306 - val_acc: 0.11356\n"
     ]
    },
    {
     "name": "stdout",
     "output_type": "stream",
     "text": [
      "Epoch 92 / 101 - 166 seconds - loss: 0.046950782761282235 - acc: 0.11360840031767423 - val_loss: 2.2931487638707004 - val_acc: 0.11356\n"
     ]
    },
    {
     "name": "stdout",
     "output_type": "stream",
     "text": [
      "Epoch 93 / 101 - 167 seconds - loss: 0.04695057231033245 - acc: 0.11353808180111667 - val_loss: 2.293152291522044 - val_acc: 0.11356\n"
     ]
    },
    {
     "name": "stdout",
     "output_type": "stream",
     "text": [
      "Epoch 94 / 101 - 169 seconds - loss: 0.04695036505519139 - acc: 0.11357944563438582 - val_loss: 2.29315421835708 - val_acc: 0.11356\n"
     ]
    },
    {
     "name": "stdout",
     "output_type": "stream",
     "text": [
      "Epoch 95 / 101 - 171 seconds - loss: 0.0469501600654974 - acc: 0.1136001275510204 - val_loss: 2.293154682688125 - val_acc: 0.11356\n"
     ]
    },
    {
     "name": "stdout",
     "output_type": "stream",
     "text": [
      "Epoch 96 / 101 - 172 seconds - loss: 0.04694997468130163 - acc: 0.11360840031767423 - val_loss: 2.293153548716904 - val_acc: 0.11356\n"
     ]
    },
    {
     "name": "stdout",
     "output_type": "stream",
     "text": [
      "Epoch 97 / 101 - 174 seconds - loss: 0.04694978396821077 - acc: 0.11354635456777051 - val_loss: 2.2931511453093805 - val_acc: 0.11356\n"
     ]
    },
    {
     "name": "stdout",
     "output_type": "stream",
     "text": [
      "Epoch 98 / 101 - 176 seconds - loss: 0.04694959350278722 - acc: 0.11350912711782826 - val_loss: 2.2931473245253526 - val_acc: 0.11356\n"
     ]
    },
    {
     "name": "stdout",
     "output_type": "stream",
     "text": [
      "Epoch 99 / 101 - 177 seconds - loss: 0.04694941356923446 - acc: 0.11356290010107817 - val_loss: 2.29314239521665 - val_acc: 0.11356\n"
     ]
    },
    {
     "name": "stdout",
     "output_type": "stream",
     "text": [
      "Epoch 100 / 101 - 179 seconds - loss: 0.046949232863730185 - acc: 0.11358358201771275 - val_loss: 2.293136380963524 - val_acc: 0.11356\n"
     ]
    }
   ],
   "source": [
    "#Second Experiment L1\n",
    "import numpy as np\n",
    "layers = [generate_layer(num_pixels, 128, \"relu\", \"l2\", 0.2)]\n",
    "layers.append(generate_layer(128, 10, \"softmax\", \"l2\", 0.2))\n",
    "log = {}\n",
    "for weight in [5e-5,5e-4,5e-3]:\n",
    "    net = MyDNN(layers, \"cross-entropy\",weight)\n",
    "    log[-round(np.log10(weight))] = net.fit(\n",
    "        training_samples, training_classifications, 100, 1024, 0.2,\n",
    "        validation_samples, validation_classifications)\n",
    "pickle.dump(log,open(f'{log_path}\\\\Log_first_l1.p','wb'))"
   ]
  },
  {
   "cell_type": "code",
   "execution_count": null,
   "metadata": {},
   "outputs": [
    {
     "name": "stdout",
     "output_type": "stream",
     "text": [
      "Test 1 layer relu and 1 softmax L1\nLambda size: -4.0\nLambda size: -3.0\n"
     ]
    },
    {
     "name": "stdout",
     "output_type": "stream",
     "text": [
      "Lambda size: -2.0\n"
     ]
    }
   ],
   "source": [
    "log = pickle.load(open(f'{log_path}\\\\Log_first_l1.p','rb'))\n",
    "from Macros import plot_graphs\n",
    "print('Test 1 layer relu and 1 softmax L1')\n",
    "for batch_size in log.keys():\n",
    "    print(f'Lambda size: {batch_size}')\n",
    "    plot_graphs(log[batch_size])"
   ]
  },
  {
   "cell_type": "code",
   "execution_count": null,
   "metadata": {},
   "outputs": [],
   "source": [
    "#Second Experiment L2\n",
    "import numpy as np\n",
    "layers = [generate_layer(num_pixels, 128, \"relu\", \"l2\", 0.2)]\n",
    "layers.append(generate_layer(128, 10, \"softmax\", \"l2\", 0.2))\n",
    "log = {}\n",
    "for weight in [5e-5,5e-4,5e-3]:\n",
    "    net = MyDNN(layers, \"cross-entropy\",weight)\n",
    "    log[-round(np.log10(weight))] = net.fit(\n",
    "        training_samples, training_classifications, 100, 1024, 0.2,\n",
    "        validation_samples, validation_classifications)\n",
    "pickle.dump(log,open(f'{log_path}\\\\Log_first_l2.p','wb'))\n",
    "\n",
    "log = pickle.load(open(f'{log_path}\\\\Log_first_l2.p','rb'))\n",
    "from Macros import plot_graphs\n",
    "print('Test 1 layer relu and 1 softmax L2')\n",
    "for batch_size in log.keys():\n",
    "    print(f'Lambda size: {batch_size}')\n",
    "    plot_graphs(log[batch_size])"
   ]
  }
 ],
 "metadata": {
  "kernelspec": {
   "display_name": "Python 2",
   "language": "python",
   "name": "python2"
  },
  "language_info": {
   "codemirror_mode": {
    "name": "ipython",
    "version": 2
   },
   "file_extension": ".py",
   "mimetype": "text/x-python",
   "name": "python",
   "nbconvert_exporter": "python",
   "pygments_lexer": "ipython2",
   "version": "2.7.6"
  }
 },
 "nbformat": 4,
 "nbformat_minor": 0
}
